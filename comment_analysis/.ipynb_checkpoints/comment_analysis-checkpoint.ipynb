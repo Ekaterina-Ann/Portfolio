{
 "cells": [
  {
   "cell_type": "markdown",
   "metadata": {},
   "source": [
    "# Работа с токсичными комментариями для интернет-магазина"
   ]
  },
  {
   "cell_type": "markdown",
   "metadata": {},
   "source": [
    "<div style=\"border:solid Chocolate 2px; padding: 40px\">\n",
    "\n",
    "## Описание проекта\n",
    "\n",
    "Интернет-магазину нужен инструмент, который будет искать токсичные комментарии пользователей о товарах и отправлять их на модерацию. \n",
    "\n",
    "Наша задача обучить модель для классификации комментариев на позитивные и негативные. В нашем распоряжении набор данных с разметкой о токсичности правок.\n",
    "\n",
    "<b>Описание данных</b>\n",
    "    \n",
    "Данные находятся в файле csv.\n",
    "* Столбец `text` содержит текст комментария.\n",
    "* Столбец `toxic` — является ли комментарий токсичных (целевой признак)."
   ]
  },
  {
   "cell_type": "markdown",
   "metadata": {
    "toc": true
   },
   "source": [
    "<h1>Содержание<span class=\"tocSkip\"></span></h1>\n",
    "<div class=\"toc\"><ul class=\"toc-item\"><li><span><a href=\"#Описание-проекта\" data-toc-modified-id=\"Описание-проекта-1\"><span class=\"toc-item-num\">1&nbsp;&nbsp;</span>Описание проекта</a></span></li><li><span><a href=\"#Подготовка-данных\" data-toc-modified-id=\"Подготовка-данных-2\"><span class=\"toc-item-num\">2&nbsp;&nbsp;</span>Подготовка данных</a></span></li><li><span><a href=\"#Предобработка-данных\" data-toc-modified-id=\"Предобработка-данных-3\"><span class=\"toc-item-num\">3&nbsp;&nbsp;</span>Предобработка данных</a></span></li><li><span><a href=\"#Обучение\" data-toc-modified-id=\"Обучение-4\"><span class=\"toc-item-num\">4&nbsp;&nbsp;</span>Обучение</a></span><ul class=\"toc-item\"><li><span><a href=\"#LogisticRegression\" data-toc-modified-id=\"LogisticRegression-4.1\"><span class=\"toc-item-num\">4.1&nbsp;&nbsp;</span>LogisticRegression</a></span></li><li><span><a href=\"#LightGBM\" data-toc-modified-id=\"LightGBM-4.2\"><span class=\"toc-item-num\">4.2&nbsp;&nbsp;</span>LightGBM</a></span></li><li><span><a href=\"#SVM\" data-toc-modified-id=\"SVM-4.3\"><span class=\"toc-item-num\">4.3&nbsp;&nbsp;</span>SVM</a></span></li></ul></li><li><span><a href=\"#Выводы\" data-toc-modified-id=\"Выводы-5\"><span class=\"toc-item-num\">5&nbsp;&nbsp;</span>Выводы</a></span></li></ul></div>"
   ]
  },
  {
   "cell_type": "code",
   "execution_count": 1,
   "metadata": {},
   "outputs": [
    {
     "name": "stderr",
     "output_type": "stream",
     "text": [
      "C:\\Users\\Katya\\AppData\\Roaming\\Python\\Python311\\site-packages\\pandas\\core\\arrays\\masked.py:60: UserWarning: Pandas requires version '1.3.6' or newer of 'bottleneck' (version '1.3.5' currently installed).\n",
      "  from pandas.core import (\n",
      "C:\\ProgramData\\anaconda3\\Lib\\site-packages\\transformers\\utils\\generic.py:441: UserWarning: torch.utils._pytree._register_pytree_node is deprecated. Please use torch.utils._pytree.register_pytree_node instead.\n",
      "  _torch_pytree._register_pytree_node(\n",
      "C:\\ProgramData\\anaconda3\\Lib\\site-packages\\transformers\\utils\\generic.py:309: UserWarning: torch.utils._pytree._register_pytree_node is deprecated. Please use torch.utils._pytree.register_pytree_node instead.\n",
      "  _torch_pytree._register_pytree_node(\n",
      "[nltk_data] Downloading package punkt to\n",
      "[nltk_data]     C:\\Users\\Katya\\AppData\\Roaming\\nltk_data...\n",
      "[nltk_data]   Package punkt is already up-to-date!\n",
      "[nltk_data] Downloading package stopwords to\n",
      "[nltk_data]     C:\\Users\\Katya\\AppData\\Roaming\\nltk_data...\n",
      "[nltk_data]   Package stopwords is already up-to-date!\n",
      "[nltk_data] Downloading package wordnet to\n",
      "[nltk_data]     C:\\Users\\Katya\\AppData\\Roaming\\nltk_data...\n",
      "[nltk_data]   Package wordnet is already up-to-date!\n",
      "[nltk_data] Downloading package omw-1.4 to\n",
      "[nltk_data]     C:\\Users\\Katya\\AppData\\Roaming\\nltk_data...\n",
      "[nltk_data]   Package omw-1.4 is already up-to-date!\n",
      "[nltk_data] Downloading package averaged_perceptron_tagger to\n",
      "[nltk_data]     C:\\Users\\Katya\\AppData\\Roaming\\nltk_data...\n",
      "[nltk_data]   Package averaged_perceptron_tagger is already up-to-\n",
      "[nltk_data]       date!\n"
     ]
    }
   ],
   "source": [
    "import pandas as pd\n",
    "import numpy as np\n",
    "# from pymystem3 import Mystem\n",
    "import re\n",
    "import time\n",
    "import swifter\n",
    "\n",
    "from tqdm import notebook\n",
    "import torch\n",
    "\n",
    "import transformers\n",
    "from transformers import BertTokenizer, BertModel, BertConfig\n",
    "\n",
    "import warnings\n",
    "warnings.filterwarnings(\"ignore\")\n",
    "\n",
    "\n",
    "import lightgbm as lgb\n",
    "from lightgbm import LGBMClassifier\n",
    "\n",
    "import sklearn\n",
    "from sklearn.linear_model import LogisticRegression\n",
    "from sklearn.model_selection import train_test_split, GridSearchCV #, cross_val_score\n",
    "from sklearn.metrics import f1_score\n",
    "from sklearn import svm\n",
    "from sklearn.pipeline import Pipeline\n",
    "\n",
    "import nltk\n",
    "from nltk.tokenize import TweetTokenizer, word_tokenize\n",
    "from nltk.stem import WordNetLemmatizer\n",
    "from nltk.corpus import stopwords, wordnet\n",
    "\n",
    "nltk.download('punkt')\n",
    "nltk.download('stopwords')\n",
    "nltk.download('wordnet')\n",
    "nltk.download('omw-1.4')\n",
    "nltk.download('averaged_perceptron_tagger')\n",
    "\n",
    "from sklearn.feature_extraction.text import TfidfVectorizer #, CountVectorizer\n",
    "\n",
    "import spacy"
   ]
  },
  {
   "cell_type": "markdown",
   "metadata": {},
   "source": [
    "## Подготовка данных"
   ]
  },
  {
   "cell_type": "markdown",
   "metadata": {},
   "source": [
    "Загрузим датасет и посмотрим общую информацию о нём."
   ]
  },
  {
   "cell_type": "code",
   "execution_count": 2,
   "metadata": {},
   "outputs": [],
   "source": [
    "path = 'C:/Users/Katya/Desktop/ds_learning/22sprint_Машинное обучение для текстов/project/'\n",
    "# path = '/datasets/'"
   ]
  },
  {
   "cell_type": "code",
   "execution_count": 3,
   "metadata": {},
   "outputs": [],
   "source": [
    "try:\n",
    "    data = pd.read_csv(path + 'toxic_comments.csv', index_col='Unnamed: 0')\n",
    "except FileNotFoundError:\n",
    "    print('Данные не найдены')"
   ]
  },
  {
   "cell_type": "code",
   "execution_count": 4,
   "metadata": {},
   "outputs": [
    {
     "data": {
      "text/html": [
       "<div>\n",
       "<style scoped>\n",
       "    .dataframe tbody tr th:only-of-type {\n",
       "        vertical-align: middle;\n",
       "    }\n",
       "\n",
       "    .dataframe tbody tr th {\n",
       "        vertical-align: top;\n",
       "    }\n",
       "\n",
       "    .dataframe thead th {\n",
       "        text-align: right;\n",
       "    }\n",
       "</style>\n",
       "<table border=\"1\" class=\"dataframe\">\n",
       "  <thead>\n",
       "    <tr style=\"text-align: right;\">\n",
       "      <th></th>\n",
       "      <th>toxic</th>\n",
       "    </tr>\n",
       "  </thead>\n",
       "  <tbody>\n",
       "    <tr>\n",
       "      <th>count</th>\n",
       "      <td>159292.000000</td>\n",
       "    </tr>\n",
       "    <tr>\n",
       "      <th>mean</th>\n",
       "      <td>0.101612</td>\n",
       "    </tr>\n",
       "    <tr>\n",
       "      <th>std</th>\n",
       "      <td>0.302139</td>\n",
       "    </tr>\n",
       "    <tr>\n",
       "      <th>min</th>\n",
       "      <td>0.000000</td>\n",
       "    </tr>\n",
       "    <tr>\n",
       "      <th>25%</th>\n",
       "      <td>0.000000</td>\n",
       "    </tr>\n",
       "    <tr>\n",
       "      <th>50%</th>\n",
       "      <td>0.000000</td>\n",
       "    </tr>\n",
       "    <tr>\n",
       "      <th>75%</th>\n",
       "      <td>0.000000</td>\n",
       "    </tr>\n",
       "    <tr>\n",
       "      <th>max</th>\n",
       "      <td>1.000000</td>\n",
       "    </tr>\n",
       "  </tbody>\n",
       "</table>\n",
       "</div>"
      ],
      "text/plain": [
       "               toxic\n",
       "count  159292.000000\n",
       "mean        0.101612\n",
       "std         0.302139\n",
       "min         0.000000\n",
       "25%         0.000000\n",
       "50%         0.000000\n",
       "75%         0.000000\n",
       "max         1.000000"
      ]
     },
     "execution_count": 4,
     "metadata": {},
     "output_type": "execute_result"
    }
   ],
   "source": [
    "data.describe()"
   ]
  },
  {
   "cell_type": "code",
   "execution_count": 5,
   "metadata": {},
   "outputs": [
    {
     "name": "stdout",
     "output_type": "stream",
     "text": [
      "<class 'pandas.core.frame.DataFrame'>\n",
      "Index: 159292 entries, 0 to 159450\n",
      "Data columns (total 2 columns):\n",
      " #   Column  Non-Null Count   Dtype \n",
      "---  ------  --------------   ----- \n",
      " 0   text    159292 non-null  object\n",
      " 1   toxic   159292 non-null  int64 \n",
      "dtypes: int64(1), object(1)\n",
      "memory usage: 3.6+ MB\n"
     ]
    }
   ],
   "source": [
    "data.info()"
   ]
  },
  {
   "cell_type": "code",
   "execution_count": 6,
   "metadata": {},
   "outputs": [
    {
     "data": {
      "text/html": [
       "<div>\n",
       "<style scoped>\n",
       "    .dataframe tbody tr th:only-of-type {\n",
       "        vertical-align: middle;\n",
       "    }\n",
       "\n",
       "    .dataframe tbody tr th {\n",
       "        vertical-align: top;\n",
       "    }\n",
       "\n",
       "    .dataframe thead th {\n",
       "        text-align: right;\n",
       "    }\n",
       "</style>\n",
       "<table border=\"1\" class=\"dataframe\">\n",
       "  <thead>\n",
       "    <tr style=\"text-align: right;\">\n",
       "      <th></th>\n",
       "      <th>text</th>\n",
       "      <th>toxic</th>\n",
       "    </tr>\n",
       "  </thead>\n",
       "  <tbody>\n",
       "    <tr>\n",
       "      <th>0</th>\n",
       "      <td>Explanation\\nWhy the edits made under my usern...</td>\n",
       "      <td>0</td>\n",
       "    </tr>\n",
       "    <tr>\n",
       "      <th>1</th>\n",
       "      <td>D'aww! He matches this background colour I'm s...</td>\n",
       "      <td>0</td>\n",
       "    </tr>\n",
       "    <tr>\n",
       "      <th>2</th>\n",
       "      <td>Hey man, I'm really not trying to edit war. It...</td>\n",
       "      <td>0</td>\n",
       "    </tr>\n",
       "    <tr>\n",
       "      <th>3</th>\n",
       "      <td>\"\\nMore\\nI can't make any real suggestions on ...</td>\n",
       "      <td>0</td>\n",
       "    </tr>\n",
       "    <tr>\n",
       "      <th>4</th>\n",
       "      <td>You, sir, are my hero. Any chance you remember...</td>\n",
       "      <td>0</td>\n",
       "    </tr>\n",
       "  </tbody>\n",
       "</table>\n",
       "</div>"
      ],
      "text/plain": [
       "                                                text  toxic\n",
       "0  Explanation\\nWhy the edits made under my usern...      0\n",
       "1  D'aww! He matches this background colour I'm s...      0\n",
       "2  Hey man, I'm really not trying to edit war. It...      0\n",
       "3  \"\\nMore\\nI can't make any real suggestions on ...      0\n",
       "4  You, sir, are my hero. Any chance you remember...      0"
      ]
     },
     "execution_count": 6,
     "metadata": {},
     "output_type": "execute_result"
    }
   ],
   "source": [
    "data.head()"
   ]
  },
  {
   "cell_type": "markdown",
   "metadata": {},
   "source": [
    "**Вывод**\n",
    "\n",
    "В датасете 159 292 строк. Пропусков нет. Целевой признак toxic - является ли комментарий негативным."
   ]
  },
  {
   "cell_type": "markdown",
   "metadata": {},
   "source": [
    "## Предобработка данных"
   ]
  },
  {
   "cell_type": "code",
   "execution_count": 7,
   "metadata": {},
   "outputs": [
    {
     "name": "stdout",
     "output_type": "stream",
     "text": [
      "<class 'pandas.core.frame.DataFrame'>\n",
      "Index: 159292 entries, 0 to 159450\n",
      "Data columns (total 2 columns):\n",
      " #   Column  Non-Null Count   Dtype \n",
      "---  ------  --------------   ----- \n",
      " 0   text    159292 non-null  object\n",
      " 1   toxic   159292 non-null  uint8 \n",
      "dtypes: object(1), uint8(1)\n",
      "memory usage: 2.6+ MB\n"
     ]
    }
   ],
   "source": [
    "data['toxic'] = data['toxic'].astype('uint8')\n",
    "data.info()"
   ]
  },
  {
   "cell_type": "markdown",
   "metadata": {},
   "source": [
    "Напишем функцию, которая отчистит данные от лишних символов и лемматизирует данные."
   ]
  },
  {
   "cell_type": "code",
   "execution_count": 8,
   "metadata": {},
   "outputs": [],
   "source": [
    "def data_preprocessing(text):\n",
    "    text = re.sub(r'[^A-Za-z0-9]', ' ', text)\n",
    "    \n",
    "    text = text.lower()\n",
    "    \n",
    "    # Parse the sentence using the loaded 'en_core_web_sm' model object `nlp`\n",
    "    doc = nlp(text)\n",
    "    \n",
    "    # Extract the lemma for each token and join\n",
    "    text = \" \".join([token.lemma_ for token in doc])\n",
    "    return text\n",
    "\n",
    "# Initialize spacy 'en_core_web_sm' model, keeping only tagger component needed for lemmatization\n",
    "nlp = spacy.load('en_core_web_sm', disable=['parser', 'ner'])\n",
    "stop_words = stopwords.words('english')\n",
    "stop_words.remove('not')"
   ]
  },
  {
   "cell_type": "markdown",
   "metadata": {},
   "source": [
    "Применим ко всему датасету"
   ]
  },
  {
   "cell_type": "code",
   "execution_count": 9,
   "metadata": {},
   "outputs": [
    {
     "name": "stdout",
     "output_type": "stream",
     "text": [
      "CPU times: total: 11min 49s\n",
      "Wall time: 11min 49s\n"
     ]
    }
   ],
   "source": [
    "%%time\n",
    "data['lemmatized'] = data['text'].apply(lambda x: data_preprocessing(x))"
   ]
  },
  {
   "cell_type": "code",
   "execution_count": 10,
   "metadata": {
    "scrolled": true
   },
   "outputs": [
    {
     "data": {
      "text/html": [
       "<div>\n",
       "<style scoped>\n",
       "    .dataframe tbody tr th:only-of-type {\n",
       "        vertical-align: middle;\n",
       "    }\n",
       "\n",
       "    .dataframe tbody tr th {\n",
       "        vertical-align: top;\n",
       "    }\n",
       "\n",
       "    .dataframe thead th {\n",
       "        text-align: right;\n",
       "    }\n",
       "</style>\n",
       "<table border=\"1\" class=\"dataframe\">\n",
       "  <thead>\n",
       "    <tr style=\"text-align: right;\">\n",
       "      <th></th>\n",
       "      <th>text</th>\n",
       "      <th>toxic</th>\n",
       "      <th>lemmatized</th>\n",
       "    </tr>\n",
       "  </thead>\n",
       "  <tbody>\n",
       "    <tr>\n",
       "      <th>0</th>\n",
       "      <td>Explanation\\nWhy the edits made under my usern...</td>\n",
       "      <td>0</td>\n",
       "      <td>explanation why the edit make under my usernam...</td>\n",
       "    </tr>\n",
       "    <tr>\n",
       "      <th>1</th>\n",
       "      <td>D'aww! He matches this background colour I'm s...</td>\n",
       "      <td>0</td>\n",
       "      <td>d aww   he match this background colour I m se...</td>\n",
       "    </tr>\n",
       "    <tr>\n",
       "      <th>2</th>\n",
       "      <td>Hey man, I'm really not trying to edit war. It...</td>\n",
       "      <td>0</td>\n",
       "      <td>hey man   I m really not try to edit war   it ...</td>\n",
       "    </tr>\n",
       "    <tr>\n",
       "      <th>3</th>\n",
       "      <td>\"\\nMore\\nI can't make any real suggestions on ...</td>\n",
       "      <td>0</td>\n",
       "      <td>more I can t make any real suggestion on im...</td>\n",
       "    </tr>\n",
       "    <tr>\n",
       "      <th>4</th>\n",
       "      <td>You, sir, are my hero. Any chance you remember...</td>\n",
       "      <td>0</td>\n",
       "      <td>you   sir   be my hero   any chance you rememb...</td>\n",
       "    </tr>\n",
       "  </tbody>\n",
       "</table>\n",
       "</div>"
      ],
      "text/plain": [
       "                                                text  toxic  \\\n",
       "0  Explanation\\nWhy the edits made under my usern...      0   \n",
       "1  D'aww! He matches this background colour I'm s...      0   \n",
       "2  Hey man, I'm really not trying to edit war. It...      0   \n",
       "3  \"\\nMore\\nI can't make any real suggestions on ...      0   \n",
       "4  You, sir, are my hero. Any chance you remember...      0   \n",
       "\n",
       "                                          lemmatized  \n",
       "0  explanation why the edit make under my usernam...  \n",
       "1  d aww   he match this background colour I m se...  \n",
       "2  hey man   I m really not try to edit war   it ...  \n",
       "3     more I can t make any real suggestion on im...  \n",
       "4  you   sir   be my hero   any chance you rememb...  "
      ]
     },
     "execution_count": 10,
     "metadata": {},
     "output_type": "execute_result"
    }
   ],
   "source": [
    "data.head()"
   ]
  },
  {
   "cell_type": "markdown",
   "metadata": {},
   "source": [
    "Разделим данные на обучающую и тестовую выборки. Валидационную не выделяем так как будем использовать крос-валидацию"
   ]
  },
  {
   "cell_type": "code",
   "execution_count": 11,
   "metadata": {},
   "outputs": [],
   "source": [
    "def split(df):\n",
    "\n",
    "    target = df['toxic']\n",
    "    features = df.drop(['toxic'], axis=1)\n",
    "    \n",
    "    features_train, features_test, target_train, target_test = train_test_split(features, target, test_size=0.3, shuffle=True)\n",
    "    print('Размер обучающей выборки:', features_train.shape[0], 'строк - ', round(features_train.shape[0]/df.shape[0] * 100), \"%\")\n",
    "    print('Размер тестовой выборки:', features_test.shape[0], 'строк - ', round(features_test.shape[0]/df.shape[0] * 100), \"%\")\n",
    "    return features_train, features_test, target_train, target_test"
   ]
  },
  {
   "cell_type": "code",
   "execution_count": 12,
   "metadata": {},
   "outputs": [
    {
     "name": "stdout",
     "output_type": "stream",
     "text": [
      "Размер обучающей выборки: 111504 строк -  70 %\n",
      "Размер тестовой выборки: 47788 строк -  30 %\n"
     ]
    }
   ],
   "source": [
    "features_train, features_test, target_train, target_test = split(data);"
   ]
  },
  {
   "cell_type": "markdown",
   "metadata": {},
   "source": [
    "Используем алгоритм TF-IDF (от англ. term frequency, «частота терма, или слова»; inverse document frequency, «обратная частота документа, или текста»). То есть TF отвечает за количество упоминаний слова в отдельном тексте, а IDF отражает частоту его употребления во всём корпусе.\n",
    "\n",
    "Применим TfidfVectorizer для векторизации данных"
   ]
  },
  {
   "cell_type": "code",
   "execution_count": 13,
   "metadata": {},
   "outputs": [],
   "source": [
    "def tok(text):\n",
    "    tt = TweetTokenizer()\n",
    "    return tt.tokenize(text)\n",
    "\n",
    "def tok(text):\n",
    "    return nltk.word_tokenize(text)"
   ]
  },
  {
   "cell_type": "code",
   "execution_count": 14,
   "metadata": {},
   "outputs": [
    {
     "data": {
      "text/html": [
       "<style>#sk-container-id-1 {\n",
       "  /* Definition of color scheme common for light and dark mode */\n",
       "  --sklearn-color-text: black;\n",
       "  --sklearn-color-line: gray;\n",
       "  /* Definition of color scheme for unfitted estimators */\n",
       "  --sklearn-color-unfitted-level-0: #fff5e6;\n",
       "  --sklearn-color-unfitted-level-1: #f6e4d2;\n",
       "  --sklearn-color-unfitted-level-2: #ffe0b3;\n",
       "  --sklearn-color-unfitted-level-3: chocolate;\n",
       "  /* Definition of color scheme for fitted estimators */\n",
       "  --sklearn-color-fitted-level-0: #f0f8ff;\n",
       "  --sklearn-color-fitted-level-1: #d4ebff;\n",
       "  --sklearn-color-fitted-level-2: #b3dbfd;\n",
       "  --sklearn-color-fitted-level-3: cornflowerblue;\n",
       "\n",
       "  /* Specific color for light theme */\n",
       "  --sklearn-color-text-on-default-background: var(--sg-text-color, var(--theme-code-foreground, var(--jp-content-font-color1, black)));\n",
       "  --sklearn-color-background: var(--sg-background-color, var(--theme-background, var(--jp-layout-color0, white)));\n",
       "  --sklearn-color-border-box: var(--sg-text-color, var(--theme-code-foreground, var(--jp-content-font-color1, black)));\n",
       "  --sklearn-color-icon: #696969;\n",
       "\n",
       "  @media (prefers-color-scheme: dark) {\n",
       "    /* Redefinition of color scheme for dark theme */\n",
       "    --sklearn-color-text-on-default-background: var(--sg-text-color, var(--theme-code-foreground, var(--jp-content-font-color1, white)));\n",
       "    --sklearn-color-background: var(--sg-background-color, var(--theme-background, var(--jp-layout-color0, #111)));\n",
       "    --sklearn-color-border-box: var(--sg-text-color, var(--theme-code-foreground, var(--jp-content-font-color1, white)));\n",
       "    --sklearn-color-icon: #878787;\n",
       "  }\n",
       "}\n",
       "\n",
       "#sk-container-id-1 {\n",
       "  color: var(--sklearn-color-text);\n",
       "}\n",
       "\n",
       "#sk-container-id-1 pre {\n",
       "  padding: 0;\n",
       "}\n",
       "\n",
       "#sk-container-id-1 input.sk-hidden--visually {\n",
       "  border: 0;\n",
       "  clip: rect(1px 1px 1px 1px);\n",
       "  clip: rect(1px, 1px, 1px, 1px);\n",
       "  height: 1px;\n",
       "  margin: -1px;\n",
       "  overflow: hidden;\n",
       "  padding: 0;\n",
       "  position: absolute;\n",
       "  width: 1px;\n",
       "}\n",
       "\n",
       "#sk-container-id-1 div.sk-dashed-wrapped {\n",
       "  border: 1px dashed var(--sklearn-color-line);\n",
       "  margin: 0 0.4em 0.5em 0.4em;\n",
       "  box-sizing: border-box;\n",
       "  padding-bottom: 0.4em;\n",
       "  background-color: var(--sklearn-color-background);\n",
       "}\n",
       "\n",
       "#sk-container-id-1 div.sk-container {\n",
       "  /* jupyter's `normalize.less` sets `[hidden] { display: none; }`\n",
       "     but bootstrap.min.css set `[hidden] { display: none !important; }`\n",
       "     so we also need the `!important` here to be able to override the\n",
       "     default hidden behavior on the sphinx rendered scikit-learn.org.\n",
       "     See: https://github.com/scikit-learn/scikit-learn/issues/21755 */\n",
       "  display: inline-block !important;\n",
       "  position: relative;\n",
       "}\n",
       "\n",
       "#sk-container-id-1 div.sk-text-repr-fallback {\n",
       "  display: none;\n",
       "}\n",
       "\n",
       "div.sk-parallel-item,\n",
       "div.sk-serial,\n",
       "div.sk-item {\n",
       "  /* draw centered vertical line to link estimators */\n",
       "  background-image: linear-gradient(var(--sklearn-color-text-on-default-background), var(--sklearn-color-text-on-default-background));\n",
       "  background-size: 2px 100%;\n",
       "  background-repeat: no-repeat;\n",
       "  background-position: center center;\n",
       "}\n",
       "\n",
       "/* Parallel-specific style estimator block */\n",
       "\n",
       "#sk-container-id-1 div.sk-parallel-item::after {\n",
       "  content: \"\";\n",
       "  width: 100%;\n",
       "  border-bottom: 2px solid var(--sklearn-color-text-on-default-background);\n",
       "  flex-grow: 1;\n",
       "}\n",
       "\n",
       "#sk-container-id-1 div.sk-parallel {\n",
       "  display: flex;\n",
       "  align-items: stretch;\n",
       "  justify-content: center;\n",
       "  background-color: var(--sklearn-color-background);\n",
       "  position: relative;\n",
       "}\n",
       "\n",
       "#sk-container-id-1 div.sk-parallel-item {\n",
       "  display: flex;\n",
       "  flex-direction: column;\n",
       "}\n",
       "\n",
       "#sk-container-id-1 div.sk-parallel-item:first-child::after {\n",
       "  align-self: flex-end;\n",
       "  width: 50%;\n",
       "}\n",
       "\n",
       "#sk-container-id-1 div.sk-parallel-item:last-child::after {\n",
       "  align-self: flex-start;\n",
       "  width: 50%;\n",
       "}\n",
       "\n",
       "#sk-container-id-1 div.sk-parallel-item:only-child::after {\n",
       "  width: 0;\n",
       "}\n",
       "\n",
       "/* Serial-specific style estimator block */\n",
       "\n",
       "#sk-container-id-1 div.sk-serial {\n",
       "  display: flex;\n",
       "  flex-direction: column;\n",
       "  align-items: center;\n",
       "  background-color: var(--sklearn-color-background);\n",
       "  padding-right: 1em;\n",
       "  padding-left: 1em;\n",
       "}\n",
       "\n",
       "\n",
       "/* Toggleable style: style used for estimator/Pipeline/ColumnTransformer box that is\n",
       "clickable and can be expanded/collapsed.\n",
       "- Pipeline and ColumnTransformer use this feature and define the default style\n",
       "- Estimators will overwrite some part of the style using the `sk-estimator` class\n",
       "*/\n",
       "\n",
       "/* Pipeline and ColumnTransformer style (default) */\n",
       "\n",
       "#sk-container-id-1 div.sk-toggleable {\n",
       "  /* Default theme specific background. It is overwritten whether we have a\n",
       "  specific estimator or a Pipeline/ColumnTransformer */\n",
       "  background-color: var(--sklearn-color-background);\n",
       "}\n",
       "\n",
       "/* Toggleable label */\n",
       "#sk-container-id-1 label.sk-toggleable__label {\n",
       "  cursor: pointer;\n",
       "  display: block;\n",
       "  width: 100%;\n",
       "  margin-bottom: 0;\n",
       "  padding: 0.5em;\n",
       "  box-sizing: border-box;\n",
       "  text-align: center;\n",
       "}\n",
       "\n",
       "#sk-container-id-1 label.sk-toggleable__label-arrow:before {\n",
       "  /* Arrow on the left of the label */\n",
       "  content: \"▸\";\n",
       "  float: left;\n",
       "  margin-right: 0.25em;\n",
       "  color: var(--sklearn-color-icon);\n",
       "}\n",
       "\n",
       "#sk-container-id-1 label.sk-toggleable__label-arrow:hover:before {\n",
       "  color: var(--sklearn-color-text);\n",
       "}\n",
       "\n",
       "/* Toggleable content - dropdown */\n",
       "\n",
       "#sk-container-id-1 div.sk-toggleable__content {\n",
       "  max-height: 0;\n",
       "  max-width: 0;\n",
       "  overflow: hidden;\n",
       "  text-align: left;\n",
       "  /* unfitted */\n",
       "  background-color: var(--sklearn-color-unfitted-level-0);\n",
       "}\n",
       "\n",
       "#sk-container-id-1 div.sk-toggleable__content.fitted {\n",
       "  /* fitted */\n",
       "  background-color: var(--sklearn-color-fitted-level-0);\n",
       "}\n",
       "\n",
       "#sk-container-id-1 div.sk-toggleable__content pre {\n",
       "  margin: 0.2em;\n",
       "  border-radius: 0.25em;\n",
       "  color: var(--sklearn-color-text);\n",
       "  /* unfitted */\n",
       "  background-color: var(--sklearn-color-unfitted-level-0);\n",
       "}\n",
       "\n",
       "#sk-container-id-1 div.sk-toggleable__content.fitted pre {\n",
       "  /* unfitted */\n",
       "  background-color: var(--sklearn-color-fitted-level-0);\n",
       "}\n",
       "\n",
       "#sk-container-id-1 input.sk-toggleable__control:checked~div.sk-toggleable__content {\n",
       "  /* Expand drop-down */\n",
       "  max-height: 200px;\n",
       "  max-width: 100%;\n",
       "  overflow: auto;\n",
       "}\n",
       "\n",
       "#sk-container-id-1 input.sk-toggleable__control:checked~label.sk-toggleable__label-arrow:before {\n",
       "  content: \"▾\";\n",
       "}\n",
       "\n",
       "/* Pipeline/ColumnTransformer-specific style */\n",
       "\n",
       "#sk-container-id-1 div.sk-label input.sk-toggleable__control:checked~label.sk-toggleable__label {\n",
       "  color: var(--sklearn-color-text);\n",
       "  background-color: var(--sklearn-color-unfitted-level-2);\n",
       "}\n",
       "\n",
       "#sk-container-id-1 div.sk-label.fitted input.sk-toggleable__control:checked~label.sk-toggleable__label {\n",
       "  background-color: var(--sklearn-color-fitted-level-2);\n",
       "}\n",
       "\n",
       "/* Estimator-specific style */\n",
       "\n",
       "/* Colorize estimator box */\n",
       "#sk-container-id-1 div.sk-estimator input.sk-toggleable__control:checked~label.sk-toggleable__label {\n",
       "  /* unfitted */\n",
       "  background-color: var(--sklearn-color-unfitted-level-2);\n",
       "}\n",
       "\n",
       "#sk-container-id-1 div.sk-estimator.fitted input.sk-toggleable__control:checked~label.sk-toggleable__label {\n",
       "  /* fitted */\n",
       "  background-color: var(--sklearn-color-fitted-level-2);\n",
       "}\n",
       "\n",
       "#sk-container-id-1 div.sk-label label.sk-toggleable__label,\n",
       "#sk-container-id-1 div.sk-label label {\n",
       "  /* The background is the default theme color */\n",
       "  color: var(--sklearn-color-text-on-default-background);\n",
       "}\n",
       "\n",
       "/* On hover, darken the color of the background */\n",
       "#sk-container-id-1 div.sk-label:hover label.sk-toggleable__label {\n",
       "  color: var(--sklearn-color-text);\n",
       "  background-color: var(--sklearn-color-unfitted-level-2);\n",
       "}\n",
       "\n",
       "/* Label box, darken color on hover, fitted */\n",
       "#sk-container-id-1 div.sk-label.fitted:hover label.sk-toggleable__label.fitted {\n",
       "  color: var(--sklearn-color-text);\n",
       "  background-color: var(--sklearn-color-fitted-level-2);\n",
       "}\n",
       "\n",
       "/* Estimator label */\n",
       "\n",
       "#sk-container-id-1 div.sk-label label {\n",
       "  font-family: monospace;\n",
       "  font-weight: bold;\n",
       "  display: inline-block;\n",
       "  line-height: 1.2em;\n",
       "}\n",
       "\n",
       "#sk-container-id-1 div.sk-label-container {\n",
       "  text-align: center;\n",
       "}\n",
       "\n",
       "/* Estimator-specific */\n",
       "#sk-container-id-1 div.sk-estimator {\n",
       "  font-family: monospace;\n",
       "  border: 1px dotted var(--sklearn-color-border-box);\n",
       "  border-radius: 0.25em;\n",
       "  box-sizing: border-box;\n",
       "  margin-bottom: 0.5em;\n",
       "  /* unfitted */\n",
       "  background-color: var(--sklearn-color-unfitted-level-0);\n",
       "}\n",
       "\n",
       "#sk-container-id-1 div.sk-estimator.fitted {\n",
       "  /* fitted */\n",
       "  background-color: var(--sklearn-color-fitted-level-0);\n",
       "}\n",
       "\n",
       "/* on hover */\n",
       "#sk-container-id-1 div.sk-estimator:hover {\n",
       "  /* unfitted */\n",
       "  background-color: var(--sklearn-color-unfitted-level-2);\n",
       "}\n",
       "\n",
       "#sk-container-id-1 div.sk-estimator.fitted:hover {\n",
       "  /* fitted */\n",
       "  background-color: var(--sklearn-color-fitted-level-2);\n",
       "}\n",
       "\n",
       "/* Specification for estimator info (e.g. \"i\" and \"?\") */\n",
       "\n",
       "/* Common style for \"i\" and \"?\" */\n",
       "\n",
       ".sk-estimator-doc-link,\n",
       "a:link.sk-estimator-doc-link,\n",
       "a:visited.sk-estimator-doc-link {\n",
       "  float: right;\n",
       "  font-size: smaller;\n",
       "  line-height: 1em;\n",
       "  font-family: monospace;\n",
       "  background-color: var(--sklearn-color-background);\n",
       "  border-radius: 1em;\n",
       "  height: 1em;\n",
       "  width: 1em;\n",
       "  text-decoration: none !important;\n",
       "  margin-left: 1ex;\n",
       "  /* unfitted */\n",
       "  border: var(--sklearn-color-unfitted-level-1) 1pt solid;\n",
       "  color: var(--sklearn-color-unfitted-level-1);\n",
       "}\n",
       "\n",
       ".sk-estimator-doc-link.fitted,\n",
       "a:link.sk-estimator-doc-link.fitted,\n",
       "a:visited.sk-estimator-doc-link.fitted {\n",
       "  /* fitted */\n",
       "  border: var(--sklearn-color-fitted-level-1) 1pt solid;\n",
       "  color: var(--sklearn-color-fitted-level-1);\n",
       "}\n",
       "\n",
       "/* On hover */\n",
       "div.sk-estimator:hover .sk-estimator-doc-link:hover,\n",
       ".sk-estimator-doc-link:hover,\n",
       "div.sk-label-container:hover .sk-estimator-doc-link:hover,\n",
       ".sk-estimator-doc-link:hover {\n",
       "  /* unfitted */\n",
       "  background-color: var(--sklearn-color-unfitted-level-3);\n",
       "  color: var(--sklearn-color-background);\n",
       "  text-decoration: none;\n",
       "}\n",
       "\n",
       "div.sk-estimator.fitted:hover .sk-estimator-doc-link.fitted:hover,\n",
       ".sk-estimator-doc-link.fitted:hover,\n",
       "div.sk-label-container:hover .sk-estimator-doc-link.fitted:hover,\n",
       ".sk-estimator-doc-link.fitted:hover {\n",
       "  /* fitted */\n",
       "  background-color: var(--sklearn-color-fitted-level-3);\n",
       "  color: var(--sklearn-color-background);\n",
       "  text-decoration: none;\n",
       "}\n",
       "\n",
       "/* Span, style for the box shown on hovering the info icon */\n",
       ".sk-estimator-doc-link span {\n",
       "  display: none;\n",
       "  z-index: 9999;\n",
       "  position: relative;\n",
       "  font-weight: normal;\n",
       "  right: .2ex;\n",
       "  padding: .5ex;\n",
       "  margin: .5ex;\n",
       "  width: min-content;\n",
       "  min-width: 20ex;\n",
       "  max-width: 50ex;\n",
       "  color: var(--sklearn-color-text);\n",
       "  box-shadow: 2pt 2pt 4pt #999;\n",
       "  /* unfitted */\n",
       "  background: var(--sklearn-color-unfitted-level-0);\n",
       "  border: .5pt solid var(--sklearn-color-unfitted-level-3);\n",
       "}\n",
       "\n",
       ".sk-estimator-doc-link.fitted span {\n",
       "  /* fitted */\n",
       "  background: var(--sklearn-color-fitted-level-0);\n",
       "  border: var(--sklearn-color-fitted-level-3);\n",
       "}\n",
       "\n",
       ".sk-estimator-doc-link:hover span {\n",
       "  display: block;\n",
       "}\n",
       "\n",
       "/* \"?\"-specific style due to the `<a>` HTML tag */\n",
       "\n",
       "#sk-container-id-1 a.estimator_doc_link {\n",
       "  float: right;\n",
       "  font-size: 1rem;\n",
       "  line-height: 1em;\n",
       "  font-family: monospace;\n",
       "  background-color: var(--sklearn-color-background);\n",
       "  border-radius: 1rem;\n",
       "  height: 1rem;\n",
       "  width: 1rem;\n",
       "  text-decoration: none;\n",
       "  /* unfitted */\n",
       "  color: var(--sklearn-color-unfitted-level-1);\n",
       "  border: var(--sklearn-color-unfitted-level-1) 1pt solid;\n",
       "}\n",
       "\n",
       "#sk-container-id-1 a.estimator_doc_link.fitted {\n",
       "  /* fitted */\n",
       "  border: var(--sklearn-color-fitted-level-1) 1pt solid;\n",
       "  color: var(--sklearn-color-fitted-level-1);\n",
       "}\n",
       "\n",
       "/* On hover */\n",
       "#sk-container-id-1 a.estimator_doc_link:hover {\n",
       "  /* unfitted */\n",
       "  background-color: var(--sklearn-color-unfitted-level-3);\n",
       "  color: var(--sklearn-color-background);\n",
       "  text-decoration: none;\n",
       "}\n",
       "\n",
       "#sk-container-id-1 a.estimator_doc_link.fitted:hover {\n",
       "  /* fitted */\n",
       "  background-color: var(--sklearn-color-fitted-level-3);\n",
       "}\n",
       "</style><div id=\"sk-container-id-1\" class=\"sk-top-container\"><div class=\"sk-text-repr-fallback\"><pre>TfidfVectorizer(tokenizer=&lt;function tok at 0x0000022424A104A0&gt;)</pre><b>In a Jupyter environment, please rerun this cell to show the HTML representation or trust the notebook. <br />On GitHub, the HTML representation is unable to render, please try loading this page with nbviewer.org.</b></div><div class=\"sk-container\" hidden><div class=\"sk-item\"><div class=\"sk-estimator  sk-toggleable\"><input class=\"sk-toggleable__control sk-hidden--visually\" id=\"sk-estimator-id-1\" type=\"checkbox\" checked><label for=\"sk-estimator-id-1\" class=\"sk-toggleable__label  sk-toggleable__label-arrow \">&nbsp;&nbsp;TfidfVectorizer<a class=\"sk-estimator-doc-link \" rel=\"noreferrer\" target=\"_blank\" href=\"https://scikit-learn.org/1.4/modules/generated/sklearn.feature_extraction.text.TfidfVectorizer.html\">?<span>Documentation for TfidfVectorizer</span></a><span class=\"sk-estimator-doc-link \">i<span>Not fitted</span></span></label><div class=\"sk-toggleable__content \"><pre>TfidfVectorizer(tokenizer=&lt;function tok at 0x0000022424A104A0&gt;)</pre></div> </div></div></div></div>"
      ],
      "text/plain": [
       "TfidfVectorizer(tokenizer=<function tok at 0x0000022424A104A0>)"
      ]
     },
     "execution_count": 14,
     "metadata": {},
     "output_type": "execute_result"
    }
   ],
   "source": [
    "count_tf_idf = TfidfVectorizer(tokenizer=tok)#(stop_words=stop_words)#, tokenizer=tok) \n",
    "count_tf_idf"
   ]
  },
  {
   "cell_type": "code",
   "execution_count": 15,
   "metadata": {},
   "outputs": [
    {
     "name": "stdout",
     "output_type": "stream",
     "text": [
      "Размер матрицы: (111504, 132240)\n"
     ]
    }
   ],
   "source": [
    "count_tf_idf.fit(features_train['lemmatized'].values)\n",
    "tf_idf = count_tf_idf.transform(features_train['lemmatized'].values)\n",
    "print(\"Размер матрицы:\", tf_idf.shape)"
   ]
  },
  {
   "cell_type": "code",
   "execution_count": 16,
   "metadata": {
    "scrolled": true
   },
   "outputs": [
    {
     "name": "stdout",
     "output_type": "stream",
     "text": [
      "Размер матрицы: (111504, 132240)\n"
     ]
    }
   ],
   "source": [
    "tf_idf_test = count_tf_idf.transform(features_test['lemmatized'].values)\n",
    "print(\"Размер матрицы:\", tf_idf.shape)"
   ]
  },
  {
   "cell_type": "markdown",
   "metadata": {},
   "source": [
    "<font color='blue'><b>Комментарий ревьюера: </b></font> ⚠️\\\n",
    "<font color='darkorange'> Можно объединить Векторизатор с моделью через Pipeline. Так можно избежать утечек даже при кроссвалидации моделей.<br> Материалы по Pipeline:<br> [О Пайплайн](https://dzen.ru/a/YBBkKJBsUV9MPret)<br>\n",
    "\n",
    "[Примеры работы с текстами](https://scikit-learn.org/stable/auto_examples/model_selection/plot_grid_search_text_feature_extraction.html)</font>"
   ]
  },
  {
   "cell_type": "markdown",
   "metadata": {},
   "source": [
    "<font color='purple'><b>Комментарий студента</b></font>\n",
    "\n",
    "Спасибо за доп информацию. Я посмотрела. В этом проекте решила не использовать пайплайн, так как предобработка для всех моделей одинаковая."
   ]
  },
  {
   "cell_type": "markdown",
   "metadata": {},
   "source": [
    "**Вывод**\n",
    "\n",
    "Мы лемматизировали и отчистили данные. Перевели тексты комментариев в вектора при помощи алгоритма TF-IDF. И разделили данные на обучающую и тестовую выборки. При обучении моделей будем использовать кросс-валидацию."
   ]
  },
  {
   "cell_type": "markdown",
   "metadata": {},
   "source": [
    "## Обучение"
   ]
  },
  {
   "cell_type": "markdown",
   "metadata": {},
   "source": [
    "### LogisticRegression"
   ]
  },
  {
   "cell_type": "markdown",
   "metadata": {},
   "source": [
    "Обучим модель логистической регрессии. Для подбора параметров используем GridSearchCV. Также зафиксируем время обучения модели."
   ]
  },
  {
   "cell_type": "code",
   "execution_count": 17,
   "metadata": {},
   "outputs": [
    {
     "name": "stdout",
     "output_type": "stream",
     "text": [
      "CPU times: total: 5.39 s\n",
      "Wall time: 1min 1s\n"
     ]
    }
   ],
   "source": [
    "%%time\n",
    "\n",
    "model_logreg = LogisticRegression()\n",
    "# pipeline_logreg = make_pipeline(col_transformer_ohe, model_logreg)\n",
    "model_params = {\n",
    "    'C': [ 5, 10, 15],\n",
    "    'class_weight' : ['balanced', None],\n",
    "    'penalty': ['l1', 'l2', None],\n",
    "    'solver': ['liblinear', None] #'lbfgs', 'saga'\n",
    "}\n",
    "gs_logreg = GridSearchCV(model_logreg, model_params, cv=5, scoring='f1', n_jobs=-1)\n",
    "\n",
    "# начальное время\n",
    "start_time = time.time()\n",
    "    \n",
    "gs_logreg.fit(tf_idf, target_train)\n",
    "    \n",
    "# конечное время\n",
    "end_time = time.time()\n",
    "    \n",
    "elapsed_time_logreg = end_time - start_time"
   ]
  },
  {
   "cell_type": "code",
   "execution_count": 18,
   "metadata": {},
   "outputs": [
    {
     "data": {
      "text/plain": [
       "61.79256200790405"
      ]
     },
     "execution_count": 18,
     "metadata": {},
     "output_type": "execute_result"
    }
   ],
   "source": [
    "elapsed_time_logreg"
   ]
  },
  {
   "cell_type": "code",
   "execution_count": 19,
   "metadata": {
    "scrolled": true
   },
   "outputs": [
    {
     "data": {
      "text/plain": [
       "({'C': 5, 'class_weight': None, 'penalty': 'l1', 'solver': 'liblinear'},\n",
       " 0.7850482377331289)"
      ]
     },
     "execution_count": 19,
     "metadata": {},
     "output_type": "execute_result"
    }
   ],
   "source": [
    "gs_logreg.best_params_, gs_logreg.best_score_"
   ]
  },
  {
   "cell_type": "code",
   "execution_count": 20,
   "metadata": {},
   "outputs": [
    {
     "data": {
      "text/html": [
       "<style>#sk-container-id-2 {\n",
       "  /* Definition of color scheme common for light and dark mode */\n",
       "  --sklearn-color-text: black;\n",
       "  --sklearn-color-line: gray;\n",
       "  /* Definition of color scheme for unfitted estimators */\n",
       "  --sklearn-color-unfitted-level-0: #fff5e6;\n",
       "  --sklearn-color-unfitted-level-1: #f6e4d2;\n",
       "  --sklearn-color-unfitted-level-2: #ffe0b3;\n",
       "  --sklearn-color-unfitted-level-3: chocolate;\n",
       "  /* Definition of color scheme for fitted estimators */\n",
       "  --sklearn-color-fitted-level-0: #f0f8ff;\n",
       "  --sklearn-color-fitted-level-1: #d4ebff;\n",
       "  --sklearn-color-fitted-level-2: #b3dbfd;\n",
       "  --sklearn-color-fitted-level-3: cornflowerblue;\n",
       "\n",
       "  /* Specific color for light theme */\n",
       "  --sklearn-color-text-on-default-background: var(--sg-text-color, var(--theme-code-foreground, var(--jp-content-font-color1, black)));\n",
       "  --sklearn-color-background: var(--sg-background-color, var(--theme-background, var(--jp-layout-color0, white)));\n",
       "  --sklearn-color-border-box: var(--sg-text-color, var(--theme-code-foreground, var(--jp-content-font-color1, black)));\n",
       "  --sklearn-color-icon: #696969;\n",
       "\n",
       "  @media (prefers-color-scheme: dark) {\n",
       "    /* Redefinition of color scheme for dark theme */\n",
       "    --sklearn-color-text-on-default-background: var(--sg-text-color, var(--theme-code-foreground, var(--jp-content-font-color1, white)));\n",
       "    --sklearn-color-background: var(--sg-background-color, var(--theme-background, var(--jp-layout-color0, #111)));\n",
       "    --sklearn-color-border-box: var(--sg-text-color, var(--theme-code-foreground, var(--jp-content-font-color1, white)));\n",
       "    --sklearn-color-icon: #878787;\n",
       "  }\n",
       "}\n",
       "\n",
       "#sk-container-id-2 {\n",
       "  color: var(--sklearn-color-text);\n",
       "}\n",
       "\n",
       "#sk-container-id-2 pre {\n",
       "  padding: 0;\n",
       "}\n",
       "\n",
       "#sk-container-id-2 input.sk-hidden--visually {\n",
       "  border: 0;\n",
       "  clip: rect(1px 1px 1px 1px);\n",
       "  clip: rect(1px, 1px, 1px, 1px);\n",
       "  height: 1px;\n",
       "  margin: -1px;\n",
       "  overflow: hidden;\n",
       "  padding: 0;\n",
       "  position: absolute;\n",
       "  width: 1px;\n",
       "}\n",
       "\n",
       "#sk-container-id-2 div.sk-dashed-wrapped {\n",
       "  border: 1px dashed var(--sklearn-color-line);\n",
       "  margin: 0 0.4em 0.5em 0.4em;\n",
       "  box-sizing: border-box;\n",
       "  padding-bottom: 0.4em;\n",
       "  background-color: var(--sklearn-color-background);\n",
       "}\n",
       "\n",
       "#sk-container-id-2 div.sk-container {\n",
       "  /* jupyter's `normalize.less` sets `[hidden] { display: none; }`\n",
       "     but bootstrap.min.css set `[hidden] { display: none !important; }`\n",
       "     so we also need the `!important` here to be able to override the\n",
       "     default hidden behavior on the sphinx rendered scikit-learn.org.\n",
       "     See: https://github.com/scikit-learn/scikit-learn/issues/21755 */\n",
       "  display: inline-block !important;\n",
       "  position: relative;\n",
       "}\n",
       "\n",
       "#sk-container-id-2 div.sk-text-repr-fallback {\n",
       "  display: none;\n",
       "}\n",
       "\n",
       "div.sk-parallel-item,\n",
       "div.sk-serial,\n",
       "div.sk-item {\n",
       "  /* draw centered vertical line to link estimators */\n",
       "  background-image: linear-gradient(var(--sklearn-color-text-on-default-background), var(--sklearn-color-text-on-default-background));\n",
       "  background-size: 2px 100%;\n",
       "  background-repeat: no-repeat;\n",
       "  background-position: center center;\n",
       "}\n",
       "\n",
       "/* Parallel-specific style estimator block */\n",
       "\n",
       "#sk-container-id-2 div.sk-parallel-item::after {\n",
       "  content: \"\";\n",
       "  width: 100%;\n",
       "  border-bottom: 2px solid var(--sklearn-color-text-on-default-background);\n",
       "  flex-grow: 1;\n",
       "}\n",
       "\n",
       "#sk-container-id-2 div.sk-parallel {\n",
       "  display: flex;\n",
       "  align-items: stretch;\n",
       "  justify-content: center;\n",
       "  background-color: var(--sklearn-color-background);\n",
       "  position: relative;\n",
       "}\n",
       "\n",
       "#sk-container-id-2 div.sk-parallel-item {\n",
       "  display: flex;\n",
       "  flex-direction: column;\n",
       "}\n",
       "\n",
       "#sk-container-id-2 div.sk-parallel-item:first-child::after {\n",
       "  align-self: flex-end;\n",
       "  width: 50%;\n",
       "}\n",
       "\n",
       "#sk-container-id-2 div.sk-parallel-item:last-child::after {\n",
       "  align-self: flex-start;\n",
       "  width: 50%;\n",
       "}\n",
       "\n",
       "#sk-container-id-2 div.sk-parallel-item:only-child::after {\n",
       "  width: 0;\n",
       "}\n",
       "\n",
       "/* Serial-specific style estimator block */\n",
       "\n",
       "#sk-container-id-2 div.sk-serial {\n",
       "  display: flex;\n",
       "  flex-direction: column;\n",
       "  align-items: center;\n",
       "  background-color: var(--sklearn-color-background);\n",
       "  padding-right: 1em;\n",
       "  padding-left: 1em;\n",
       "}\n",
       "\n",
       "\n",
       "/* Toggleable style: style used for estimator/Pipeline/ColumnTransformer box that is\n",
       "clickable and can be expanded/collapsed.\n",
       "- Pipeline and ColumnTransformer use this feature and define the default style\n",
       "- Estimators will overwrite some part of the style using the `sk-estimator` class\n",
       "*/\n",
       "\n",
       "/* Pipeline and ColumnTransformer style (default) */\n",
       "\n",
       "#sk-container-id-2 div.sk-toggleable {\n",
       "  /* Default theme specific background. It is overwritten whether we have a\n",
       "  specific estimator or a Pipeline/ColumnTransformer */\n",
       "  background-color: var(--sklearn-color-background);\n",
       "}\n",
       "\n",
       "/* Toggleable label */\n",
       "#sk-container-id-2 label.sk-toggleable__label {\n",
       "  cursor: pointer;\n",
       "  display: block;\n",
       "  width: 100%;\n",
       "  margin-bottom: 0;\n",
       "  padding: 0.5em;\n",
       "  box-sizing: border-box;\n",
       "  text-align: center;\n",
       "}\n",
       "\n",
       "#sk-container-id-2 label.sk-toggleable__label-arrow:before {\n",
       "  /* Arrow on the left of the label */\n",
       "  content: \"▸\";\n",
       "  float: left;\n",
       "  margin-right: 0.25em;\n",
       "  color: var(--sklearn-color-icon);\n",
       "}\n",
       "\n",
       "#sk-container-id-2 label.sk-toggleable__label-arrow:hover:before {\n",
       "  color: var(--sklearn-color-text);\n",
       "}\n",
       "\n",
       "/* Toggleable content - dropdown */\n",
       "\n",
       "#sk-container-id-2 div.sk-toggleable__content {\n",
       "  max-height: 0;\n",
       "  max-width: 0;\n",
       "  overflow: hidden;\n",
       "  text-align: left;\n",
       "  /* unfitted */\n",
       "  background-color: var(--sklearn-color-unfitted-level-0);\n",
       "}\n",
       "\n",
       "#sk-container-id-2 div.sk-toggleable__content.fitted {\n",
       "  /* fitted */\n",
       "  background-color: var(--sklearn-color-fitted-level-0);\n",
       "}\n",
       "\n",
       "#sk-container-id-2 div.sk-toggleable__content pre {\n",
       "  margin: 0.2em;\n",
       "  border-radius: 0.25em;\n",
       "  color: var(--sklearn-color-text);\n",
       "  /* unfitted */\n",
       "  background-color: var(--sklearn-color-unfitted-level-0);\n",
       "}\n",
       "\n",
       "#sk-container-id-2 div.sk-toggleable__content.fitted pre {\n",
       "  /* unfitted */\n",
       "  background-color: var(--sklearn-color-fitted-level-0);\n",
       "}\n",
       "\n",
       "#sk-container-id-2 input.sk-toggleable__control:checked~div.sk-toggleable__content {\n",
       "  /* Expand drop-down */\n",
       "  max-height: 200px;\n",
       "  max-width: 100%;\n",
       "  overflow: auto;\n",
       "}\n",
       "\n",
       "#sk-container-id-2 input.sk-toggleable__control:checked~label.sk-toggleable__label-arrow:before {\n",
       "  content: \"▾\";\n",
       "}\n",
       "\n",
       "/* Pipeline/ColumnTransformer-specific style */\n",
       "\n",
       "#sk-container-id-2 div.sk-label input.sk-toggleable__control:checked~label.sk-toggleable__label {\n",
       "  color: var(--sklearn-color-text);\n",
       "  background-color: var(--sklearn-color-unfitted-level-2);\n",
       "}\n",
       "\n",
       "#sk-container-id-2 div.sk-label.fitted input.sk-toggleable__control:checked~label.sk-toggleable__label {\n",
       "  background-color: var(--sklearn-color-fitted-level-2);\n",
       "}\n",
       "\n",
       "/* Estimator-specific style */\n",
       "\n",
       "/* Colorize estimator box */\n",
       "#sk-container-id-2 div.sk-estimator input.sk-toggleable__control:checked~label.sk-toggleable__label {\n",
       "  /* unfitted */\n",
       "  background-color: var(--sklearn-color-unfitted-level-2);\n",
       "}\n",
       "\n",
       "#sk-container-id-2 div.sk-estimator.fitted input.sk-toggleable__control:checked~label.sk-toggleable__label {\n",
       "  /* fitted */\n",
       "  background-color: var(--sklearn-color-fitted-level-2);\n",
       "}\n",
       "\n",
       "#sk-container-id-2 div.sk-label label.sk-toggleable__label,\n",
       "#sk-container-id-2 div.sk-label label {\n",
       "  /* The background is the default theme color */\n",
       "  color: var(--sklearn-color-text-on-default-background);\n",
       "}\n",
       "\n",
       "/* On hover, darken the color of the background */\n",
       "#sk-container-id-2 div.sk-label:hover label.sk-toggleable__label {\n",
       "  color: var(--sklearn-color-text);\n",
       "  background-color: var(--sklearn-color-unfitted-level-2);\n",
       "}\n",
       "\n",
       "/* Label box, darken color on hover, fitted */\n",
       "#sk-container-id-2 div.sk-label.fitted:hover label.sk-toggleable__label.fitted {\n",
       "  color: var(--sklearn-color-text);\n",
       "  background-color: var(--sklearn-color-fitted-level-2);\n",
       "}\n",
       "\n",
       "/* Estimator label */\n",
       "\n",
       "#sk-container-id-2 div.sk-label label {\n",
       "  font-family: monospace;\n",
       "  font-weight: bold;\n",
       "  display: inline-block;\n",
       "  line-height: 1.2em;\n",
       "}\n",
       "\n",
       "#sk-container-id-2 div.sk-label-container {\n",
       "  text-align: center;\n",
       "}\n",
       "\n",
       "/* Estimator-specific */\n",
       "#sk-container-id-2 div.sk-estimator {\n",
       "  font-family: monospace;\n",
       "  border: 1px dotted var(--sklearn-color-border-box);\n",
       "  border-radius: 0.25em;\n",
       "  box-sizing: border-box;\n",
       "  margin-bottom: 0.5em;\n",
       "  /* unfitted */\n",
       "  background-color: var(--sklearn-color-unfitted-level-0);\n",
       "}\n",
       "\n",
       "#sk-container-id-2 div.sk-estimator.fitted {\n",
       "  /* fitted */\n",
       "  background-color: var(--sklearn-color-fitted-level-0);\n",
       "}\n",
       "\n",
       "/* on hover */\n",
       "#sk-container-id-2 div.sk-estimator:hover {\n",
       "  /* unfitted */\n",
       "  background-color: var(--sklearn-color-unfitted-level-2);\n",
       "}\n",
       "\n",
       "#sk-container-id-2 div.sk-estimator.fitted:hover {\n",
       "  /* fitted */\n",
       "  background-color: var(--sklearn-color-fitted-level-2);\n",
       "}\n",
       "\n",
       "/* Specification for estimator info (e.g. \"i\" and \"?\") */\n",
       "\n",
       "/* Common style for \"i\" and \"?\" */\n",
       "\n",
       ".sk-estimator-doc-link,\n",
       "a:link.sk-estimator-doc-link,\n",
       "a:visited.sk-estimator-doc-link {\n",
       "  float: right;\n",
       "  font-size: smaller;\n",
       "  line-height: 1em;\n",
       "  font-family: monospace;\n",
       "  background-color: var(--sklearn-color-background);\n",
       "  border-radius: 1em;\n",
       "  height: 1em;\n",
       "  width: 1em;\n",
       "  text-decoration: none !important;\n",
       "  margin-left: 1ex;\n",
       "  /* unfitted */\n",
       "  border: var(--sklearn-color-unfitted-level-1) 1pt solid;\n",
       "  color: var(--sklearn-color-unfitted-level-1);\n",
       "}\n",
       "\n",
       ".sk-estimator-doc-link.fitted,\n",
       "a:link.sk-estimator-doc-link.fitted,\n",
       "a:visited.sk-estimator-doc-link.fitted {\n",
       "  /* fitted */\n",
       "  border: var(--sklearn-color-fitted-level-1) 1pt solid;\n",
       "  color: var(--sklearn-color-fitted-level-1);\n",
       "}\n",
       "\n",
       "/* On hover */\n",
       "div.sk-estimator:hover .sk-estimator-doc-link:hover,\n",
       ".sk-estimator-doc-link:hover,\n",
       "div.sk-label-container:hover .sk-estimator-doc-link:hover,\n",
       ".sk-estimator-doc-link:hover {\n",
       "  /* unfitted */\n",
       "  background-color: var(--sklearn-color-unfitted-level-3);\n",
       "  color: var(--sklearn-color-background);\n",
       "  text-decoration: none;\n",
       "}\n",
       "\n",
       "div.sk-estimator.fitted:hover .sk-estimator-doc-link.fitted:hover,\n",
       ".sk-estimator-doc-link.fitted:hover,\n",
       "div.sk-label-container:hover .sk-estimator-doc-link.fitted:hover,\n",
       ".sk-estimator-doc-link.fitted:hover {\n",
       "  /* fitted */\n",
       "  background-color: var(--sklearn-color-fitted-level-3);\n",
       "  color: var(--sklearn-color-background);\n",
       "  text-decoration: none;\n",
       "}\n",
       "\n",
       "/* Span, style for the box shown on hovering the info icon */\n",
       ".sk-estimator-doc-link span {\n",
       "  display: none;\n",
       "  z-index: 9999;\n",
       "  position: relative;\n",
       "  font-weight: normal;\n",
       "  right: .2ex;\n",
       "  padding: .5ex;\n",
       "  margin: .5ex;\n",
       "  width: min-content;\n",
       "  min-width: 20ex;\n",
       "  max-width: 50ex;\n",
       "  color: var(--sklearn-color-text);\n",
       "  box-shadow: 2pt 2pt 4pt #999;\n",
       "  /* unfitted */\n",
       "  background: var(--sklearn-color-unfitted-level-0);\n",
       "  border: .5pt solid var(--sklearn-color-unfitted-level-3);\n",
       "}\n",
       "\n",
       ".sk-estimator-doc-link.fitted span {\n",
       "  /* fitted */\n",
       "  background: var(--sklearn-color-fitted-level-0);\n",
       "  border: var(--sklearn-color-fitted-level-3);\n",
       "}\n",
       "\n",
       ".sk-estimator-doc-link:hover span {\n",
       "  display: block;\n",
       "}\n",
       "\n",
       "/* \"?\"-specific style due to the `<a>` HTML tag */\n",
       "\n",
       "#sk-container-id-2 a.estimator_doc_link {\n",
       "  float: right;\n",
       "  font-size: 1rem;\n",
       "  line-height: 1em;\n",
       "  font-family: monospace;\n",
       "  background-color: var(--sklearn-color-background);\n",
       "  border-radius: 1rem;\n",
       "  height: 1rem;\n",
       "  width: 1rem;\n",
       "  text-decoration: none;\n",
       "  /* unfitted */\n",
       "  color: var(--sklearn-color-unfitted-level-1);\n",
       "  border: var(--sklearn-color-unfitted-level-1) 1pt solid;\n",
       "}\n",
       "\n",
       "#sk-container-id-2 a.estimator_doc_link.fitted {\n",
       "  /* fitted */\n",
       "  border: var(--sklearn-color-fitted-level-1) 1pt solid;\n",
       "  color: var(--sklearn-color-fitted-level-1);\n",
       "}\n",
       "\n",
       "/* On hover */\n",
       "#sk-container-id-2 a.estimator_doc_link:hover {\n",
       "  /* unfitted */\n",
       "  background-color: var(--sklearn-color-unfitted-level-3);\n",
       "  color: var(--sklearn-color-background);\n",
       "  text-decoration: none;\n",
       "}\n",
       "\n",
       "#sk-container-id-2 a.estimator_doc_link.fitted:hover {\n",
       "  /* fitted */\n",
       "  background-color: var(--sklearn-color-fitted-level-3);\n",
       "}\n",
       "</style><div id=\"sk-container-id-2\" class=\"sk-top-container\"><div class=\"sk-text-repr-fallback\"><pre>LogisticRegression(C=5, penalty=&#x27;l1&#x27;, solver=&#x27;liblinear&#x27;)</pre><b>In a Jupyter environment, please rerun this cell to show the HTML representation or trust the notebook. <br />On GitHub, the HTML representation is unable to render, please try loading this page with nbviewer.org.</b></div><div class=\"sk-container\" hidden><div class=\"sk-item\"><div class=\"sk-estimator fitted sk-toggleable\"><input class=\"sk-toggleable__control sk-hidden--visually\" id=\"sk-estimator-id-2\" type=\"checkbox\" checked><label for=\"sk-estimator-id-2\" class=\"sk-toggleable__label fitted sk-toggleable__label-arrow fitted\">&nbsp;&nbsp;LogisticRegression<a class=\"sk-estimator-doc-link fitted\" rel=\"noreferrer\" target=\"_blank\" href=\"https://scikit-learn.org/1.4/modules/generated/sklearn.linear_model.LogisticRegression.html\">?<span>Documentation for LogisticRegression</span></a><span class=\"sk-estimator-doc-link fitted\">i<span>Fitted</span></span></label><div class=\"sk-toggleable__content fitted\"><pre>LogisticRegression(C=5, penalty=&#x27;l1&#x27;, solver=&#x27;liblinear&#x27;)</pre></div> </div></div></div></div>"
      ],
      "text/plain": [
       "LogisticRegression(C=5, penalty='l1', solver='liblinear')"
      ]
     },
     "execution_count": 20,
     "metadata": {},
     "output_type": "execute_result"
    }
   ],
   "source": [
    "gs_logreg.best_estimator_"
   ]
  },
  {
   "cell_type": "markdown",
   "metadata": {},
   "source": [
    "**Вывод**\n",
    "\n",
    "Модель логистическй регрессии показала хорошую метрику F1=0.78. А также очень быстрое время обучения."
   ]
  },
  {
   "cell_type": "markdown",
   "metadata": {},
   "source": [
    "### LightGBM"
   ]
  },
  {
   "cell_type": "markdown",
   "metadata": {},
   "source": [
    "Обучим модель LightGBM. Для подбора параметров используем GridSearchCV. Также зафиксируем время обучения модели."
   ]
  },
  {
   "cell_type": "code",
   "execution_count": 24,
   "metadata": {},
   "outputs": [],
   "source": [
    "model_lgbm = LGBMClassifier(class_weight='balanced', n_jobs = -1)\n",
    "# pipeline_lgbm = make_pipeline(col_transformer_oe, model_lgbm)\n",
    "model_params = { 'max_depth': range(6, 10, 2),\n",
    "                 'n_estimators': [200, 300]}"
   ]
  },
  {
   "cell_type": "code",
   "execution_count": 26,
   "metadata": {
    "scrolled": true
   },
   "outputs": [
    {
     "name": "stdout",
     "output_type": "stream",
     "text": [
      "[LightGBM] [Warning] Accuracy may be bad since you didn't explicitly set num_leaves OR 2^max_depth > num_leaves. (num_leaves=31).\n",
      "[LightGBM] [Warning] Accuracy may be bad since you didn't explicitly set num_leaves OR 2^max_depth > num_leaves. (num_leaves=31).\n",
      "[LightGBM] [Info] Number of positive: 11221, number of negative: 100283\n",
      "[LightGBM] [Info] Auto-choosing col-wise multi-threading, the overhead of testing was 1.124847 seconds.\n",
      "You can set `force_col_wise=true` to remove the overhead.\n",
      "[LightGBM] [Info] Total Bins 552860\n",
      "[LightGBM] [Info] Number of data points in the train set: 111504, number of used features: 9621\n",
      "[LightGBM] [Info] [binary:BoostFromScore]: pavg=0.500000 -> initscore=0.000000\n",
      "[LightGBM] [Info] Start training from score 0.000000\n",
      "[LightGBM] [Warning] No further splits with positive gain, best gain: -inf\n",
      "[LightGBM] [Warning] No further splits with positive gain, best gain: -inf\n",
      "[LightGBM] [Warning] No further splits with positive gain, best gain: -inf\n",
      "[LightGBM] [Warning] No further splits with positive gain, best gain: -inf\n",
      "[LightGBM] [Warning] No further splits with positive gain, best gain: -inf\n",
      "[LightGBM] [Warning] No further splits with positive gain, best gain: -inf\n",
      "[LightGBM] [Warning] No further splits with positive gain, best gain: -inf\n",
      "[LightGBM] [Warning] No further splits with positive gain, best gain: -inf\n",
      "[LightGBM] [Warning] No further splits with positive gain, best gain: -inf\n",
      "[LightGBM] [Warning] No further splits with positive gain, best gain: -inf\n",
      "[LightGBM] [Warning] No further splits with positive gain, best gain: -inf\n",
      "[LightGBM] [Warning] No further splits with positive gain, best gain: -inf\n",
      "[LightGBM] [Warning] No further splits with positive gain, best gain: -inf\n",
      "[LightGBM] [Warning] No further splits with positive gain, best gain: -inf\n",
      "[LightGBM] [Warning] No further splits with positive gain, best gain: -inf\n",
      "[LightGBM] [Warning] No further splits with positive gain, best gain: -inf\n",
      "[LightGBM] [Warning] No further splits with positive gain, best gain: -inf\n",
      "[LightGBM] [Warning] No further splits with positive gain, best gain: -inf\n",
      "[LightGBM] [Warning] No further splits with positive gain, best gain: -inf\n",
      "[LightGBM] [Warning] No further splits with positive gain, best gain: -inf\n",
      "[LightGBM] [Warning] No further splits with positive gain, best gain: -inf\n",
      "[LightGBM] [Warning] No further splits with positive gain, best gain: -inf\n",
      "[LightGBM] [Warning] No further splits with positive gain, best gain: -inf\n",
      "[LightGBM] [Warning] No further splits with positive gain, best gain: -inf\n",
      "[LightGBM] [Warning] No further splits with positive gain, best gain: -inf\n",
      "[LightGBM] [Warning] No further splits with positive gain, best gain: -inf\n",
      "[LightGBM] [Warning] No further splits with positive gain, best gain: -inf\n",
      "[LightGBM] [Warning] No further splits with positive gain, best gain: -inf\n",
      "[LightGBM] [Warning] No further splits with positive gain, best gain: -inf\n",
      "[LightGBM] [Warning] No further splits with positive gain, best gain: -inf\n",
      "[LightGBM] [Warning] No further splits with positive gain, best gain: -inf\n",
      "[LightGBM] [Warning] No further splits with positive gain, best gain: -inf\n",
      "[LightGBM] [Warning] No further splits with positive gain, best gain: -inf\n",
      "[LightGBM] [Warning] No further splits with positive gain, best gain: -inf\n",
      "[LightGBM] [Warning] No further splits with positive gain, best gain: -inf\n",
      "[LightGBM] [Warning] No further splits with positive gain, best gain: -inf\n",
      "[LightGBM] [Warning] No further splits with positive gain, best gain: -inf\n",
      "[LightGBM] [Warning] No further splits with positive gain, best gain: -inf\n",
      "[LightGBM] [Warning] No further splits with positive gain, best gain: -inf\n",
      "[LightGBM] [Warning] No further splits with positive gain, best gain: -inf\n",
      "[LightGBM] [Warning] No further splits with positive gain, best gain: -inf\n",
      "[LightGBM] [Warning] No further splits with positive gain, best gain: -inf\n",
      "[LightGBM] [Warning] No further splits with positive gain, best gain: -inf\n",
      "[LightGBM] [Warning] No further splits with positive gain, best gain: -inf\n",
      "[LightGBM] [Warning] No further splits with positive gain, best gain: -inf\n",
      "[LightGBM] [Warning] No further splits with positive gain, best gain: -inf\n",
      "[LightGBM] [Warning] No further splits with positive gain, best gain: -inf\n",
      "[LightGBM] [Warning] No further splits with positive gain, best gain: -inf\n",
      "[LightGBM] [Warning] No further splits with positive gain, best gain: -inf\n",
      "[LightGBM] [Warning] No further splits with positive gain, best gain: -inf\n",
      "[LightGBM] [Warning] No further splits with positive gain, best gain: -inf\n",
      "[LightGBM] [Warning] No further splits with positive gain, best gain: -inf\n",
      "[LightGBM] [Warning] No further splits with positive gain, best gain: -inf\n",
      "[LightGBM] [Warning] No further splits with positive gain, best gain: -inf\n",
      "[LightGBM] [Warning] No further splits with positive gain, best gain: -inf\n",
      "[LightGBM] [Warning] No further splits with positive gain, best gain: -inf\n",
      "[LightGBM] [Warning] No further splits with positive gain, best gain: -inf\n",
      "[LightGBM] [Warning] No further splits with positive gain, best gain: -inf\n",
      "CPU times: total: 5min 34s\n",
      "Wall time: 17min 35s\n"
     ]
    },
    {
     "data": {
      "text/plain": [
       "({'max_depth': 8, 'n_estimators': 300}, 0.7306559030603339)"
      ]
     },
     "execution_count": 26,
     "metadata": {},
     "output_type": "execute_result"
    }
   ],
   "source": [
    "%%time\n",
    "\n",
    "grid_lgbm = GridSearchCV(model_lgbm, model_params, cv=5, scoring='f1', n_jobs=-1)\n",
    "\n",
    "# начальное время\n",
    "start_time = time.time()\n",
    "\n",
    "grid_lgbm.fit(tf_idf, target_train)\n",
    "\n",
    "# конечное время\n",
    "end_time = time.time()\n",
    "\n",
    "# разница между конечным и начальным временем\n",
    "elapsed_time_lgbm = end_time - start_time\n",
    "\n",
    "grid_lgbm.best_params_, grid_lgbm.best_score_"
   ]
  },
  {
   "cell_type": "markdown",
   "metadata": {},
   "source": [
    "<font color='blue'><b>Комментарий ревьюера 2: </b></font> ✔️\\\n",
    "<font color='green'> 👍</font>"
   ]
  },
  {
   "cell_type": "code",
   "execution_count": 27,
   "metadata": {},
   "outputs": [
    {
     "data": {
      "text/plain": [
       "1055.4861443042755"
      ]
     },
     "execution_count": 27,
     "metadata": {},
     "output_type": "execute_result"
    }
   ],
   "source": [
    "elapsed_time_lgbm"
   ]
  },
  {
   "cell_type": "code",
   "execution_count": 28,
   "metadata": {},
   "outputs": [
    {
     "data": {
      "text/html": [
       "<style>#sk-container-id-3 {\n",
       "  /* Definition of color scheme common for light and dark mode */\n",
       "  --sklearn-color-text: black;\n",
       "  --sklearn-color-line: gray;\n",
       "  /* Definition of color scheme for unfitted estimators */\n",
       "  --sklearn-color-unfitted-level-0: #fff5e6;\n",
       "  --sklearn-color-unfitted-level-1: #f6e4d2;\n",
       "  --sklearn-color-unfitted-level-2: #ffe0b3;\n",
       "  --sklearn-color-unfitted-level-3: chocolate;\n",
       "  /* Definition of color scheme for fitted estimators */\n",
       "  --sklearn-color-fitted-level-0: #f0f8ff;\n",
       "  --sklearn-color-fitted-level-1: #d4ebff;\n",
       "  --sklearn-color-fitted-level-2: #b3dbfd;\n",
       "  --sklearn-color-fitted-level-3: cornflowerblue;\n",
       "\n",
       "  /* Specific color for light theme */\n",
       "  --sklearn-color-text-on-default-background: var(--sg-text-color, var(--theme-code-foreground, var(--jp-content-font-color1, black)));\n",
       "  --sklearn-color-background: var(--sg-background-color, var(--theme-background, var(--jp-layout-color0, white)));\n",
       "  --sklearn-color-border-box: var(--sg-text-color, var(--theme-code-foreground, var(--jp-content-font-color1, black)));\n",
       "  --sklearn-color-icon: #696969;\n",
       "\n",
       "  @media (prefers-color-scheme: dark) {\n",
       "    /* Redefinition of color scheme for dark theme */\n",
       "    --sklearn-color-text-on-default-background: var(--sg-text-color, var(--theme-code-foreground, var(--jp-content-font-color1, white)));\n",
       "    --sklearn-color-background: var(--sg-background-color, var(--theme-background, var(--jp-layout-color0, #111)));\n",
       "    --sklearn-color-border-box: var(--sg-text-color, var(--theme-code-foreground, var(--jp-content-font-color1, white)));\n",
       "    --sklearn-color-icon: #878787;\n",
       "  }\n",
       "}\n",
       "\n",
       "#sk-container-id-3 {\n",
       "  color: var(--sklearn-color-text);\n",
       "}\n",
       "\n",
       "#sk-container-id-3 pre {\n",
       "  padding: 0;\n",
       "}\n",
       "\n",
       "#sk-container-id-3 input.sk-hidden--visually {\n",
       "  border: 0;\n",
       "  clip: rect(1px 1px 1px 1px);\n",
       "  clip: rect(1px, 1px, 1px, 1px);\n",
       "  height: 1px;\n",
       "  margin: -1px;\n",
       "  overflow: hidden;\n",
       "  padding: 0;\n",
       "  position: absolute;\n",
       "  width: 1px;\n",
       "}\n",
       "\n",
       "#sk-container-id-3 div.sk-dashed-wrapped {\n",
       "  border: 1px dashed var(--sklearn-color-line);\n",
       "  margin: 0 0.4em 0.5em 0.4em;\n",
       "  box-sizing: border-box;\n",
       "  padding-bottom: 0.4em;\n",
       "  background-color: var(--sklearn-color-background);\n",
       "}\n",
       "\n",
       "#sk-container-id-3 div.sk-container {\n",
       "  /* jupyter's `normalize.less` sets `[hidden] { display: none; }`\n",
       "     but bootstrap.min.css set `[hidden] { display: none !important; }`\n",
       "     so we also need the `!important` here to be able to override the\n",
       "     default hidden behavior on the sphinx rendered scikit-learn.org.\n",
       "     See: https://github.com/scikit-learn/scikit-learn/issues/21755 */\n",
       "  display: inline-block !important;\n",
       "  position: relative;\n",
       "}\n",
       "\n",
       "#sk-container-id-3 div.sk-text-repr-fallback {\n",
       "  display: none;\n",
       "}\n",
       "\n",
       "div.sk-parallel-item,\n",
       "div.sk-serial,\n",
       "div.sk-item {\n",
       "  /* draw centered vertical line to link estimators */\n",
       "  background-image: linear-gradient(var(--sklearn-color-text-on-default-background), var(--sklearn-color-text-on-default-background));\n",
       "  background-size: 2px 100%;\n",
       "  background-repeat: no-repeat;\n",
       "  background-position: center center;\n",
       "}\n",
       "\n",
       "/* Parallel-specific style estimator block */\n",
       "\n",
       "#sk-container-id-3 div.sk-parallel-item::after {\n",
       "  content: \"\";\n",
       "  width: 100%;\n",
       "  border-bottom: 2px solid var(--sklearn-color-text-on-default-background);\n",
       "  flex-grow: 1;\n",
       "}\n",
       "\n",
       "#sk-container-id-3 div.sk-parallel {\n",
       "  display: flex;\n",
       "  align-items: stretch;\n",
       "  justify-content: center;\n",
       "  background-color: var(--sklearn-color-background);\n",
       "  position: relative;\n",
       "}\n",
       "\n",
       "#sk-container-id-3 div.sk-parallel-item {\n",
       "  display: flex;\n",
       "  flex-direction: column;\n",
       "}\n",
       "\n",
       "#sk-container-id-3 div.sk-parallel-item:first-child::after {\n",
       "  align-self: flex-end;\n",
       "  width: 50%;\n",
       "}\n",
       "\n",
       "#sk-container-id-3 div.sk-parallel-item:last-child::after {\n",
       "  align-self: flex-start;\n",
       "  width: 50%;\n",
       "}\n",
       "\n",
       "#sk-container-id-3 div.sk-parallel-item:only-child::after {\n",
       "  width: 0;\n",
       "}\n",
       "\n",
       "/* Serial-specific style estimator block */\n",
       "\n",
       "#sk-container-id-3 div.sk-serial {\n",
       "  display: flex;\n",
       "  flex-direction: column;\n",
       "  align-items: center;\n",
       "  background-color: var(--sklearn-color-background);\n",
       "  padding-right: 1em;\n",
       "  padding-left: 1em;\n",
       "}\n",
       "\n",
       "\n",
       "/* Toggleable style: style used for estimator/Pipeline/ColumnTransformer box that is\n",
       "clickable and can be expanded/collapsed.\n",
       "- Pipeline and ColumnTransformer use this feature and define the default style\n",
       "- Estimators will overwrite some part of the style using the `sk-estimator` class\n",
       "*/\n",
       "\n",
       "/* Pipeline and ColumnTransformer style (default) */\n",
       "\n",
       "#sk-container-id-3 div.sk-toggleable {\n",
       "  /* Default theme specific background. It is overwritten whether we have a\n",
       "  specific estimator or a Pipeline/ColumnTransformer */\n",
       "  background-color: var(--sklearn-color-background);\n",
       "}\n",
       "\n",
       "/* Toggleable label */\n",
       "#sk-container-id-3 label.sk-toggleable__label {\n",
       "  cursor: pointer;\n",
       "  display: block;\n",
       "  width: 100%;\n",
       "  margin-bottom: 0;\n",
       "  padding: 0.5em;\n",
       "  box-sizing: border-box;\n",
       "  text-align: center;\n",
       "}\n",
       "\n",
       "#sk-container-id-3 label.sk-toggleable__label-arrow:before {\n",
       "  /* Arrow on the left of the label */\n",
       "  content: \"▸\";\n",
       "  float: left;\n",
       "  margin-right: 0.25em;\n",
       "  color: var(--sklearn-color-icon);\n",
       "}\n",
       "\n",
       "#sk-container-id-3 label.sk-toggleable__label-arrow:hover:before {\n",
       "  color: var(--sklearn-color-text);\n",
       "}\n",
       "\n",
       "/* Toggleable content - dropdown */\n",
       "\n",
       "#sk-container-id-3 div.sk-toggleable__content {\n",
       "  max-height: 0;\n",
       "  max-width: 0;\n",
       "  overflow: hidden;\n",
       "  text-align: left;\n",
       "  /* unfitted */\n",
       "  background-color: var(--sklearn-color-unfitted-level-0);\n",
       "}\n",
       "\n",
       "#sk-container-id-3 div.sk-toggleable__content.fitted {\n",
       "  /* fitted */\n",
       "  background-color: var(--sklearn-color-fitted-level-0);\n",
       "}\n",
       "\n",
       "#sk-container-id-3 div.sk-toggleable__content pre {\n",
       "  margin: 0.2em;\n",
       "  border-radius: 0.25em;\n",
       "  color: var(--sklearn-color-text);\n",
       "  /* unfitted */\n",
       "  background-color: var(--sklearn-color-unfitted-level-0);\n",
       "}\n",
       "\n",
       "#sk-container-id-3 div.sk-toggleable__content.fitted pre {\n",
       "  /* unfitted */\n",
       "  background-color: var(--sklearn-color-fitted-level-0);\n",
       "}\n",
       "\n",
       "#sk-container-id-3 input.sk-toggleable__control:checked~div.sk-toggleable__content {\n",
       "  /* Expand drop-down */\n",
       "  max-height: 200px;\n",
       "  max-width: 100%;\n",
       "  overflow: auto;\n",
       "}\n",
       "\n",
       "#sk-container-id-3 input.sk-toggleable__control:checked~label.sk-toggleable__label-arrow:before {\n",
       "  content: \"▾\";\n",
       "}\n",
       "\n",
       "/* Pipeline/ColumnTransformer-specific style */\n",
       "\n",
       "#sk-container-id-3 div.sk-label input.sk-toggleable__control:checked~label.sk-toggleable__label {\n",
       "  color: var(--sklearn-color-text);\n",
       "  background-color: var(--sklearn-color-unfitted-level-2);\n",
       "}\n",
       "\n",
       "#sk-container-id-3 div.sk-label.fitted input.sk-toggleable__control:checked~label.sk-toggleable__label {\n",
       "  background-color: var(--sklearn-color-fitted-level-2);\n",
       "}\n",
       "\n",
       "/* Estimator-specific style */\n",
       "\n",
       "/* Colorize estimator box */\n",
       "#sk-container-id-3 div.sk-estimator input.sk-toggleable__control:checked~label.sk-toggleable__label {\n",
       "  /* unfitted */\n",
       "  background-color: var(--sklearn-color-unfitted-level-2);\n",
       "}\n",
       "\n",
       "#sk-container-id-3 div.sk-estimator.fitted input.sk-toggleable__control:checked~label.sk-toggleable__label {\n",
       "  /* fitted */\n",
       "  background-color: var(--sklearn-color-fitted-level-2);\n",
       "}\n",
       "\n",
       "#sk-container-id-3 div.sk-label label.sk-toggleable__label,\n",
       "#sk-container-id-3 div.sk-label label {\n",
       "  /* The background is the default theme color */\n",
       "  color: var(--sklearn-color-text-on-default-background);\n",
       "}\n",
       "\n",
       "/* On hover, darken the color of the background */\n",
       "#sk-container-id-3 div.sk-label:hover label.sk-toggleable__label {\n",
       "  color: var(--sklearn-color-text);\n",
       "  background-color: var(--sklearn-color-unfitted-level-2);\n",
       "}\n",
       "\n",
       "/* Label box, darken color on hover, fitted */\n",
       "#sk-container-id-3 div.sk-label.fitted:hover label.sk-toggleable__label.fitted {\n",
       "  color: var(--sklearn-color-text);\n",
       "  background-color: var(--sklearn-color-fitted-level-2);\n",
       "}\n",
       "\n",
       "/* Estimator label */\n",
       "\n",
       "#sk-container-id-3 div.sk-label label {\n",
       "  font-family: monospace;\n",
       "  font-weight: bold;\n",
       "  display: inline-block;\n",
       "  line-height: 1.2em;\n",
       "}\n",
       "\n",
       "#sk-container-id-3 div.sk-label-container {\n",
       "  text-align: center;\n",
       "}\n",
       "\n",
       "/* Estimator-specific */\n",
       "#sk-container-id-3 div.sk-estimator {\n",
       "  font-family: monospace;\n",
       "  border: 1px dotted var(--sklearn-color-border-box);\n",
       "  border-radius: 0.25em;\n",
       "  box-sizing: border-box;\n",
       "  margin-bottom: 0.5em;\n",
       "  /* unfitted */\n",
       "  background-color: var(--sklearn-color-unfitted-level-0);\n",
       "}\n",
       "\n",
       "#sk-container-id-3 div.sk-estimator.fitted {\n",
       "  /* fitted */\n",
       "  background-color: var(--sklearn-color-fitted-level-0);\n",
       "}\n",
       "\n",
       "/* on hover */\n",
       "#sk-container-id-3 div.sk-estimator:hover {\n",
       "  /* unfitted */\n",
       "  background-color: var(--sklearn-color-unfitted-level-2);\n",
       "}\n",
       "\n",
       "#sk-container-id-3 div.sk-estimator.fitted:hover {\n",
       "  /* fitted */\n",
       "  background-color: var(--sklearn-color-fitted-level-2);\n",
       "}\n",
       "\n",
       "/* Specification for estimator info (e.g. \"i\" and \"?\") */\n",
       "\n",
       "/* Common style for \"i\" and \"?\" */\n",
       "\n",
       ".sk-estimator-doc-link,\n",
       "a:link.sk-estimator-doc-link,\n",
       "a:visited.sk-estimator-doc-link {\n",
       "  float: right;\n",
       "  font-size: smaller;\n",
       "  line-height: 1em;\n",
       "  font-family: monospace;\n",
       "  background-color: var(--sklearn-color-background);\n",
       "  border-radius: 1em;\n",
       "  height: 1em;\n",
       "  width: 1em;\n",
       "  text-decoration: none !important;\n",
       "  margin-left: 1ex;\n",
       "  /* unfitted */\n",
       "  border: var(--sklearn-color-unfitted-level-1) 1pt solid;\n",
       "  color: var(--sklearn-color-unfitted-level-1);\n",
       "}\n",
       "\n",
       ".sk-estimator-doc-link.fitted,\n",
       "a:link.sk-estimator-doc-link.fitted,\n",
       "a:visited.sk-estimator-doc-link.fitted {\n",
       "  /* fitted */\n",
       "  border: var(--sklearn-color-fitted-level-1) 1pt solid;\n",
       "  color: var(--sklearn-color-fitted-level-1);\n",
       "}\n",
       "\n",
       "/* On hover */\n",
       "div.sk-estimator:hover .sk-estimator-doc-link:hover,\n",
       ".sk-estimator-doc-link:hover,\n",
       "div.sk-label-container:hover .sk-estimator-doc-link:hover,\n",
       ".sk-estimator-doc-link:hover {\n",
       "  /* unfitted */\n",
       "  background-color: var(--sklearn-color-unfitted-level-3);\n",
       "  color: var(--sklearn-color-background);\n",
       "  text-decoration: none;\n",
       "}\n",
       "\n",
       "div.sk-estimator.fitted:hover .sk-estimator-doc-link.fitted:hover,\n",
       ".sk-estimator-doc-link.fitted:hover,\n",
       "div.sk-label-container:hover .sk-estimator-doc-link.fitted:hover,\n",
       ".sk-estimator-doc-link.fitted:hover {\n",
       "  /* fitted */\n",
       "  background-color: var(--sklearn-color-fitted-level-3);\n",
       "  color: var(--sklearn-color-background);\n",
       "  text-decoration: none;\n",
       "}\n",
       "\n",
       "/* Span, style for the box shown on hovering the info icon */\n",
       ".sk-estimator-doc-link span {\n",
       "  display: none;\n",
       "  z-index: 9999;\n",
       "  position: relative;\n",
       "  font-weight: normal;\n",
       "  right: .2ex;\n",
       "  padding: .5ex;\n",
       "  margin: .5ex;\n",
       "  width: min-content;\n",
       "  min-width: 20ex;\n",
       "  max-width: 50ex;\n",
       "  color: var(--sklearn-color-text);\n",
       "  box-shadow: 2pt 2pt 4pt #999;\n",
       "  /* unfitted */\n",
       "  background: var(--sklearn-color-unfitted-level-0);\n",
       "  border: .5pt solid var(--sklearn-color-unfitted-level-3);\n",
       "}\n",
       "\n",
       ".sk-estimator-doc-link.fitted span {\n",
       "  /* fitted */\n",
       "  background: var(--sklearn-color-fitted-level-0);\n",
       "  border: var(--sklearn-color-fitted-level-3);\n",
       "}\n",
       "\n",
       ".sk-estimator-doc-link:hover span {\n",
       "  display: block;\n",
       "}\n",
       "\n",
       "/* \"?\"-specific style due to the `<a>` HTML tag */\n",
       "\n",
       "#sk-container-id-3 a.estimator_doc_link {\n",
       "  float: right;\n",
       "  font-size: 1rem;\n",
       "  line-height: 1em;\n",
       "  font-family: monospace;\n",
       "  background-color: var(--sklearn-color-background);\n",
       "  border-radius: 1rem;\n",
       "  height: 1rem;\n",
       "  width: 1rem;\n",
       "  text-decoration: none;\n",
       "  /* unfitted */\n",
       "  color: var(--sklearn-color-unfitted-level-1);\n",
       "  border: var(--sklearn-color-unfitted-level-1) 1pt solid;\n",
       "}\n",
       "\n",
       "#sk-container-id-3 a.estimator_doc_link.fitted {\n",
       "  /* fitted */\n",
       "  border: var(--sklearn-color-fitted-level-1) 1pt solid;\n",
       "  color: var(--sklearn-color-fitted-level-1);\n",
       "}\n",
       "\n",
       "/* On hover */\n",
       "#sk-container-id-3 a.estimator_doc_link:hover {\n",
       "  /* unfitted */\n",
       "  background-color: var(--sklearn-color-unfitted-level-3);\n",
       "  color: var(--sklearn-color-background);\n",
       "  text-decoration: none;\n",
       "}\n",
       "\n",
       "#sk-container-id-3 a.estimator_doc_link.fitted:hover {\n",
       "  /* fitted */\n",
       "  background-color: var(--sklearn-color-fitted-level-3);\n",
       "}\n",
       "</style><div id=\"sk-container-id-3\" class=\"sk-top-container\"><div class=\"sk-text-repr-fallback\"><pre>LGBMClassifier(class_weight=&#x27;balanced&#x27;, max_depth=8, n_estimators=300,\n",
       "               n_jobs=-1)</pre><b>In a Jupyter environment, please rerun this cell to show the HTML representation or trust the notebook. <br />On GitHub, the HTML representation is unable to render, please try loading this page with nbviewer.org.</b></div><div class=\"sk-container\" hidden><div class=\"sk-item\"><div class=\"sk-estimator fitted sk-toggleable\"><input class=\"sk-toggleable__control sk-hidden--visually\" id=\"sk-estimator-id-3\" type=\"checkbox\" checked><label for=\"sk-estimator-id-3\" class=\"sk-toggleable__label fitted sk-toggleable__label-arrow fitted\">&nbsp;LGBMClassifier<span class=\"sk-estimator-doc-link fitted\">i<span>Fitted</span></span></label><div class=\"sk-toggleable__content fitted\"><pre>LGBMClassifier(class_weight=&#x27;balanced&#x27;, max_depth=8, n_estimators=300,\n",
       "               n_jobs=-1)</pre></div> </div></div></div></div>"
      ],
      "text/plain": [
       "LGBMClassifier(class_weight='balanced', max_depth=8, n_estimators=300,\n",
       "               n_jobs=-1)"
      ]
     },
     "execution_count": 28,
     "metadata": {},
     "output_type": "execute_result"
    }
   ],
   "source": [
    "grid_lgbm.best_estimator_"
   ]
  },
  {
   "cell_type": "markdown",
   "metadata": {},
   "source": [
    "**Вывод**\n",
    "\n",
    "Модель LightGBM основана на ансамбле деревьев. Возможно поэтому данная модель хуже справилась с задачей. Метрика F1=0.75. Также время обучения значительно выше."
   ]
  },
  {
   "cell_type": "markdown",
   "metadata": {},
   "source": [
    "### SVM"
   ]
  },
  {
   "cell_type": "markdown",
   "metadata": {},
   "source": [
    "Обучим модель опорных векторов. Для подбора параметров используем GridSearchCV. Также зафиксируем время обучения модели."
   ]
  },
  {
   "cell_type": "code",
   "execution_count": 29,
   "metadata": {},
   "outputs": [
    {
     "name": "stdout",
     "output_type": "stream",
     "text": [
      "CPU times: total: 37min 4s\n",
      "Wall time: 2h 20min 5s\n"
     ]
    }
   ],
   "source": [
    "%%time\n",
    "\n",
    "model_SVC = svm.SVC(class_weight = 'balanced', kernel = 'rbf', random_state=1234)\n",
    "\n",
    "# defining parameter range \n",
    "param_grid = {'C': [100, 1000],\n",
    "              'gamma': [0.001, 0.0001]} \n",
    "\n",
    "grid_SVC = GridSearchCV(model_SVC, param_grid, cv=5, scoring='f1', n_jobs=-1)\n",
    "\n",
    "# начальное время\n",
    "start_time = time.time()\n",
    "\n",
    "# fitting the model for grid search \n",
    "grid_SVC.fit(tf_idf, target_train)\n",
    "\n",
    "# конечное время\n",
    "end_time = time.time()\n",
    "\n",
    "# разница между конечным и начальным временем\n",
    "elapsed_time_SVC = end_time - start_time"
   ]
  },
  {
   "cell_type": "code",
   "execution_count": 30,
   "metadata": {},
   "outputs": [
    {
     "data": {
      "text/plain": [
       "8405.30306339264"
      ]
     },
     "execution_count": 30,
     "metadata": {},
     "output_type": "execute_result"
    }
   ],
   "source": [
    "elapsed_time_SVC"
   ]
  },
  {
   "cell_type": "code",
   "execution_count": 31,
   "metadata": {},
   "outputs": [
    {
     "data": {
      "text/html": [
       "<style>#sk-container-id-4 {\n",
       "  /* Definition of color scheme common for light and dark mode */\n",
       "  --sklearn-color-text: black;\n",
       "  --sklearn-color-line: gray;\n",
       "  /* Definition of color scheme for unfitted estimators */\n",
       "  --sklearn-color-unfitted-level-0: #fff5e6;\n",
       "  --sklearn-color-unfitted-level-1: #f6e4d2;\n",
       "  --sklearn-color-unfitted-level-2: #ffe0b3;\n",
       "  --sklearn-color-unfitted-level-3: chocolate;\n",
       "  /* Definition of color scheme for fitted estimators */\n",
       "  --sklearn-color-fitted-level-0: #f0f8ff;\n",
       "  --sklearn-color-fitted-level-1: #d4ebff;\n",
       "  --sklearn-color-fitted-level-2: #b3dbfd;\n",
       "  --sklearn-color-fitted-level-3: cornflowerblue;\n",
       "\n",
       "  /* Specific color for light theme */\n",
       "  --sklearn-color-text-on-default-background: var(--sg-text-color, var(--theme-code-foreground, var(--jp-content-font-color1, black)));\n",
       "  --sklearn-color-background: var(--sg-background-color, var(--theme-background, var(--jp-layout-color0, white)));\n",
       "  --sklearn-color-border-box: var(--sg-text-color, var(--theme-code-foreground, var(--jp-content-font-color1, black)));\n",
       "  --sklearn-color-icon: #696969;\n",
       "\n",
       "  @media (prefers-color-scheme: dark) {\n",
       "    /* Redefinition of color scheme for dark theme */\n",
       "    --sklearn-color-text-on-default-background: var(--sg-text-color, var(--theme-code-foreground, var(--jp-content-font-color1, white)));\n",
       "    --sklearn-color-background: var(--sg-background-color, var(--theme-background, var(--jp-layout-color0, #111)));\n",
       "    --sklearn-color-border-box: var(--sg-text-color, var(--theme-code-foreground, var(--jp-content-font-color1, white)));\n",
       "    --sklearn-color-icon: #878787;\n",
       "  }\n",
       "}\n",
       "\n",
       "#sk-container-id-4 {\n",
       "  color: var(--sklearn-color-text);\n",
       "}\n",
       "\n",
       "#sk-container-id-4 pre {\n",
       "  padding: 0;\n",
       "}\n",
       "\n",
       "#sk-container-id-4 input.sk-hidden--visually {\n",
       "  border: 0;\n",
       "  clip: rect(1px 1px 1px 1px);\n",
       "  clip: rect(1px, 1px, 1px, 1px);\n",
       "  height: 1px;\n",
       "  margin: -1px;\n",
       "  overflow: hidden;\n",
       "  padding: 0;\n",
       "  position: absolute;\n",
       "  width: 1px;\n",
       "}\n",
       "\n",
       "#sk-container-id-4 div.sk-dashed-wrapped {\n",
       "  border: 1px dashed var(--sklearn-color-line);\n",
       "  margin: 0 0.4em 0.5em 0.4em;\n",
       "  box-sizing: border-box;\n",
       "  padding-bottom: 0.4em;\n",
       "  background-color: var(--sklearn-color-background);\n",
       "}\n",
       "\n",
       "#sk-container-id-4 div.sk-container {\n",
       "  /* jupyter's `normalize.less` sets `[hidden] { display: none; }`\n",
       "     but bootstrap.min.css set `[hidden] { display: none !important; }`\n",
       "     so we also need the `!important` here to be able to override the\n",
       "     default hidden behavior on the sphinx rendered scikit-learn.org.\n",
       "     See: https://github.com/scikit-learn/scikit-learn/issues/21755 */\n",
       "  display: inline-block !important;\n",
       "  position: relative;\n",
       "}\n",
       "\n",
       "#sk-container-id-4 div.sk-text-repr-fallback {\n",
       "  display: none;\n",
       "}\n",
       "\n",
       "div.sk-parallel-item,\n",
       "div.sk-serial,\n",
       "div.sk-item {\n",
       "  /* draw centered vertical line to link estimators */\n",
       "  background-image: linear-gradient(var(--sklearn-color-text-on-default-background), var(--sklearn-color-text-on-default-background));\n",
       "  background-size: 2px 100%;\n",
       "  background-repeat: no-repeat;\n",
       "  background-position: center center;\n",
       "}\n",
       "\n",
       "/* Parallel-specific style estimator block */\n",
       "\n",
       "#sk-container-id-4 div.sk-parallel-item::after {\n",
       "  content: \"\";\n",
       "  width: 100%;\n",
       "  border-bottom: 2px solid var(--sklearn-color-text-on-default-background);\n",
       "  flex-grow: 1;\n",
       "}\n",
       "\n",
       "#sk-container-id-4 div.sk-parallel {\n",
       "  display: flex;\n",
       "  align-items: stretch;\n",
       "  justify-content: center;\n",
       "  background-color: var(--sklearn-color-background);\n",
       "  position: relative;\n",
       "}\n",
       "\n",
       "#sk-container-id-4 div.sk-parallel-item {\n",
       "  display: flex;\n",
       "  flex-direction: column;\n",
       "}\n",
       "\n",
       "#sk-container-id-4 div.sk-parallel-item:first-child::after {\n",
       "  align-self: flex-end;\n",
       "  width: 50%;\n",
       "}\n",
       "\n",
       "#sk-container-id-4 div.sk-parallel-item:last-child::after {\n",
       "  align-self: flex-start;\n",
       "  width: 50%;\n",
       "}\n",
       "\n",
       "#sk-container-id-4 div.sk-parallel-item:only-child::after {\n",
       "  width: 0;\n",
       "}\n",
       "\n",
       "/* Serial-specific style estimator block */\n",
       "\n",
       "#sk-container-id-4 div.sk-serial {\n",
       "  display: flex;\n",
       "  flex-direction: column;\n",
       "  align-items: center;\n",
       "  background-color: var(--sklearn-color-background);\n",
       "  padding-right: 1em;\n",
       "  padding-left: 1em;\n",
       "}\n",
       "\n",
       "\n",
       "/* Toggleable style: style used for estimator/Pipeline/ColumnTransformer box that is\n",
       "clickable and can be expanded/collapsed.\n",
       "- Pipeline and ColumnTransformer use this feature and define the default style\n",
       "- Estimators will overwrite some part of the style using the `sk-estimator` class\n",
       "*/\n",
       "\n",
       "/* Pipeline and ColumnTransformer style (default) */\n",
       "\n",
       "#sk-container-id-4 div.sk-toggleable {\n",
       "  /* Default theme specific background. It is overwritten whether we have a\n",
       "  specific estimator or a Pipeline/ColumnTransformer */\n",
       "  background-color: var(--sklearn-color-background);\n",
       "}\n",
       "\n",
       "/* Toggleable label */\n",
       "#sk-container-id-4 label.sk-toggleable__label {\n",
       "  cursor: pointer;\n",
       "  display: block;\n",
       "  width: 100%;\n",
       "  margin-bottom: 0;\n",
       "  padding: 0.5em;\n",
       "  box-sizing: border-box;\n",
       "  text-align: center;\n",
       "}\n",
       "\n",
       "#sk-container-id-4 label.sk-toggleable__label-arrow:before {\n",
       "  /* Arrow on the left of the label */\n",
       "  content: \"▸\";\n",
       "  float: left;\n",
       "  margin-right: 0.25em;\n",
       "  color: var(--sklearn-color-icon);\n",
       "}\n",
       "\n",
       "#sk-container-id-4 label.sk-toggleable__label-arrow:hover:before {\n",
       "  color: var(--sklearn-color-text);\n",
       "}\n",
       "\n",
       "/* Toggleable content - dropdown */\n",
       "\n",
       "#sk-container-id-4 div.sk-toggleable__content {\n",
       "  max-height: 0;\n",
       "  max-width: 0;\n",
       "  overflow: hidden;\n",
       "  text-align: left;\n",
       "  /* unfitted */\n",
       "  background-color: var(--sklearn-color-unfitted-level-0);\n",
       "}\n",
       "\n",
       "#sk-container-id-4 div.sk-toggleable__content.fitted {\n",
       "  /* fitted */\n",
       "  background-color: var(--sklearn-color-fitted-level-0);\n",
       "}\n",
       "\n",
       "#sk-container-id-4 div.sk-toggleable__content pre {\n",
       "  margin: 0.2em;\n",
       "  border-radius: 0.25em;\n",
       "  color: var(--sklearn-color-text);\n",
       "  /* unfitted */\n",
       "  background-color: var(--sklearn-color-unfitted-level-0);\n",
       "}\n",
       "\n",
       "#sk-container-id-4 div.sk-toggleable__content.fitted pre {\n",
       "  /* unfitted */\n",
       "  background-color: var(--sklearn-color-fitted-level-0);\n",
       "}\n",
       "\n",
       "#sk-container-id-4 input.sk-toggleable__control:checked~div.sk-toggleable__content {\n",
       "  /* Expand drop-down */\n",
       "  max-height: 200px;\n",
       "  max-width: 100%;\n",
       "  overflow: auto;\n",
       "}\n",
       "\n",
       "#sk-container-id-4 input.sk-toggleable__control:checked~label.sk-toggleable__label-arrow:before {\n",
       "  content: \"▾\";\n",
       "}\n",
       "\n",
       "/* Pipeline/ColumnTransformer-specific style */\n",
       "\n",
       "#sk-container-id-4 div.sk-label input.sk-toggleable__control:checked~label.sk-toggleable__label {\n",
       "  color: var(--sklearn-color-text);\n",
       "  background-color: var(--sklearn-color-unfitted-level-2);\n",
       "}\n",
       "\n",
       "#sk-container-id-4 div.sk-label.fitted input.sk-toggleable__control:checked~label.sk-toggleable__label {\n",
       "  background-color: var(--sklearn-color-fitted-level-2);\n",
       "}\n",
       "\n",
       "/* Estimator-specific style */\n",
       "\n",
       "/* Colorize estimator box */\n",
       "#sk-container-id-4 div.sk-estimator input.sk-toggleable__control:checked~label.sk-toggleable__label {\n",
       "  /* unfitted */\n",
       "  background-color: var(--sklearn-color-unfitted-level-2);\n",
       "}\n",
       "\n",
       "#sk-container-id-4 div.sk-estimator.fitted input.sk-toggleable__control:checked~label.sk-toggleable__label {\n",
       "  /* fitted */\n",
       "  background-color: var(--sklearn-color-fitted-level-2);\n",
       "}\n",
       "\n",
       "#sk-container-id-4 div.sk-label label.sk-toggleable__label,\n",
       "#sk-container-id-4 div.sk-label label {\n",
       "  /* The background is the default theme color */\n",
       "  color: var(--sklearn-color-text-on-default-background);\n",
       "}\n",
       "\n",
       "/* On hover, darken the color of the background */\n",
       "#sk-container-id-4 div.sk-label:hover label.sk-toggleable__label {\n",
       "  color: var(--sklearn-color-text);\n",
       "  background-color: var(--sklearn-color-unfitted-level-2);\n",
       "}\n",
       "\n",
       "/* Label box, darken color on hover, fitted */\n",
       "#sk-container-id-4 div.sk-label.fitted:hover label.sk-toggleable__label.fitted {\n",
       "  color: var(--sklearn-color-text);\n",
       "  background-color: var(--sklearn-color-fitted-level-2);\n",
       "}\n",
       "\n",
       "/* Estimator label */\n",
       "\n",
       "#sk-container-id-4 div.sk-label label {\n",
       "  font-family: monospace;\n",
       "  font-weight: bold;\n",
       "  display: inline-block;\n",
       "  line-height: 1.2em;\n",
       "}\n",
       "\n",
       "#sk-container-id-4 div.sk-label-container {\n",
       "  text-align: center;\n",
       "}\n",
       "\n",
       "/* Estimator-specific */\n",
       "#sk-container-id-4 div.sk-estimator {\n",
       "  font-family: monospace;\n",
       "  border: 1px dotted var(--sklearn-color-border-box);\n",
       "  border-radius: 0.25em;\n",
       "  box-sizing: border-box;\n",
       "  margin-bottom: 0.5em;\n",
       "  /* unfitted */\n",
       "  background-color: var(--sklearn-color-unfitted-level-0);\n",
       "}\n",
       "\n",
       "#sk-container-id-4 div.sk-estimator.fitted {\n",
       "  /* fitted */\n",
       "  background-color: var(--sklearn-color-fitted-level-0);\n",
       "}\n",
       "\n",
       "/* on hover */\n",
       "#sk-container-id-4 div.sk-estimator:hover {\n",
       "  /* unfitted */\n",
       "  background-color: var(--sklearn-color-unfitted-level-2);\n",
       "}\n",
       "\n",
       "#sk-container-id-4 div.sk-estimator.fitted:hover {\n",
       "  /* fitted */\n",
       "  background-color: var(--sklearn-color-fitted-level-2);\n",
       "}\n",
       "\n",
       "/* Specification for estimator info (e.g. \"i\" and \"?\") */\n",
       "\n",
       "/* Common style for \"i\" and \"?\" */\n",
       "\n",
       ".sk-estimator-doc-link,\n",
       "a:link.sk-estimator-doc-link,\n",
       "a:visited.sk-estimator-doc-link {\n",
       "  float: right;\n",
       "  font-size: smaller;\n",
       "  line-height: 1em;\n",
       "  font-family: monospace;\n",
       "  background-color: var(--sklearn-color-background);\n",
       "  border-radius: 1em;\n",
       "  height: 1em;\n",
       "  width: 1em;\n",
       "  text-decoration: none !important;\n",
       "  margin-left: 1ex;\n",
       "  /* unfitted */\n",
       "  border: var(--sklearn-color-unfitted-level-1) 1pt solid;\n",
       "  color: var(--sklearn-color-unfitted-level-1);\n",
       "}\n",
       "\n",
       ".sk-estimator-doc-link.fitted,\n",
       "a:link.sk-estimator-doc-link.fitted,\n",
       "a:visited.sk-estimator-doc-link.fitted {\n",
       "  /* fitted */\n",
       "  border: var(--sklearn-color-fitted-level-1) 1pt solid;\n",
       "  color: var(--sklearn-color-fitted-level-1);\n",
       "}\n",
       "\n",
       "/* On hover */\n",
       "div.sk-estimator:hover .sk-estimator-doc-link:hover,\n",
       ".sk-estimator-doc-link:hover,\n",
       "div.sk-label-container:hover .sk-estimator-doc-link:hover,\n",
       ".sk-estimator-doc-link:hover {\n",
       "  /* unfitted */\n",
       "  background-color: var(--sklearn-color-unfitted-level-3);\n",
       "  color: var(--sklearn-color-background);\n",
       "  text-decoration: none;\n",
       "}\n",
       "\n",
       "div.sk-estimator.fitted:hover .sk-estimator-doc-link.fitted:hover,\n",
       ".sk-estimator-doc-link.fitted:hover,\n",
       "div.sk-label-container:hover .sk-estimator-doc-link.fitted:hover,\n",
       ".sk-estimator-doc-link.fitted:hover {\n",
       "  /* fitted */\n",
       "  background-color: var(--sklearn-color-fitted-level-3);\n",
       "  color: var(--sklearn-color-background);\n",
       "  text-decoration: none;\n",
       "}\n",
       "\n",
       "/* Span, style for the box shown on hovering the info icon */\n",
       ".sk-estimator-doc-link span {\n",
       "  display: none;\n",
       "  z-index: 9999;\n",
       "  position: relative;\n",
       "  font-weight: normal;\n",
       "  right: .2ex;\n",
       "  padding: .5ex;\n",
       "  margin: .5ex;\n",
       "  width: min-content;\n",
       "  min-width: 20ex;\n",
       "  max-width: 50ex;\n",
       "  color: var(--sklearn-color-text);\n",
       "  box-shadow: 2pt 2pt 4pt #999;\n",
       "  /* unfitted */\n",
       "  background: var(--sklearn-color-unfitted-level-0);\n",
       "  border: .5pt solid var(--sklearn-color-unfitted-level-3);\n",
       "}\n",
       "\n",
       ".sk-estimator-doc-link.fitted span {\n",
       "  /* fitted */\n",
       "  background: var(--sklearn-color-fitted-level-0);\n",
       "  border: var(--sklearn-color-fitted-level-3);\n",
       "}\n",
       "\n",
       ".sk-estimator-doc-link:hover span {\n",
       "  display: block;\n",
       "}\n",
       "\n",
       "/* \"?\"-specific style due to the `<a>` HTML tag */\n",
       "\n",
       "#sk-container-id-4 a.estimator_doc_link {\n",
       "  float: right;\n",
       "  font-size: 1rem;\n",
       "  line-height: 1em;\n",
       "  font-family: monospace;\n",
       "  background-color: var(--sklearn-color-background);\n",
       "  border-radius: 1rem;\n",
       "  height: 1rem;\n",
       "  width: 1rem;\n",
       "  text-decoration: none;\n",
       "  /* unfitted */\n",
       "  color: var(--sklearn-color-unfitted-level-1);\n",
       "  border: var(--sklearn-color-unfitted-level-1) 1pt solid;\n",
       "}\n",
       "\n",
       "#sk-container-id-4 a.estimator_doc_link.fitted {\n",
       "  /* fitted */\n",
       "  border: var(--sklearn-color-fitted-level-1) 1pt solid;\n",
       "  color: var(--sklearn-color-fitted-level-1);\n",
       "}\n",
       "\n",
       "/* On hover */\n",
       "#sk-container-id-4 a.estimator_doc_link:hover {\n",
       "  /* unfitted */\n",
       "  background-color: var(--sklearn-color-unfitted-level-3);\n",
       "  color: var(--sklearn-color-background);\n",
       "  text-decoration: none;\n",
       "}\n",
       "\n",
       "#sk-container-id-4 a.estimator_doc_link.fitted:hover {\n",
       "  /* fitted */\n",
       "  background-color: var(--sklearn-color-fitted-level-3);\n",
       "}\n",
       "</style><div id=\"sk-container-id-4\" class=\"sk-top-container\"><div class=\"sk-text-repr-fallback\"><pre>SVC(C=1000, class_weight=&#x27;balanced&#x27;, gamma=0.001, random_state=1234)</pre><b>In a Jupyter environment, please rerun this cell to show the HTML representation or trust the notebook. <br />On GitHub, the HTML representation is unable to render, please try loading this page with nbviewer.org.</b></div><div class=\"sk-container\" hidden><div class=\"sk-item\"><div class=\"sk-estimator fitted sk-toggleable\"><input class=\"sk-toggleable__control sk-hidden--visually\" id=\"sk-estimator-id-4\" type=\"checkbox\" checked><label for=\"sk-estimator-id-4\" class=\"sk-toggleable__label fitted sk-toggleable__label-arrow fitted\">&nbsp;&nbsp;SVC<a class=\"sk-estimator-doc-link fitted\" rel=\"noreferrer\" target=\"_blank\" href=\"https://scikit-learn.org/1.4/modules/generated/sklearn.svm.SVC.html\">?<span>Documentation for SVC</span></a><span class=\"sk-estimator-doc-link fitted\">i<span>Fitted</span></span></label><div class=\"sk-toggleable__content fitted\"><pre>SVC(C=1000, class_weight=&#x27;balanced&#x27;, gamma=0.001, random_state=1234)</pre></div> </div></div></div></div>"
      ],
      "text/plain": [
       "SVC(C=1000, class_weight='balanced', gamma=0.001, random_state=1234)"
      ]
     },
     "execution_count": 31,
     "metadata": {},
     "output_type": "execute_result"
    }
   ],
   "source": [
    "grid_SVC.best_estimator_"
   ]
  },
  {
   "cell_type": "code",
   "execution_count": 32,
   "metadata": {},
   "outputs": [
    {
     "data": {
      "text/plain": [
       "({'C': 1000, 'gamma': 0.001}, 0.7638680544367391)"
      ]
     },
     "execution_count": 32,
     "metadata": {},
     "output_type": "execute_result"
    }
   ],
   "source": [
    "grid_SVC.best_params_, grid_SVC.best_score_"
   ]
  },
  {
   "cell_type": "code",
   "execution_count": 33,
   "metadata": {},
   "outputs": [
    {
     "data": {
      "text/html": [
       "<style>#sk-container-id-5 {\n",
       "  /* Definition of color scheme common for light and dark mode */\n",
       "  --sklearn-color-text: black;\n",
       "  --sklearn-color-line: gray;\n",
       "  /* Definition of color scheme for unfitted estimators */\n",
       "  --sklearn-color-unfitted-level-0: #fff5e6;\n",
       "  --sklearn-color-unfitted-level-1: #f6e4d2;\n",
       "  --sklearn-color-unfitted-level-2: #ffe0b3;\n",
       "  --sklearn-color-unfitted-level-3: chocolate;\n",
       "  /* Definition of color scheme for fitted estimators */\n",
       "  --sklearn-color-fitted-level-0: #f0f8ff;\n",
       "  --sklearn-color-fitted-level-1: #d4ebff;\n",
       "  --sklearn-color-fitted-level-2: #b3dbfd;\n",
       "  --sklearn-color-fitted-level-3: cornflowerblue;\n",
       "\n",
       "  /* Specific color for light theme */\n",
       "  --sklearn-color-text-on-default-background: var(--sg-text-color, var(--theme-code-foreground, var(--jp-content-font-color1, black)));\n",
       "  --sklearn-color-background: var(--sg-background-color, var(--theme-background, var(--jp-layout-color0, white)));\n",
       "  --sklearn-color-border-box: var(--sg-text-color, var(--theme-code-foreground, var(--jp-content-font-color1, black)));\n",
       "  --sklearn-color-icon: #696969;\n",
       "\n",
       "  @media (prefers-color-scheme: dark) {\n",
       "    /* Redefinition of color scheme for dark theme */\n",
       "    --sklearn-color-text-on-default-background: var(--sg-text-color, var(--theme-code-foreground, var(--jp-content-font-color1, white)));\n",
       "    --sklearn-color-background: var(--sg-background-color, var(--theme-background, var(--jp-layout-color0, #111)));\n",
       "    --sklearn-color-border-box: var(--sg-text-color, var(--theme-code-foreground, var(--jp-content-font-color1, white)));\n",
       "    --sklearn-color-icon: #878787;\n",
       "  }\n",
       "}\n",
       "\n",
       "#sk-container-id-5 {\n",
       "  color: var(--sklearn-color-text);\n",
       "}\n",
       "\n",
       "#sk-container-id-5 pre {\n",
       "  padding: 0;\n",
       "}\n",
       "\n",
       "#sk-container-id-5 input.sk-hidden--visually {\n",
       "  border: 0;\n",
       "  clip: rect(1px 1px 1px 1px);\n",
       "  clip: rect(1px, 1px, 1px, 1px);\n",
       "  height: 1px;\n",
       "  margin: -1px;\n",
       "  overflow: hidden;\n",
       "  padding: 0;\n",
       "  position: absolute;\n",
       "  width: 1px;\n",
       "}\n",
       "\n",
       "#sk-container-id-5 div.sk-dashed-wrapped {\n",
       "  border: 1px dashed var(--sklearn-color-line);\n",
       "  margin: 0 0.4em 0.5em 0.4em;\n",
       "  box-sizing: border-box;\n",
       "  padding-bottom: 0.4em;\n",
       "  background-color: var(--sklearn-color-background);\n",
       "}\n",
       "\n",
       "#sk-container-id-5 div.sk-container {\n",
       "  /* jupyter's `normalize.less` sets `[hidden] { display: none; }`\n",
       "     but bootstrap.min.css set `[hidden] { display: none !important; }`\n",
       "     so we also need the `!important` here to be able to override the\n",
       "     default hidden behavior on the sphinx rendered scikit-learn.org.\n",
       "     See: https://github.com/scikit-learn/scikit-learn/issues/21755 */\n",
       "  display: inline-block !important;\n",
       "  position: relative;\n",
       "}\n",
       "\n",
       "#sk-container-id-5 div.sk-text-repr-fallback {\n",
       "  display: none;\n",
       "}\n",
       "\n",
       "div.sk-parallel-item,\n",
       "div.sk-serial,\n",
       "div.sk-item {\n",
       "  /* draw centered vertical line to link estimators */\n",
       "  background-image: linear-gradient(var(--sklearn-color-text-on-default-background), var(--sklearn-color-text-on-default-background));\n",
       "  background-size: 2px 100%;\n",
       "  background-repeat: no-repeat;\n",
       "  background-position: center center;\n",
       "}\n",
       "\n",
       "/* Parallel-specific style estimator block */\n",
       "\n",
       "#sk-container-id-5 div.sk-parallel-item::after {\n",
       "  content: \"\";\n",
       "  width: 100%;\n",
       "  border-bottom: 2px solid var(--sklearn-color-text-on-default-background);\n",
       "  flex-grow: 1;\n",
       "}\n",
       "\n",
       "#sk-container-id-5 div.sk-parallel {\n",
       "  display: flex;\n",
       "  align-items: stretch;\n",
       "  justify-content: center;\n",
       "  background-color: var(--sklearn-color-background);\n",
       "  position: relative;\n",
       "}\n",
       "\n",
       "#sk-container-id-5 div.sk-parallel-item {\n",
       "  display: flex;\n",
       "  flex-direction: column;\n",
       "}\n",
       "\n",
       "#sk-container-id-5 div.sk-parallel-item:first-child::after {\n",
       "  align-self: flex-end;\n",
       "  width: 50%;\n",
       "}\n",
       "\n",
       "#sk-container-id-5 div.sk-parallel-item:last-child::after {\n",
       "  align-self: flex-start;\n",
       "  width: 50%;\n",
       "}\n",
       "\n",
       "#sk-container-id-5 div.sk-parallel-item:only-child::after {\n",
       "  width: 0;\n",
       "}\n",
       "\n",
       "/* Serial-specific style estimator block */\n",
       "\n",
       "#sk-container-id-5 div.sk-serial {\n",
       "  display: flex;\n",
       "  flex-direction: column;\n",
       "  align-items: center;\n",
       "  background-color: var(--sklearn-color-background);\n",
       "  padding-right: 1em;\n",
       "  padding-left: 1em;\n",
       "}\n",
       "\n",
       "\n",
       "/* Toggleable style: style used for estimator/Pipeline/ColumnTransformer box that is\n",
       "clickable and can be expanded/collapsed.\n",
       "- Pipeline and ColumnTransformer use this feature and define the default style\n",
       "- Estimators will overwrite some part of the style using the `sk-estimator` class\n",
       "*/\n",
       "\n",
       "/* Pipeline and ColumnTransformer style (default) */\n",
       "\n",
       "#sk-container-id-5 div.sk-toggleable {\n",
       "  /* Default theme specific background. It is overwritten whether we have a\n",
       "  specific estimator or a Pipeline/ColumnTransformer */\n",
       "  background-color: var(--sklearn-color-background);\n",
       "}\n",
       "\n",
       "/* Toggleable label */\n",
       "#sk-container-id-5 label.sk-toggleable__label {\n",
       "  cursor: pointer;\n",
       "  display: block;\n",
       "  width: 100%;\n",
       "  margin-bottom: 0;\n",
       "  padding: 0.5em;\n",
       "  box-sizing: border-box;\n",
       "  text-align: center;\n",
       "}\n",
       "\n",
       "#sk-container-id-5 label.sk-toggleable__label-arrow:before {\n",
       "  /* Arrow on the left of the label */\n",
       "  content: \"▸\";\n",
       "  float: left;\n",
       "  margin-right: 0.25em;\n",
       "  color: var(--sklearn-color-icon);\n",
       "}\n",
       "\n",
       "#sk-container-id-5 label.sk-toggleable__label-arrow:hover:before {\n",
       "  color: var(--sklearn-color-text);\n",
       "}\n",
       "\n",
       "/* Toggleable content - dropdown */\n",
       "\n",
       "#sk-container-id-5 div.sk-toggleable__content {\n",
       "  max-height: 0;\n",
       "  max-width: 0;\n",
       "  overflow: hidden;\n",
       "  text-align: left;\n",
       "  /* unfitted */\n",
       "  background-color: var(--sklearn-color-unfitted-level-0);\n",
       "}\n",
       "\n",
       "#sk-container-id-5 div.sk-toggleable__content.fitted {\n",
       "  /* fitted */\n",
       "  background-color: var(--sklearn-color-fitted-level-0);\n",
       "}\n",
       "\n",
       "#sk-container-id-5 div.sk-toggleable__content pre {\n",
       "  margin: 0.2em;\n",
       "  border-radius: 0.25em;\n",
       "  color: var(--sklearn-color-text);\n",
       "  /* unfitted */\n",
       "  background-color: var(--sklearn-color-unfitted-level-0);\n",
       "}\n",
       "\n",
       "#sk-container-id-5 div.sk-toggleable__content.fitted pre {\n",
       "  /* unfitted */\n",
       "  background-color: var(--sklearn-color-fitted-level-0);\n",
       "}\n",
       "\n",
       "#sk-container-id-5 input.sk-toggleable__control:checked~div.sk-toggleable__content {\n",
       "  /* Expand drop-down */\n",
       "  max-height: 200px;\n",
       "  max-width: 100%;\n",
       "  overflow: auto;\n",
       "}\n",
       "\n",
       "#sk-container-id-5 input.sk-toggleable__control:checked~label.sk-toggleable__label-arrow:before {\n",
       "  content: \"▾\";\n",
       "}\n",
       "\n",
       "/* Pipeline/ColumnTransformer-specific style */\n",
       "\n",
       "#sk-container-id-5 div.sk-label input.sk-toggleable__control:checked~label.sk-toggleable__label {\n",
       "  color: var(--sklearn-color-text);\n",
       "  background-color: var(--sklearn-color-unfitted-level-2);\n",
       "}\n",
       "\n",
       "#sk-container-id-5 div.sk-label.fitted input.sk-toggleable__control:checked~label.sk-toggleable__label {\n",
       "  background-color: var(--sklearn-color-fitted-level-2);\n",
       "}\n",
       "\n",
       "/* Estimator-specific style */\n",
       "\n",
       "/* Colorize estimator box */\n",
       "#sk-container-id-5 div.sk-estimator input.sk-toggleable__control:checked~label.sk-toggleable__label {\n",
       "  /* unfitted */\n",
       "  background-color: var(--sklearn-color-unfitted-level-2);\n",
       "}\n",
       "\n",
       "#sk-container-id-5 div.sk-estimator.fitted input.sk-toggleable__control:checked~label.sk-toggleable__label {\n",
       "  /* fitted */\n",
       "  background-color: var(--sklearn-color-fitted-level-2);\n",
       "}\n",
       "\n",
       "#sk-container-id-5 div.sk-label label.sk-toggleable__label,\n",
       "#sk-container-id-5 div.sk-label label {\n",
       "  /* The background is the default theme color */\n",
       "  color: var(--sklearn-color-text-on-default-background);\n",
       "}\n",
       "\n",
       "/* On hover, darken the color of the background */\n",
       "#sk-container-id-5 div.sk-label:hover label.sk-toggleable__label {\n",
       "  color: var(--sklearn-color-text);\n",
       "  background-color: var(--sklearn-color-unfitted-level-2);\n",
       "}\n",
       "\n",
       "/* Label box, darken color on hover, fitted */\n",
       "#sk-container-id-5 div.sk-label.fitted:hover label.sk-toggleable__label.fitted {\n",
       "  color: var(--sklearn-color-text);\n",
       "  background-color: var(--sklearn-color-fitted-level-2);\n",
       "}\n",
       "\n",
       "/* Estimator label */\n",
       "\n",
       "#sk-container-id-5 div.sk-label label {\n",
       "  font-family: monospace;\n",
       "  font-weight: bold;\n",
       "  display: inline-block;\n",
       "  line-height: 1.2em;\n",
       "}\n",
       "\n",
       "#sk-container-id-5 div.sk-label-container {\n",
       "  text-align: center;\n",
       "}\n",
       "\n",
       "/* Estimator-specific */\n",
       "#sk-container-id-5 div.sk-estimator {\n",
       "  font-family: monospace;\n",
       "  border: 1px dotted var(--sklearn-color-border-box);\n",
       "  border-radius: 0.25em;\n",
       "  box-sizing: border-box;\n",
       "  margin-bottom: 0.5em;\n",
       "  /* unfitted */\n",
       "  background-color: var(--sklearn-color-unfitted-level-0);\n",
       "}\n",
       "\n",
       "#sk-container-id-5 div.sk-estimator.fitted {\n",
       "  /* fitted */\n",
       "  background-color: var(--sklearn-color-fitted-level-0);\n",
       "}\n",
       "\n",
       "/* on hover */\n",
       "#sk-container-id-5 div.sk-estimator:hover {\n",
       "  /* unfitted */\n",
       "  background-color: var(--sklearn-color-unfitted-level-2);\n",
       "}\n",
       "\n",
       "#sk-container-id-5 div.sk-estimator.fitted:hover {\n",
       "  /* fitted */\n",
       "  background-color: var(--sklearn-color-fitted-level-2);\n",
       "}\n",
       "\n",
       "/* Specification for estimator info (e.g. \"i\" and \"?\") */\n",
       "\n",
       "/* Common style for \"i\" and \"?\" */\n",
       "\n",
       ".sk-estimator-doc-link,\n",
       "a:link.sk-estimator-doc-link,\n",
       "a:visited.sk-estimator-doc-link {\n",
       "  float: right;\n",
       "  font-size: smaller;\n",
       "  line-height: 1em;\n",
       "  font-family: monospace;\n",
       "  background-color: var(--sklearn-color-background);\n",
       "  border-radius: 1em;\n",
       "  height: 1em;\n",
       "  width: 1em;\n",
       "  text-decoration: none !important;\n",
       "  margin-left: 1ex;\n",
       "  /* unfitted */\n",
       "  border: var(--sklearn-color-unfitted-level-1) 1pt solid;\n",
       "  color: var(--sklearn-color-unfitted-level-1);\n",
       "}\n",
       "\n",
       ".sk-estimator-doc-link.fitted,\n",
       "a:link.sk-estimator-doc-link.fitted,\n",
       "a:visited.sk-estimator-doc-link.fitted {\n",
       "  /* fitted */\n",
       "  border: var(--sklearn-color-fitted-level-1) 1pt solid;\n",
       "  color: var(--sklearn-color-fitted-level-1);\n",
       "}\n",
       "\n",
       "/* On hover */\n",
       "div.sk-estimator:hover .sk-estimator-doc-link:hover,\n",
       ".sk-estimator-doc-link:hover,\n",
       "div.sk-label-container:hover .sk-estimator-doc-link:hover,\n",
       ".sk-estimator-doc-link:hover {\n",
       "  /* unfitted */\n",
       "  background-color: var(--sklearn-color-unfitted-level-3);\n",
       "  color: var(--sklearn-color-background);\n",
       "  text-decoration: none;\n",
       "}\n",
       "\n",
       "div.sk-estimator.fitted:hover .sk-estimator-doc-link.fitted:hover,\n",
       ".sk-estimator-doc-link.fitted:hover,\n",
       "div.sk-label-container:hover .sk-estimator-doc-link.fitted:hover,\n",
       ".sk-estimator-doc-link.fitted:hover {\n",
       "  /* fitted */\n",
       "  background-color: var(--sklearn-color-fitted-level-3);\n",
       "  color: var(--sklearn-color-background);\n",
       "  text-decoration: none;\n",
       "}\n",
       "\n",
       "/* Span, style for the box shown on hovering the info icon */\n",
       ".sk-estimator-doc-link span {\n",
       "  display: none;\n",
       "  z-index: 9999;\n",
       "  position: relative;\n",
       "  font-weight: normal;\n",
       "  right: .2ex;\n",
       "  padding: .5ex;\n",
       "  margin: .5ex;\n",
       "  width: min-content;\n",
       "  min-width: 20ex;\n",
       "  max-width: 50ex;\n",
       "  color: var(--sklearn-color-text);\n",
       "  box-shadow: 2pt 2pt 4pt #999;\n",
       "  /* unfitted */\n",
       "  background: var(--sklearn-color-unfitted-level-0);\n",
       "  border: .5pt solid var(--sklearn-color-unfitted-level-3);\n",
       "}\n",
       "\n",
       ".sk-estimator-doc-link.fitted span {\n",
       "  /* fitted */\n",
       "  background: var(--sklearn-color-fitted-level-0);\n",
       "  border: var(--sklearn-color-fitted-level-3);\n",
       "}\n",
       "\n",
       ".sk-estimator-doc-link:hover span {\n",
       "  display: block;\n",
       "}\n",
       "\n",
       "/* \"?\"-specific style due to the `<a>` HTML tag */\n",
       "\n",
       "#sk-container-id-5 a.estimator_doc_link {\n",
       "  float: right;\n",
       "  font-size: 1rem;\n",
       "  line-height: 1em;\n",
       "  font-family: monospace;\n",
       "  background-color: var(--sklearn-color-background);\n",
       "  border-radius: 1rem;\n",
       "  height: 1rem;\n",
       "  width: 1rem;\n",
       "  text-decoration: none;\n",
       "  /* unfitted */\n",
       "  color: var(--sklearn-color-unfitted-level-1);\n",
       "  border: var(--sklearn-color-unfitted-level-1) 1pt solid;\n",
       "}\n",
       "\n",
       "#sk-container-id-5 a.estimator_doc_link.fitted {\n",
       "  /* fitted */\n",
       "  border: var(--sklearn-color-fitted-level-1) 1pt solid;\n",
       "  color: var(--sklearn-color-fitted-level-1);\n",
       "}\n",
       "\n",
       "/* On hover */\n",
       "#sk-container-id-5 a.estimator_doc_link:hover {\n",
       "  /* unfitted */\n",
       "  background-color: var(--sklearn-color-unfitted-level-3);\n",
       "  color: var(--sklearn-color-background);\n",
       "  text-decoration: none;\n",
       "}\n",
       "\n",
       "#sk-container-id-5 a.estimator_doc_link.fitted:hover {\n",
       "  /* fitted */\n",
       "  background-color: var(--sklearn-color-fitted-level-3);\n",
       "}\n",
       "</style><div id=\"sk-container-id-5\" class=\"sk-top-container\"><div class=\"sk-text-repr-fallback\"><pre>SVC(C=1000, class_weight=&#x27;balanced&#x27;, gamma=0.001, random_state=1234)</pre><b>In a Jupyter environment, please rerun this cell to show the HTML representation or trust the notebook. <br />On GitHub, the HTML representation is unable to render, please try loading this page with nbviewer.org.</b></div><div class=\"sk-container\" hidden><div class=\"sk-item\"><div class=\"sk-estimator fitted sk-toggleable\"><input class=\"sk-toggleable__control sk-hidden--visually\" id=\"sk-estimator-id-5\" type=\"checkbox\" checked><label for=\"sk-estimator-id-5\" class=\"sk-toggleable__label fitted sk-toggleable__label-arrow fitted\">&nbsp;&nbsp;SVC<a class=\"sk-estimator-doc-link fitted\" rel=\"noreferrer\" target=\"_blank\" href=\"https://scikit-learn.org/1.4/modules/generated/sklearn.svm.SVC.html\">?<span>Documentation for SVC</span></a><span class=\"sk-estimator-doc-link fitted\">i<span>Fitted</span></span></label><div class=\"sk-toggleable__content fitted\"><pre>SVC(C=1000, class_weight=&#x27;balanced&#x27;, gamma=0.001, random_state=1234)</pre></div> </div></div></div></div>"
      ],
      "text/plain": [
       "SVC(C=1000, class_weight='balanced', gamma=0.001, random_state=1234)"
      ]
     },
     "execution_count": 33,
     "metadata": {},
     "output_type": "execute_result"
    }
   ],
   "source": [
    "grid_SVC.best_estimator_"
   ]
  },
  {
   "cell_type": "markdown",
   "metadata": {},
   "source": [
    "**Вывод**\n",
    "\n",
    "Модель опорных векторов показала метрику F1=0.76. Также время обучения больше чем у других моделей."
   ]
  },
  {
   "cell_type": "markdown",
   "metadata": {},
   "source": [
    "## Выводы"
   ]
  },
  {
   "cell_type": "markdown",
   "metadata": {},
   "source": [
    "Сохраним все результаты моделей в таблице."
   ]
  },
  {
   "cell_type": "code",
   "execution_count": 34,
   "metadata": {},
   "outputs": [
    {
     "data": {
      "text/html": [
       "<div>\n",
       "<style scoped>\n",
       "    .dataframe tbody tr th:only-of-type {\n",
       "        vertical-align: middle;\n",
       "    }\n",
       "\n",
       "    .dataframe tbody tr th {\n",
       "        vertical-align: top;\n",
       "    }\n",
       "\n",
       "    .dataframe thead th {\n",
       "        text-align: right;\n",
       "    }\n",
       "</style>\n",
       "<table border=\"1\" class=\"dataframe\">\n",
       "  <thead>\n",
       "    <tr style=\"text-align: right;\">\n",
       "      <th></th>\n",
       "      <th>model</th>\n",
       "      <th>f1_score</th>\n",
       "      <th>learning_time</th>\n",
       "    </tr>\n",
       "  </thead>\n",
       "  <tbody>\n",
       "    <tr>\n",
       "      <th>0</th>\n",
       "      <td>LogisticRegression</td>\n",
       "      <td>0.785048</td>\n",
       "      <td>61.792562</td>\n",
       "    </tr>\n",
       "    <tr>\n",
       "      <th>1</th>\n",
       "      <td>LightGBM</td>\n",
       "      <td>0.730656</td>\n",
       "      <td>1055.486144</td>\n",
       "    </tr>\n",
       "    <tr>\n",
       "      <th>2</th>\n",
       "      <td>svm</td>\n",
       "      <td>0.763868</td>\n",
       "      <td>8405.303063</td>\n",
       "    </tr>\n",
       "  </tbody>\n",
       "</table>\n",
       "</div>"
      ],
      "text/plain": [
       "                model  f1_score  learning_time\n",
       "0  LogisticRegression  0.785048      61.792562\n",
       "1            LightGBM  0.730656    1055.486144\n",
       "2                 svm  0.763868    8405.303063"
      ]
     },
     "execution_count": 34,
     "metadata": {},
     "output_type": "execute_result"
    }
   ],
   "source": [
    "result = pd.DataFrame({'model': ['LogisticRegression', 'LightGBM', 'svm'],\n",
    "                       'f1_score': [gs_logreg.best_score_, grid_lgbm.best_score_, grid_SVC.best_score_],\n",
    "                      'learning_time': [elapsed_time_logreg, elapsed_time_lgbm, elapsed_time_SVC]})\n",
    "result"
   ]
  },
  {
   "cell_type": "markdown",
   "metadata": {},
   "source": [
    "Лучший резкльтат показала модель логистической регрессии. Она же оказалась наиболее быстрой. Получим предсказания на тестовой выборке."
   ]
  },
  {
   "cell_type": "code",
   "execution_count": 35,
   "metadata": {},
   "outputs": [],
   "source": [
    "predictions_logreg = gs_logreg.best_estimator_.predict(tf_idf_test)"
   ]
  },
  {
   "cell_type": "code",
   "execution_count": 36,
   "metadata": {},
   "outputs": [
    {
     "data": {
      "text/plain": [
       "0.7984815618221258"
      ]
     },
     "execution_count": 36,
     "metadata": {},
     "output_type": "execute_result"
    }
   ],
   "source": [
    "f1_logreg = f1_score(target_test, predictions_logreg)\n",
    "f1_logreg"
   ]
  },
  {
   "cell_type": "markdown",
   "metadata": {},
   "source": [
    "**Вывод**\n",
    "\n",
    "Мы загрузили данные. В датасете 159 292 строк. Пропусков не было.\n",
    "\n",
    "Мы лемматизировали и отчистили данные. Перевели тексты комментариев в вектора при помощи алгоритма TF-IDF. И разделили данные на обучающую и тестовую выборки. При обучении моделей использовали кросс-валидацию.\n",
    "\n",
    "Лучше всего отработала модель логистической регрессии. при самом  высоком F1 = 0.78, она оказалсь также и наиболее быстрой: справилась всего за 9.68 s."
   ]
  },
  {
   "cell_type": "code",
   "execution_count": null,
   "metadata": {},
   "outputs": [],
   "source": []
  }
 ],
 "metadata": {
  "ExecuteTimeLog": [
   {
    "duration": 1323,
    "start_time": "2024-01-25T09:49:58.763Z"
   },
   {
    "duration": 209,
    "start_time": "2024-01-25T09:50:02.854Z"
   },
   {
    "duration": 2326,
    "start_time": "2024-01-25T09:50:04.750Z"
   },
   {
    "duration": 8,
    "start_time": "2024-01-25T09:50:11.638Z"
   },
   {
    "duration": 109,
    "start_time": "2024-01-25T09:50:34.278Z"
   },
   {
    "duration": 7,
    "start_time": "2024-01-25T09:50:37.855Z"
   },
   {
    "duration": 9,
    "start_time": "2024-01-25T09:50:43.585Z"
   },
   {
    "duration": 869,
    "start_time": "2024-01-25T09:51:25.666Z"
   },
   {
    "duration": 6,
    "start_time": "2024-01-25T09:51:26.537Z"
   },
   {
    "duration": 1142,
    "start_time": "2024-01-25T09:54:57.230Z"
   },
   {
    "duration": 46,
    "start_time": "2024-01-25T09:55:14.669Z"
   },
   {
    "duration": 31,
    "start_time": "2024-01-25T09:55:16.629Z"
   },
   {
    "duration": 3,
    "start_time": "2024-01-25T09:55:17.149Z"
   },
   {
    "duration": 5,
    "start_time": "2024-01-25T10:01:26.961Z"
   },
   {
    "duration": 16,
    "start_time": "2024-01-25T10:01:27.341Z"
   },
   {
    "duration": 7,
    "start_time": "2024-01-25T10:06:49.673Z"
   },
   {
    "duration": 2747,
    "start_time": "2024-01-25T10:07:10.456Z"
   },
   {
    "duration": 45,
    "start_time": "2024-01-25T10:09:07.267Z"
   },
   {
    "duration": 2483,
    "start_time": "2024-01-25T10:09:12.235Z"
   },
   {
    "duration": 203,
    "start_time": "2024-01-25T10:09:14.719Z"
   },
   {
    "duration": 2217,
    "start_time": "2024-01-25T10:09:14.923Z"
   },
   {
    "duration": 8,
    "start_time": "2024-01-25T10:09:17.142Z"
   },
   {
    "duration": 2126,
    "start_time": "2024-01-25T10:09:20.332Z"
   },
   {
    "duration": 4,
    "start_time": "2024-01-25T10:09:41.767Z"
   },
   {
    "duration": 4,
    "start_time": "2024-01-25T10:09:42.654Z"
   },
   {
    "duration": 808,
    "start_time": "2024-01-25T10:09:43.158Z"
   },
   {
    "duration": 6,
    "start_time": "2024-01-25T10:09:43.968Z"
   },
   {
    "duration": 47,
    "start_time": "2024-01-25T10:10:30.684Z"
   },
   {
    "duration": 2510,
    "start_time": "2024-01-25T10:10:33.507Z"
   },
   {
    "duration": 200,
    "start_time": "2024-01-25T10:10:36.019Z"
   },
   {
    "duration": 2248,
    "start_time": "2024-01-25T10:10:36.221Z"
   },
   {
    "duration": 8,
    "start_time": "2024-01-25T10:10:38.470Z"
   },
   {
    "duration": 2695,
    "start_time": "2024-01-25T10:10:38.479Z"
   },
   {
    "duration": 3,
    "start_time": "2024-01-25T10:12:15.419Z"
   },
   {
    "duration": 177,
    "start_time": "2024-01-25T10:12:16.346Z"
   },
   {
    "duration": 29,
    "start_time": "2024-01-25T10:12:26.278Z"
   },
   {
    "duration": 3,
    "start_time": "2024-01-25T10:12:38.374Z"
   },
   {
    "duration": 3,
    "start_time": "2024-01-25T10:12:53.207Z"
   },
   {
    "duration": 5,
    "start_time": "2024-01-25T10:13:00.295Z"
   },
   {
    "duration": 2035,
    "start_time": "2024-01-25T10:13:27.839Z"
   },
   {
    "duration": 4,
    "start_time": "2024-01-25T10:13:30.639Z"
   },
   {
    "duration": 3,
    "start_time": "2024-01-25T10:13:31.150Z"
   },
   {
    "duration": 4,
    "start_time": "2024-01-25T10:13:31.751Z"
   },
   {
    "duration": 4,
    "start_time": "2024-01-25T10:13:47.672Z"
   },
   {
    "duration": 4,
    "start_time": "2024-01-25T10:14:15.938Z"
   },
   {
    "duration": 4,
    "start_time": "2024-01-25T10:14:22.751Z"
   },
   {
    "duration": 43,
    "start_time": "2024-01-25T10:18:39.615Z"
   },
   {
    "duration": 2633,
    "start_time": "2024-01-25T10:18:42.111Z"
   },
   {
    "duration": 198,
    "start_time": "2024-01-25T10:18:44.746Z"
   },
   {
    "duration": 2169,
    "start_time": "2024-01-25T10:18:44.967Z"
   },
   {
    "duration": 8,
    "start_time": "2024-01-25T10:18:47.138Z"
   },
   {
    "duration": 2690,
    "start_time": "2024-01-25T10:18:48.231Z"
   },
   {
    "duration": 799,
    "start_time": "2024-01-25T10:24:05.437Z"
   },
   {
    "duration": 123,
    "start_time": "2024-01-25T10:24:18.389Z"
   },
   {
    "duration": 8,
    "start_time": "2024-01-25T10:24:27.088Z"
   },
   {
    "duration": 3300,
    "start_time": "2024-01-25T10:24:51.541Z"
   },
   {
    "duration": 212,
    "start_time": "2024-01-25T10:24:54.843Z"
   },
   {
    "duration": 3919,
    "start_time": "2024-01-25T10:24:55.056Z"
   },
   {
    "duration": 8,
    "start_time": "2024-01-25T10:24:58.976Z"
   },
   {
    "duration": 44,
    "start_time": "2024-01-25T10:25:31.268Z"
   },
   {
    "duration": 0,
    "start_time": "2024-01-25T10:25:31.313Z"
   },
   {
    "duration": 2999,
    "start_time": "2024-01-25T10:25:35.737Z"
   },
   {
    "duration": 120,
    "start_time": "2024-01-25T10:25:38.738Z"
   },
   {
    "duration": 2248,
    "start_time": "2024-01-25T10:25:38.859Z"
   },
   {
    "duration": 9,
    "start_time": "2024-01-25T10:25:41.109Z"
   },
   {
    "duration": 725,
    "start_time": "2024-01-25T10:25:42.618Z"
   },
   {
    "duration": 78174,
    "start_time": "2024-01-25T10:26:42.938Z"
   },
   {
    "duration": 8,
    "start_time": "2024-01-25T10:50:04.038Z"
   },
   {
    "duration": 7,
    "start_time": "2024-01-25T11:05:50.743Z"
   },
   {
    "duration": 3,
    "start_time": "2024-01-25T11:05:52.423Z"
   },
   {
    "duration": 5,
    "start_time": "2024-01-25T11:05:52.816Z"
   },
   {
    "duration": 821,
    "start_time": "2024-01-25T11:05:53.248Z"
   },
   {
    "duration": 7,
    "start_time": "2024-01-25T11:05:54.071Z"
   },
   {
    "duration": 686,
    "start_time": "2024-01-25T11:06:22.469Z"
   },
   {
    "duration": 658,
    "start_time": "2024-01-25T11:06:39.109Z"
   },
   {
    "duration": 2774,
    "start_time": "2024-01-25T11:06:56.727Z"
   },
   {
    "duration": 143,
    "start_time": "2024-01-25T11:09:51.041Z"
   },
   {
    "duration": 45,
    "start_time": "2024-01-25T11:11:04.075Z"
   },
   {
    "duration": 2434,
    "start_time": "2024-01-25T11:11:06.369Z"
   },
   {
    "duration": 143,
    "start_time": "2024-01-25T11:11:08.805Z"
   },
   {
    "duration": 2295,
    "start_time": "2024-01-25T11:11:08.949Z"
   },
   {
    "duration": 9,
    "start_time": "2024-01-25T11:11:11.246Z"
   },
   {
    "duration": 1283,
    "start_time": "2024-01-25T11:11:11.257Z"
   },
   {
    "duration": 10,
    "start_time": "2024-01-25T11:11:34.669Z"
   },
   {
    "duration": 4,
    "start_time": "2024-01-25T11:16:43.483Z"
   },
   {
    "duration": 4,
    "start_time": "2024-01-25T11:16:51.451Z"
   },
   {
    "duration": 3,
    "start_time": "2024-01-25T11:19:59.337Z"
   },
   {
    "duration": 123,
    "start_time": "2024-01-25T11:20:28.199Z"
   },
   {
    "duration": 3,
    "start_time": "2024-01-25T11:20:32.342Z"
   },
   {
    "duration": 14,
    "start_time": "2024-01-25T11:20:33.679Z"
   },
   {
    "duration": 2,
    "start_time": "2024-01-25T11:20:39.031Z"
   },
   {
    "duration": 15,
    "start_time": "2024-01-25T11:20:39.495Z"
   },
   {
    "duration": 5,
    "start_time": "2024-01-25T11:20:42.879Z"
   },
   {
    "duration": 3,
    "start_time": "2024-01-25T11:20:44.710Z"
   },
   {
    "duration": 671,
    "start_time": "2024-01-25T11:20:45.087Z"
   },
   {
    "duration": 657,
    "start_time": "2024-01-25T11:21:05.002Z"
   },
   {
    "duration": 684,
    "start_time": "2024-01-25T11:21:36.295Z"
   },
   {
    "duration": 681,
    "start_time": "2024-01-25T11:27:51.944Z"
   },
   {
    "duration": 9,
    "start_time": "2024-01-25T11:29:02.447Z"
   },
   {
    "duration": 3,
    "start_time": "2024-01-25T11:30:07.739Z"
   },
   {
    "duration": 28,
    "start_time": "2024-01-25T11:32:47.167Z"
   },
   {
    "duration": 699,
    "start_time": "2024-01-25T11:32:51.808Z"
   },
   {
    "duration": 6,
    "start_time": "2024-01-25T11:56:10.786Z"
   },
   {
    "duration": 689,
    "start_time": "2024-01-25T11:56:18.002Z"
   },
   {
    "duration": 5,
    "start_time": "2024-01-25T11:56:33.549Z"
   },
   {
    "duration": 665,
    "start_time": "2024-01-25T11:56:34.397Z"
   },
   {
    "duration": 7,
    "start_time": "2024-01-25T11:57:25.808Z"
   },
   {
    "duration": 4,
    "start_time": "2024-01-25T11:57:29.580Z"
   },
   {
    "duration": 5,
    "start_time": "2024-01-25T11:57:33.373Z"
   },
   {
    "duration": 4,
    "start_time": "2024-01-25T11:57:36.596Z"
   },
   {
    "duration": 4,
    "start_time": "2024-01-25T11:57:46.224Z"
   },
   {
    "duration": 7,
    "start_time": "2024-01-25T11:58:04.274Z"
   },
   {
    "duration": 665,
    "start_time": "2024-01-25T11:58:05.410Z"
   },
   {
    "duration": 44393,
    "start_time": "2024-01-25T11:58:15.322Z"
   },
   {
    "duration": 0,
    "start_time": "2024-01-25T11:58:59.717Z"
   },
   {
    "duration": 5957856,
    "start_time": "2024-01-25T11:59:22.504Z"
   },
   {
    "duration": 0,
    "start_time": "2024-01-25T13:38:40.363Z"
   },
   {
    "duration": 0,
    "start_time": "2024-01-25T13:38:40.364Z"
   },
   {
    "duration": 2204,
    "start_time": "2024-01-25T13:38:42.669Z"
   },
   {
    "duration": 4,
    "start_time": "2024-01-25T13:39:01.387Z"
   },
   {
    "duration": 2376,
    "start_time": "2024-01-25T13:39:16.741Z"
   },
   {
    "duration": 131,
    "start_time": "2024-01-25T13:39:19.119Z"
   },
   {
    "duration": 2202,
    "start_time": "2024-01-25T13:39:19.252Z"
   },
   {
    "duration": 8,
    "start_time": "2024-01-25T13:39:21.456Z"
   },
   {
    "duration": 3,
    "start_time": "2024-01-25T13:39:25.919Z"
   },
   {
    "duration": 656,
    "start_time": "2024-01-25T13:39:28.255Z"
   },
   {
    "duration": 1998,
    "start_time": "2024-01-25T13:39:35.854Z"
   },
   {
    "duration": 2303,
    "start_time": "2024-01-25T13:40:27.687Z"
   },
   {
    "duration": 217,
    "start_time": "2024-01-25T13:40:29.992Z"
   },
   {
    "duration": 2213,
    "start_time": "2024-01-25T13:40:30.211Z"
   },
   {
    "duration": 8,
    "start_time": "2024-01-25T13:40:32.425Z"
   },
   {
    "duration": 3,
    "start_time": "2024-01-25T13:40:33.912Z"
   },
   {
    "duration": 679,
    "start_time": "2024-01-25T13:40:35.502Z"
   },
   {
    "duration": 2139,
    "start_time": "2024-01-25T13:40:48.900Z"
   },
   {
    "duration": 43,
    "start_time": "2024-01-25T13:41:19.131Z"
   },
   {
    "duration": 3042,
    "start_time": "2024-01-25T13:41:49.280Z"
   },
   {
    "duration": 128,
    "start_time": "2024-01-25T13:41:52.324Z"
   },
   {
    "duration": 2200,
    "start_time": "2024-01-25T13:41:52.454Z"
   },
   {
    "duration": 7,
    "start_time": "2024-01-25T13:41:54.656Z"
   },
   {
    "duration": 3,
    "start_time": "2024-01-25T13:41:59.465Z"
   },
   {
    "duration": 649,
    "start_time": "2024-01-25T13:42:08.381Z"
   },
   {
    "duration": 2021,
    "start_time": "2024-01-25T13:42:23.820Z"
   },
   {
    "duration": 8,
    "start_time": "2024-01-25T13:42:37.329Z"
   },
   {
    "duration": 17,
    "start_time": "2024-01-25T13:42:41.285Z"
   },
   {
    "duration": 29,
    "start_time": "2024-01-25T13:42:52.938Z"
   },
   {
    "duration": 11,
    "start_time": "2024-01-25T13:43:35.034Z"
   },
   {
    "duration": 14362,
    "start_time": "2024-01-25T13:44:26.536Z"
   },
   {
    "duration": 14359,
    "start_time": "2024-01-25T13:45:03.608Z"
   },
   {
    "duration": 14222,
    "start_time": "2024-01-25T13:45:22.230Z"
   },
   {
    "duration": 14381,
    "start_time": "2024-01-25T13:45:37.932Z"
   },
   {
    "duration": 617,
    "start_time": "2024-01-25T13:46:18.024Z"
   },
   {
    "duration": 105,
    "start_time": "2024-01-25T13:46:31.585Z"
   },
   {
    "duration": 4,
    "start_time": "2024-01-25T13:47:14.060Z"
   },
   {
    "duration": 13,
    "start_time": "2024-01-25T13:48:07.489Z"
   },
   {
    "duration": 9,
    "start_time": "2024-01-25T13:48:14.006Z"
   },
   {
    "duration": 10,
    "start_time": "2024-01-25T13:48:18.323Z"
   },
   {
    "duration": 4,
    "start_time": "2024-01-25T13:48:24.598Z"
   },
   {
    "duration": 4,
    "start_time": "2024-01-25T13:48:36.703Z"
   },
   {
    "duration": 14,
    "start_time": "2024-01-25T13:51:10.718Z"
   },
   {
    "duration": 17,
    "start_time": "2024-01-25T13:51:13.806Z"
   },
   {
    "duration": 14,
    "start_time": "2024-01-25T13:51:17.500Z"
   },
   {
    "duration": 8,
    "start_time": "2024-01-25T13:51:21.463Z"
   },
   {
    "duration": 8,
    "start_time": "2024-01-25T13:51:48.842Z"
   },
   {
    "duration": 8,
    "start_time": "2024-01-25T13:51:58.794Z"
   },
   {
    "duration": 9,
    "start_time": "2024-01-25T13:52:21.972Z"
   },
   {
    "duration": 4,
    "start_time": "2024-01-25T13:52:27.974Z"
   },
   {
    "duration": 751,
    "start_time": "2024-01-25T13:52:29.978Z"
   },
   {
    "duration": 2257,
    "start_time": "2024-01-25T13:52:56.283Z"
   },
   {
    "duration": 939816,
    "start_time": "2024-01-25T13:53:14.604Z"
   },
   {
    "duration": 53,
    "start_time": "2024-01-25T14:10:56.640Z"
   },
   {
    "duration": 19,
    "start_time": "2024-01-25T14:11:06.863Z"
   },
   {
    "duration": 14,
    "start_time": "2024-01-25T14:13:31.116Z"
   },
   {
    "duration": 14,
    "start_time": "2024-01-25T14:13:37.675Z"
   },
   {
    "duration": 3,
    "start_time": "2024-01-25T14:14:14.404Z"
   },
   {
    "duration": 5,
    "start_time": "2024-01-25T14:14:25.764Z"
   },
   {
    "duration": 5,
    "start_time": "2024-01-25T14:14:47.898Z"
   },
   {
    "duration": 3,
    "start_time": "2024-01-25T14:15:25.526Z"
   },
   {
    "duration": 10,
    "start_time": "2024-01-25T14:15:39.198Z"
   },
   {
    "duration": 15,
    "start_time": "2024-01-25T14:21:33.847Z"
   },
   {
    "duration": 4,
    "start_time": "2024-01-25T14:22:33.575Z"
   },
   {
    "duration": 4,
    "start_time": "2024-01-25T14:22:37.854Z"
   },
   {
    "duration": 820,
    "start_time": "2024-01-25T14:22:38.331Z"
   },
   {
    "duration": 15,
    "start_time": "2024-01-25T14:22:39.153Z"
   },
   {
    "duration": 30,
    "start_time": "2024-01-25T14:22:40.628Z"
   },
   {
    "duration": 6,
    "start_time": "2024-01-25T14:22:41.033Z"
   },
   {
    "duration": 3,
    "start_time": "2024-01-25T14:22:45.177Z"
   },
   {
    "duration": 769,
    "start_time": "2024-01-25T14:22:45.603Z"
   },
   {
    "duration": 7,
    "start_time": "2024-01-25T14:22:51.896Z"
   },
   {
    "duration": 3,
    "start_time": "2024-01-25T14:22:57.639Z"
   },
   {
    "duration": 4,
    "start_time": "2024-01-25T14:22:58.294Z"
   },
   {
    "duration": 1706,
    "start_time": "2024-01-25T14:22:59.803Z"
   },
   {
    "duration": 1560,
    "start_time": "2024-01-25T14:23:10.577Z"
   },
   {
    "duration": 1183,
    "start_time": "2024-01-25T14:23:32.093Z"
   },
   {
    "duration": 8,
    "start_time": "2024-01-25T14:23:41.221Z"
   },
   {
    "duration": 2,
    "start_time": "2024-01-25T14:23:52.647Z"
   },
   {
    "duration": 6,
    "start_time": "2024-01-25T14:23:53.136Z"
   },
   {
    "duration": 830,
    "start_time": "2024-01-25T14:23:56.365Z"
   },
   {
    "duration": 2,
    "start_time": "2024-01-25T14:23:57.777Z"
   },
   {
    "duration": 6,
    "start_time": "2024-01-25T14:23:58.244Z"
   },
   {
    "duration": 4,
    "start_time": "2024-01-25T14:24:00.223Z"
   },
   {
    "duration": 852,
    "start_time": "2024-01-25T14:24:01.075Z"
   },
   {
    "duration": 8,
    "start_time": "2024-01-25T14:24:21.244Z"
   },
   {
    "duration": 3780,
    "start_time": "2024-01-25T14:24:57.664Z"
   },
   {
    "duration": 1973,
    "start_time": "2024-01-25T14:26:50.875Z"
   },
   {
    "duration": 15,
    "start_time": "2024-01-25T14:26:52.850Z"
   },
   {
    "duration": 44,
    "start_time": "2024-01-25T14:26:52.867Z"
   },
   {
    "duration": 9,
    "start_time": "2024-01-25T14:26:52.913Z"
   },
   {
    "duration": 17,
    "start_time": "2024-01-25T14:26:52.924Z"
   },
   {
    "duration": 4,
    "start_time": "2024-01-25T14:26:52.942Z"
   },
   {
    "duration": 121,
    "start_time": "2024-01-25T14:26:55.944Z"
   },
   {
    "duration": 5159,
    "start_time": "2024-01-25T14:27:09.729Z"
   },
   {
    "duration": 2298,
    "start_time": "2024-01-25T14:27:14.890Z"
   },
   {
    "duration": 18,
    "start_time": "2024-01-25T14:27:17.189Z"
   },
   {
    "duration": 74,
    "start_time": "2024-01-25T14:27:17.209Z"
   },
   {
    "duration": 1206,
    "start_time": "2024-01-25T14:27:17.285Z"
   },
   {
    "duration": 18,
    "start_time": "2024-01-25T14:27:18.493Z"
   },
   {
    "duration": 5,
    "start_time": "2024-01-25T14:27:18.512Z"
   },
   {
    "duration": 696,
    "start_time": "2024-01-25T14:27:18.518Z"
   },
   {
    "duration": 67357,
    "start_time": "2024-01-25T14:27:21.316Z"
   },
   {
    "duration": 842,
    "start_time": "2024-01-25T15:01:32.989Z"
   },
   {
    "duration": 3,
    "start_time": "2024-01-25T15:01:35.576Z"
   },
   {
    "duration": 8,
    "start_time": "2024-01-25T15:01:35.875Z"
   },
   {
    "duration": 3,
    "start_time": "2024-01-25T15:01:36.193Z"
   },
   {
    "duration": 666,
    "start_time": "2024-01-25T15:01:36.788Z"
   },
   {
    "duration": 886175,
    "start_time": "2024-01-25T15:01:37.456Z"
   },
   {
    "duration": 4,
    "start_time": "2024-01-25T15:16:23.633Z"
   },
   {
    "duration": 11,
    "start_time": "2024-01-25T15:16:23.638Z"
   },
   {
    "duration": 2,
    "start_time": "2024-01-25T15:16:34.186Z"
   },
   {
    "duration": 7,
    "start_time": "2024-01-25T15:16:38.306Z"
   },
   {
    "duration": 3,
    "start_time": "2024-01-25T15:16:39.042Z"
   },
   {
    "duration": 650,
    "start_time": "2024-01-25T15:16:39.460Z"
   },
   {
    "duration": 66731,
    "start_time": "2024-01-25T15:16:40.112Z"
   },
   {
    "duration": 4,
    "start_time": "2024-01-25T15:17:46.845Z"
   },
   {
    "duration": 45,
    "start_time": "2024-01-25T15:17:46.851Z"
   },
   {
    "duration": 18,
    "start_time": "2024-01-25T15:18:25.770Z"
   },
   {
    "duration": 1877,
    "start_time": "2024-01-25T15:18:40.408Z"
   },
   {
    "duration": 8,
    "start_time": "2024-01-25T15:18:46.202Z"
   },
   {
    "duration": 5,
    "start_time": "2024-01-25T15:18:59.982Z"
   },
   {
    "duration": 5,
    "start_time": "2024-01-25T15:19:19.049Z"
   },
   {
    "duration": 2,
    "start_time": "2024-01-25T15:19:20.707Z"
   },
   {
    "duration": 12,
    "start_time": "2024-01-25T15:19:42.498Z"
   },
   {
    "duration": 3,
    "start_time": "2024-01-25T15:19:51.850Z"
   },
   {
    "duration": 10,
    "start_time": "2024-01-25T15:20:00.345Z"
   },
   {
    "duration": 12,
    "start_time": "2024-01-25T15:20:03.951Z"
   },
   {
    "duration": 5,
    "start_time": "2024-01-25T15:20:27.736Z"
   },
   {
    "duration": 15,
    "start_time": "2024-01-25T15:20:44.114Z"
   },
   {
    "duration": 13,
    "start_time": "2024-01-25T15:21:08.042Z"
   },
   {
    "duration": 13,
    "start_time": "2024-01-25T15:21:34.181Z"
   },
   {
    "duration": 4,
    "start_time": "2024-01-25T15:22:44.781Z"
   },
   {
    "duration": 3,
    "start_time": "2024-01-25T15:23:08.019Z"
   },
   {
    "duration": 2,
    "start_time": "2024-01-25T15:23:31.879Z"
   },
   {
    "duration": 9,
    "start_time": "2024-01-25T15:24:04.905Z"
   },
   {
    "duration": 18,
    "start_time": "2024-01-25T15:25:00.014Z"
   },
   {
    "duration": 8,
    "start_time": "2024-01-25T15:25:12.288Z"
   },
   {
    "duration": 2,
    "start_time": "2024-01-25T15:25:50.492Z"
   },
   {
    "duration": 6,
    "start_time": "2024-01-25T15:26:24.779Z"
   },
   {
    "duration": 4,
    "start_time": "2024-01-25T15:26:38.629Z"
   },
   {
    "duration": 5,
    "start_time": "2024-01-25T15:26:45.536Z"
   },
   {
    "duration": 7,
    "start_time": "2024-01-25T15:26:51.868Z"
   },
   {
    "duration": 6,
    "start_time": "2024-01-25T15:26:59.609Z"
   },
   {
    "duration": 4,
    "start_time": "2024-01-25T15:28:50.115Z"
   },
   {
    "duration": 13,
    "start_time": "2024-01-25T15:29:08.052Z"
   },
   {
    "duration": 9,
    "start_time": "2024-01-25T15:29:44.302Z"
   },
   {
    "duration": 6,
    "start_time": "2024-01-25T15:30:29.367Z"
   },
   {
    "duration": 14,
    "start_time": "2024-01-25T15:30:37.878Z"
   },
   {
    "duration": 14,
    "start_time": "2024-01-25T15:30:48.287Z"
   },
   {
    "duration": 5,
    "start_time": "2024-01-25T15:33:00.342Z"
   },
   {
    "duration": 11,
    "start_time": "2024-01-25T15:33:01.026Z"
   },
   {
    "duration": 3,
    "start_time": "2024-01-25T15:33:06.455Z"
   },
   {
    "duration": 9,
    "start_time": "2024-01-25T15:33:16.477Z"
   },
   {
    "duration": 8,
    "start_time": "2024-01-25T15:33:30.525Z"
   },
   {
    "duration": 11,
    "start_time": "2024-01-25T15:34:08.048Z"
   },
   {
    "duration": 2,
    "start_time": "2024-01-25T15:34:10.575Z"
   },
   {
    "duration": 12,
    "start_time": "2024-01-25T15:34:10.871Z"
   },
   {
    "duration": 16,
    "start_time": "2024-01-25T15:34:16.763Z"
   },
   {
    "duration": 11,
    "start_time": "2024-01-25T15:34:30.161Z"
   },
   {
    "duration": 13,
    "start_time": "2024-01-25T15:35:30.000Z"
   },
   {
    "duration": 6,
    "start_time": "2024-01-25T15:35:32.974Z"
   },
   {
    "duration": 4,
    "start_time": "2024-01-25T15:35:45.751Z"
   },
   {
    "duration": 5,
    "start_time": "2024-01-25T15:35:46.636Z"
   },
   {
    "duration": 5,
    "start_time": "2024-01-25T15:35:47.596Z"
   },
   {
    "duration": 6,
    "start_time": "2024-01-25T15:35:49.203Z"
   },
   {
    "duration": 4,
    "start_time": "2024-01-25T15:35:49.771Z"
   },
   {
    "duration": 3,
    "start_time": "2024-01-25T15:35:50.827Z"
   },
   {
    "duration": 5,
    "start_time": "2024-01-25T15:35:55.483Z"
   },
   {
    "duration": 14,
    "start_time": "2024-01-25T15:35:56.763Z"
   },
   {
    "duration": 8,
    "start_time": "2024-01-25T15:35:57.788Z"
   },
   {
    "duration": 2,
    "start_time": "2024-01-25T15:36:16.171Z"
   },
   {
    "duration": 12,
    "start_time": "2024-01-25T15:36:21.314Z"
   },
   {
    "duration": 3,
    "start_time": "2024-01-25T15:36:23.076Z"
   },
   {
    "duration": 3,
    "start_time": "2024-01-25T15:36:28.420Z"
   },
   {
    "duration": 7,
    "start_time": "2024-01-25T15:36:54.472Z"
   },
   {
    "duration": 9,
    "start_time": "2024-01-25T15:38:41.191Z"
   },
   {
    "duration": 4,
    "start_time": "2024-01-25T15:39:02.824Z"
   },
   {
    "duration": 5,
    "start_time": "2024-01-25T15:39:04.096Z"
   },
   {
    "duration": 8,
    "start_time": "2024-01-25T15:39:06.208Z"
   },
   {
    "duration": 5,
    "start_time": "2024-01-25T15:39:13.548Z"
   },
   {
    "duration": 6,
    "start_time": "2024-01-25T15:39:16.125Z"
   },
   {
    "duration": 5,
    "start_time": "2024-01-25T15:39:16.915Z"
   },
   {
    "duration": 2,
    "start_time": "2024-01-25T15:39:28.013Z"
   },
   {
    "duration": 4,
    "start_time": "2024-01-25T15:39:29.012Z"
   },
   {
    "duration": 15,
    "start_time": "2024-01-25T15:39:33.544Z"
   },
   {
    "duration": 5,
    "start_time": "2024-01-25T15:39:34.590Z"
   },
   {
    "duration": 2,
    "start_time": "2024-01-25T15:39:38.839Z"
   },
   {
    "duration": 13,
    "start_time": "2024-01-25T15:39:40.274Z"
   },
   {
    "duration": 3,
    "start_time": "2024-01-25T15:39:44.359Z"
   },
   {
    "duration": 3,
    "start_time": "2024-01-25T15:39:47.144Z"
   },
   {
    "duration": 6,
    "start_time": "2024-01-25T15:39:48.000Z"
   },
   {
    "duration": 14,
    "start_time": "2024-01-25T15:41:36.647Z"
   },
   {
    "duration": 23,
    "start_time": "2024-01-25T15:42:20.846Z"
   },
   {
    "duration": 6,
    "start_time": "2024-01-25T15:42:31.343Z"
   },
   {
    "duration": 3,
    "start_time": "2024-01-25T15:42:36.092Z"
   },
   {
    "duration": 13,
    "start_time": "2024-01-25T15:42:36.404Z"
   },
   {
    "duration": 3,
    "start_time": "2024-01-25T15:42:36.946Z"
   },
   {
    "duration": 3,
    "start_time": "2024-01-25T15:42:37.420Z"
   },
   {
    "duration": 6,
    "start_time": "2024-01-25T15:42:37.889Z"
   },
   {
    "duration": 4,
    "start_time": "2024-01-25T15:42:53.064Z"
   },
   {
    "duration": 5,
    "start_time": "2024-01-25T15:43:15.769Z"
   },
   {
    "duration": 6,
    "start_time": "2024-01-25T15:43:16.104Z"
   },
   {
    "duration": 3,
    "start_time": "2024-01-25T15:43:22.577Z"
   },
   {
    "duration": 4,
    "start_time": "2024-01-25T15:43:23.447Z"
   },
   {
    "duration": 16,
    "start_time": "2024-01-25T15:43:24.020Z"
   },
   {
    "duration": 1213,
    "start_time": "2024-01-25T15:43:24.645Z"
   },
   {
    "duration": 5,
    "start_time": "2024-01-25T15:43:50.908Z"
   },
   {
    "duration": 6,
    "start_time": "2024-01-25T15:44:20.987Z"
   },
   {
    "duration": 5,
    "start_time": "2024-01-25T15:44:26.745Z"
   },
   {
    "duration": 3,
    "start_time": "2024-01-25T15:44:27.857Z"
   },
   {
    "duration": 4,
    "start_time": "2024-01-25T15:44:28.514Z"
   },
   {
    "duration": 16,
    "start_time": "2024-01-25T15:44:34.428Z"
   },
   {
    "duration": 8,
    "start_time": "2024-01-25T15:44:40.435Z"
   },
   {
    "duration": 8,
    "start_time": "2024-01-25T15:44:46.160Z"
   },
   {
    "duration": 2,
    "start_time": "2024-01-25T15:44:52.338Z"
   },
   {
    "duration": 18,
    "start_time": "2024-01-25T15:44:52.677Z"
   },
   {
    "duration": 3,
    "start_time": "2024-01-25T15:44:53.036Z"
   },
   {
    "duration": 3,
    "start_time": "2024-01-25T15:44:53.855Z"
   },
   {
    "duration": 6,
    "start_time": "2024-01-25T15:44:54.505Z"
   },
   {
    "duration": 4,
    "start_time": "2024-01-25T15:44:55.835Z"
   },
   {
    "duration": 3,
    "start_time": "2024-01-25T15:46:18.465Z"
   },
   {
    "duration": 4,
    "start_time": "2024-01-25T15:46:20.468Z"
   },
   {
    "duration": 15,
    "start_time": "2024-01-25T15:46:22.513Z"
   },
   {
    "duration": 6,
    "start_time": "2024-01-25T15:46:23.518Z"
   },
   {
    "duration": 2,
    "start_time": "2024-01-25T15:46:24.970Z"
   },
   {
    "duration": 13,
    "start_time": "2024-01-25T15:46:25.449Z"
   },
   {
    "duration": 3,
    "start_time": "2024-01-25T15:46:25.993Z"
   },
   {
    "duration": 3,
    "start_time": "2024-01-25T15:46:26.512Z"
   },
   {
    "duration": 6,
    "start_time": "2024-01-25T15:46:27.075Z"
   },
   {
    "duration": 5,
    "start_time": "2024-01-25T15:59:40.780Z"
   },
   {
    "duration": 857,
    "start_time": "2024-01-25T16:00:05.112Z"
   },
   {
    "duration": 3,
    "start_time": "2024-01-25T16:00:08.033Z"
   },
   {
    "duration": 3,
    "start_time": "2024-01-25T16:00:11.039Z"
   },
   {
    "duration": 710,
    "start_time": "2024-01-25T16:00:11.536Z"
   },
   {
    "duration": 674105,
    "start_time": "2024-01-25T16:00:12.248Z"
   },
   {
    "duration": 5,
    "start_time": "2024-01-25T16:11:26.355Z"
   },
   {
    "duration": 63,
    "start_time": "2024-01-25T16:11:26.361Z"
   },
   {
    "duration": 21,
    "start_time": "2024-01-25T16:11:26.426Z"
   },
   {
    "duration": 26,
    "start_time": "2024-01-25T16:11:26.448Z"
   },
   {
    "duration": 131,
    "start_time": "2024-01-25T16:11:26.475Z"
   },
   {
    "duration": 19,
    "start_time": "2024-01-25T16:11:26.608Z"
   },
   {
    "duration": 60,
    "start_time": "2024-01-25T16:11:26.634Z"
   },
   {
    "duration": 64,
    "start_time": "2024-01-25T16:11:26.696Z"
   },
   {
    "duration": 3,
    "start_time": "2024-01-25T16:11:26.762Z"
   },
   {
    "duration": 36,
    "start_time": "2024-01-25T16:11:26.767Z"
   },
   {
    "duration": 20,
    "start_time": "2024-01-25T16:11:26.805Z"
   },
   {
    "duration": 828,
    "start_time": "2024-01-25T16:28:58.796Z"
   },
   {
    "duration": 4,
    "start_time": "2024-01-25T16:29:14.548Z"
   },
   {
    "duration": 38,
    "start_time": "2024-01-25T16:29:15.749Z"
   },
   {
    "duration": 3,
    "start_time": "2024-01-25T16:29:16.491Z"
   },
   {
    "duration": 5,
    "start_time": "2024-01-25T16:29:17.020Z"
   },
   {
    "duration": 1585,
    "start_time": "2024-01-25T16:29:17.547Z"
   },
   {
    "duration": 0,
    "start_time": "2024-01-25T16:29:19.134Z"
   },
   {
    "duration": 2,
    "start_time": "2024-01-25T16:29:19.286Z"
   },
   {
    "duration": 16057,
    "start_time": "2024-01-25T16:29:36.526Z"
   },
   {
    "duration": 3437,
    "start_time": "2024-01-25T16:29:52.585Z"
   },
   {
    "duration": 2,
    "start_time": "2024-01-25T16:29:56.024Z"
   },
   {
    "duration": 44205,
    "start_time": "2024-01-25T16:29:56.032Z"
   },
   {
    "duration": 94,
    "start_time": "2024-01-25T16:30:40.239Z"
   },
   {
    "duration": 4,
    "start_time": "2024-01-25T16:30:40.335Z"
   },
   {
    "duration": 17,
    "start_time": "2024-01-25T16:30:40.340Z"
   },
   {
    "duration": 838,
    "start_time": "2024-01-25T16:31:25.252Z"
   },
   {
    "duration": 14,
    "start_time": "2024-01-25T16:31:29.030Z"
   },
   {
    "duration": 30,
    "start_time": "2024-01-25T16:31:29.365Z"
   },
   {
    "duration": 3,
    "start_time": "2024-01-25T16:31:29.836Z"
   },
   {
    "duration": 7,
    "start_time": "2024-01-25T16:31:30.298Z"
   },
   {
    "duration": 3,
    "start_time": "2024-01-25T16:31:32.691Z"
   },
   {
    "duration": 682,
    "start_time": "2024-01-25T16:31:34.276Z"
   },
   {
    "duration": 56603267,
    "start_time": "2024-01-25T16:31:35.622Z"
   },
   {
    "duration": 2,
    "start_time": "2024-01-26T08:14:58.891Z"
   },
   {
    "duration": 22,
    "start_time": "2024-01-26T08:14:58.895Z"
   },
   {
    "duration": 18,
    "start_time": "2024-01-26T08:14:58.919Z"
   },
   {
    "duration": 107,
    "start_time": "2024-01-26T08:14:58.939Z"
   },
   {
    "duration": 5,
    "start_time": "2024-01-26T08:14:59.048Z"
   },
   {
    "duration": 23,
    "start_time": "2024-01-26T08:14:59.054Z"
   },
   {
    "duration": 16955,
    "start_time": "2024-01-26T08:14:59.078Z"
   },
   {
    "duration": 134,
    "start_time": "2024-01-26T08:16:06.228Z"
   },
   {
    "duration": 816,
    "start_time": "2024-01-26T08:16:06.935Z"
   },
   {
    "duration": 16,
    "start_time": "2024-01-26T08:16:07.754Z"
   },
   {
    "duration": 33,
    "start_time": "2024-01-26T08:16:08.120Z"
   },
   {
    "duration": 2,
    "start_time": "2024-01-26T08:16:08.742Z"
   },
   {
    "duration": 6,
    "start_time": "2024-01-26T08:16:10.045Z"
   },
   {
    "duration": 3,
    "start_time": "2024-01-26T08:16:11.596Z"
   },
   {
    "duration": 737,
    "start_time": "2024-01-26T08:16:13.133Z"
   },
   {
    "duration": 2,
    "start_time": "2024-01-26T08:16:14.156Z"
   },
   {
    "duration": 2,
    "start_time": "2024-01-26T08:16:19.352Z"
   },
   {
    "duration": 2,
    "start_time": "2024-01-26T08:16:19.867Z"
   },
   {
    "duration": 4,
    "start_time": "2024-01-26T08:16:20.438Z"
   },
   {
    "duration": 110,
    "start_time": "2024-01-26T08:16:21.731Z"
   },
   {
    "duration": 4,
    "start_time": "2024-01-26T08:16:24.348Z"
   },
   {
    "duration": 4,
    "start_time": "2024-01-26T08:16:25.516Z"
   },
   {
    "duration": 16453,
    "start_time": "2024-01-26T08:16:29.102Z"
   },
   {
    "duration": 3563,
    "start_time": "2024-01-26T08:16:45.557Z"
   },
   {
    "duration": 102,
    "start_time": "2024-01-26T08:17:38.441Z"
   },
   {
    "duration": 7,
    "start_time": "2024-01-26T08:18:19.128Z"
   },
   {
    "duration": 261,
    "start_time": "2024-01-26T08:18:24.609Z"
   },
   {
    "duration": 3,
    "start_time": "2024-01-26T08:19:30.113Z"
   },
   {
    "duration": 49154,
    "start_time": "2024-01-26T08:19:31.383Z"
   },
   {
    "duration": 10,
    "start_time": "2024-01-26T08:20:25.031Z"
   },
   {
    "duration": 4,
    "start_time": "2024-01-26T08:20:26.356Z"
   },
   {
    "duration": 17,
    "start_time": "2024-01-26T08:20:26.903Z"
   },
   {
    "duration": 134,
    "start_time": "2024-01-26T08:21:09.238Z"
   },
   {
    "duration": 112,
    "start_time": "2024-01-26T08:21:24.329Z"
   },
   {
    "duration": 31627,
    "start_time": "2024-01-26T08:21:31.991Z"
   },
   {
    "duration": 103,
    "start_time": "2024-01-26T08:22:25.492Z"
   },
   {
    "duration": 115,
    "start_time": "2024-01-26T08:22:42.213Z"
   },
   {
    "duration": 10,
    "start_time": "2024-01-26T08:23:23.679Z"
   },
   {
    "duration": 4,
    "start_time": "2024-01-26T08:23:29.507Z"
   },
   {
    "duration": 98,
    "start_time": "2024-01-26T08:25:16.829Z"
   },
   {
    "duration": 550248,
    "start_time": "2024-01-26T08:27:30.417Z"
   },
   {
    "duration": 4,
    "start_time": "2024-01-26T09:03:44.558Z"
   },
   {
    "duration": 11,
    "start_time": "2024-01-26T09:03:49.637Z"
   },
   {
    "duration": 4,
    "start_time": "2024-01-26T09:03:53.694Z"
   },
   {
    "duration": 8,
    "start_time": "2024-01-26T09:04:26.811Z"
   },
   {
    "duration": 18,
    "start_time": "2024-01-26T09:05:03.430Z"
   },
   {
    "duration": 3,
    "start_time": "2024-01-26T09:42:00.300Z"
   },
   {
    "duration": 11,
    "start_time": "2024-01-26T09:43:30.788Z"
   },
   {
    "duration": 117,
    "start_time": "2024-01-26T09:43:31.243Z"
   },
   {
    "duration": 316,
    "start_time": "2024-01-26T09:43:54.808Z"
   },
   {
    "duration": 6,
    "start_time": "2024-01-26T09:44:03.104Z"
   },
   {
    "duration": 4,
    "start_time": "2024-01-26T09:44:14.314Z"
   },
   {
    "duration": 3154,
    "start_time": "2024-01-26T09:44:15.023Z"
   },
   {
    "duration": 4,
    "start_time": "2024-01-26T09:44:18.179Z"
   },
   {
    "duration": 2086420,
    "start_time": "2024-01-26T09:44:40.731Z"
   },
   {
    "duration": 58,
    "start_time": "2024-01-26T10:19:27.153Z"
   },
   {
    "duration": 0,
    "start_time": "2024-01-26T10:19:27.213Z"
   },
   {
    "duration": 0,
    "start_time": "2024-01-26T10:19:27.214Z"
   },
   {
    "duration": 0,
    "start_time": "2024-01-26T10:19:27.216Z"
   },
   {
    "duration": 0,
    "start_time": "2024-01-26T10:19:27.233Z"
   },
   {
    "duration": 2,
    "start_time": "2024-01-26T10:20:04.987Z"
   },
   {
    "duration": 109,
    "start_time": "2024-01-26T10:20:07.698Z"
   },
   {
    "duration": 3,
    "start_time": "2024-01-26T10:20:28.613Z"
   },
   {
    "duration": 70796,
    "start_time": "2024-01-26T10:20:28.907Z"
   },
   {
    "duration": 53,
    "start_time": "2024-01-26T10:21:39.705Z"
   },
   {
    "duration": 0,
    "start_time": "2024-01-26T10:21:39.760Z"
   },
   {
    "duration": 7,
    "start_time": "2024-01-26T10:21:42.888Z"
   },
   {
    "duration": 1890,
    "start_time": "2024-01-26T10:21:51.864Z"
   },
   {
    "duration": 182,
    "start_time": "2024-01-26T10:22:17.392Z"
   },
   {
    "duration": 221603,
    "start_time": "2024-01-26T10:22:34.685Z"
   },
   {
    "duration": 24,
    "start_time": "2024-01-26T10:26:16.290Z"
   },
   {
    "duration": 2694,
    "start_time": "2024-01-26T10:26:39.247Z"
   },
   {
    "duration": 2224,
    "start_time": "2024-01-26T10:26:41.943Z"
   },
   {
    "duration": 1791,
    "start_time": "2024-01-26T10:26:51.204Z"
   },
   {
    "duration": 222765,
    "start_time": "2024-01-26T10:26:56.427Z"
   },
   {
    "duration": 313,
    "start_time": "2024-01-26T10:34:08.123Z"
   },
   {
    "duration": 24,
    "start_time": "2024-01-26T10:34:18.063Z"
   },
   {
    "duration": 2908,
    "start_time": "2024-01-31T19:09:18.531Z"
   },
   {
    "duration": 4,
    "start_time": "2024-01-31T19:09:21.441Z"
   },
   {
    "duration": 7,
    "start_time": "2024-01-31T19:09:21.447Z"
   },
   {
    "duration": 38108,
    "start_time": "2024-01-31T19:09:21.455Z"
   },
   {
    "duration": 2461,
    "start_time": "2024-01-31T19:09:59.566Z"
   },
   {
    "duration": 0,
    "start_time": "2024-01-31T19:10:02.029Z"
   },
   {
    "duration": 0,
    "start_time": "2024-01-31T19:10:02.030Z"
   },
   {
    "duration": 0,
    "start_time": "2024-01-31T19:10:02.031Z"
   },
   {
    "duration": 0,
    "start_time": "2024-01-31T19:10:02.032Z"
   },
   {
    "duration": 0,
    "start_time": "2024-01-31T19:10:02.033Z"
   },
   {
    "duration": 0,
    "start_time": "2024-01-31T19:10:02.034Z"
   },
   {
    "duration": 0,
    "start_time": "2024-01-31T19:10:02.036Z"
   },
   {
    "duration": 0,
    "start_time": "2024-01-31T19:10:02.037Z"
   },
   {
    "duration": 164017,
    "start_time": "2024-01-31T19:23:38.998Z"
   },
   {
    "duration": 713,
    "start_time": "2024-01-31T19:26:30.872Z"
   },
   {
    "duration": 2367,
    "start_time": "2024-01-31T19:26:39.470Z"
   },
   {
    "duration": 22,
    "start_time": "2024-01-31T19:26:41.839Z"
   },
   {
    "duration": 31,
    "start_time": "2024-01-31T19:26:41.863Z"
   },
   {
    "duration": 7,
    "start_time": "2024-01-31T19:26:41.897Z"
   },
   {
    "duration": 2,
    "start_time": "2024-01-31T19:26:45.318Z"
   },
   {
    "duration": 1427,
    "start_time": "2024-01-31T19:26:50.417Z"
   },
   {
    "duration": 3,
    "start_time": "2024-01-31T19:27:22.030Z"
   },
   {
    "duration": 8,
    "start_time": "2024-01-31T19:27:22.537Z"
   },
   {
    "duration": 8,
    "start_time": "2024-01-31T19:27:23.805Z"
   },
   {
    "duration": 911,
    "start_time": "2024-01-31T19:28:08.011Z"
   },
   {
    "duration": 4931,
    "start_time": "2024-01-31T19:28:11.319Z"
   },
   {
    "duration": 14751,
    "start_time": "2024-01-31T19:28:36.258Z"
   },
   {
    "duration": 21557,
    "start_time": "2024-01-31T19:29:44.486Z"
   },
   {
    "duration": 4,
    "start_time": "2024-02-02T10:04:19.988Z"
   },
   {
    "duration": 5247,
    "start_time": "2024-02-02T10:04:20.957Z"
   },
   {
    "duration": 3170,
    "start_time": "2024-02-02T10:04:30.173Z"
   },
   {
    "duration": 24,
    "start_time": "2024-02-02T10:04:33.345Z"
   },
   {
    "duration": 29,
    "start_time": "2024-02-02T10:04:33.515Z"
   },
   {
    "duration": 1562,
    "start_time": "2024-02-02T10:10:41.686Z"
   },
   {
    "duration": 97763,
    "start_time": "2024-02-02T10:15:17.130Z"
   },
   {
    "duration": 7,
    "start_time": "2024-02-02T10:16:54.895Z"
   },
   {
    "duration": 331,
    "start_time": "2024-02-02T10:16:54.904Z"
   },
   {
    "duration": 19,
    "start_time": "2024-02-02T10:17:21.951Z"
   },
   {
    "duration": 69033,
    "start_time": "2024-02-02T10:17:28.044Z"
   },
   {
    "duration": 72041,
    "start_time": "2024-02-02T10:20:47.880Z"
   },
   {
    "duration": 5,
    "start_time": "2024-02-02T10:32:07.775Z"
   },
   {
    "duration": 3,
    "start_time": "2024-02-02T10:32:15.871Z"
   },
   {
    "duration": 8,
    "start_time": "2024-02-02T10:32:51.523Z"
   },
   {
    "duration": 342,
    "start_time": "2024-02-02T10:32:55.843Z"
   },
   {
    "duration": 3,
    "start_time": "2024-02-02T10:33:29.894Z"
   },
   {
    "duration": 311,
    "start_time": "2024-02-02T10:33:38.755Z"
   },
   {
    "duration": 561,
    "start_time": "2024-02-02T10:33:58.514Z"
   },
   {
    "duration": 104,
    "start_time": "2024-02-02T10:34:01.683Z"
   },
   {
    "duration": 7,
    "start_time": "2024-02-02T10:34:13.724Z"
   },
   {
    "duration": 12,
    "start_time": "2024-02-02T10:34:14.086Z"
   },
   {
    "duration": 11,
    "start_time": "2024-02-02T10:35:14.967Z"
   },
   {
    "duration": 5,
    "start_time": "2024-02-02T10:43:35.327Z"
   },
   {
    "duration": 17,
    "start_time": "2024-02-02T10:44:03.162Z"
   },
   {
    "duration": 4,
    "start_time": "2024-02-02T10:44:25.356Z"
   },
   {
    "duration": 17,
    "start_time": "2024-02-02T10:44:25.796Z"
   },
   {
    "duration": 4,
    "start_time": "2024-02-02T10:44:39.574Z"
   },
   {
    "duration": 4,
    "start_time": "2024-02-02T10:44:40.070Z"
   },
   {
    "duration": 5,
    "start_time": "2024-02-02T10:44:45.478Z"
   },
   {
    "duration": 5,
    "start_time": "2024-02-02T10:45:57.890Z"
   },
   {
    "duration": 74,
    "start_time": "2024-02-02T10:45:58.370Z"
   },
   {
    "duration": 614,
    "start_time": "2024-02-02T10:46:15.770Z"
   },
   {
    "duration": 839510,
    "start_time": "2024-02-02T10:47:22.907Z"
   },
   {
    "duration": 10,
    "start_time": "2024-02-02T12:02:33.955Z"
   },
   {
    "duration": 71766,
    "start_time": "2024-02-02T12:03:30.146Z"
   },
   {
    "duration": 82,
    "start_time": "2024-02-02T12:21:39.481Z"
   },
   {
    "duration": 97536,
    "start_time": "2024-02-02T12:21:50.561Z"
   },
   {
    "duration": 72006,
    "start_time": "2024-02-02T12:23:28.099Z"
   },
   {
    "duration": 3,
    "start_time": "2024-02-02T12:43:37.368Z"
   },
   {
    "duration": 65,
    "start_time": "2024-02-02T12:44:02.580Z"
   },
   {
    "duration": 3,
    "start_time": "2024-02-02T12:44:13.723Z"
   },
   {
    "duration": 30,
    "start_time": "2024-02-02T12:45:35.344Z"
   },
   {
    "duration": 5,
    "start_time": "2024-02-02T12:46:15.981Z"
   },
   {
    "duration": 20,
    "start_time": "2024-02-02T12:47:23.054Z"
   },
   {
    "duration": 6,
    "start_time": "2024-02-02T12:48:33.986Z"
   },
   {
    "duration": 148,
    "start_time": "2024-02-02T12:49:11.879Z"
   },
   {
    "duration": 7,
    "start_time": "2024-02-02T12:49:26.431Z"
   },
   {
    "duration": 7,
    "start_time": "2024-02-02T12:50:16.710Z"
   },
   {
    "duration": 79,
    "start_time": "2024-02-02T12:50:22.395Z"
   },
   {
    "duration": 100778,
    "start_time": "2024-02-02T12:50:28.228Z"
   },
   {
    "duration": 114,
    "start_time": "2024-02-02T12:55:05.378Z"
   },
   {
    "duration": 5,
    "start_time": "2024-02-02T13:00:15.437Z"
   },
   {
    "duration": 3,
    "start_time": "2024-02-02T13:03:52.540Z"
   },
   {
    "duration": 6,
    "start_time": "2024-02-02T13:07:14.199Z"
   },
   {
    "duration": 80,
    "start_time": "2024-02-02T13:07:16.351Z"
   },
   {
    "duration": 6,
    "start_time": "2024-02-02T13:09:30.774Z"
   },
   {
    "duration": 66,
    "start_time": "2024-02-02T13:09:31.831Z"
   },
   {
    "duration": 55,
    "start_time": "2024-02-02T13:09:38.255Z"
   },
   {
    "duration": 1527,
    "start_time": "2024-02-02T13:10:11.555Z"
   },
   {
    "duration": 519,
    "start_time": "2024-02-02T13:10:33.927Z"
   },
   {
    "duration": 75,
    "start_time": "2024-02-02T13:11:59.826Z"
   },
   {
    "duration": 2048,
    "start_time": "2024-02-02T13:12:00.154Z"
   },
   {
    "duration": 6,
    "start_time": "2024-02-02T13:12:02.204Z"
   },
   {
    "duration": 2104,
    "start_time": "2024-02-02T13:12:02.763Z"
   },
   {
    "duration": 3,
    "start_time": "2024-02-02T13:12:16.175Z"
   },
   {
    "duration": 2,
    "start_time": "2024-02-02T13:12:22.263Z"
   },
   {
    "duration": 78,
    "start_time": "2024-02-02T13:13:54.907Z"
   },
   {
    "duration": 2065,
    "start_time": "2024-02-02T13:13:55.514Z"
   },
   {
    "duration": 6,
    "start_time": "2024-02-02T13:13:57.582Z"
   },
   {
    "duration": 2104,
    "start_time": "2024-02-02T13:13:57.589Z"
   },
   {
    "duration": 6,
    "start_time": "2024-02-02T13:13:59.695Z"
   },
   {
    "duration": 7211,
    "start_time": "2024-02-02T13:13:59.704Z"
   },
   {
    "duration": 78,
    "start_time": "2024-02-02T13:16:01.056Z"
   },
   {
    "duration": 1066,
    "start_time": "2024-02-02T13:16:01.667Z"
   },
   {
    "duration": 7,
    "start_time": "2024-02-02T13:16:02.734Z"
   },
   {
    "duration": 1061,
    "start_time": "2024-02-02T13:16:03.083Z"
   },
   {
    "duration": 6,
    "start_time": "2024-02-02T13:16:04.146Z"
   },
   {
    "duration": 1543,
    "start_time": "2024-02-02T13:16:04.426Z"
   },
   {
    "duration": 75,
    "start_time": "2024-02-02T13:18:08.374Z"
   },
   {
    "duration": 209611,
    "start_time": "2024-02-02T13:18:08.678Z"
   },
   {
    "duration": 5,
    "start_time": "2024-02-02T13:21:38.291Z"
   },
   {
    "duration": 200291,
    "start_time": "2024-02-02T13:21:38.298Z"
   },
   {
    "duration": 6,
    "start_time": "2024-02-02T13:24:58.591Z"
   },
   {
    "duration": 82595,
    "start_time": "2024-02-02T13:24:58.598Z"
   },
   {
    "duration": 6,
    "start_time": "2024-02-02T13:26:29.310Z"
   },
   {
    "duration": 101415,
    "start_time": "2024-02-02T13:26:35.661Z"
   },
   {
    "duration": 7,
    "start_time": "2024-02-02T13:28:17.079Z"
   },
   {
    "duration": 85,
    "start_time": "2024-02-02T13:28:17.088Z"
   },
   {
    "duration": 4,
    "start_time": "2024-02-02T13:28:17.176Z"
   },
   {
    "duration": 24,
    "start_time": "2024-02-02T13:28:17.224Z"
   },
   {
    "duration": 66725,
    "start_time": "2024-02-02T13:28:17.961Z"
   },
   {
    "duration": 14396,
    "start_time": "2024-02-02T13:29:24.688Z"
   },
   {
    "duration": 107876,
    "start_time": "2024-02-02T13:29:39.085Z"
   },
   {
    "duration": 5,
    "start_time": "2024-02-02T13:31:26.972Z"
   },
   {
    "duration": 12,
    "start_time": "2024-02-02T13:31:26.979Z"
   },
   {
    "duration": 6,
    "start_time": "2024-02-02T13:31:26.993Z"
   },
   {
    "duration": 15,
    "start_time": "2024-02-02T13:31:27.001Z"
   },
   {
    "duration": 30,
    "start_time": "2024-02-02T13:31:27.018Z"
   },
   {
    "duration": 95,
    "start_time": "2024-02-02T13:32:39.402Z"
   },
   {
    "duration": 19,
    "start_time": "2024-02-02T13:32:45.416Z"
   },
   {
    "duration": 6,
    "start_time": "2024-02-02T13:36:42.945Z"
   },
   {
    "duration": 223845,
    "start_time": "2024-02-02T13:36:44.241Z"
   },
   {
    "duration": 211403,
    "start_time": "2024-02-02T13:40:28.088Z"
   },
   {
    "duration": 3021,
    "start_time": "2024-02-02T13:51:53.378Z"
   },
   {
    "duration": 2611,
    "start_time": "2024-02-02T13:51:59.770Z"
   },
   {
    "duration": 2526,
    "start_time": "2024-02-02T13:52:03.529Z"
   },
   {
    "duration": 21250,
    "start_time": "2024-02-02T13:52:21.464Z"
   },
   {
    "duration": 2743,
    "start_time": "2024-02-02T13:52:47.454Z"
   },
   {
    "duration": 41365,
    "start_time": "2024-02-02T13:53:44.041Z"
   },
   {
    "duration": 0,
    "start_time": "2024-02-02T13:54:25.408Z"
   },
   {
    "duration": 0,
    "start_time": "2024-02-02T13:54:25.409Z"
   },
   {
    "duration": 0,
    "start_time": "2024-02-02T13:54:25.410Z"
   },
   {
    "duration": 0,
    "start_time": "2024-02-02T13:54:25.412Z"
   },
   {
    "duration": 5554,
    "start_time": "2024-02-02T13:54:46.042Z"
   },
   {
    "duration": 968,
    "start_time": "2024-02-02T13:55:07.853Z"
   },
   {
    "duration": 22,
    "start_time": "2024-02-02T13:55:08.823Z"
   },
   {
    "duration": 31,
    "start_time": "2024-02-02T13:55:08.932Z"
   },
   {
    "duration": 7,
    "start_time": "2024-02-02T13:55:09.452Z"
   },
   {
    "duration": 7,
    "start_time": "2024-02-02T13:55:14.956Z"
   },
   {
    "duration": 100731,
    "start_time": "2024-02-02T13:55:21.108Z"
   },
   {
    "duration": 8,
    "start_time": "2024-02-02T13:57:01.841Z"
   },
   {
    "duration": 30,
    "start_time": "2024-02-02T13:57:01.850Z"
   },
   {
    "duration": 85,
    "start_time": "2024-02-02T13:57:01.882Z"
   },
   {
    "duration": 3,
    "start_time": "2024-02-02T13:57:01.968Z"
   },
   {
    "duration": 32,
    "start_time": "2024-02-02T13:57:01.973Z"
   },
   {
    "duration": 63576,
    "start_time": "2024-02-02T13:57:02.007Z"
   },
   {
    "duration": 57371,
    "start_time": "2024-02-02T14:00:53.802Z"
   },
   {
    "duration": 12312,
    "start_time": "2024-02-02T14:01:51.175Z"
   },
   {
    "duration": 115637,
    "start_time": "2024-02-02T14:02:03.489Z"
   },
   {
    "duration": 4,
    "start_time": "2024-02-02T14:03:59.128Z"
   },
   {
    "duration": 6,
    "start_time": "2024-02-02T14:03:59.133Z"
   },
   {
    "duration": 9,
    "start_time": "2024-02-02T14:03:59.140Z"
   },
   {
    "duration": 23,
    "start_time": "2024-02-02T14:03:59.150Z"
   },
   {
    "duration": 27,
    "start_time": "2024-02-02T14:03:59.175Z"
   },
   {
    "duration": 3,
    "start_time": "2024-02-02T14:03:59.204Z"
   },
   {
    "duration": 6792588,
    "start_time": "2024-02-02T14:03:59.209Z"
   },
   {
    "duration": 4,
    "start_time": "2024-02-02T15:57:11.799Z"
   },
   {
    "duration": 13,
    "start_time": "2024-02-02T15:57:11.805Z"
   },
   {
    "duration": 4325,
    "start_time": "2024-02-02T15:57:11.820Z"
   },
   {
    "duration": 41,
    "start_time": "2024-02-02T15:57:16.147Z"
   },
   {
    "duration": 469,
    "start_time": "2024-02-02T15:57:16.189Z"
   },
   {
    "duration": 17,
    "start_time": "2024-02-02T15:57:16.660Z"
   },
   {
    "duration": 0,
    "start_time": "2024-02-02T15:57:16.679Z"
   },
   {
    "duration": 0,
    "start_time": "2024-02-02T15:57:16.680Z"
   },
   {
    "duration": 0,
    "start_time": "2024-02-02T15:57:16.681Z"
   },
   {
    "duration": 0,
    "start_time": "2024-02-02T15:57:16.682Z"
   },
   {
    "duration": 0,
    "start_time": "2024-02-02T15:57:16.683Z"
   },
   {
    "duration": 886,
    "start_time": "2024-02-02T17:07:46.958Z"
   },
   {
    "duration": 11877,
    "start_time": "2024-02-02T17:07:50.606Z"
   },
   {
    "duration": 14839,
    "start_time": "2024-02-02T17:09:07.302Z"
   },
   {
    "duration": 374,
    "start_time": "2024-02-02T17:09:28.334Z"
   },
   {
    "duration": 49,
    "start_time": "2024-02-02T17:09:37.891Z"
   },
   {
    "duration": 0,
    "start_time": "2024-02-02T17:09:37.942Z"
   },
   {
    "duration": 6,
    "start_time": "2024-02-02T17:09:51.305Z"
   },
   {
    "duration": 7731,
    "start_time": "2024-02-02T17:09:57.482Z"
   },
   {
    "duration": 3257,
    "start_time": "2024-02-02T17:10:05.216Z"
   },
   {
    "duration": 5014,
    "start_time": "2024-02-02T17:10:08.475Z"
   },
   {
    "duration": 10111,
    "start_time": "2024-02-02T17:10:13.491Z"
   },
   {
    "duration": 211,
    "start_time": "2024-02-02T17:10:23.604Z"
   },
   {
    "duration": 30,
    "start_time": "2024-02-02T17:10:23.817Z"
   },
   {
    "duration": 134,
    "start_time": "2024-02-02T17:12:02.950Z"
   },
   {
    "duration": 83,
    "start_time": "2024-02-02T17:16:25.196Z"
   },
   {
    "duration": 6809,
    "start_time": "2024-02-02T17:16:32.472Z"
   },
   {
    "duration": 3245,
    "start_time": "2024-02-02T17:16:39.283Z"
   },
   {
    "duration": 36,
    "start_time": "2024-02-02T17:16:42.530Z"
   },
   {
    "duration": 7,
    "start_time": "2024-02-02T17:16:42.568Z"
   },
   {
    "duration": 103245,
    "start_time": "2024-02-02T17:16:42.576Z"
   },
   {
    "duration": 8,
    "start_time": "2024-02-02T17:18:25.823Z"
   },
   {
    "duration": 32,
    "start_time": "2024-02-02T17:18:25.832Z"
   },
   {
    "duration": 104,
    "start_time": "2024-02-02T17:18:25.866Z"
   },
   {
    "duration": 3,
    "start_time": "2024-02-02T17:18:25.971Z"
   },
   {
    "duration": 12,
    "start_time": "2024-02-02T17:18:25.977Z"
   },
   {
    "duration": 56953,
    "start_time": "2024-02-02T17:18:25.990Z"
   },
   {
    "duration": 12250,
    "start_time": "2024-02-02T17:19:22.946Z"
   },
   {
    "duration": 384,
    "start_time": "2024-02-02T17:19:35.198Z"
   },
   {
    "duration": 15,
    "start_time": "2024-02-02T17:19:35.584Z"
   },
   {
    "duration": 0,
    "start_time": "2024-02-02T17:19:35.600Z"
   },
   {
    "duration": 0,
    "start_time": "2024-02-02T17:19:35.602Z"
   },
   {
    "duration": 0,
    "start_time": "2024-02-02T17:19:35.603Z"
   },
   {
    "duration": 0,
    "start_time": "2024-02-02T17:19:35.604Z"
   },
   {
    "duration": 0,
    "start_time": "2024-02-02T17:19:35.604Z"
   },
   {
    "duration": 41945972,
    "start_time": "2024-02-02T17:19:48.441Z"
   },
   {
    "duration": 4,
    "start_time": "2024-02-03T04:58:54.415Z"
   },
   {
    "duration": 7,
    "start_time": "2024-02-03T04:58:54.420Z"
   },
   {
    "duration": 242912,
    "start_time": "2024-02-03T04:58:54.429Z"
   },
   {
    "duration": 3,
    "start_time": "2024-02-03T05:02:57.343Z"
   },
   {
    "duration": 6,
    "start_time": "2024-02-03T05:02:57.347Z"
   },
   {
    "duration": 244065,
    "start_time": "2024-02-03T05:02:57.354Z"
   },
   {
    "duration": 22,
    "start_time": "2024-02-03T08:36:02.157Z"
   },
   {
    "duration": 2,
    "start_time": "2024-02-03T08:36:10.719Z"
   },
   {
    "duration": 18,
    "start_time": "2024-02-03T08:36:15.478Z"
   },
   {
    "duration": 3,
    "start_time": "2024-02-03T08:37:16.948Z"
   },
   {
    "duration": 17,
    "start_time": "2024-02-03T08:37:17.477Z"
   },
   {
    "duration": 676485,
    "start_time": "2024-02-03T08:38:00.717Z"
   },
   {
    "duration": 3,
    "start_time": "2024-02-03T08:49:17.205Z"
   },
   {
    "duration": 19,
    "start_time": "2024-02-03T08:49:17.210Z"
   },
   {
    "duration": 15,
    "start_time": "2024-02-03T08:49:17.230Z"
   },
   {
    "duration": 21,
    "start_time": "2024-02-03T08:49:17.246Z"
   },
   {
    "duration": 38,
    "start_time": "2024-02-03T08:49:17.269Z"
   },
   {
    "duration": 127,
    "start_time": "2024-02-03T14:34:02.121Z"
   },
   {
    "duration": 7,
    "start_time": "2024-02-03T14:34:32.639Z"
   },
   {
    "duration": 1106,
    "start_time": "2024-02-03T14:37:14.423Z"
   },
   {
    "duration": 5072,
    "start_time": "2024-02-03T14:38:44.827Z"
   },
   {
    "duration": 8589,
    "start_time": "2024-02-03T14:39:15.906Z"
   },
   {
    "duration": 3,
    "start_time": "2024-02-03T14:39:34.431Z"
   },
   {
    "duration": 224,
    "start_time": "2024-02-03T14:39:52.726Z"
   },
   {
    "duration": 3040,
    "start_time": "2024-02-03T14:40:02.923Z"
   },
   {
    "duration": 3,
    "start_time": "2024-02-03T14:40:10.455Z"
   },
   {
    "duration": 4,
    "start_time": "2024-02-03T14:40:24.976Z"
   },
   {
    "duration": 76,
    "start_time": "2024-02-03T14:40:40.163Z"
   },
   {
    "duration": 65,
    "start_time": "2024-02-03T14:40:49.427Z"
   },
   {
    "duration": 3244,
    "start_time": "2024-02-03T14:42:47.356Z"
   },
   {
    "duration": 862,
    "start_time": "2024-02-03T14:43:01.058Z"
   },
   {
    "duration": 3,
    "start_time": "2024-02-03T14:43:02.712Z"
   },
   {
    "duration": 23,
    "start_time": "2024-02-03T14:43:19.848Z"
   },
   {
    "duration": 17,
    "start_time": "2024-02-03T14:43:31.502Z"
   },
   {
    "duration": 3,
    "start_time": "2024-02-03T14:43:44.143Z"
   },
   {
    "duration": 3,
    "start_time": "2024-02-03T14:43:56.719Z"
   },
   {
    "duration": 4,
    "start_time": "2024-02-03T14:44:10.295Z"
   },
   {
    "duration": 6,
    "start_time": "2024-02-03T14:44:30.665Z"
   },
   {
    "duration": 17,
    "start_time": "2024-02-03T14:44:43.784Z"
   },
   {
    "duration": 15,
    "start_time": "2024-02-03T14:45:00.823Z"
   },
   {
    "duration": 3,
    "start_time": "2024-02-03T14:45:48.613Z"
   },
   {
    "duration": 52,
    "start_time": "2024-02-05T09:33:27.079Z"
   },
   {
    "duration": 5918,
    "start_time": "2024-02-05T09:35:51.356Z"
   },
   {
    "duration": 14,
    "start_time": "2024-02-05T09:36:40.157Z"
   },
   {
    "duration": 374,
    "start_time": "2024-02-05T09:37:38.081Z"
   },
   {
    "duration": 4,
    "start_time": "2024-02-05T09:37:42.807Z"
   },
   {
    "duration": 8,
    "start_time": "2024-02-05T09:37:43.127Z"
   },
   {
    "duration": 2457,
    "start_time": "2024-02-05T09:41:00.121Z"
   },
   {
    "duration": 4,
    "start_time": "2024-02-05T09:41:13.025Z"
   },
   {
    "duration": 20,
    "start_time": "2024-02-05T09:41:34.662Z"
   },
   {
    "duration": 9653,
    "start_time": "2024-02-05T09:41:44.620Z"
   },
   {
    "duration": 86,
    "start_time": "2024-02-05T09:42:04.537Z"
   },
   {
    "duration": 35,
    "start_time": "2024-02-05T09:42:41.885Z"
   },
   {
    "duration": 952,
    "start_time": "2024-02-05T09:43:57.038Z"
   },
   {
    "duration": 1029,
    "start_time": "2024-02-05T09:44:16.371Z"
   },
   {
    "duration": 436,
    "start_time": "2024-02-05T09:44:53.033Z"
   },
   {
    "duration": 6,
    "start_time": "2024-02-05T09:45:31.304Z"
   },
   {
    "duration": 943,
    "start_time": "2024-02-05T09:46:18.302Z"
   },
   {
    "duration": 13,
    "start_time": "2024-02-05T09:46:19.247Z"
   },
   {
    "duration": 5,
    "start_time": "2024-02-05T09:46:20.084Z"
   },
   {
    "duration": 4,
    "start_time": "2024-02-05T09:46:26.109Z"
   },
   {
    "duration": 36,
    "start_time": "2024-02-05T09:46:27.294Z"
   },
   {
    "duration": 5,
    "start_time": "2024-02-05T09:46:59.818Z"
   },
   {
    "duration": 6,
    "start_time": "2024-02-05T09:47:00.674Z"
   },
   {
    "duration": 228,
    "start_time": "2024-02-05T09:47:01.611Z"
   },
   {
    "duration": 223,
    "start_time": "2024-02-05T09:47:16.895Z"
   },
   {
    "duration": 995,
    "start_time": "2024-02-05T09:51:26.173Z"
   },
   {
    "duration": 334,
    "start_time": "2024-02-05T09:51:28.077Z"
   },
   {
    "duration": 922,
    "start_time": "2024-02-05T09:53:24.190Z"
   },
   {
    "duration": 8,
    "start_time": "2024-02-05T09:53:27.734Z"
   },
   {
    "duration": 103233,
    "start_time": "2024-02-05T09:53:30.925Z"
   },
   {
    "duration": 13,
    "start_time": "2024-02-05T09:55:14.160Z"
   },
   {
    "duration": 6,
    "start_time": "2024-02-05T09:55:14.174Z"
   },
   {
    "duration": 78,
    "start_time": "2024-02-05T09:55:14.182Z"
   },
   {
    "duration": 3,
    "start_time": "2024-02-05T09:55:14.261Z"
   },
   {
    "duration": 103,
    "start_time": "2024-02-05T09:55:14.266Z"
   },
   {
    "duration": 2232,
    "start_time": "2024-02-05T09:57:49.257Z"
   },
   {
    "duration": 1159,
    "start_time": "2024-02-05T09:58:09.995Z"
   },
   {
    "duration": 2229,
    "start_time": "2024-02-05T09:58:18.758Z"
   },
   {
    "duration": 5,
    "start_time": "2024-02-05T09:59:57.221Z"
   },
   {
    "duration": 2317,
    "start_time": "2024-02-05T09:59:58.093Z"
   },
   {
    "duration": 71,
    "start_time": "2024-02-05T10:00:37.992Z"
   },
   {
    "duration": 5,
    "start_time": "2024-02-05T10:00:42.887Z"
   },
   {
    "duration": 2206,
    "start_time": "2024-02-05T10:00:43.478Z"
   },
   {
    "duration": 5,
    "start_time": "2024-02-05T10:00:52.116Z"
   },
   {
    "duration": 2222,
    "start_time": "2024-02-05T10:00:52.438Z"
   },
   {
    "duration": 4,
    "start_time": "2024-02-05T10:02:36.526Z"
   },
   {
    "duration": 5,
    "start_time": "2024-02-05T10:02:37.117Z"
   },
   {
    "duration": 1168086,
    "start_time": "2024-02-05T10:02:37.774Z"
   },
   {
    "duration": 0,
    "start_time": "2024-02-05T10:22:05.863Z"
   },
   {
    "duration": 2413,
    "start_time": "2024-02-05T17:55:00.933Z"
   },
   {
    "duration": 3,
    "start_time": "2024-02-05T17:55:03.348Z"
   },
   {
    "duration": 6,
    "start_time": "2024-02-05T17:55:03.352Z"
   },
   {
    "duration": 14893,
    "start_time": "2024-02-05T17:55:03.360Z"
   },
   {
    "duration": 16957,
    "start_time": "2024-02-05T17:55:18.255Z"
   },
   {
    "duration": 3217,
    "start_time": "2024-02-05T17:55:35.214Z"
   },
   {
    "duration": 21,
    "start_time": "2024-02-05T17:55:38.433Z"
   },
   {
    "duration": 26,
    "start_time": "2024-02-05T17:55:38.455Z"
   },
   {
    "duration": 6,
    "start_time": "2024-02-05T17:55:38.487Z"
   },
   {
    "duration": 8,
    "start_time": "2024-02-05T17:55:38.496Z"
   },
   {
    "duration": 1082,
    "start_time": "2024-02-05T17:55:38.506Z"
   },
   {
    "duration": 7,
    "start_time": "2024-02-05T17:55:39.590Z"
   },
   {
    "duration": 5,
    "start_time": "2024-02-05T17:57:06.559Z"
   },
   {
    "duration": 30,
    "start_time": "2024-02-05T17:57:09.190Z"
   },
   {
    "duration": 6,
    "start_time": "2024-02-05T17:57:34.335Z"
   },
   {
    "duration": 40,
    "start_time": "2024-02-05T17:57:37.225Z"
   },
   {
    "duration": 96,
    "start_time": "2024-02-05T17:59:15.931Z"
   },
   {
    "duration": 104,
    "start_time": "2024-02-05T17:59:23.930Z"
   },
   {
    "duration": 5,
    "start_time": "2024-02-05T17:59:37.451Z"
   },
   {
    "duration": 1444,
    "start_time": "2024-02-05T17:59:39.682Z"
   },
   {
    "duration": 6,
    "start_time": "2024-02-05T18:01:18.899Z"
   },
   {
    "duration": 1171,
    "start_time": "2024-02-05T18:01:22.791Z"
   },
   {
    "duration": 2640,
    "start_time": "2024-02-05T18:03:53.052Z"
   },
   {
    "duration": 3,
    "start_time": "2024-02-05T18:03:55.694Z"
   },
   {
    "duration": 16,
    "start_time": "2024-02-05T18:03:55.698Z"
   },
   {
    "duration": 2567,
    "start_time": "2024-02-05T18:03:55.716Z"
   },
   {
    "duration": 14585,
    "start_time": "2024-02-05T18:03:58.286Z"
   },
   {
    "duration": 809,
    "start_time": "2024-02-05T18:04:12.873Z"
   },
   {
    "duration": 19,
    "start_time": "2024-02-05T18:04:13.684Z"
   },
   {
    "duration": 25,
    "start_time": "2024-02-05T18:04:13.704Z"
   },
   {
    "duration": 7,
    "start_time": "2024-02-05T18:04:13.731Z"
   },
   {
    "duration": 19,
    "start_time": "2024-02-05T18:04:13.739Z"
   },
   {
    "duration": 1075,
    "start_time": "2024-02-05T18:04:13.760Z"
   },
   {
    "duration": 53,
    "start_time": "2024-02-05T18:04:14.836Z"
   }
  ],
  "kernelspec": {
   "display_name": "Python 3 (ipykernel)",
   "language": "python",
   "name": "python3"
  },
  "language_info": {
   "codemirror_mode": {
    "name": "ipython",
    "version": 3
   },
   "file_extension": ".py",
   "mimetype": "text/x-python",
   "name": "python",
   "nbconvert_exporter": "python",
   "pygments_lexer": "ipython3",
   "version": "3.11.3"
  },
  "toc": {
   "base_numbering": 1,
   "nav_menu": {},
   "number_sections": true,
   "sideBar": true,
   "skip_h1_title": true,
   "title_cell": "Содержание",
   "title_sidebar": "Contents",
   "toc_cell": true,
   "toc_position": {
    "height": "calc(100% - 180px)",
    "left": "10px",
    "top": "150px",
    "width": "302.344px"
   },
   "toc_section_display": true,
   "toc_window_display": true
  }
 },
 "nbformat": 4,
 "nbformat_minor": 2
}
