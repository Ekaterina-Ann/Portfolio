{
 "cells": [
  {
   "cell_type": "markdown",
   "metadata": {},
   "source": [
    "# Выбор локации для скважины"
   ]
  },
  {
   "cell_type": "markdown",
   "metadata": {},
   "source": [
    "<div style=\"border:solid Chocolate 2px; padding: 40px\">\n",
    "\n",
    "## Описание проекта\n",
    "\n",
    "Нам предоставлены пробы нефти в трёх регионах. Характеристики для каждой скважины в регионе уже известны. Необходимо построить модель для определения региона, где добыча принесёт наибольшую прибыль. \n",
    "\n",
    "<b>Описание данных</b>\n",
    "    \n",
    "Данные находятся в файле csv.\n",
    "\n",
    "* id — уникальный идентификатор скважины;\n",
    "* f0, f1, f2 — три признака точек (неважно, что они означают, но сами признаки значимы);\n",
    "* product — объём запасов в скважине (тыс. баррелей)"
   ]
  },
  {
   "cell_type": "markdown",
   "metadata": {},
   "source": [
    "## Загрузка и подготовка данных"
   ]
  },
  {
   "cell_type": "markdown",
   "metadata": {},
   "source": [
    "Загрузим и проверим данные."
   ]
  },
  {
   "cell_type": "code",
   "execution_count": 1,
   "metadata": {},
   "outputs": [
    {
     "name": "stderr",
     "output_type": "stream",
     "text": [
      "C:\\Users\\Katya\\AppData\\Roaming\\Python\\Python311\\site-packages\\pandas\\core\\arrays\\masked.py:60: UserWarning: Pandas requires version '1.3.6' or newer of 'bottleneck' (version '1.3.5' currently installed).\n",
      "  from pandas.core import (\n"
     ]
    }
   ],
   "source": [
    "import pandas as pd\n",
    "from sklearn.linear_model import LinearRegression\n",
    "from sklearn.model_selection import train_test_split, cross_val_score\n",
    "from sklearn.metrics import mean_squared_error\n",
    "import numpy as np\n",
    "from numpy.random import RandomState\n",
    "from scipy import stats as st\n",
    "import matplotlib.pyplot as plt"
   ]
  },
  {
   "cell_type": "code",
   "execution_count": 2,
   "metadata": {},
   "outputs": [],
   "source": [
    "path = '/datasets/'"
   ]
  },
  {
   "cell_type": "code",
   "execution_count": 3,
   "metadata": {},
   "outputs": [],
   "source": [
    "try:\n",
    "    data_0 = pd.read_csv('geo_data_0.csv')\n",
    "    data_1 = pd.read_csv('geo_data_1.csv')\n",
    "    data_2 = pd.read_csv('geo_data_2.csv')\n",
    "except:\n",
    "    data_0 = pd.read_csv(path + 'geo_data_0.csv')\n",
    "    data_1 = pd.read_csv(path + 'geo_data_1.csv')\n",
    "    data_2 = pd.read_csv(path + 'geo_data_2.csv')    "
   ]
  },
  {
   "cell_type": "code",
   "execution_count": 4,
   "metadata": {},
   "outputs": [],
   "source": [
    "def describe_data(df, num):\n",
    "    display(df.head())\n",
    "    df.info()\n",
    "    df['product'].hist(bins= int(max(df['product']) - min(df['product']) + 1),\n",
    "                       figsize=(10, 5))\n",
    "    plt.grid(True)\n",
    "    plt.title(f'Гистограмма объёмов запасов в скважине (тыс. баррелей) в регионе {num}\\n', fontsize=16)\n",
    "    plt.xlabel('Объёмы запасов в скважине (тыс. баррелей)', fontsize=12)\n",
    "    plt.ylabel('Количество значений', fontsize=12)\n",
    "    plt.show()"
   ]
  },
  {
   "cell_type": "code",
   "execution_count": 5,
   "metadata": {},
   "outputs": [
    {
     "data": {
      "text/html": [
       "<div>\n",
       "<style scoped>\n",
       "    .dataframe tbody tr th:only-of-type {\n",
       "        vertical-align: middle;\n",
       "    }\n",
       "\n",
       "    .dataframe tbody tr th {\n",
       "        vertical-align: top;\n",
       "    }\n",
       "\n",
       "    .dataframe thead th {\n",
       "        text-align: right;\n",
       "    }\n",
       "</style>\n",
       "<table border=\"1\" class=\"dataframe\">\n",
       "  <thead>\n",
       "    <tr style=\"text-align: right;\">\n",
       "      <th></th>\n",
       "      <th>id</th>\n",
       "      <th>f0</th>\n",
       "      <th>f1</th>\n",
       "      <th>f2</th>\n",
       "      <th>product</th>\n",
       "    </tr>\n",
       "  </thead>\n",
       "  <tbody>\n",
       "    <tr>\n",
       "      <th>0</th>\n",
       "      <td>txEyH</td>\n",
       "      <td>0.705745</td>\n",
       "      <td>-0.497823</td>\n",
       "      <td>1.221170</td>\n",
       "      <td>105.280062</td>\n",
       "    </tr>\n",
       "    <tr>\n",
       "      <th>1</th>\n",
       "      <td>2acmU</td>\n",
       "      <td>1.334711</td>\n",
       "      <td>-0.340164</td>\n",
       "      <td>4.365080</td>\n",
       "      <td>73.037750</td>\n",
       "    </tr>\n",
       "    <tr>\n",
       "      <th>2</th>\n",
       "      <td>409Wp</td>\n",
       "      <td>1.022732</td>\n",
       "      <td>0.151990</td>\n",
       "      <td>1.419926</td>\n",
       "      <td>85.265647</td>\n",
       "    </tr>\n",
       "    <tr>\n",
       "      <th>3</th>\n",
       "      <td>iJLyR</td>\n",
       "      <td>-0.032172</td>\n",
       "      <td>0.139033</td>\n",
       "      <td>2.978566</td>\n",
       "      <td>168.620776</td>\n",
       "    </tr>\n",
       "    <tr>\n",
       "      <th>4</th>\n",
       "      <td>Xdl7t</td>\n",
       "      <td>1.988431</td>\n",
       "      <td>0.155413</td>\n",
       "      <td>4.751769</td>\n",
       "      <td>154.036647</td>\n",
       "    </tr>\n",
       "  </tbody>\n",
       "</table>\n",
       "</div>"
      ],
      "text/plain": [
       "      id        f0        f1        f2     product\n",
       "0  txEyH  0.705745 -0.497823  1.221170  105.280062\n",
       "1  2acmU  1.334711 -0.340164  4.365080   73.037750\n",
       "2  409Wp  1.022732  0.151990  1.419926   85.265647\n",
       "3  iJLyR -0.032172  0.139033  2.978566  168.620776\n",
       "4  Xdl7t  1.988431  0.155413  4.751769  154.036647"
      ]
     },
     "metadata": {},
     "output_type": "display_data"
    },
    {
     "name": "stdout",
     "output_type": "stream",
     "text": [
      "<class 'pandas.core.frame.DataFrame'>\n",
      "RangeIndex: 100000 entries, 0 to 99999\n",
      "Data columns (total 5 columns):\n",
      " #   Column   Non-Null Count   Dtype  \n",
      "---  ------   --------------   -----  \n",
      " 0   id       100000 non-null  object \n",
      " 1   f0       100000 non-null  float64\n",
      " 2   f1       100000 non-null  float64\n",
      " 3   f2       100000 non-null  float64\n",
      " 4   product  100000 non-null  float64\n",
      "dtypes: float64(4), object(1)\n",
      "memory usage: 3.8+ MB\n"
     ]
    },
    {
     "data": {
      "image/png": "[encoded data removed]",
      "text/plain": [
       "<Figure size 1000x500 with 1 Axes>"
      ]
     },
     "metadata": {},
     "output_type": "display_data"
    }
   ],
   "source": [
    "describe_data(data_0, 1)"
   ]
  },
  {
   "cell_type": "markdown",
   "metadata": {},
   "source": [
    "Пропусков в данных нет. Типы данных верные. Проверим на дубликаты."
   ]
  },
  {
   "cell_type": "code",
   "execution_count": 6,
   "metadata": {
    "scrolled": true
   },
   "outputs": [
    {
     "data": {
      "text/plain": [
       "id\n",
       "fiKDv    2\n",
       "AGS9W    2\n",
       "Tdehs    2\n",
       "74z30    2\n",
       "A5aEY    2\n",
       "bsk9y    2\n",
       "TtcGQ    2\n",
       "HZww2    2\n",
       "bxg6G    2\n",
       "QcMuo    2\n",
       "j9Oui    1\n",
       "zIYPq    1\n",
       "1YYm1    1\n",
       "b8WQ6    1\n",
       "OLuZU    1\n",
       "Name: count, dtype: int64"
      ]
     },
     "execution_count": 6,
     "metadata": {},
     "output_type": "execute_result"
    }
   ],
   "source": [
    "data_0['id'].value_counts().sort_values(ascending=False).head(15)"
   ]
  },
  {
   "cell_type": "code",
   "execution_count": 7,
   "metadata": {},
   "outputs": [
    {
     "data": {
      "text/html": [
       "<div>\n",
       "<style scoped>\n",
       "    .dataframe tbody tr th:only-of-type {\n",
       "        vertical-align: middle;\n",
       "    }\n",
       "\n",
       "    .dataframe tbody tr th {\n",
       "        vertical-align: top;\n",
       "    }\n",
       "\n",
       "    .dataframe thead th {\n",
       "        text-align: right;\n",
       "    }\n",
       "</style>\n",
       "<table border=\"1\" class=\"dataframe\">\n",
       "  <thead>\n",
       "    <tr style=\"text-align: right;\">\n",
       "      <th></th>\n",
       "      <th>id</th>\n",
       "      <th>f0</th>\n",
       "      <th>f1</th>\n",
       "      <th>f2</th>\n",
       "      <th>product</th>\n",
       "    </tr>\n",
       "  </thead>\n",
       "  <tbody>\n",
       "    <tr>\n",
       "      <th>931</th>\n",
       "      <td>HZww2</td>\n",
       "      <td>0.755284</td>\n",
       "      <td>0.368511</td>\n",
       "      <td>1.863211</td>\n",
       "      <td>30.681774</td>\n",
       "    </tr>\n",
       "    <tr>\n",
       "      <th>1364</th>\n",
       "      <td>bxg6G</td>\n",
       "      <td>0.411645</td>\n",
       "      <td>0.856830</td>\n",
       "      <td>-3.653440</td>\n",
       "      <td>73.604260</td>\n",
       "    </tr>\n",
       "    <tr>\n",
       "      <th>1949</th>\n",
       "      <td>QcMuo</td>\n",
       "      <td>0.506563</td>\n",
       "      <td>-0.323775</td>\n",
       "      <td>-2.215583</td>\n",
       "      <td>75.496502</td>\n",
       "    </tr>\n",
       "    <tr>\n",
       "      <th>3389</th>\n",
       "      <td>A5aEY</td>\n",
       "      <td>-0.039949</td>\n",
       "      <td>0.156872</td>\n",
       "      <td>0.209861</td>\n",
       "      <td>89.249364</td>\n",
       "    </tr>\n",
       "    <tr>\n",
       "      <th>7530</th>\n",
       "      <td>HZww2</td>\n",
       "      <td>1.061194</td>\n",
       "      <td>-0.373969</td>\n",
       "      <td>10.430210</td>\n",
       "      <td>158.828695</td>\n",
       "    </tr>\n",
       "    <tr>\n",
       "      <th>16633</th>\n",
       "      <td>fiKDv</td>\n",
       "      <td>0.157341</td>\n",
       "      <td>1.028359</td>\n",
       "      <td>5.585586</td>\n",
       "      <td>95.817889</td>\n",
       "    </tr>\n",
       "    <tr>\n",
       "      <th>21426</th>\n",
       "      <td>Tdehs</td>\n",
       "      <td>0.829407</td>\n",
       "      <td>0.298807</td>\n",
       "      <td>-0.049563</td>\n",
       "      <td>96.035308</td>\n",
       "    </tr>\n",
       "    <tr>\n",
       "      <th>41724</th>\n",
       "      <td>bxg6G</td>\n",
       "      <td>-0.823752</td>\n",
       "      <td>0.546319</td>\n",
       "      <td>3.630479</td>\n",
       "      <td>93.007798</td>\n",
       "    </tr>\n",
       "    <tr>\n",
       "      <th>42529</th>\n",
       "      <td>AGS9W</td>\n",
       "      <td>1.454747</td>\n",
       "      <td>-0.479651</td>\n",
       "      <td>0.683380</td>\n",
       "      <td>126.370504</td>\n",
       "    </tr>\n",
       "    <tr>\n",
       "      <th>51970</th>\n",
       "      <td>A5aEY</td>\n",
       "      <td>-0.180335</td>\n",
       "      <td>0.935548</td>\n",
       "      <td>-2.094773</td>\n",
       "      <td>33.020205</td>\n",
       "    </tr>\n",
       "    <tr>\n",
       "      <th>60140</th>\n",
       "      <td>TtcGQ</td>\n",
       "      <td>0.569276</td>\n",
       "      <td>-0.104876</td>\n",
       "      <td>6.440215</td>\n",
       "      <td>85.350186</td>\n",
       "    </tr>\n",
       "    <tr>\n",
       "      <th>63593</th>\n",
       "      <td>QcMuo</td>\n",
       "      <td>0.635635</td>\n",
       "      <td>-0.473422</td>\n",
       "      <td>0.862670</td>\n",
       "      <td>64.578675</td>\n",
       "    </tr>\n",
       "    <tr>\n",
       "      <th>64022</th>\n",
       "      <td>74z30</td>\n",
       "      <td>0.741456</td>\n",
       "      <td>0.459229</td>\n",
       "      <td>5.153109</td>\n",
       "      <td>140.771492</td>\n",
       "    </tr>\n",
       "    <tr>\n",
       "      <th>66136</th>\n",
       "      <td>74z30</td>\n",
       "      <td>1.084962</td>\n",
       "      <td>-0.312358</td>\n",
       "      <td>6.990771</td>\n",
       "      <td>127.643327</td>\n",
       "    </tr>\n",
       "    <tr>\n",
       "      <th>69163</th>\n",
       "      <td>AGS9W</td>\n",
       "      <td>-0.933795</td>\n",
       "      <td>0.116194</td>\n",
       "      <td>-3.655896</td>\n",
       "      <td>19.230453</td>\n",
       "    </tr>\n",
       "    <tr>\n",
       "      <th>75715</th>\n",
       "      <td>Tdehs</td>\n",
       "      <td>0.112079</td>\n",
       "      <td>0.430296</td>\n",
       "      <td>3.218993</td>\n",
       "      <td>60.964018</td>\n",
       "    </tr>\n",
       "    <tr>\n",
       "      <th>89582</th>\n",
       "      <td>bsk9y</td>\n",
       "      <td>0.398908</td>\n",
       "      <td>-0.400253</td>\n",
       "      <td>10.122376</td>\n",
       "      <td>163.433078</td>\n",
       "    </tr>\n",
       "    <tr>\n",
       "      <th>90815</th>\n",
       "      <td>fiKDv</td>\n",
       "      <td>0.049883</td>\n",
       "      <td>0.841313</td>\n",
       "      <td>6.394613</td>\n",
       "      <td>137.346586</td>\n",
       "    </tr>\n",
       "    <tr>\n",
       "      <th>92341</th>\n",
       "      <td>TtcGQ</td>\n",
       "      <td>0.110711</td>\n",
       "      <td>1.022689</td>\n",
       "      <td>0.911381</td>\n",
       "      <td>101.318008</td>\n",
       "    </tr>\n",
       "    <tr>\n",
       "      <th>97785</th>\n",
       "      <td>bsk9y</td>\n",
       "      <td>0.378429</td>\n",
       "      <td>0.005837</td>\n",
       "      <td>0.160827</td>\n",
       "      <td>160.637302</td>\n",
       "    </tr>\n",
       "  </tbody>\n",
       "</table>\n",
       "</div>"
      ],
      "text/plain": [
       "          id        f0        f1         f2     product\n",
       "931    HZww2  0.755284  0.368511   1.863211   30.681774\n",
       "1364   bxg6G  0.411645  0.856830  -3.653440   73.604260\n",
       "1949   QcMuo  0.506563 -0.323775  -2.215583   75.496502\n",
       "3389   A5aEY -0.039949  0.156872   0.209861   89.249364\n",
       "7530   HZww2  1.061194 -0.373969  10.430210  158.828695\n",
       "16633  fiKDv  0.157341  1.028359   5.585586   95.817889\n",
       "21426  Tdehs  0.829407  0.298807  -0.049563   96.035308\n",
       "41724  bxg6G -0.823752  0.546319   3.630479   93.007798\n",
       "42529  AGS9W  1.454747 -0.479651   0.683380  126.370504\n",
       "51970  A5aEY -0.180335  0.935548  -2.094773   33.020205\n",
       "60140  TtcGQ  0.569276 -0.104876   6.440215   85.350186\n",
       "63593  QcMuo  0.635635 -0.473422   0.862670   64.578675\n",
       "64022  74z30  0.741456  0.459229   5.153109  140.771492\n",
       "66136  74z30  1.084962 -0.312358   6.990771  127.643327\n",
       "69163  AGS9W -0.933795  0.116194  -3.655896   19.230453\n",
       "75715  Tdehs  0.112079  0.430296   3.218993   60.964018\n",
       "89582  bsk9y  0.398908 -0.400253  10.122376  163.433078\n",
       "90815  fiKDv  0.049883  0.841313   6.394613  137.346586\n",
       "92341  TtcGQ  0.110711  1.022689   0.911381  101.318008\n",
       "97785  bsk9y  0.378429  0.005837   0.160827  160.637302"
      ]
     },
     "execution_count": 7,
     "metadata": {},
     "output_type": "execute_result"
    }
   ],
   "source": [
    "id_list = data_0['id'].value_counts().sort_values(ascending=False).to_frame().query('count>1').index.to_list()\n",
    "data_0[data_0['id'].isin(id_list)]"
   ]
  },
  {
   "cell_type": "markdown",
   "metadata": {},
   "source": [
    "В данных есть повторяющиеся id. Так как из имеющихся данных мы не можем определить по какой причине появились эти дубликаты, и их немного, можем просто удалить их. Поступим также и с остальными датасетами.\n",
    "\n",
    "Напишем функцию для очистки датасетов."
   ]
  },
  {
   "cell_type": "code",
   "execution_count": 8,
   "metadata": {},
   "outputs": [],
   "source": [
    "def clean_dataset(df):\n",
    "    print('Дублирующиеся id:', \n",
    "          df['id'].value_counts().sort_values(ascending=False).to_frame().query('count>1').index.to_list())\n",
    "    print('Количество строк до очистки:', df.shape[0])\n",
    "    id_list = df['id'].value_counts().sort_values(ascending=False).to_frame().query('count>1').index.to_list()\n",
    "    df = df[~(df['id'].isin(id_list))]\n",
    "    print('Количество строк после очистки:', df.shape[0])\n",
    "    return df"
   ]
  },
  {
   "cell_type": "code",
   "execution_count": 9,
   "metadata": {},
   "outputs": [
    {
     "name": "stdout",
     "output_type": "stream",
     "text": [
      "Дублирующиеся id: ['fiKDv', 'AGS9W', 'Tdehs', '74z30', 'A5aEY', 'bsk9y', 'TtcGQ', 'HZww2', 'bxg6G', 'QcMuo']\n",
      "Количество строк до очистки: 100000\n",
      "Количество строк после очистки: 99980\n"
     ]
    }
   ],
   "source": [
    "data_0 = clean_dataset(data_0)"
   ]
  },
  {
   "cell_type": "code",
   "execution_count": 10,
   "metadata": {},
   "outputs": [
    {
     "data": {
      "text/html": [
       "<div>\n",
       "<style scoped>\n",
       "    .dataframe tbody tr th:only-of-type {\n",
       "        vertical-align: middle;\n",
       "    }\n",
       "\n",
       "    .dataframe tbody tr th {\n",
       "        vertical-align: top;\n",
       "    }\n",
       "\n",
       "    .dataframe thead th {\n",
       "        text-align: right;\n",
       "    }\n",
       "</style>\n",
       "<table border=\"1\" class=\"dataframe\">\n",
       "  <thead>\n",
       "    <tr style=\"text-align: right;\">\n",
       "      <th></th>\n",
       "      <th>id</th>\n",
       "      <th>f0</th>\n",
       "      <th>f1</th>\n",
       "      <th>f2</th>\n",
       "      <th>product</th>\n",
       "    </tr>\n",
       "  </thead>\n",
       "  <tbody>\n",
       "    <tr>\n",
       "      <th>0</th>\n",
       "      <td>kBEdx</td>\n",
       "      <td>-15.001348</td>\n",
       "      <td>-8.276000</td>\n",
       "      <td>-0.005876</td>\n",
       "      <td>3.179103</td>\n",
       "    </tr>\n",
       "    <tr>\n",
       "      <th>1</th>\n",
       "      <td>62mP7</td>\n",
       "      <td>14.272088</td>\n",
       "      <td>-3.475083</td>\n",
       "      <td>0.999183</td>\n",
       "      <td>26.953261</td>\n",
       "    </tr>\n",
       "    <tr>\n",
       "      <th>2</th>\n",
       "      <td>vyE1P</td>\n",
       "      <td>6.263187</td>\n",
       "      <td>-5.948386</td>\n",
       "      <td>5.001160</td>\n",
       "      <td>134.766305</td>\n",
       "    </tr>\n",
       "    <tr>\n",
       "      <th>3</th>\n",
       "      <td>KcrkZ</td>\n",
       "      <td>-13.081196</td>\n",
       "      <td>-11.506057</td>\n",
       "      <td>4.999415</td>\n",
       "      <td>137.945408</td>\n",
       "    </tr>\n",
       "    <tr>\n",
       "      <th>4</th>\n",
       "      <td>AHL4O</td>\n",
       "      <td>12.702195</td>\n",
       "      <td>-8.147433</td>\n",
       "      <td>5.004363</td>\n",
       "      <td>134.766305</td>\n",
       "    </tr>\n",
       "  </tbody>\n",
       "</table>\n",
       "</div>"
      ],
      "text/plain": [
       "      id         f0         f1        f2     product\n",
       "0  kBEdx -15.001348  -8.276000 -0.005876    3.179103\n",
       "1  62mP7  14.272088  -3.475083  0.999183   26.953261\n",
       "2  vyE1P   6.263187  -5.948386  5.001160  134.766305\n",
       "3  KcrkZ -13.081196 -11.506057  4.999415  137.945408\n",
       "4  AHL4O  12.702195  -8.147433  5.004363  134.766305"
      ]
     },
     "metadata": {},
     "output_type": "display_data"
    },
    {
     "name": "stdout",
     "output_type": "stream",
     "text": [
      "<class 'pandas.core.frame.DataFrame'>\n",
      "RangeIndex: 100000 entries, 0 to 99999\n",
      "Data columns (total 5 columns):\n",
      " #   Column   Non-Null Count   Dtype  \n",
      "---  ------   --------------   -----  \n",
      " 0   id       100000 non-null  object \n",
      " 1   f0       100000 non-null  float64\n",
      " 2   f1       100000 non-null  float64\n",
      " 3   f2       100000 non-null  float64\n",
      " 4   product  100000 non-null  float64\n",
      "dtypes: float64(4), object(1)\n",
      "memory usage: 3.8+ MB\n"
     ]
    },
    {
     "data": {
      "image/png": "[encoded data removed]",
      "text/plain": [
       "<Figure size 1000x500 with 1 Axes>"
      ]
     },
     "metadata": {},
     "output_type": "display_data"
    }
   ],
   "source": [
    "describe_data(data_1, 2)"
   ]
  },
  {
   "cell_type": "code",
   "execution_count": 11,
   "metadata": {
    "scrolled": true
   },
   "outputs": [
    {
     "name": "stdout",
     "output_type": "stream",
     "text": [
      "Дублирующиеся id: ['wt4Uk', 'bfPNe', 'LHZR0', '5ltQ6']\n",
      "Количество строк до очистки: 100000\n",
      "Количество строк после очистки: 99992\n"
     ]
    }
   ],
   "source": [
    "data_1 = clean_dataset(data_1)"
   ]
  },
  {
   "cell_type": "code",
   "execution_count": 12,
   "metadata": {},
   "outputs": [
    {
     "data": {
      "text/html": [
       "<div>\n",
       "<style scoped>\n",
       "    .dataframe tbody tr th:only-of-type {\n",
       "        vertical-align: middle;\n",
       "    }\n",
       "\n",
       "    .dataframe tbody tr th {\n",
       "        vertical-align: top;\n",
       "    }\n",
       "\n",
       "    .dataframe thead th {\n",
       "        text-align: right;\n",
       "    }\n",
       "</style>\n",
       "<table border=\"1\" class=\"dataframe\">\n",
       "  <thead>\n",
       "    <tr style=\"text-align: right;\">\n",
       "      <th></th>\n",
       "      <th>id</th>\n",
       "      <th>f0</th>\n",
       "      <th>f1</th>\n",
       "      <th>f2</th>\n",
       "      <th>product</th>\n",
       "    </tr>\n",
       "  </thead>\n",
       "  <tbody>\n",
       "    <tr>\n",
       "      <th>0</th>\n",
       "      <td>fwXo0</td>\n",
       "      <td>-1.146987</td>\n",
       "      <td>0.963328</td>\n",
       "      <td>-0.828965</td>\n",
       "      <td>27.758673</td>\n",
       "    </tr>\n",
       "    <tr>\n",
       "      <th>1</th>\n",
       "      <td>WJtFt</td>\n",
       "      <td>0.262778</td>\n",
       "      <td>0.269839</td>\n",
       "      <td>-2.530187</td>\n",
       "      <td>56.069697</td>\n",
       "    </tr>\n",
       "    <tr>\n",
       "      <th>2</th>\n",
       "      <td>ovLUW</td>\n",
       "      <td>0.194587</td>\n",
       "      <td>0.289035</td>\n",
       "      <td>-5.586433</td>\n",
       "      <td>62.871910</td>\n",
       "    </tr>\n",
       "    <tr>\n",
       "      <th>3</th>\n",
       "      <td>q6cA6</td>\n",
       "      <td>2.236060</td>\n",
       "      <td>-0.553760</td>\n",
       "      <td>0.930038</td>\n",
       "      <td>114.572842</td>\n",
       "    </tr>\n",
       "    <tr>\n",
       "      <th>4</th>\n",
       "      <td>WPMUX</td>\n",
       "      <td>-0.515993</td>\n",
       "      <td>1.716266</td>\n",
       "      <td>5.899011</td>\n",
       "      <td>149.600746</td>\n",
       "    </tr>\n",
       "  </tbody>\n",
       "</table>\n",
       "</div>"
      ],
      "text/plain": [
       "      id        f0        f1        f2     product\n",
       "0  fwXo0 -1.146987  0.963328 -0.828965   27.758673\n",
       "1  WJtFt  0.262778  0.269839 -2.530187   56.069697\n",
       "2  ovLUW  0.194587  0.289035 -5.586433   62.871910\n",
       "3  q6cA6  2.236060 -0.553760  0.930038  114.572842\n",
       "4  WPMUX -0.515993  1.716266  5.899011  149.600746"
      ]
     },
     "metadata": {},
     "output_type": "display_data"
    },
    {
     "name": "stdout",
     "output_type": "stream",
     "text": [
      "<class 'pandas.core.frame.DataFrame'>\n",
      "RangeIndex: 100000 entries, 0 to 99999\n",
      "Data columns (total 5 columns):\n",
      " #   Column   Non-Null Count   Dtype  \n",
      "---  ------   --------------   -----  \n",
      " 0   id       100000 non-null  object \n",
      " 1   f0       100000 non-null  float64\n",
      " 2   f1       100000 non-null  float64\n",
      " 3   f2       100000 non-null  float64\n",
      " 4   product  100000 non-null  float64\n",
      "dtypes: float64(4), object(1)\n",
      "memory usage: 3.8+ MB\n"
     ]
    },
    {
     "data": {
      "image/png": "[encoded data removed]",
      "text/plain": [
       "<Figure size 1000x500 with 1 Axes>"
      ]
     },
     "metadata": {},
     "output_type": "display_data"
    }
   ],
   "source": [
    "describe_data(data_2, 3)"
   ]
  },
  {
   "cell_type": "code",
   "execution_count": 13,
   "metadata": {
    "scrolled": true
   },
   "outputs": [
    {
     "name": "stdout",
     "output_type": "stream",
     "text": [
      "Дублирующиеся id: ['VF7Jo', 'Vcm5J', 'KUPhW', 'xCHr8']\n",
      "Количество строк до очистки: 100000\n",
      "Количество строк после очистки: 99992\n"
     ]
    }
   ],
   "source": [
    "data_2 = clean_dataset(data_2)"
   ]
  },
  {
   "cell_type": "markdown",
   "metadata": {},
   "source": [
    "**Вывод**\n",
    "\n",
    "Мы проверили данные по трём регионам. Пропусков в данных не было, типы данных были верные. Мы удалили строки с дубликатами в id. Распределение признака `product` похоже на нормальное."
   ]
  },
  {
   "cell_type": "markdown",
   "metadata": {},
   "source": [
    "## Обучение и проверка модели"
   ]
  },
  {
   "cell_type": "markdown",
   "metadata": {},
   "source": [
    "Напишем функцию, которая раделяет данные на обучающие и валидационные."
   ]
  },
  {
   "cell_type": "code",
   "execution_count": 14,
   "metadata": {},
   "outputs": [],
   "source": [
    "def split(df):\n",
    "    df = df.drop(['id'], axis=1)\n",
    "    target = df['product']\n",
    "    features = df.drop(['product'], axis=1)\n",
    "    features_train, features_valid, target_train, target_valid = train_test_split(features, target, test_size=0.25,\n",
    "                                                                             random_state=12345)\n",
    "    print('Размер обучающей выборки:', features_train.shape[0], 'строк')\n",
    "    print('Размер валидационной выборки:', features_valid.shape[0], 'строк')\n",
    "    return features_train, features_valid, target_train, target_valid"
   ]
  },
  {
   "cell_type": "markdown",
   "metadata": {},
   "source": [
    "Напишем функцию, которая создаст и обучит модель для каждого региона, а также выведет на экран необходимые нам занчения и метрики, а именно: средний запас предсказанного сырья, RMSE модели, RMSE случайной модели."
   ]
  },
  {
   "cell_type": "code",
   "execution_count": 15,
   "metadata": {},
   "outputs": [],
   "source": [
    "def create_model(features_train, features_valid, target_train, target_valid):\n",
    "    model = LinearRegression()\n",
    "    model.fit(features_train, target_train)\n",
    "    predictions_valid = model.predict(features_valid)\n",
    "    print('Средний запас предсказанного сырья:', predictions_valid.mean())\n",
    "    \n",
    "    RMSE = mean_squared_error(target_valid, predictions_valid)**0.5\n",
    "\n",
    "    predictions_mean = pd.Series(target_valid_0.mean(), index=target_valid.index)\n",
    "    RMSE_mean = mean_squared_error(target_valid, predictions_mean)**0.5\n",
    "\n",
    "    print('Квадратный корень из средней квадратичной ошибки RMSE:', RMSE)\n",
    "    print('Квадратный корень из средней квадратичной ошибки RMSE случайной модели:', RMSE_mean)\n",
    "    \n",
    "    return model, predictions_valid, RMSE, RMSE_mean"
   ]
  },
  {
   "cell_type": "markdown",
   "metadata": {},
   "source": [
    "### Модель для региона 1"
   ]
  },
  {
   "cell_type": "markdown",
   "metadata": {},
   "source": [
    "Применим ранее написанные функции к первому датасету. Обучим модель для первого региона. Посмотрим средний запас предсказанного сырья. Посмотрим RMSE модели. Сравним её с RMSE случайной модели."
   ]
  },
  {
   "cell_type": "code",
   "execution_count": 16,
   "metadata": {},
   "outputs": [
    {
     "name": "stdout",
     "output_type": "stream",
     "text": [
      "Размер обучающей выборки: 74985 строк\n",
      "Размер валидационной выборки: 24995 строк\n"
     ]
    }
   ],
   "source": [
    "features_train_0, features_valid_0, target_train_0, target_valid_0 = split(data_0)"
   ]
  },
  {
   "cell_type": "code",
   "execution_count": 17,
   "metadata": {},
   "outputs": [
    {
     "name": "stdout",
     "output_type": "stream",
     "text": [
      "Средний запас предсказанного сырья: 92.42384109947359\n",
      "Квадратный корень из средней квадратичной ошибки RMSE: 37.716904960382735\n",
      "Квадратный корень из средней квадратичной ошибки RMSE случайной модели: 44.34705265024233\n"
     ]
    }
   ],
   "source": [
    "model_0, predictions_valid_0, RMSE_0, RMSE_0_mean = create_model(\n",
    "    features_train_0, features_valid_0, target_train_0, target_valid_0)"
   ]
  },
  {
   "cell_type": "markdown",
   "metadata": {},
   "source": [
    "RMSE модели меньше чем RMSE случайной модели. То есть модель предсказывает целевой признак достаточно хорошо."
   ]
  },
  {
   "cell_type": "markdown",
   "metadata": {},
   "source": [
    "### Модель для региона 2"
   ]
  },
  {
   "cell_type": "markdown",
   "metadata": {},
   "source": [
    "Обучим модель для второго региона. Посмотрим средний запас предсказанного сырья, RMSE модели. Сравним её с RMSE случайной модели."
   ]
  },
  {
   "cell_type": "code",
   "execution_count": 18,
   "metadata": {},
   "outputs": [
    {
     "name": "stdout",
     "output_type": "stream",
     "text": [
      "Размер обучающей выборки: 74994 строк\n",
      "Размер валидационной выборки: 24998 строк\n"
     ]
    }
   ],
   "source": [
    "features_train_1, features_valid_1, target_train_1, target_valid_1 = split(data_1)"
   ]
  },
  {
   "cell_type": "code",
   "execution_count": 19,
   "metadata": {},
   "outputs": [
    {
     "name": "stdout",
     "output_type": "stream",
     "text": [
      "Средний запас предсказанного сырья: 68.98311857983123\n",
      "Квадратный корень из средней квадратичной ошибки RMSE: 0.8914901390348527\n",
      "Квадратный корень из средней квадратичной ошибки RMSE случайной модели: 51.58851580890595\n"
     ]
    }
   ],
   "source": [
    "model_1, predictions_valid_1, RMSE_1, RMSE_1_mean = create_model(\n",
    "    features_train_1, features_valid_1, target_train_1, target_valid_1)"
   ]
  },
  {
   "cell_type": "markdown",
   "metadata": {},
   "source": [
    "RMSE модели существенно меньше чем RMSE случайной модели. То есть модель предсказывает целевой признак достаточно хорошо."
   ]
  },
  {
   "cell_type": "markdown",
   "metadata": {},
   "source": [
    "### Модель для региона 3"
   ]
  },
  {
   "cell_type": "markdown",
   "metadata": {},
   "source": [
    "Обучим модель для второго региона. Посмотрим средний запас предсказанного сырья, RMSE модели. Сравним её с RMSE случайной модели."
   ]
  },
  {
   "cell_type": "code",
   "execution_count": 20,
   "metadata": {},
   "outputs": [
    {
     "name": "stdout",
     "output_type": "stream",
     "text": [
      "Размер обучающей выборки: 74994 строк\n",
      "Размер валидационной выборки: 24998 строк\n"
     ]
    }
   ],
   "source": [
    "features_train_2, features_valid_2, target_train_2, target_valid_2 = split(data_2)"
   ]
  },
  {
   "cell_type": "code",
   "execution_count": 21,
   "metadata": {},
   "outputs": [
    {
     "name": "stdout",
     "output_type": "stream",
     "text": [
      "Средний запас предсказанного сырья: 95.11622302076479\n",
      "Квадратный корень из средней квадратичной ошибки RMSE: 39.975543264382345\n",
      "Квадратный корень из средней квадратичной ошибки RMSE случайной модели: 44.62320561829149\n"
     ]
    }
   ],
   "source": [
    "model_2, predictions_valid_2, RMSE_2, RMSE_2_mean = create_model(\n",
    "    features_train_2, features_valid_2, target_train_2, target_valid_2)"
   ]
  },
  {
   "cell_type": "markdown",
   "metadata": {},
   "source": [
    "RMSE модели меньше чем RMSE случайной модели. То есть модель предсказывает целевой признак достаточно хорошо."
   ]
  },
  {
   "cell_type": "markdown",
   "metadata": {},
   "source": [
    "Создадим общий датасет для более удобного сравнения регионов."
   ]
  },
  {
   "cell_type": "code",
   "execution_count": 22,
   "metadata": {},
   "outputs": [
    {
     "data": {
      "text/html": [
       "<div>\n",
       "<style scoped>\n",
       "    .dataframe tbody tr th:only-of-type {\n",
       "        vertical-align: middle;\n",
       "    }\n",
       "\n",
       "    .dataframe tbody tr th {\n",
       "        vertical-align: top;\n",
       "    }\n",
       "\n",
       "    .dataframe thead th {\n",
       "        text-align: right;\n",
       "    }\n",
       "</style>\n",
       "<table border=\"1\" class=\"dataframe\">\n",
       "  <thead>\n",
       "    <tr style=\"text-align: right;\">\n",
       "      <th></th>\n",
       "      <th>Регион</th>\n",
       "      <th>Средний запас сырья</th>\n",
       "      <th>RMSE</th>\n",
       "      <th>RMSE случайной модели</th>\n",
       "    </tr>\n",
       "  </thead>\n",
       "  <tbody>\n",
       "    <tr>\n",
       "      <th>0</th>\n",
       "      <td>1</td>\n",
       "      <td>92.423841</td>\n",
       "      <td>37.716905</td>\n",
       "      <td>44.347053</td>\n",
       "    </tr>\n",
       "    <tr>\n",
       "      <th>1</th>\n",
       "      <td>2</td>\n",
       "      <td>68.983119</td>\n",
       "      <td>0.891490</td>\n",
       "      <td>51.588516</td>\n",
       "    </tr>\n",
       "    <tr>\n",
       "      <th>2</th>\n",
       "      <td>3</td>\n",
       "      <td>95.116223</td>\n",
       "      <td>39.975543</td>\n",
       "      <td>44.623206</td>\n",
       "    </tr>\n",
       "  </tbody>\n",
       "</table>\n",
       "</div>"
      ],
      "text/plain": [
       "   Регион  Средний запас сырья       RMSE  RMSE случайной модели\n",
       "0       1            92.423841  37.716905              44.347053\n",
       "1       2            68.983119   0.891490              51.588516\n",
       "2       3            95.116223  39.975543              44.623206"
      ]
     },
     "execution_count": 22,
     "metadata": {},
     "output_type": "execute_result"
    }
   ],
   "source": [
    "dt = pd.DataFrame(data={'Регион': [1, 2, 3], 'Средний запас сырья': [predictions_valid_0.mean(), predictions_valid_1.mean(), predictions_valid_2.mean()], 'RMSE': [RMSE_0, RMSE_1, RMSE_2], 'RMSE случайной модели': [RMSE_0_mean, RMSE_1_mean, RMSE_2_mean]})\n",
    "dt"
   ]
  },
  {
   "cell_type": "markdown",
   "metadata": {},
   "source": [
    "**Вывод**\n",
    "\n",
    "Мы обучили три модели логистической регрессии для трёх разных регионов. По среднему запасу сырья лидирует третий регион. Однако лучший покатель RMSE модели во втором регионе."
   ]
  },
  {
   "cell_type": "markdown",
   "metadata": {},
   "source": [
    "## Подготовка к расчёту прибыли"
   ]
  },
  {
   "cell_type": "markdown",
   "metadata": {},
   "source": [
    "Рассчитаем достаточный объём сырья для безубыточной разработки новой скважины. Сравним полученный объём сырья со средним запасом в каждом регионе."
   ]
  },
  {
   "cell_type": "code",
   "execution_count": 23,
   "metadata": {},
   "outputs": [
    {
     "name": "stdout",
     "output_type": "stream",
     "text": [
      "Достаточный объём сырья для безубыточной разработки новой скважины 111 тыс. баррелей\n"
     ]
    }
   ],
   "source": [
    "# Цена за 1000 баррелей\n",
    "PRICE_PER_1000_BARREL = 450000\n",
    "\n",
    "# Бюджет на разработку скважин в регионе\n",
    "DEVELOPMENT_BUDGET = 10e9\n",
    "\n",
    "# Количество скважин для разработки\n",
    "NUMBER_OF_WELLS = 200\n",
    "\n",
    "# Достаточный объём сырья для безубыточной разработки новой скважины\n",
    "minimal_product_amount_per_well = DEVELOPMENT_BUDGET / NUMBER_OF_WELLS / PRICE_PER_1000_BARREL\n",
    "print('Достаточный объём сырья для безубыточной разработки новой скважины', round(minimal_product_amount_per_well), 'тыс. баррелей')"
   ]
  },
  {
   "cell_type": "markdown",
   "metadata": {},
   "source": [
    " "
   ]
  },
  {
   "cell_type": "markdown",
   "metadata": {},
   "source": [
    "**Вывод**\n",
    "\n",
    "Хорошо видно, что в среднем запасов сырья в каждом регионе недостаточно для безубыточной разработки новых скважин. Значит нам необходимо при помощи машинного обучения выбрать наиболее перспективные скважины для разработки."
   ]
  },
  {
   "cell_type": "markdown",
   "metadata": {},
   "source": [
    "## Расчёт прибыли и рисков "
   ]
  },
  {
   "cell_type": "markdown",
   "metadata": {},
   "source": [
    "Напишем функцию для подсчёта прибыли для выбранных скважин. Функция сначала должна по предсказаниям модели отобрать 200 лучших скважин из 500, а потом посчитать прибыль исходя из запасов нефти этих 200 скважин, цены за баррель и инвестиций."
   ]
  },
  {
   "cell_type": "code",
   "execution_count": 24,
   "metadata": {},
   "outputs": [],
   "source": [
    "def profit_calc(subsample, model):\n",
    "    subsample = subsample.drop(['id'], axis=1)\n",
    "    target_subsample = subsample['product']\n",
    "    features_subsample = subsample.drop(['product'], axis=1)\n",
    "    predictions_subsample = model.predict(features_subsample)\n",
    "    \n",
    "    selected_weels_predictions = pd.Series(predictions_subsample).sort_values(ascending=False).head(200)\n",
    "        \n",
    "    income = target_subsample.iloc[selected_weels_predictions.index].sum() * PRICE_PER_1000_BARREL\n",
    "    profit = income - DEVELOPMENT_BUDGET\n",
    "    return profit"
   ]
  },
  {
   "cell_type": "markdown",
   "metadata": {},
   "source": [
    "Посчитаем риски и прибыль для каждого региона.\n",
    "Напишем функцию, которая будет принимать датасет по региону и модель обученную на данных этого региона, и возвращать среднюю прибыль по региону, риск убытков, а также 95% доверительный интервал.\n",
    "Для расчёта средней прибыли по региону посчитаем сначала распределние прибыли. Для этого применим технику Bootstrap с 1000 выборок."
   ]
  },
  {
   "cell_type": "code",
   "execution_count": 25,
   "metadata": {},
   "outputs": [],
   "source": [
    "def risk_calc(data, model):\n",
    "    state = np.random.RandomState(12345)\n",
    "    profit_region =[]\n",
    "    for i in range(1000):\n",
    "        subsample = data.sample(n=500, replace=True, random_state=state)\n",
    "        profit_region.append(profit_calc(subsample, model))\n",
    "    profit_region = pd.Series(profit_region)\n",
    "    profit_region_mean = round(profit_region.mean())\n",
    "    \n",
    "    loss_risk = (profit_region < 0).mean() * 100\n",
    "\n",
    "    lower = round(profit_region.quantile(0.025))\n",
    "    upper = round(profit_region.quantile(0.975))\n",
    "    confidence_interval = (lower, upper)\n",
    "\n",
    "    return profit_region_mean, loss_risk, confidence_interval"
   ]
  },
  {
   "cell_type": "code",
   "execution_count": 26,
   "metadata": {},
   "outputs": [],
   "source": [
    "profit_region_mean_0, loss_risk_0, confidence_interval_0 = risk_calc(data_0, model_0)"
   ]
  },
  {
   "cell_type": "code",
   "execution_count": 27,
   "metadata": {},
   "outputs": [],
   "source": [
    "profit_region_mean_1, loss_risk_1, confidence_interval_1 = risk_calc(data_1, model_1)"
   ]
  },
  {
   "cell_type": "code",
   "execution_count": 28,
   "metadata": {},
   "outputs": [],
   "source": [
    "profit_region_mean_2, loss_risk_2, confidence_interval_2 = risk_calc(data_2, model_2)"
   ]
  },
  {
   "cell_type": "markdown",
   "metadata": {},
   "source": [
    "Оформим полученные данные в таблицу."
   ]
  },
  {
   "cell_type": "code",
   "execution_count": 29,
   "metadata": {},
   "outputs": [
    {
     "data": {
      "text/html": [
       "<div>\n",
       "<style scoped>\n",
       "    .dataframe tbody tr th:only-of-type {\n",
       "        vertical-align: middle;\n",
       "    }\n",
       "\n",
       "    .dataframe tbody tr th {\n",
       "        vertical-align: top;\n",
       "    }\n",
       "\n",
       "    .dataframe thead th {\n",
       "        text-align: right;\n",
       "    }\n",
       "</style>\n",
       "<table border=\"1\" class=\"dataframe\">\n",
       "  <thead>\n",
       "    <tr style=\"text-align: right;\">\n",
       "      <th></th>\n",
       "      <th>Регион</th>\n",
       "      <th>Прибыль</th>\n",
       "      <th>Риск убытков в %</th>\n",
       "      <th>Доверительный интервал</th>\n",
       "    </tr>\n",
       "  </thead>\n",
       "  <tbody>\n",
       "    <tr>\n",
       "      <th>0</th>\n",
       "      <td>1</td>\n",
       "      <td>424227081</td>\n",
       "      <td>4.9</td>\n",
       "      <td>(-73590004, 939563112)</td>\n",
       "    </tr>\n",
       "    <tr>\n",
       "      <th>1</th>\n",
       "      <td>2</td>\n",
       "      <td>445362284</td>\n",
       "      <td>2.4</td>\n",
       "      <td>(7447780, 864416866)</td>\n",
       "    </tr>\n",
       "    <tr>\n",
       "      <th>2</th>\n",
       "      <td>3</td>\n",
       "      <td>370095240</td>\n",
       "      <td>8.1</td>\n",
       "      <td>(-148625316, 898062078)</td>\n",
       "    </tr>\n",
       "  </tbody>\n",
       "</table>\n",
       "</div>"
      ],
      "text/plain": [
       "   Регион    Прибыль  Риск убытков в %   Доверительный интервал\n",
       "0       1  424227081               4.9   (-73590004, 939563112)\n",
       "1       2  445362284               2.4     (7447780, 864416866)\n",
       "2       3  370095240               8.1  (-148625316, 898062078)"
      ]
     },
     "execution_count": 29,
     "metadata": {},
     "output_type": "execute_result"
    }
   ],
   "source": [
    "df = pd.DataFrame(data={'Регион': [1, 2, 3], 'Прибыль': [profit_region_mean_0, profit_region_mean_1, profit_region_mean_2], 'Риск убытков в %': [loss_risk_0, loss_risk_1, loss_risk_2], 'Доверительный интервал': [confidence_interval_0, confidence_interval_1, confidence_interval_2]})\n",
    "df"
   ]
  },
  {
   "cell_type": "markdown",
   "metadata": {},
   "source": [
    "**Вывод**\n",
    "\n",
    "После исследования, самым перспективным регионом для разработки является регион № 2 (data_0). Так как показатель средней прибыли для него самый высокий, при риске убытков, всего в 2.4 %."
   ]
  },
  {
   "cell_type": "markdown",
   "metadata": {},
   "source": [
    "## Общий вывод"
   ]
  },
  {
   "cell_type": "markdown",
   "metadata": {},
   "source": [
    "Мы загрузили и проверили данные о пробах нефти в трёх регионах. Пропусков в данных не было, типы данных были верные. Мы удалили строки с дубликатами в id.\n",
    "\n",
    "Мы обучили три модели логистической регрессии для трёх разных регионов. По среднему запасу сырья лидирует третий регион. Однако лучший покатель RMSE модели во втором регионе.\n",
    "\n",
    "Мы рассчитали достаточный объём сырья для безубыточной разработки новой скважины. Сравнили полученный объём сырья со средним запасом в каждом регионе. Выяснили, что в среднем запасов сырья в каждом регионе недостаточно для безубыточной разработки новых скважин. Значит нам необходимо при помощи машинного обучения выбрать наиболее перспективные скважины для разработки.\n",
    "\n",
    "Мы осчитали риски, прибыль, а также 95% доверительный интервал для каждого региона. Для расчёта средней прибыли по региону мы сначала посчитали распределние прибыли. Для этого применили технику Bootstrap с выборкой в 500 объектов. По предсказаниям модели отобрали 200 лучших скважин из 500, а потом посчитали прибыль исходя из запасов нефти этих 200 скважин, цены за баррель и инвестиций.\n",
    "\n",
    "После исследования, самым перспективным регионом для разработки является регион № 2 (data_0). Так как показатель средней прибыли для него самый высокий, при риске убытков, всего в 2.4 %."
   ]
  }
 ],
 "metadata": {
  "ExecuteTimeLog": [
   {
    "duration": 1466,
    "start_time": "2023-06-02T16:40:05.849Z"
   },
   {
    "duration": 72,
    "start_time": "2023-06-02T16:40:41.871Z"
   },
   {
    "duration": 11,
    "start_time": "2023-06-02T16:41:11.099Z"
   },
   {
    "duration": 1470,
    "start_time": "2023-06-02T16:42:01.359Z"
   },
   {
    "duration": 23,
    "start_time": "2023-06-02T16:45:54.861Z"
   },
   {
    "duration": 3,
    "start_time": "2023-06-02T16:47:00.864Z"
   },
   {
    "duration": 272,
    "start_time": "2023-06-02T16:47:00.869Z"
   },
   {
    "duration": 19,
    "start_time": "2023-06-02T16:47:01.143Z"
   },
   {
    "duration": 1028,
    "start_time": "2023-06-02T16:47:01.163Z"
   },
   {
    "duration": 27,
    "start_time": "2023-06-02T16:47:02.194Z"
   },
   {
    "duration": 906,
    "start_time": "2023-06-02T16:47:02.223Z"
   },
   {
    "duration": 47,
    "start_time": "2023-06-02T16:47:12.103Z"
   },
   {
    "duration": 5,
    "start_time": "2023-06-02T16:49:59.572Z"
   },
   {
    "duration": 2,
    "start_time": "2023-06-04T18:04:41.747Z"
   },
   {
    "duration": 562,
    "start_time": "2023-06-04T18:04:44.660Z"
   },
   {
    "duration": 14,
    "start_time": "2023-06-04T18:04:46.033Z"
   },
   {
    "duration": 593,
    "start_time": "2023-06-04T18:04:46.733Z"
   },
   {
    "duration": 16,
    "start_time": "2023-06-04T18:04:47.391Z"
   },
   {
    "duration": 555,
    "start_time": "2023-06-04T18:04:47.987Z"
   },
   {
    "duration": 15,
    "start_time": "2023-06-04T18:04:49.733Z"
   },
   {
    "duration": 6,
    "start_time": "2023-06-04T18:14:43.320Z"
   },
   {
    "duration": 215,
    "start_time": "2023-06-04T18:14:43.328Z"
   },
   {
    "duration": 18,
    "start_time": "2023-06-04T18:14:43.555Z"
   },
   {
    "duration": 170,
    "start_time": "2023-06-04T18:14:43.575Z"
   },
   {
    "duration": 15,
    "start_time": "2023-06-04T18:14:43.747Z"
   },
   {
    "duration": 196,
    "start_time": "2023-06-04T18:14:43.763Z"
   },
   {
    "duration": 26,
    "start_time": "2023-06-04T18:14:43.962Z"
   },
   {
    "duration": 14,
    "start_time": "2023-06-04T18:14:45.531Z"
   },
   {
    "duration": 16,
    "start_time": "2023-06-04T18:14:46.146Z"
   },
   {
    "duration": 13,
    "start_time": "2023-06-04T18:15:20.070Z"
   },
   {
    "duration": 8,
    "start_time": "2023-06-04T18:15:40.752Z"
   },
   {
    "duration": 17,
    "start_time": "2023-06-04T18:16:08.121Z"
   },
   {
    "duration": 14,
    "start_time": "2023-06-04T18:16:19.824Z"
   },
   {
    "duration": 30,
    "start_time": "2023-06-04T18:16:48.974Z"
   },
   {
    "duration": 20,
    "start_time": "2023-06-04T18:16:56.016Z"
   },
   {
    "duration": 20,
    "start_time": "2023-06-04T18:17:12.550Z"
   },
   {
    "duration": 16,
    "start_time": "2023-06-04T18:17:21.493Z"
   },
   {
    "duration": 7,
    "start_time": "2023-06-04T18:19:35.357Z"
   },
   {
    "duration": 61,
    "start_time": "2023-06-04T18:19:38.601Z"
   },
   {
    "duration": 4,
    "start_time": "2023-06-04T18:19:39.065Z"
   },
   {
    "duration": 5,
    "start_time": "2023-06-04T18:19:55.828Z"
   },
   {
    "duration": 9,
    "start_time": "2023-06-04T18:20:16.100Z"
   },
   {
    "duration": 4,
    "start_time": "2023-06-04T18:20:27.319Z"
   },
   {
    "duration": 2,
    "start_time": "2023-06-04T18:21:48.718Z"
   },
   {
    "duration": 8,
    "start_time": "2023-06-04T18:22:21.035Z"
   },
   {
    "duration": 76,
    "start_time": "2023-06-04T18:22:34.139Z"
   },
   {
    "duration": 4,
    "start_time": "2023-06-04T18:22:34.587Z"
   },
   {
    "duration": 4,
    "start_time": "2023-06-04T18:22:35.063Z"
   },
   {
    "duration": 2,
    "start_time": "2023-06-04T18:22:35.520Z"
   },
   {
    "duration": 81,
    "start_time": "2023-06-04T18:22:36.024Z"
   },
   {
    "duration": 12,
    "start_time": "2023-06-04T18:24:56.532Z"
   },
   {
    "duration": 12,
    "start_time": "2023-06-04T18:25:01.831Z"
   },
   {
    "duration": 65,
    "start_time": "2023-06-04T18:25:02.329Z"
   },
   {
    "duration": 4,
    "start_time": "2023-06-04T18:25:02.752Z"
   },
   {
    "duration": 4,
    "start_time": "2023-06-04T18:25:03.164Z"
   },
   {
    "duration": 3,
    "start_time": "2023-06-04T18:25:03.588Z"
   },
   {
    "duration": 103,
    "start_time": "2023-06-04T18:25:04.022Z"
   },
   {
    "duration": 1142,
    "start_time": "2023-06-04T18:25:43.089Z"
   },
   {
    "duration": 184,
    "start_time": "2023-06-04T18:25:44.234Z"
   },
   {
    "duration": 14,
    "start_time": "2023-06-04T18:25:44.419Z"
   },
   {
    "duration": 137,
    "start_time": "2023-06-04T18:25:44.434Z"
   },
   {
    "duration": 21,
    "start_time": "2023-06-04T18:25:44.574Z"
   },
   {
    "duration": 146,
    "start_time": "2023-06-04T18:25:44.597Z"
   },
   {
    "duration": 15,
    "start_time": "2023-06-04T18:25:44.744Z"
   },
   {
    "duration": 26,
    "start_time": "2023-06-04T18:25:44.775Z"
   },
   {
    "duration": 19,
    "start_time": "2023-06-04T18:25:44.803Z"
   },
   {
    "duration": 13,
    "start_time": "2023-06-04T18:25:44.824Z"
   },
   {
    "duration": 104,
    "start_time": "2023-06-04T18:25:44.839Z"
   },
   {
    "duration": 4,
    "start_time": "2023-06-04T18:25:44.945Z"
   },
   {
    "duration": 134,
    "start_time": "2023-06-04T18:25:44.951Z"
   },
   {
    "duration": 0,
    "start_time": "2023-06-04T18:25:45.087Z"
   },
   {
    "duration": 0,
    "start_time": "2023-06-04T18:25:45.089Z"
   },
   {
    "duration": 4,
    "start_time": "2023-06-04T18:26:10.702Z"
   },
   {
    "duration": 4,
    "start_time": "2023-06-04T18:26:12.574Z"
   },
   {
    "duration": 83,
    "start_time": "2023-06-04T18:26:13.389Z"
   },
   {
    "duration": 3,
    "start_time": "2023-06-04T18:32:55.753Z"
   },
   {
    "duration": 3,
    "start_time": "2023-06-04T18:36:27.827Z"
   },
   {
    "duration": 151,
    "start_time": "2023-06-04T18:36:27.831Z"
   },
   {
    "duration": 18,
    "start_time": "2023-06-04T18:36:27.983Z"
   },
   {
    "duration": 165,
    "start_time": "2023-06-04T18:36:28.003Z"
   },
   {
    "duration": 20,
    "start_time": "2023-06-04T18:36:28.170Z"
   },
   {
    "duration": 141,
    "start_time": "2023-06-04T18:36:28.195Z"
   },
   {
    "duration": 14,
    "start_time": "2023-06-04T18:36:28.338Z"
   },
   {
    "duration": 44,
    "start_time": "2023-06-04T18:36:28.354Z"
   },
   {
    "duration": 15,
    "start_time": "2023-06-04T18:36:28.400Z"
   },
   {
    "duration": 10,
    "start_time": "2023-06-04T18:36:28.418Z"
   },
   {
    "duration": 35,
    "start_time": "2023-06-04T18:36:28.431Z"
   },
   {
    "duration": 7,
    "start_time": "2023-06-04T18:36:28.478Z"
   },
   {
    "duration": 10,
    "start_time": "2023-06-04T18:36:28.487Z"
   },
   {
    "duration": 5,
    "start_time": "2023-06-04T18:36:28.499Z"
   },
   {
    "duration": 25,
    "start_time": "2023-06-04T18:36:28.505Z"
   },
   {
    "duration": 59,
    "start_time": "2023-06-04T18:36:28.531Z"
   },
   {
    "duration": 11,
    "start_time": "2023-06-04T18:38:11.776Z"
   },
   {
    "duration": 9,
    "start_time": "2023-06-04T18:46:46.601Z"
   },
   {
    "duration": 10,
    "start_time": "2023-06-04T18:47:23.221Z"
   },
   {
    "duration": 3,
    "start_time": "2023-06-04T18:47:28.998Z"
   },
   {
    "duration": 22,
    "start_time": "2023-06-04T18:47:29.395Z"
   },
   {
    "duration": 8,
    "start_time": "2023-06-04T18:47:29.802Z"
   },
   {
    "duration": 6,
    "start_time": "2023-06-04T18:47:30.227Z"
   },
   {
    "duration": 6,
    "start_time": "2023-06-04T18:47:30.632Z"
   },
   {
    "duration": 3,
    "start_time": "2023-06-04T18:50:18.889Z"
   },
   {
    "duration": 166,
    "start_time": "2023-06-04T18:50:18.894Z"
   },
   {
    "duration": 28,
    "start_time": "2023-06-04T18:50:19.062Z"
   },
   {
    "duration": 134,
    "start_time": "2023-06-04T18:50:19.092Z"
   },
   {
    "duration": 13,
    "start_time": "2023-06-04T18:50:19.228Z"
   },
   {
    "duration": 138,
    "start_time": "2023-06-04T18:50:19.243Z"
   },
   {
    "duration": 18,
    "start_time": "2023-06-04T18:50:19.382Z"
   },
   {
    "duration": 23,
    "start_time": "2023-06-04T18:50:19.402Z"
   },
   {
    "duration": 12,
    "start_time": "2023-06-04T18:50:19.427Z"
   },
   {
    "duration": 8,
    "start_time": "2023-06-04T18:50:19.440Z"
   },
   {
    "duration": 52,
    "start_time": "2023-06-04T18:50:19.449Z"
   },
   {
    "duration": 4,
    "start_time": "2023-06-04T18:50:19.503Z"
   },
   {
    "duration": 5,
    "start_time": "2023-06-04T18:50:19.509Z"
   },
   {
    "duration": 3,
    "start_time": "2023-06-04T18:50:19.516Z"
   },
   {
    "duration": 57,
    "start_time": "2023-06-04T18:50:19.521Z"
   },
   {
    "duration": 18,
    "start_time": "2023-06-04T18:50:32.992Z"
   },
   {
    "duration": 9,
    "start_time": "2023-06-04T18:50:35.028Z"
   },
   {
    "duration": 8,
    "start_time": "2023-06-04T18:51:00.539Z"
   },
   {
    "duration": 9,
    "start_time": "2023-06-04T18:51:06.542Z"
   },
   {
    "duration": 4,
    "start_time": "2023-06-04T18:51:11.958Z"
   },
   {
    "duration": 7,
    "start_time": "2023-06-04T18:51:12.540Z"
   },
   {
    "duration": 4,
    "start_time": "2023-06-04T19:33:36.056Z"
   },
   {
    "duration": 22,
    "start_time": "2023-06-04T19:34:18.564Z"
   },
   {
    "duration": 34,
    "start_time": "2023-06-04T19:34:24.114Z"
   },
   {
    "duration": 4,
    "start_time": "2023-06-04T19:35:01.715Z"
   },
   {
    "duration": 21,
    "start_time": "2023-06-04T19:35:02.598Z"
   },
   {
    "duration": 4,
    "start_time": "2023-06-04T20:13:38.459Z"
   },
   {
    "duration": 15,
    "start_time": "2023-06-04T20:13:49.105Z"
   },
   {
    "duration": 4,
    "start_time": "2023-06-04T20:14:11.046Z"
   },
   {
    "duration": 14,
    "start_time": "2023-06-04T20:14:13.345Z"
   },
   {
    "duration": 5,
    "start_time": "2023-06-04T20:30:41.506Z"
   },
   {
    "duration": 5,
    "start_time": "2023-06-04T20:30:46.171Z"
   },
   {
    "duration": 6,
    "start_time": "2023-06-04T20:30:46.671Z"
   },
   {
    "duration": 3,
    "start_time": "2023-06-04T20:30:49.062Z"
   },
   {
    "duration": 13,
    "start_time": "2023-06-04T20:30:56.102Z"
   },
   {
    "duration": 70,
    "start_time": "2023-06-04T20:31:44.606Z"
   },
   {
    "duration": 5,
    "start_time": "2023-06-04T20:31:58.031Z"
   },
   {
    "duration": 3,
    "start_time": "2023-06-04T20:31:58.577Z"
   },
   {
    "duration": 20,
    "start_time": "2023-06-04T20:31:59.009Z"
   },
   {
    "duration": 33,
    "start_time": "2023-06-04T20:31:59.442Z"
   },
   {
    "duration": 4,
    "start_time": "2023-06-04T20:33:37.181Z"
   },
   {
    "duration": 3,
    "start_time": "2023-06-04T20:33:37.568Z"
   },
   {
    "duration": 15,
    "start_time": "2023-06-04T20:33:37.944Z"
   },
   {
    "duration": 21,
    "start_time": "2023-06-04T20:33:38.400Z"
   },
   {
    "duration": 3,
    "start_time": "2023-06-04T20:33:56.227Z"
   },
   {
    "duration": 4,
    "start_time": "2023-06-04T20:33:56.596Z"
   },
   {
    "duration": 2,
    "start_time": "2023-06-04T20:33:56.969Z"
   },
   {
    "duration": 2,
    "start_time": "2023-06-04T20:33:57.464Z"
   },
   {
    "duration": 2,
    "start_time": "2023-06-04T20:33:59.869Z"
   },
   {
    "duration": 2,
    "start_time": "2023-06-04T20:34:00.471Z"
   },
   {
    "duration": 2,
    "start_time": "2023-06-04T20:34:00.888Z"
   },
   {
    "duration": 19,
    "start_time": "2023-06-04T20:39:34.704Z"
   },
   {
    "duration": 17,
    "start_time": "2023-06-04T20:39:46.925Z"
   },
   {
    "duration": 6,
    "start_time": "2023-06-05T09:21:32.225Z"
   },
   {
    "duration": 2,
    "start_time": "2023-06-05T09:21:36.696Z"
   },
   {
    "duration": 2,
    "start_time": "2023-06-05T09:21:37.247Z"
   },
   {
    "duration": 3,
    "start_time": "2023-06-05T09:21:37.963Z"
   },
   {
    "duration": 9,
    "start_time": "2023-06-05T09:21:38.345Z"
   },
   {
    "duration": 2,
    "start_time": "2023-06-05T09:21:38.749Z"
   },
   {
    "duration": 32,
    "start_time": "2023-06-05T09:21:52.070Z"
   },
   {
    "duration": 25,
    "start_time": "2023-06-05T09:22:40.564Z"
   },
   {
    "duration": 30,
    "start_time": "2023-06-05T09:22:43.766Z"
   },
   {
    "duration": 5,
    "start_time": "2023-06-05T09:40:18.821Z"
   },
   {
    "duration": 9,
    "start_time": "2023-06-05T09:45:23.097Z"
   },
   {
    "duration": 8,
    "start_time": "2023-06-05T09:45:51.837Z"
   },
   {
    "duration": 21,
    "start_time": "2023-06-05T09:46:06.267Z"
   },
   {
    "duration": 12,
    "start_time": "2023-06-05T09:47:42.353Z"
   },
   {
    "duration": 3,
    "start_time": "2023-06-05T09:47:42.732Z"
   },
   {
    "duration": 37,
    "start_time": "2023-06-05T09:47:43.075Z"
   },
   {
    "duration": 9,
    "start_time": "2023-06-05T09:47:52.753Z"
   },
   {
    "duration": 8,
    "start_time": "2023-06-05T10:37:21.799Z"
   },
   {
    "duration": 8,
    "start_time": "2023-06-05T10:37:28.203Z"
   },
   {
    "duration": 4,
    "start_time": "2023-06-05T11:41:39.785Z"
   },
   {
    "duration": 4,
    "start_time": "2023-06-05T11:41:47.476Z"
   },
   {
    "duration": 4,
    "start_time": "2023-06-05T11:43:53.620Z"
   },
   {
    "duration": 10,
    "start_time": "2023-06-05T12:14:37.807Z"
   },
   {
    "duration": 3,
    "start_time": "2023-06-05T12:14:44.316Z"
   },
   {
    "duration": 159,
    "start_time": "2023-06-05T12:14:44.322Z"
   },
   {
    "duration": 17,
    "start_time": "2023-06-05T12:14:44.483Z"
   },
   {
    "duration": 136,
    "start_time": "2023-06-05T12:14:44.502Z"
   },
   {
    "duration": 15,
    "start_time": "2023-06-05T12:14:44.640Z"
   },
   {
    "duration": 142,
    "start_time": "2023-06-05T12:14:44.657Z"
   },
   {
    "duration": 17,
    "start_time": "2023-06-05T12:14:44.802Z"
   },
   {
    "duration": 17,
    "start_time": "2023-06-05T12:14:44.821Z"
   },
   {
    "duration": 38,
    "start_time": "2023-06-05T12:14:44.839Z"
   },
   {
    "duration": 3,
    "start_time": "2023-06-05T12:14:44.879Z"
   },
   {
    "duration": 5,
    "start_time": "2023-06-05T12:14:44.884Z"
   },
   {
    "duration": 13,
    "start_time": "2023-06-05T12:14:44.891Z"
   },
   {
    "duration": 6,
    "start_time": "2023-06-05T12:14:44.905Z"
   },
   {
    "duration": 66,
    "start_time": "2023-06-05T12:14:44.913Z"
   },
   {
    "duration": 196,
    "start_time": "2023-06-05T12:14:44.982Z"
   },
   {
    "duration": 114,
    "start_time": "2023-06-05T12:14:45.180Z"
   },
   {
    "duration": 3,
    "start_time": "2023-06-05T12:14:45.296Z"
   },
   {
    "duration": 5,
    "start_time": "2023-06-05T12:14:45.376Z"
   },
   {
    "duration": 93,
    "start_time": "2023-06-05T12:14:45.383Z"
   },
   {
    "duration": 4,
    "start_time": "2023-06-05T12:14:45.478Z"
   },
   {
    "duration": 7,
    "start_time": "2023-06-05T12:14:45.484Z"
   },
   {
    "duration": 4,
    "start_time": "2023-06-05T12:14:45.493Z"
   },
   {
    "duration": 3,
    "start_time": "2023-06-05T12:14:45.499Z"
   },
   {
    "duration": 6,
    "start_time": "2023-06-05T12:14:45.504Z"
   },
   {
    "duration": 8,
    "start_time": "2023-06-05T12:14:45.511Z"
   },
   {
    "duration": 8,
    "start_time": "2023-06-05T12:14:45.520Z"
   },
   {
    "duration": 9,
    "start_time": "2023-06-05T12:14:47.551Z"
   },
   {
    "duration": 8,
    "start_time": "2023-06-05T12:14:54.630Z"
   },
   {
    "duration": 10,
    "start_time": "2023-06-05T12:14:59.541Z"
   },
   {
    "duration": 7,
    "start_time": "2023-06-05T12:15:08.718Z"
   },
   {
    "duration": 10,
    "start_time": "2023-06-05T12:15:16.810Z"
   },
   {
    "duration": 7,
    "start_time": "2023-06-05T12:15:21.042Z"
   },
   {
    "duration": 5,
    "start_time": "2023-06-05T12:16:22.565Z"
   },
   {
    "duration": 2,
    "start_time": "2023-06-05T12:16:23.019Z"
   },
   {
    "duration": 27,
    "start_time": "2023-06-05T12:16:23.453Z"
   },
   {
    "duration": 8,
    "start_time": "2023-06-05T12:16:30.303Z"
   },
   {
    "duration": 3,
    "start_time": "2023-06-05T12:16:56.378Z"
   },
   {
    "duration": 9,
    "start_time": "2023-06-05T12:17:05.830Z"
   },
   {
    "duration": 5,
    "start_time": "2023-06-05T12:17:22.410Z"
   },
   {
    "duration": 7,
    "start_time": "2023-06-05T12:21:52.684Z"
   },
   {
    "duration": 5,
    "start_time": "2023-06-05T12:21:59.684Z"
   },
   {
    "duration": 7,
    "start_time": "2023-06-05T12:23:17.775Z"
   },
   {
    "duration": 4,
    "start_time": "2023-06-05T12:23:23.033Z"
   },
   {
    "duration": 4,
    "start_time": "2023-06-05T12:23:46.375Z"
   },
   {
    "duration": 8,
    "start_time": "2023-06-05T12:24:16.243Z"
   },
   {
    "duration": 8,
    "start_time": "2023-06-05T12:24:20.916Z"
   },
   {
    "duration": 4,
    "start_time": "2023-06-05T12:24:38.236Z"
   },
   {
    "duration": 2,
    "start_time": "2023-06-05T12:31:35.730Z"
   },
   {
    "duration": 15,
    "start_time": "2023-06-05T12:32:13.332Z"
   },
   {
    "duration": 3,
    "start_time": "2023-06-05T12:33:14.835Z"
   },
   {
    "duration": 14,
    "start_time": "2023-06-05T12:33:15.426Z"
   },
   {
    "duration": 3,
    "start_time": "2023-06-05T12:33:46.679Z"
   },
   {
    "duration": 8,
    "start_time": "2023-06-05T12:33:47.121Z"
   },
   {
    "duration": 8,
    "start_time": "2023-06-05T12:33:54.411Z"
   },
   {
    "duration": 9,
    "start_time": "2023-06-05T12:38:05.412Z"
   },
   {
    "duration": 9,
    "start_time": "2023-06-05T12:38:12.827Z"
   },
   {
    "duration": 3,
    "start_time": "2023-06-05T12:39:07.592Z"
   },
   {
    "duration": 4,
    "start_time": "2023-06-05T12:39:35.383Z"
   },
   {
    "duration": 6,
    "start_time": "2023-06-05T15:45:31.504Z"
   },
   {
    "duration": 4,
    "start_time": "2023-06-05T15:48:43.355Z"
   },
   {
    "duration": 3,
    "start_time": "2023-06-05T15:50:07.946Z"
   },
   {
    "duration": 13,
    "start_time": "2023-06-05T15:50:29.250Z"
   },
   {
    "duration": 5,
    "start_time": "2023-06-05T15:50:58.793Z"
   },
   {
    "duration": 4,
    "start_time": "2023-06-05T15:51:09.477Z"
   },
   {
    "duration": 3,
    "start_time": "2023-06-05T15:51:09.898Z"
   },
   {
    "duration": 12,
    "start_time": "2023-06-05T15:51:10.298Z"
   },
   {
    "duration": 12,
    "start_time": "2023-06-05T15:51:10.790Z"
   },
   {
    "duration": 3,
    "start_time": "2023-06-05T15:51:15.097Z"
   },
   {
    "duration": 12,
    "start_time": "2023-06-05T15:51:15.499Z"
   },
   {
    "duration": 8,
    "start_time": "2023-06-05T15:51:16.092Z"
   },
   {
    "duration": 3,
    "start_time": "2023-06-05T15:51:19.192Z"
   },
   {
    "duration": 13,
    "start_time": "2023-06-05T15:51:19.791Z"
   },
   {
    "duration": 8,
    "start_time": "2023-06-05T15:51:20.305Z"
   },
   {
    "duration": 3,
    "start_time": "2023-06-05T15:51:26.050Z"
   },
   {
    "duration": 3,
    "start_time": "2023-06-05T15:51:27.589Z"
   },
   {
    "duration": 12,
    "start_time": "2023-06-05T15:51:28.217Z"
   },
   {
    "duration": 8,
    "start_time": "2023-06-05T15:51:28.833Z"
   },
   {
    "duration": 5,
    "start_time": "2023-06-05T15:51:46.947Z"
   },
   {
    "duration": 5,
    "start_time": "2023-06-05T15:51:53.534Z"
   },
   {
    "duration": 15,
    "start_time": "2023-06-05T15:51:53.945Z"
   },
   {
    "duration": 8,
    "start_time": "2023-06-05T15:51:54.529Z"
   },
   {
    "duration": 4,
    "start_time": "2023-06-05T15:52:02.498Z"
   },
   {
    "duration": 6,
    "start_time": "2023-06-05T15:52:02.920Z"
   },
   {
    "duration": 14,
    "start_time": "2023-06-05T15:52:03.856Z"
   },
   {
    "duration": 10,
    "start_time": "2023-06-05T15:52:04.392Z"
   },
   {
    "duration": 6,
    "start_time": "2023-06-05T15:52:11.721Z"
   },
   {
    "duration": 13,
    "start_time": "2023-06-05T15:52:12.296Z"
   },
   {
    "duration": 7,
    "start_time": "2023-06-05T15:52:12.791Z"
   },
   {
    "duration": 9,
    "start_time": "2023-06-05T15:53:07.628Z"
   },
   {
    "duration": 3,
    "start_time": "2023-06-05T15:53:22.798Z"
   },
   {
    "duration": 6,
    "start_time": "2023-06-05T15:53:26.945Z"
   },
   {
    "duration": 11,
    "start_time": "2023-06-05T15:53:27.699Z"
   },
   {
    "duration": 8,
    "start_time": "2023-06-05T15:53:28.330Z"
   },
   {
    "duration": 6,
    "start_time": "2023-06-05T15:53:35.544Z"
   },
   {
    "duration": 13,
    "start_time": "2023-06-05T15:53:36.032Z"
   },
   {
    "duration": 8,
    "start_time": "2023-06-05T15:53:36.487Z"
   },
   {
    "duration": 8,
    "start_time": "2023-06-05T15:53:52.381Z"
   },
   {
    "duration": 17,
    "start_time": "2023-06-05T15:53:52.932Z"
   },
   {
    "duration": 10,
    "start_time": "2023-06-05T15:53:53.844Z"
   },
   {
    "duration": 3,
    "start_time": "2023-06-05T15:58:50.106Z"
   },
   {
    "duration": 5,
    "start_time": "2023-06-05T15:58:50.519Z"
   },
   {
    "duration": 20,
    "start_time": "2023-06-05T15:58:50.954Z"
   },
   {
    "duration": 6,
    "start_time": "2023-06-05T15:58:57.458Z"
   },
   {
    "duration": 7,
    "start_time": "2023-06-05T15:59:09.829Z"
   },
   {
    "duration": 3,
    "start_time": "2023-06-05T15:59:38.917Z"
   },
   {
    "duration": 20,
    "start_time": "2023-06-05T15:59:39.309Z"
   },
   {
    "duration": 7,
    "start_time": "2023-06-05T15:59:44.094Z"
   },
   {
    "duration": 3,
    "start_time": "2023-06-05T15:59:50.849Z"
   },
   {
    "duration": 33,
    "start_time": "2023-06-05T15:59:51.257Z"
   },
   {
    "duration": 6,
    "start_time": "2023-06-05T15:59:58.153Z"
   },
   {
    "duration": 10,
    "start_time": "2023-06-05T16:00:32.101Z"
   },
   {
    "duration": 9,
    "start_time": "2023-06-05T16:00:32.548Z"
   },
   {
    "duration": 4,
    "start_time": "2023-06-05T16:00:35.616Z"
   },
   {
    "duration": 27,
    "start_time": "2023-06-05T16:00:36.057Z"
   },
   {
    "duration": 5,
    "start_time": "2023-06-05T16:00:36.488Z"
   },
   {
    "duration": 7,
    "start_time": "2023-06-05T16:00:37.003Z"
   },
   {
    "duration": 7,
    "start_time": "2023-06-05T16:00:37.456Z"
   },
   {
    "duration": 4,
    "start_time": "2023-06-05T16:01:38.224Z"
   },
   {
    "duration": 24,
    "start_time": "2023-06-05T16:01:38.579Z"
   },
   {
    "duration": 7,
    "start_time": "2023-06-05T16:01:38.987Z"
   },
   {
    "duration": 6,
    "start_time": "2023-06-05T16:01:39.401Z"
   },
   {
    "duration": 10,
    "start_time": "2023-06-05T16:01:39.777Z"
   },
   {
    "duration": 3,
    "start_time": "2023-06-05T16:02:19.024Z"
   },
   {
    "duration": 21,
    "start_time": "2023-06-05T16:02:19.497Z"
   },
   {
    "duration": 5,
    "start_time": "2023-06-05T16:02:19.897Z"
   },
   {
    "duration": 6,
    "start_time": "2023-06-05T16:02:20.398Z"
   },
   {
    "duration": 5,
    "start_time": "2023-06-05T16:02:20.817Z"
   },
   {
    "duration": 6,
    "start_time": "2023-06-05T16:02:25.456Z"
   },
   {
    "duration": 7,
    "start_time": "2023-06-05T16:02:26.824Z"
   },
   {
    "duration": 5,
    "start_time": "2023-06-05T16:02:27.285Z"
   },
   {
    "duration": 7,
    "start_time": "2023-06-05T16:02:30.120Z"
   },
   {
    "duration": 7,
    "start_time": "2023-06-05T16:02:30.664Z"
   },
   {
    "duration": 6,
    "start_time": "2023-06-05T16:02:31.215Z"
   },
   {
    "duration": 4,
    "start_time": "2023-06-05T16:10:10.430Z"
   },
   {
    "duration": 10,
    "start_time": "2023-06-05T16:10:15.695Z"
   },
   {
    "duration": 63,
    "start_time": "2023-06-05T16:13:26.737Z"
   },
   {
    "duration": 3,
    "start_time": "2023-06-05T16:14:00.752Z"
   },
   {
    "duration": 4,
    "start_time": "2023-06-05T16:14:40.319Z"
   },
   {
    "duration": 4,
    "start_time": "2023-06-05T16:14:41.911Z"
   },
   {
    "duration": 4,
    "start_time": "2023-06-05T16:14:42.343Z"
   },
   {
    "duration": 9,
    "start_time": "2023-06-05T16:15:23.875Z"
   },
   {
    "duration": 5,
    "start_time": "2023-06-05T16:15:44.002Z"
   },
   {
    "duration": 4,
    "start_time": "2023-06-05T16:15:44.666Z"
   },
   {
    "duration": 9,
    "start_time": "2023-06-05T16:15:45.354Z"
   },
   {
    "duration": 4,
    "start_time": "2023-06-05T16:16:38.509Z"
   },
   {
    "duration": 2739,
    "start_time": "2023-06-05T16:16:49.658Z"
   },
   {
    "duration": 15,
    "start_time": "2023-06-05T16:17:01.821Z"
   },
   {
    "duration": 4,
    "start_time": "2023-06-05T17:57:57.752Z"
   },
   {
    "duration": 2755,
    "start_time": "2023-06-05T17:57:58.656Z"
   },
   {
    "duration": 14,
    "start_time": "2023-06-05T17:58:01.413Z"
   },
   {
    "duration": 3,
    "start_time": "2023-06-05T17:58:17.488Z"
   },
   {
    "duration": 2748,
    "start_time": "2023-06-05T17:58:18.685Z"
   },
   {
    "duration": 13,
    "start_time": "2023-06-05T17:58:22.453Z"
   },
   {
    "duration": 5,
    "start_time": "2023-06-05T18:02:26.988Z"
   },
   {
    "duration": 7,
    "start_time": "2023-06-05T18:02:27.505Z"
   },
   {
    "duration": 4,
    "start_time": "2023-06-05T18:02:29.452Z"
   },
   {
    "duration": 5,
    "start_time": "2023-06-05T18:03:31.952Z"
   },
   {
    "duration": 6,
    "start_time": "2023-06-05T18:03:32.488Z"
   },
   {
    "duration": 7,
    "start_time": "2023-06-05T18:03:33.787Z"
   },
   {
    "duration": 3,
    "start_time": "2023-06-05T18:03:43.912Z"
   },
   {
    "duration": 5,
    "start_time": "2023-06-05T18:04:01.878Z"
   },
   {
    "duration": 5,
    "start_time": "2023-06-05T18:07:29.440Z"
   },
   {
    "duration": 6,
    "start_time": "2023-06-05T18:07:30.018Z"
   },
   {
    "duration": 7,
    "start_time": "2023-06-05T18:07:30.509Z"
   },
   {
    "duration": 6,
    "start_time": "2023-06-05T18:07:31.090Z"
   },
   {
    "duration": 6,
    "start_time": "2023-06-05T18:08:13.677Z"
   },
   {
    "duration": 8,
    "start_time": "2023-06-05T18:08:14.085Z"
   },
   {
    "duration": 6,
    "start_time": "2023-06-05T18:08:14.510Z"
   },
   {
    "duration": 4,
    "start_time": "2023-06-05T18:08:17.662Z"
   },
   {
    "duration": 4,
    "start_time": "2023-06-05T18:11:17.219Z"
   },
   {
    "duration": 5,
    "start_time": "2023-06-05T18:11:30.251Z"
   },
   {
    "duration": 5,
    "start_time": "2023-06-05T18:11:49.351Z"
   },
   {
    "duration": 6,
    "start_time": "2023-06-05T18:11:49.751Z"
   },
   {
    "duration": 8,
    "start_time": "2023-06-05T18:11:50.240Z"
   },
   {
    "duration": 5,
    "start_time": "2023-06-05T18:11:52.591Z"
   },
   {
    "duration": 5,
    "start_time": "2023-06-05T18:15:43.701Z"
   },
   {
    "duration": 9,
    "start_time": "2023-06-05T18:15:44.241Z"
   },
   {
    "duration": 8,
    "start_time": "2023-06-05T18:15:44.724Z"
   },
   {
    "duration": 5,
    "start_time": "2023-06-05T18:15:45.540Z"
   },
   {
    "duration": 4,
    "start_time": "2023-06-05T18:20:01.402Z"
   },
   {
    "duration": 2951,
    "start_time": "2023-06-05T18:20:02.762Z"
   },
   {
    "duration": 14,
    "start_time": "2023-06-05T18:20:05.714Z"
   },
   {
    "duration": 8,
    "start_time": "2023-06-05T18:20:43.248Z"
   },
   {
    "duration": 6,
    "start_time": "2023-06-05T18:20:59.313Z"
   },
   {
    "duration": 5,
    "start_time": "2023-06-05T18:21:14.613Z"
   },
   {
    "duration": 2813,
    "start_time": "2023-06-05T18:23:18.322Z"
   },
   {
    "duration": 4,
    "start_time": "2023-06-05T18:23:21.137Z"
   },
   {
    "duration": 2784,
    "start_time": "2023-06-05T18:23:38.255Z"
   },
   {
    "duration": 4,
    "start_time": "2023-06-05T18:23:41.041Z"
   },
   {
    "duration": 2,
    "start_time": "2023-06-05T18:37:37.967Z"
   },
   {
    "duration": 4,
    "start_time": "2023-06-05T18:37:38.343Z"
   },
   {
    "duration": 2731,
    "start_time": "2023-06-05T18:37:38.718Z"
   },
   {
    "duration": 4,
    "start_time": "2023-06-05T18:37:41.451Z"
   },
   {
    "duration": 28,
    "start_time": "2023-06-05T18:37:41.456Z"
   },
   {
    "duration": 9,
    "start_time": "2023-06-05T18:37:52.775Z"
   },
   {
    "duration": 3,
    "start_time": "2023-06-05T18:38:57.167Z"
   },
   {
    "duration": 2785,
    "start_time": "2023-06-05T18:38:57.525Z"
   },
   {
    "duration": 3,
    "start_time": "2023-06-05T18:39:00.311Z"
   },
   {
    "duration": 28,
    "start_time": "2023-06-05T18:39:00.315Z"
   },
   {
    "duration": 61,
    "start_time": "2023-06-05T18:39:00.345Z"
   },
   {
    "duration": 4,
    "start_time": "2023-06-05T18:39:06.241Z"
   },
   {
    "duration": 4,
    "start_time": "2023-06-06T15:33:18.635Z"
   },
   {
    "duration": 3,
    "start_time": "2023-06-06T15:36:09.020Z"
   },
   {
    "duration": 145,
    "start_time": "2023-06-06T15:36:09.027Z"
   },
   {
    "duration": 14,
    "start_time": "2023-06-06T15:36:09.174Z"
   },
   {
    "duration": 2,
    "start_time": "2023-06-06T15:36:09.190Z"
   },
   {
    "duration": 120,
    "start_time": "2023-06-06T15:36:09.195Z"
   },
   {
    "duration": 13,
    "start_time": "2023-06-06T15:36:09.316Z"
   },
   {
    "duration": 133,
    "start_time": "2023-06-06T15:36:09.331Z"
   },
   {
    "duration": 19,
    "start_time": "2023-06-06T15:36:09.465Z"
   },
   {
    "duration": 15,
    "start_time": "2023-06-06T15:36:09.486Z"
   },
   {
    "duration": 12,
    "start_time": "2023-06-06T15:36:09.503Z"
   },
   {
    "duration": 6,
    "start_time": "2023-06-06T15:36:09.517Z"
   },
   {
    "duration": 5,
    "start_time": "2023-06-06T15:36:09.525Z"
   },
   {
    "duration": 11,
    "start_time": "2023-06-06T15:36:09.532Z"
   },
   {
    "duration": 31,
    "start_time": "2023-06-06T15:36:09.544Z"
   },
   {
    "duration": 101,
    "start_time": "2023-06-06T15:36:09.576Z"
   },
   {
    "duration": 115,
    "start_time": "2023-06-06T15:36:09.680Z"
   },
   {
    "duration": 116,
    "start_time": "2023-06-06T15:36:09.876Z"
   },
   {
    "duration": 82,
    "start_time": "2023-06-06T15:36:09.994Z"
   },
   {
    "duration": 97,
    "start_time": "2023-06-06T15:36:10.079Z"
   },
   {
    "duration": 7,
    "start_time": "2023-06-06T15:36:10.178Z"
   },
   {
    "duration": 3,
    "start_time": "2023-06-06T15:36:10.187Z"
   },
   {
    "duration": 7,
    "start_time": "2023-06-06T15:36:10.192Z"
   },
   {
    "duration": 5,
    "start_time": "2023-06-06T15:36:10.201Z"
   },
   {
    "duration": 5,
    "start_time": "2023-06-06T15:36:10.207Z"
   },
   {
    "duration": 9,
    "start_time": "2023-06-06T15:36:10.213Z"
   },
   {
    "duration": 23,
    "start_time": "2023-06-06T15:36:10.223Z"
   },
   {
    "duration": 9,
    "start_time": "2023-06-06T15:36:10.247Z"
   },
   {
    "duration": 3,
    "start_time": "2023-06-06T15:36:10.274Z"
   },
   {
    "duration": 5,
    "start_time": "2023-06-06T15:36:10.280Z"
   },
   {
    "duration": 2699,
    "start_time": "2023-06-06T15:36:10.286Z"
   },
   {
    "duration": 3,
    "start_time": "2023-06-06T15:36:12.987Z"
   },
   {
    "duration": 6,
    "start_time": "2023-06-06T15:36:12.991Z"
   },
   {
    "duration": 5,
    "start_time": "2023-06-06T15:36:17.694Z"
   },
   {
    "duration": 6,
    "start_time": "2023-06-06T15:36:18.456Z"
   },
   {
    "duration": 5,
    "start_time": "2023-06-06T15:38:09.818Z"
   },
   {
    "duration": 5,
    "start_time": "2023-06-06T15:38:41.716Z"
   },
   {
    "duration": 6,
    "start_time": "2023-06-06T15:44:36.820Z"
   },
   {
    "duration": 5,
    "start_time": "2023-06-06T15:45:10.751Z"
   },
   {
    "duration": 6,
    "start_time": "2023-06-06T15:55:32.895Z"
   },
   {
    "duration": 5,
    "start_time": "2023-06-06T16:00:08.809Z"
   },
   {
    "duration": 6,
    "start_time": "2023-06-06T16:00:14.324Z"
   },
   {
    "duration": 11,
    "start_time": "2023-06-06T16:00:33.519Z"
   },
   {
    "duration": 6,
    "start_time": "2023-06-06T16:00:37.566Z"
   },
   {
    "duration": 9,
    "start_time": "2023-06-06T16:03:36.364Z"
   },
   {
    "duration": 7,
    "start_time": "2023-06-06T16:03:54.197Z"
   },
   {
    "duration": 2890,
    "start_time": "2023-06-06T16:04:18.766Z"
   },
   {
    "duration": 3,
    "start_time": "2023-06-06T16:04:21.657Z"
   },
   {
    "duration": 28,
    "start_time": "2023-06-06T16:04:21.662Z"
   },
   {
    "duration": 5,
    "start_time": "2023-06-06T16:04:21.692Z"
   },
   {
    "duration": 6,
    "start_time": "2023-06-06T16:04:23.044Z"
   },
   {
    "duration": 5,
    "start_time": "2023-06-06T16:04:52.805Z"
   },
   {
    "duration": 3004,
    "start_time": "2023-06-06T16:05:01.809Z"
   },
   {
    "duration": 3,
    "start_time": "2023-06-06T16:05:04.815Z"
   },
   {
    "duration": 8,
    "start_time": "2023-06-06T16:05:04.819Z"
   },
   {
    "duration": 7,
    "start_time": "2023-06-06T16:05:04.828Z"
   },
   {
    "duration": 4,
    "start_time": "2023-06-06T16:05:06.138Z"
   },
   {
    "duration": 386,
    "start_time": "2023-06-06T19:38:13.421Z"
   },
   {
    "duration": 145,
    "start_time": "2023-06-06T19:38:23.196Z"
   },
   {
    "duration": 16,
    "start_time": "2023-06-06T19:39:32.695Z"
   },
   {
    "duration": 148,
    "start_time": "2023-06-06T19:41:03.197Z"
   },
   {
    "duration": 3,
    "start_time": "2023-06-06T19:41:13.904Z"
   },
   {
    "duration": 518,
    "start_time": "2023-06-06T19:41:14.279Z"
   },
   {
    "duration": 17,
    "start_time": "2023-06-06T19:41:14.799Z"
   },
   {
    "duration": 148,
    "start_time": "2023-06-06T19:41:15.084Z"
   },
   {
    "duration": 158,
    "start_time": "2023-06-06T19:41:28.214Z"
   },
   {
    "duration": 212,
    "start_time": "2023-06-06T19:42:10.495Z"
   },
   {
    "duration": 3,
    "start_time": "2023-06-06T19:42:32.380Z"
   },
   {
    "duration": 132,
    "start_time": "2023-06-06T19:42:32.834Z"
   },
   {
    "duration": 15,
    "start_time": "2023-06-06T19:42:33.219Z"
   },
   {
    "duration": 195,
    "start_time": "2023-06-06T19:42:33.967Z"
   },
   {
    "duration": 141,
    "start_time": "2023-06-06T19:42:58.687Z"
   },
   {
    "duration": 9,
    "start_time": "2023-06-06T19:58:42.471Z"
   },
   {
    "duration": 3,
    "start_time": "2023-06-06T20:03:12.072Z"
   },
   {
    "duration": 138,
    "start_time": "2023-06-06T20:03:12.077Z"
   },
   {
    "duration": 13,
    "start_time": "2023-06-06T20:03:12.216Z"
   },
   {
    "duration": 146,
    "start_time": "2023-06-06T20:03:12.230Z"
   },
   {
    "duration": 514,
    "start_time": "2023-06-06T20:03:12.378Z"
   },
   {
    "duration": 13,
    "start_time": "2023-06-06T20:03:12.894Z"
   },
   {
    "duration": 134,
    "start_time": "2023-06-06T20:03:12.909Z"
   },
   {
    "duration": 495,
    "start_time": "2023-06-06T20:03:13.044Z"
   },
   {
    "duration": 16,
    "start_time": "2023-06-06T20:03:13.541Z"
   },
   {
    "duration": 139,
    "start_time": "2023-06-06T20:03:13.559Z"
   },
   {
    "duration": 3,
    "start_time": "2023-06-06T20:03:13.699Z"
   },
   {
    "duration": 5,
    "start_time": "2023-06-06T20:03:13.703Z"
   },
   {
    "duration": 7,
    "start_time": "2023-06-06T20:03:13.709Z"
   },
   {
    "duration": 8,
    "start_time": "2023-06-06T20:03:13.718Z"
   },
   {
    "duration": 54,
    "start_time": "2023-06-06T20:03:13.728Z"
   },
   {
    "duration": 200,
    "start_time": "2023-06-06T20:03:13.783Z"
   },
   {
    "duration": 203,
    "start_time": "2023-06-06T20:03:14.074Z"
   },
   {
    "duration": 3,
    "start_time": "2023-06-06T20:03:14.279Z"
   },
   {
    "duration": 5,
    "start_time": "2023-06-06T20:03:14.283Z"
   },
   {
    "duration": 4,
    "start_time": "2023-06-06T20:03:14.289Z"
   },
   {
    "duration": 3,
    "start_time": "2023-06-06T20:03:14.375Z"
   },
   {
    "duration": 8,
    "start_time": "2023-06-06T20:03:14.379Z"
   },
   {
    "duration": 3,
    "start_time": "2023-06-06T20:03:14.388Z"
   },
   {
    "duration": 5,
    "start_time": "2023-06-06T20:03:14.392Z"
   },
   {
    "duration": 14,
    "start_time": "2023-06-06T20:03:14.398Z"
   },
   {
    "duration": 8,
    "start_time": "2023-06-06T20:03:14.414Z"
   },
   {
    "duration": 5,
    "start_time": "2023-06-06T20:03:14.423Z"
   },
   {
    "duration": 3,
    "start_time": "2023-06-06T20:03:14.430Z"
   },
   {
    "duration": 6,
    "start_time": "2023-06-06T20:03:14.434Z"
   },
   {
    "duration": 2798,
    "start_time": "2023-06-06T20:03:14.441Z"
   },
   {
    "duration": 5,
    "start_time": "2023-06-06T20:03:17.241Z"
   },
   {
    "duration": 4,
    "start_time": "2023-06-06T20:03:42.200Z"
   },
   {
    "duration": 4,
    "start_time": "2023-06-06T20:05:16.696Z"
   },
   {
    "duration": 4,
    "start_time": "2023-06-06T20:05:42.872Z"
   },
   {
    "duration": 3,
    "start_time": "2023-06-06T20:07:39.197Z"
   },
   {
    "duration": 134,
    "start_time": "2023-06-06T20:07:39.202Z"
   },
   {
    "duration": 14,
    "start_time": "2023-06-06T20:07:39.337Z"
   },
   {
    "duration": 150,
    "start_time": "2023-06-06T20:07:39.352Z"
   },
   {
    "duration": 119,
    "start_time": "2023-06-06T20:07:39.505Z"
   },
   {
    "duration": 13,
    "start_time": "2023-06-06T20:07:39.626Z"
   },
   {
    "duration": 149,
    "start_time": "2023-06-06T20:07:39.641Z"
   },
   {
    "duration": 124,
    "start_time": "2023-06-06T20:07:39.792Z"
   },
   {
    "duration": 13,
    "start_time": "2023-06-06T20:07:39.918Z"
   },
   {
    "duration": 170,
    "start_time": "2023-06-06T20:07:39.933Z"
   },
   {
    "duration": 3,
    "start_time": "2023-06-06T20:07:40.104Z"
   },
   {
    "duration": 11,
    "start_time": "2023-06-06T20:07:40.109Z"
   },
   {
    "duration": 7,
    "start_time": "2023-06-06T20:07:40.121Z"
   },
   {
    "duration": 4,
    "start_time": "2023-06-06T20:07:40.131Z"
   },
   {
    "duration": 67,
    "start_time": "2023-06-06T20:07:40.137Z"
   },
   {
    "duration": 109,
    "start_time": "2023-06-06T20:07:40.277Z"
   },
   {
    "duration": 202,
    "start_time": "2023-06-06T20:07:40.388Z"
   },
   {
    "duration": 85,
    "start_time": "2023-06-06T20:07:40.592Z"
   },
   {
    "duration": 96,
    "start_time": "2023-06-06T20:07:40.679Z"
   },
   {
    "duration": 2743,
    "start_time": "2023-06-06T20:07:40.776Z"
   },
   {
    "duration": 6,
    "start_time": "2023-06-06T20:07:43.521Z"
   },
   {
    "duration": 12,
    "start_time": "2023-06-06T20:07:43.528Z"
   },
   {
    "duration": 24,
    "start_time": "2023-06-06T20:07:43.542Z"
   },
   {
    "duration": 3,
    "start_time": "2023-06-06T20:08:28.638Z"
   },
   {
    "duration": 3,
    "start_time": "2023-06-06T20:08:30.892Z"
   },
   {
    "duration": 4,
    "start_time": "2023-06-06T20:11:14.205Z"
   },
   {
    "duration": 150,
    "start_time": "2023-06-06T20:11:14.211Z"
   },
   {
    "duration": 17,
    "start_time": "2023-06-06T20:11:14.362Z"
   },
   {
    "duration": 146,
    "start_time": "2023-06-06T20:11:14.381Z"
   },
   {
    "duration": 115,
    "start_time": "2023-06-06T20:11:14.530Z"
   },
   {
    "duration": 13,
    "start_time": "2023-06-06T20:11:14.646Z"
   },
   {
    "duration": 146,
    "start_time": "2023-06-06T20:11:14.660Z"
   },
   {
    "duration": 137,
    "start_time": "2023-06-06T20:11:14.809Z"
   },
   {
    "duration": 15,
    "start_time": "2023-06-06T20:11:14.948Z"
   },
   {
    "duration": 241,
    "start_time": "2023-06-06T20:11:14.964Z"
   },
   {
    "duration": 3,
    "start_time": "2023-06-06T20:11:15.207Z"
   },
   {
    "duration": 8,
    "start_time": "2023-06-06T20:11:15.212Z"
   },
   {
    "duration": 5,
    "start_time": "2023-06-06T20:11:15.222Z"
   },
   {
    "duration": 17,
    "start_time": "2023-06-06T20:11:15.230Z"
   },
   {
    "duration": 43,
    "start_time": "2023-06-06T20:11:15.249Z"
   },
   {
    "duration": 121,
    "start_time": "2023-06-06T20:11:15.377Z"
   },
   {
    "duration": 191,
    "start_time": "2023-06-06T20:11:15.500Z"
   },
   {
    "duration": 83,
    "start_time": "2023-06-06T20:11:15.693Z"
   },
   {
    "duration": 96,
    "start_time": "2023-06-06T20:11:15.779Z"
   },
   {
    "duration": 2743,
    "start_time": "2023-06-06T20:11:15.877Z"
   },
   {
    "duration": 4,
    "start_time": "2023-06-06T20:11:18.622Z"
   },
   {
    "duration": 5,
    "start_time": "2023-06-06T20:11:18.628Z"
   },
   {
    "duration": 5,
    "start_time": "2023-06-06T20:11:18.634Z"
   },
   {
    "duration": 5,
    "start_time": "2023-06-06T20:11:18.641Z"
   },
   {
    "duration": 2770,
    "start_time": "2023-06-06T20:11:18.647Z"
   },
   {
    "duration": 5,
    "start_time": "2023-06-06T20:11:21.419Z"
   },
   {
    "duration": 11,
    "start_time": "2023-06-06T20:11:21.426Z"
   },
   {
    "duration": 4,
    "start_time": "2023-06-06T20:11:26.008Z"
   },
   {
    "duration": 2775,
    "start_time": "2023-06-06T20:12:46.928Z"
   },
   {
    "duration": 3,
    "start_time": "2023-06-06T20:15:23.035Z"
   },
   {
    "duration": 145,
    "start_time": "2023-06-06T20:15:23.040Z"
   },
   {
    "duration": 12,
    "start_time": "2023-06-06T20:15:23.187Z"
   },
   {
    "duration": 167,
    "start_time": "2023-06-06T20:15:23.201Z"
   },
   {
    "duration": 118,
    "start_time": "2023-06-06T20:15:23.374Z"
   },
   {
    "duration": 14,
    "start_time": "2023-06-06T20:15:23.493Z"
   },
   {
    "duration": 158,
    "start_time": "2023-06-06T20:15:23.509Z"
   },
   {
    "duration": 124,
    "start_time": "2023-06-06T20:15:23.669Z"
   },
   {
    "duration": 14,
    "start_time": "2023-06-06T20:15:23.794Z"
   },
   {
    "duration": 166,
    "start_time": "2023-06-06T20:15:23.810Z"
   },
   {
    "duration": 3,
    "start_time": "2023-06-06T20:15:23.979Z"
   },
   {
    "duration": 14,
    "start_time": "2023-06-06T20:15:23.985Z"
   },
   {
    "duration": 12,
    "start_time": "2023-06-06T20:15:24.001Z"
   },
   {
    "duration": 17,
    "start_time": "2023-06-06T20:15:24.015Z"
   },
   {
    "duration": 55,
    "start_time": "2023-06-06T20:15:24.034Z"
   },
   {
    "duration": 118,
    "start_time": "2023-06-06T20:15:24.180Z"
   },
   {
    "duration": 180,
    "start_time": "2023-06-06T20:15:24.300Z"
   },
   {
    "duration": 94,
    "start_time": "2023-06-06T20:15:24.482Z"
   },
   {
    "duration": 11,
    "start_time": "2023-06-06T20:15:24.578Z"
   },
   {
    "duration": 3000,
    "start_time": "2023-06-06T20:15:24.677Z"
   },
   {
    "duration": 5,
    "start_time": "2023-06-06T20:15:27.679Z"
   },
   {
    "duration": 7,
    "start_time": "2023-06-06T20:15:27.686Z"
   },
   {
    "duration": 5,
    "start_time": "2023-06-06T20:15:27.695Z"
   },
   {
    "duration": 5,
    "start_time": "2023-06-06T20:15:27.702Z"
   },
   {
    "duration": 3034,
    "start_time": "2023-06-06T20:15:27.709Z"
   },
   {
    "duration": 7,
    "start_time": "2023-06-06T20:15:30.745Z"
   },
   {
    "duration": 101,
    "start_time": "2023-06-06T20:15:30.754Z"
   },
   {
    "duration": 56,
    "start_time": "2023-06-06T20:15:30.857Z"
   },
   {
    "duration": 66,
    "start_time": "2023-06-06T20:15:30.916Z"
   },
   {
    "duration": 2963,
    "start_time": "2023-06-06T20:15:30.984Z"
   },
   {
    "duration": 6,
    "start_time": "2023-06-06T20:15:33.950Z"
   },
   {
    "duration": 2918,
    "start_time": "2023-06-06T20:15:33.958Z"
   },
   {
    "duration": 4,
    "start_time": "2023-06-06T20:15:36.877Z"
   },
   {
    "duration": 21,
    "start_time": "2023-06-06T20:15:36.883Z"
   },
   {
    "duration": 10,
    "start_time": "2023-06-06T20:15:36.905Z"
   },
   {
    "duration": 18,
    "start_time": "2023-06-06T20:15:36.916Z"
   },
   {
    "duration": 16,
    "start_time": "2023-06-06T20:15:36.935Z"
   },
   {
    "duration": 3,
    "start_time": "2023-06-06T20:15:36.953Z"
   },
   {
    "duration": 3,
    "start_time": "2023-06-06T20:20:48.909Z"
   },
   {
    "duration": 153,
    "start_time": "2023-06-06T20:20:48.914Z"
   },
   {
    "duration": 28,
    "start_time": "2023-06-06T20:20:49.068Z"
   },
   {
    "duration": 135,
    "start_time": "2023-06-06T20:20:49.097Z"
   },
   {
    "duration": 128,
    "start_time": "2023-06-06T20:20:49.234Z"
   },
   {
    "duration": 24,
    "start_time": "2023-06-06T20:20:49.364Z"
   },
   {
    "duration": 134,
    "start_time": "2023-06-06T20:20:49.391Z"
   },
   {
    "duration": 13,
    "start_time": "2023-06-06T20:20:49.526Z"
   },
   {
    "duration": 152,
    "start_time": "2023-06-06T20:20:49.541Z"
   },
   {
    "duration": 3,
    "start_time": "2023-06-06T20:20:49.694Z"
   },
   {
    "duration": 7,
    "start_time": "2023-06-06T20:20:49.698Z"
   },
   {
    "duration": 6,
    "start_time": "2023-06-06T20:20:51.496Z"
   },
   {
    "duration": 6,
    "start_time": "2023-06-06T20:20:52.015Z"
   },
   {
    "duration": 3,
    "start_time": "2023-06-06T20:20:54.031Z"
   },
   {
    "duration": 1130,
    "start_time": "2023-06-06T20:21:27.704Z"
   },
   {
    "duration": 166,
    "start_time": "2023-06-06T20:21:28.836Z"
   },
   {
    "duration": 16,
    "start_time": "2023-06-06T20:21:29.003Z"
   },
   {
    "duration": 346,
    "start_time": "2023-06-06T20:21:29.021Z"
   },
   {
    "duration": 142,
    "start_time": "2023-06-06T20:21:29.368Z"
   },
   {
    "duration": 14,
    "start_time": "2023-06-06T20:21:29.512Z"
   },
   {
    "duration": 137,
    "start_time": "2023-06-06T20:21:29.528Z"
   },
   {
    "duration": 28,
    "start_time": "2023-06-06T20:21:29.667Z"
   },
   {
    "duration": 143,
    "start_time": "2023-06-06T20:21:29.696Z"
   },
   {
    "duration": 3,
    "start_time": "2023-06-06T20:21:29.841Z"
   },
   {
    "duration": 4,
    "start_time": "2023-06-06T20:21:29.845Z"
   },
   {
    "duration": 6,
    "start_time": "2023-06-06T20:21:29.851Z"
   },
   {
    "duration": 5,
    "start_time": "2023-06-06T20:21:33.064Z"
   },
   {
    "duration": 4,
    "start_time": "2023-06-06T20:21:34.015Z"
   },
   {
    "duration": 102,
    "start_time": "2023-06-06T20:22:42.488Z"
   },
   {
    "duration": 5,
    "start_time": "2023-06-06T20:22:57.702Z"
   },
   {
    "duration": 5,
    "start_time": "2023-06-06T20:23:00.337Z"
   },
   {
    "duration": 3021,
    "start_time": "2023-06-06T20:23:02.876Z"
   },
   {
    "duration": 5,
    "start_time": "2023-06-06T20:23:05.899Z"
   },
   {
    "duration": 10,
    "start_time": "2023-06-06T20:23:05.906Z"
   },
   {
    "duration": 4,
    "start_time": "2023-06-06T20:25:36.424Z"
   },
   {
    "duration": 2873,
    "start_time": "2023-06-06T20:25:36.872Z"
   },
   {
    "duration": 5,
    "start_time": "2023-06-06T20:25:39.747Z"
   },
   {
    "duration": 5,
    "start_time": "2023-06-06T20:25:39.753Z"
   },
   {
    "duration": 40,
    "start_time": "2023-06-06T20:25:53.991Z"
   },
   {
    "duration": 6,
    "start_time": "2023-06-06T20:25:57.575Z"
   },
   {
    "duration": 2852,
    "start_time": "2023-06-06T20:25:58.076Z"
   },
   {
    "duration": 4,
    "start_time": "2023-06-06T20:26:00.930Z"
   },
   {
    "duration": 66,
    "start_time": "2023-06-06T20:26:00.936Z"
   },
   {
    "duration": 116,
    "start_time": "2023-06-07T14:39:37.188Z"
   },
   {
    "duration": 22,
    "start_time": "2023-06-07T14:40:04.126Z"
   },
   {
    "duration": 26,
    "start_time": "2023-06-07T14:40:27.806Z"
   },
   {
    "duration": 4,
    "start_time": "2023-06-07T14:40:44.856Z"
   },
   {
    "duration": 502,
    "start_time": "2023-06-07T14:40:44.862Z"
   },
   {
    "duration": 12,
    "start_time": "2023-06-07T14:40:45.366Z"
   },
   {
    "duration": 22,
    "start_time": "2023-06-07T14:42:20.101Z"
   },
   {
    "duration": 127,
    "start_time": "2023-06-07T14:42:20.479Z"
   },
   {
    "duration": 537,
    "start_time": "2023-06-07T14:42:20.920Z"
   },
   {
    "duration": 13,
    "start_time": "2023-06-07T14:42:21.458Z"
   },
   {
    "duration": 21,
    "start_time": "2023-06-07T14:42:31.041Z"
   },
   {
    "duration": 573,
    "start_time": "2023-06-07T14:42:37.000Z"
   },
   {
    "duration": 14,
    "start_time": "2023-06-07T14:42:37.576Z"
   },
   {
    "duration": 33,
    "start_time": "2023-06-07T14:42:45.289Z"
   },
   {
    "duration": 3,
    "start_time": "2023-06-07T14:43:43.672Z"
   },
   {
    "duration": 161,
    "start_time": "2023-06-07T14:43:43.677Z"
   },
   {
    "duration": 14,
    "start_time": "2023-06-07T14:43:43.839Z"
   },
   {
    "duration": 30,
    "start_time": "2023-06-07T14:43:43.854Z"
   },
   {
    "duration": 179,
    "start_time": "2023-06-07T14:43:43.886Z"
   },
   {
    "duration": 153,
    "start_time": "2023-06-07T14:43:44.067Z"
   },
   {
    "duration": 17,
    "start_time": "2023-06-07T14:43:44.222Z"
   },
   {
    "duration": 35,
    "start_time": "2023-06-07T14:43:44.241Z"
   },
   {
    "duration": 132,
    "start_time": "2023-06-07T14:43:44.278Z"
   },
   {
    "duration": 14,
    "start_time": "2023-06-07T14:43:44.411Z"
   },
   {
    "duration": 24,
    "start_time": "2023-06-07T14:43:44.426Z"
   },
   {
    "duration": 167,
    "start_time": "2023-06-07T14:43:44.452Z"
   },
   {
    "duration": 2,
    "start_time": "2023-06-07T14:43:44.622Z"
   },
   {
    "duration": 10,
    "start_time": "2023-06-07T14:43:44.627Z"
   },
   {
    "duration": 6,
    "start_time": "2023-06-07T14:43:49.518Z"
   },
   {
    "duration": 100,
    "start_time": "2023-06-07T14:44:04.878Z"
   },
   {
    "duration": 27,
    "start_time": "2023-06-07T14:44:21.068Z"
   },
   {
    "duration": 195,
    "start_time": "2023-06-07T14:44:44.480Z"
   },
   {
    "duration": 95,
    "start_time": "2023-06-07T14:44:55.083Z"
   },
   {
    "duration": 31,
    "start_time": "2023-06-07T14:44:55.779Z"
   },
   {
    "duration": 5,
    "start_time": "2023-06-07T14:45:06.742Z"
   },
   {
    "duration": 5,
    "start_time": "2023-06-07T14:45:07.778Z"
   },
   {
    "duration": 2747,
    "start_time": "2023-06-07T14:45:08.231Z"
   },
   {
    "duration": 4,
    "start_time": "2023-06-07T14:45:59.509Z"
   },
   {
    "duration": 152,
    "start_time": "2023-06-07T14:45:59.515Z"
   },
   {
    "duration": 18,
    "start_time": "2023-06-07T14:45:59.669Z"
   },
   {
    "duration": 22,
    "start_time": "2023-06-07T14:45:59.689Z"
   },
   {
    "duration": 154,
    "start_time": "2023-06-07T14:45:59.712Z"
   },
   {
    "duration": 117,
    "start_time": "2023-06-07T14:45:59.868Z"
   },
   {
    "duration": 14,
    "start_time": "2023-06-07T14:45:59.987Z"
   },
   {
    "duration": 51,
    "start_time": "2023-06-07T14:46:00.003Z"
   },
   {
    "duration": 160,
    "start_time": "2023-06-07T14:46:00.056Z"
   },
   {
    "duration": 13,
    "start_time": "2023-06-07T14:46:00.219Z"
   },
   {
    "duration": 73,
    "start_time": "2023-06-07T14:46:00.234Z"
   },
   {
    "duration": 241,
    "start_time": "2023-06-07T14:46:00.309Z"
   },
   {
    "duration": 3,
    "start_time": "2023-06-07T14:46:00.552Z"
   },
   {
    "duration": 102,
    "start_time": "2023-06-07T14:46:00.557Z"
   },
   {
    "duration": 45,
    "start_time": "2023-06-07T14:46:00.661Z"
   },
   {
    "duration": 130,
    "start_time": "2023-06-07T14:46:00.708Z"
   },
   {
    "duration": 75,
    "start_time": "2023-06-07T14:46:00.840Z"
   },
   {
    "duration": 184,
    "start_time": "2023-06-07T14:46:00.917Z"
   },
   {
    "duration": 216,
    "start_time": "2023-06-07T14:46:01.103Z"
   },
   {
    "duration": 73,
    "start_time": "2023-06-07T14:46:01.321Z"
   },
   {
    "duration": 115,
    "start_time": "2023-06-07T14:46:01.396Z"
   },
   {
    "duration": 1066,
    "start_time": "2023-06-07T14:46:14.425Z"
   },
   {
    "duration": 147,
    "start_time": "2023-06-07T14:46:15.493Z"
   },
   {
    "duration": 13,
    "start_time": "2023-06-07T14:46:15.642Z"
   },
   {
    "duration": 24,
    "start_time": "2023-06-07T14:46:15.657Z"
   },
   {
    "duration": 333,
    "start_time": "2023-06-07T14:46:15.683Z"
   },
   {
    "duration": 131,
    "start_time": "2023-06-07T14:46:16.017Z"
   },
   {
    "duration": 13,
    "start_time": "2023-06-07T14:46:16.150Z"
   },
   {
    "duration": 25,
    "start_time": "2023-06-07T14:46:16.165Z"
   },
   {
    "duration": 137,
    "start_time": "2023-06-07T14:46:16.192Z"
   },
   {
    "duration": 13,
    "start_time": "2023-06-07T14:46:16.331Z"
   },
   {
    "duration": 33,
    "start_time": "2023-06-07T14:46:16.345Z"
   },
   {
    "duration": 136,
    "start_time": "2023-06-07T14:46:16.379Z"
   },
   {
    "duration": 2,
    "start_time": "2023-06-07T14:46:16.517Z"
   },
   {
    "duration": 10,
    "start_time": "2023-06-07T14:46:16.521Z"
   },
   {
    "duration": 7,
    "start_time": "2023-06-07T14:46:16.533Z"
   },
   {
    "duration": 19,
    "start_time": "2023-06-07T14:46:16.542Z"
   },
   {
    "duration": 212,
    "start_time": "2023-06-07T14:46:16.563Z"
   },
   {
    "duration": 34,
    "start_time": "2023-06-07T14:46:16.777Z"
   },
   {
    "duration": 126,
    "start_time": "2023-06-07T14:46:16.876Z"
   },
   {
    "duration": 79,
    "start_time": "2023-06-07T14:46:17.004Z"
   },
   {
    "duration": 91,
    "start_time": "2023-06-07T14:46:17.087Z"
   },
   {
    "duration": 4,
    "start_time": "2023-06-07T14:46:18.518Z"
   },
   {
    "duration": 2892,
    "start_time": "2023-06-07T14:46:24.858Z"
   },
   {
    "duration": 5,
    "start_time": "2023-06-07T14:46:32.218Z"
   },
   {
    "duration": 6,
    "start_time": "2023-06-07T14:46:36.137Z"
   },
   {
    "duration": 115,
    "start_time": "2023-06-07T14:46:41.698Z"
   },
   {
    "duration": 2795,
    "start_time": "2023-06-07T14:46:53.999Z"
   },
   {
    "duration": 5,
    "start_time": "2023-06-07T14:46:59.286Z"
   },
   {
    "duration": 4,
    "start_time": "2023-06-07T14:47:10.901Z"
   },
   {
    "duration": 4,
    "start_time": "2023-06-07T14:47:17.777Z"
   },
   {
    "duration": 4,
    "start_time": "2023-06-07T14:47:18.137Z"
   },
   {
    "duration": 2824,
    "start_time": "2023-06-07T14:47:29.845Z"
   },
   {
    "duration": 6,
    "start_time": "2023-06-07T14:47:32.671Z"
   },
   {
    "duration": 6,
    "start_time": "2023-06-07T14:47:32.679Z"
   },
   {
    "duration": 4,
    "start_time": "2023-06-07T14:50:54.012Z"
   },
   {
    "duration": 164,
    "start_time": "2023-06-07T14:50:54.019Z"
   },
   {
    "duration": 18,
    "start_time": "2023-06-07T14:50:54.184Z"
   },
   {
    "duration": 25,
    "start_time": "2023-06-07T14:50:54.205Z"
   },
   {
    "duration": 162,
    "start_time": "2023-06-07T14:50:54.232Z"
   },
   {
    "duration": 128,
    "start_time": "2023-06-07T14:50:54.395Z"
   },
   {
    "duration": 14,
    "start_time": "2023-06-07T14:50:54.524Z"
   },
   {
    "duration": 23,
    "start_time": "2023-06-07T14:50:54.539Z"
   },
   {
    "duration": 125,
    "start_time": "2023-06-07T14:50:54.575Z"
   },
   {
    "duration": 13,
    "start_time": "2023-06-07T14:50:54.703Z"
   },
   {
    "duration": 24,
    "start_time": "2023-06-07T14:50:54.718Z"
   },
   {
    "duration": 178,
    "start_time": "2023-06-07T14:50:54.744Z"
   },
   {
    "duration": 3,
    "start_time": "2023-06-07T14:50:54.924Z"
   },
   {
    "duration": 6,
    "start_time": "2023-06-07T14:50:54.929Z"
   },
   {
    "duration": 17,
    "start_time": "2023-06-07T14:50:54.936Z"
   },
   {
    "duration": 6,
    "start_time": "2023-06-07T14:50:54.954Z"
   },
   {
    "duration": 36,
    "start_time": "2023-06-07T14:50:54.961Z"
   },
   {
    "duration": 41,
    "start_time": "2023-06-07T14:51:01.336Z"
   },
   {
    "duration": 8,
    "start_time": "2023-06-07T14:51:05.451Z"
   },
   {
    "duration": 4,
    "start_time": "2023-06-07T14:53:59.838Z"
   },
   {
    "duration": 5,
    "start_time": "2023-06-07T14:54:10.986Z"
   },
   {
    "duration": 3,
    "start_time": "2023-06-07T14:54:12.737Z"
   },
   {
    "duration": 1084,
    "start_time": "2023-06-07T14:54:42.211Z"
   },
   {
    "duration": 145,
    "start_time": "2023-06-07T14:54:43.296Z"
   },
   {
    "duration": 13,
    "start_time": "2023-06-07T14:54:43.443Z"
   },
   {
    "duration": 27,
    "start_time": "2023-06-07T14:54:43.458Z"
   },
   {
    "duration": 333,
    "start_time": "2023-06-07T14:54:43.487Z"
   },
   {
    "duration": 137,
    "start_time": "2023-06-07T14:54:43.822Z"
   },
   {
    "duration": 26,
    "start_time": "2023-06-07T14:54:43.962Z"
   },
   {
    "duration": 27,
    "start_time": "2023-06-07T14:54:43.990Z"
   },
   {
    "duration": 177,
    "start_time": "2023-06-07T14:54:44.019Z"
   },
   {
    "duration": 16,
    "start_time": "2023-06-07T14:54:44.199Z"
   },
   {
    "duration": 30,
    "start_time": "2023-06-07T14:54:44.218Z"
   },
   {
    "duration": 157,
    "start_time": "2023-06-07T14:54:44.250Z"
   },
   {
    "duration": 3,
    "start_time": "2023-06-07T14:54:44.409Z"
   },
   {
    "duration": 10,
    "start_time": "2023-06-07T14:54:44.413Z"
   },
   {
    "duration": 3,
    "start_time": "2023-06-07T14:54:46.248Z"
   },
   {
    "duration": 5,
    "start_time": "2023-06-07T14:54:47.200Z"
   },
   {
    "duration": 61,
    "start_time": "2023-06-07T14:54:50.616Z"
   },
   {
    "duration": 40,
    "start_time": "2023-06-07T14:54:52.640Z"
   },
   {
    "duration": 5,
    "start_time": "2023-06-07T14:55:02.752Z"
   },
   {
    "duration": 4,
    "start_time": "2023-06-07T14:55:04.440Z"
   },
   {
    "duration": 2679,
    "start_time": "2023-06-07T14:55:09.844Z"
   },
   {
    "duration": 5,
    "start_time": "2023-06-07T14:55:14.309Z"
   },
   {
    "duration": 5,
    "start_time": "2023-06-07T14:55:15.244Z"
   },
   {
    "duration": 4,
    "start_time": "2023-06-07T14:55:16.228Z"
   },
   {
    "duration": 4,
    "start_time": "2023-06-07T14:55:18.148Z"
   },
   {
    "duration": 2667,
    "start_time": "2023-06-07T14:55:20.375Z"
   },
   {
    "duration": 6,
    "start_time": "2023-06-07T14:55:23.044Z"
   },
   {
    "duration": 6,
    "start_time": "2023-06-07T14:55:23.052Z"
   },
   {
    "duration": 4,
    "start_time": "2023-06-07T14:57:40.078Z"
   },
   {
    "duration": 151,
    "start_time": "2023-06-07T14:57:40.084Z"
   },
   {
    "duration": 13,
    "start_time": "2023-06-07T14:57:40.237Z"
   },
   {
    "duration": 32,
    "start_time": "2023-06-07T14:57:40.252Z"
   },
   {
    "duration": 145,
    "start_time": "2023-06-07T14:57:40.286Z"
   },
   {
    "duration": 125,
    "start_time": "2023-06-07T14:57:40.432Z"
   },
   {
    "duration": 19,
    "start_time": "2023-06-07T14:57:40.559Z"
   },
   {
    "duration": 20,
    "start_time": "2023-06-07T14:57:40.579Z"
   },
   {
    "duration": 131,
    "start_time": "2023-06-07T14:57:40.600Z"
   },
   {
    "duration": 13,
    "start_time": "2023-06-07T14:57:40.733Z"
   },
   {
    "duration": 34,
    "start_time": "2023-06-07T14:57:40.747Z"
   },
   {
    "duration": 150,
    "start_time": "2023-06-07T14:57:40.783Z"
   },
   {
    "duration": 2,
    "start_time": "2023-06-07T14:57:40.935Z"
   },
   {
    "duration": 4,
    "start_time": "2023-06-07T14:57:40.939Z"
   },
   {
    "duration": 3,
    "start_time": "2023-06-07T14:57:46.677Z"
   },
   {
    "duration": 5,
    "start_time": "2023-06-07T14:57:47.203Z"
   },
   {
    "duration": 3,
    "start_time": "2023-06-07T14:57:51.002Z"
   },
   {
    "duration": 33,
    "start_time": "2023-06-07T14:57:51.483Z"
   },
   {
    "duration": 4,
    "start_time": "2023-06-07T14:57:55.599Z"
   },
   {
    "duration": 136,
    "start_time": "2023-06-07T14:57:55.604Z"
   },
   {
    "duration": 13,
    "start_time": "2023-06-07T14:57:55.741Z"
   },
   {
    "duration": 30,
    "start_time": "2023-06-07T14:57:55.755Z"
   },
   {
    "duration": 144,
    "start_time": "2023-06-07T14:57:55.787Z"
   },
   {
    "duration": 123,
    "start_time": "2023-06-07T14:57:55.933Z"
   },
   {
    "duration": 17,
    "start_time": "2023-06-07T14:57:56.057Z"
   },
   {
    "duration": 27,
    "start_time": "2023-06-07T14:57:56.076Z"
   },
   {
    "duration": 142,
    "start_time": "2023-06-07T14:57:56.105Z"
   },
   {
    "duration": 13,
    "start_time": "2023-06-07T14:57:56.249Z"
   },
   {
    "duration": 37,
    "start_time": "2023-06-07T14:57:56.264Z"
   },
   {
    "duration": 148,
    "start_time": "2023-06-07T14:57:56.303Z"
   },
   {
    "duration": 2,
    "start_time": "2023-06-07T14:57:56.454Z"
   },
   {
    "duration": 17,
    "start_time": "2023-06-07T14:57:56.458Z"
   },
   {
    "duration": 3,
    "start_time": "2023-06-07T14:57:59.006Z"
   },
   {
    "duration": 5,
    "start_time": "2023-06-07T14:57:59.935Z"
   },
   {
    "duration": 32,
    "start_time": "2023-06-07T14:58:02.023Z"
   },
   {
    "duration": 5,
    "start_time": "2023-06-07T14:58:11.024Z"
   },
   {
    "duration": 2803,
    "start_time": "2023-06-07T14:58:17.991Z"
   },
   {
    "duration": 6,
    "start_time": "2023-06-07T14:58:20.796Z"
   },
   {
    "duration": 12,
    "start_time": "2023-06-07T14:58:20.804Z"
   },
   {
    "duration": 1107,
    "start_time": "2023-06-07T14:59:12.180Z"
   },
   {
    "duration": 153,
    "start_time": "2023-06-07T14:59:13.289Z"
   },
   {
    "duration": 15,
    "start_time": "2023-06-07T14:59:13.444Z"
   },
   {
    "duration": 26,
    "start_time": "2023-06-07T14:59:13.462Z"
   },
   {
    "duration": 347,
    "start_time": "2023-06-07T14:59:13.489Z"
   },
   {
    "duration": 134,
    "start_time": "2023-06-07T14:59:13.838Z"
   },
   {
    "duration": 14,
    "start_time": "2023-06-07T14:59:13.974Z"
   },
   {
    "duration": 33,
    "start_time": "2023-06-07T14:59:13.990Z"
   },
   {
    "duration": 174,
    "start_time": "2023-06-07T14:59:14.025Z"
   },
   {
    "duration": 19,
    "start_time": "2023-06-07T14:59:14.202Z"
   },
   {
    "duration": 28,
    "start_time": "2023-06-07T14:59:14.223Z"
   },
   {
    "duration": 150,
    "start_time": "2023-06-07T14:59:14.275Z"
   },
   {
    "duration": 2,
    "start_time": "2023-06-07T14:59:14.427Z"
   },
   {
    "duration": 6,
    "start_time": "2023-06-07T14:59:14.430Z"
   },
   {
    "duration": 6,
    "start_time": "2023-06-07T14:59:14.438Z"
   },
   {
    "duration": 6,
    "start_time": "2023-06-07T14:59:14.445Z"
   },
   {
    "duration": 54,
    "start_time": "2023-06-07T14:59:14.453Z"
   },
   {
    "duration": 126,
    "start_time": "2023-06-07T14:59:14.577Z"
   },
   {
    "duration": 186,
    "start_time": "2023-06-07T14:59:14.789Z"
   },
   {
    "duration": 6,
    "start_time": "2023-06-07T14:59:14.979Z"
   },
   {
    "duration": 5,
    "start_time": "2023-06-07T14:59:15.076Z"
   },
   {
    "duration": 2861,
    "start_time": "2023-06-07T14:59:15.083Z"
   },
   {
    "duration": 5,
    "start_time": "2023-06-07T14:59:17.946Z"
   },
   {
    "duration": 7,
    "start_time": "2023-06-07T14:59:17.952Z"
   },
   {
    "duration": 2793,
    "start_time": "2023-06-07T14:59:17.960Z"
   },
   {
    "duration": 6,
    "start_time": "2023-06-07T14:59:20.754Z"
   },
   {
    "duration": 15,
    "start_time": "2023-06-07T14:59:20.761Z"
   },
   {
    "duration": 4,
    "start_time": "2023-06-07T14:59:20.778Z"
   },
   {
    "duration": 6,
    "start_time": "2023-06-07T14:59:20.783Z"
   },
   {
    "duration": 2844,
    "start_time": "2023-06-07T14:59:20.791Z"
   },
   {
    "duration": 6,
    "start_time": "2023-06-07T14:59:23.638Z"
   },
   {
    "duration": 5,
    "start_time": "2023-06-07T14:59:23.645Z"
   },
   {
    "duration": 119,
    "start_time": "2023-06-07T14:59:23.652Z"
   },
   {
    "duration": 0,
    "start_time": "2023-06-07T14:59:23.774Z"
   },
   {
    "duration": 0,
    "start_time": "2023-06-07T14:59:23.775Z"
   },
   {
    "duration": 0,
    "start_time": "2023-06-07T14:59:23.776Z"
   },
   {
    "duration": 0,
    "start_time": "2023-06-07T14:59:23.777Z"
   },
   {
    "duration": 0,
    "start_time": "2023-06-07T14:59:23.778Z"
   },
   {
    "duration": 0,
    "start_time": "2023-06-07T14:59:23.779Z"
   },
   {
    "duration": 0,
    "start_time": "2023-06-07T14:59:23.780Z"
   },
   {
    "duration": 0,
    "start_time": "2023-06-07T14:59:23.781Z"
   },
   {
    "duration": 0,
    "start_time": "2023-06-07T14:59:23.782Z"
   },
   {
    "duration": 0,
    "start_time": "2023-06-07T14:59:23.783Z"
   },
   {
    "duration": 1117,
    "start_time": "2023-06-07T15:14:21.354Z"
   },
   {
    "duration": 144,
    "start_time": "2023-06-07T15:14:22.473Z"
   },
   {
    "duration": 13,
    "start_time": "2023-06-07T15:14:22.619Z"
   },
   {
    "duration": 21,
    "start_time": "2023-06-07T15:14:22.634Z"
   },
   {
    "duration": 346,
    "start_time": "2023-06-07T15:14:22.658Z"
   },
   {
    "duration": 132,
    "start_time": "2023-06-07T15:14:23.006Z"
   },
   {
    "duration": 14,
    "start_time": "2023-06-07T15:14:23.140Z"
   },
   {
    "duration": 34,
    "start_time": "2023-06-07T15:14:23.156Z"
   },
   {
    "duration": 128,
    "start_time": "2023-06-07T15:14:23.192Z"
   },
   {
    "duration": 15,
    "start_time": "2023-06-07T15:14:23.322Z"
   },
   {
    "duration": 37,
    "start_time": "2023-06-07T15:14:23.339Z"
   },
   {
    "duration": 140,
    "start_time": "2023-06-07T15:14:23.378Z"
   },
   {
    "duration": 3,
    "start_time": "2023-06-07T15:14:23.520Z"
   },
   {
    "duration": 6,
    "start_time": "2023-06-07T15:14:23.526Z"
   },
   {
    "duration": 7,
    "start_time": "2023-06-07T15:14:23.533Z"
   },
   {
    "duration": 6,
    "start_time": "2023-06-07T15:14:23.541Z"
   },
   {
    "duration": 55,
    "start_time": "2023-06-07T15:14:23.548Z"
   },
   {
    "duration": 188,
    "start_time": "2023-06-07T15:14:23.607Z"
   },
   {
    "duration": 278,
    "start_time": "2023-06-07T15:14:23.797Z"
   },
   {
    "duration": 7,
    "start_time": "2023-06-07T15:14:24.078Z"
   },
   {
    "duration": 90,
    "start_time": "2023-06-07T15:14:24.088Z"
   },
   {
    "duration": 2772,
    "start_time": "2023-06-07T15:14:24.180Z"
   },
   {
    "duration": 5,
    "start_time": "2023-06-07T15:14:26.954Z"
   },
   {
    "duration": 21,
    "start_time": "2023-06-07T15:14:26.960Z"
   },
   {
    "duration": 2777,
    "start_time": "2023-06-07T15:14:26.983Z"
   },
   {
    "duration": 5,
    "start_time": "2023-06-07T15:14:29.762Z"
   },
   {
    "duration": 4,
    "start_time": "2023-06-07T15:14:29.774Z"
   },
   {
    "duration": 11,
    "start_time": "2023-06-07T15:14:29.780Z"
   },
   {
    "duration": 13,
    "start_time": "2023-06-07T15:14:29.792Z"
   },
   {
    "duration": 2896,
    "start_time": "2023-06-07T15:14:29.806Z"
   },
   {
    "duration": 5,
    "start_time": "2023-06-07T15:14:32.704Z"
   },
   {
    "duration": 7,
    "start_time": "2023-06-07T15:14:32.711Z"
   },
   {
    "duration": 108,
    "start_time": "2023-06-07T15:14:32.719Z"
   },
   {
    "duration": 0,
    "start_time": "2023-06-07T15:14:32.829Z"
   },
   {
    "duration": 0,
    "start_time": "2023-06-07T15:14:32.830Z"
   },
   {
    "duration": 0,
    "start_time": "2023-06-07T15:14:32.831Z"
   },
   {
    "duration": 0,
    "start_time": "2023-06-07T15:14:32.832Z"
   },
   {
    "duration": 0,
    "start_time": "2023-06-07T15:14:32.833Z"
   },
   {
    "duration": 0,
    "start_time": "2023-06-07T15:14:32.834Z"
   },
   {
    "duration": 0,
    "start_time": "2023-06-07T15:14:32.835Z"
   },
   {
    "duration": 0,
    "start_time": "2023-06-07T15:14:32.837Z"
   },
   {
    "duration": 0,
    "start_time": "2023-06-07T15:14:32.837Z"
   },
   {
    "duration": 0,
    "start_time": "2023-06-07T15:14:32.838Z"
   },
   {
    "duration": 4,
    "start_time": "2023-06-07T15:23:52.489Z"
   },
   {
    "duration": 156,
    "start_time": "2023-06-07T15:23:52.494Z"
   },
   {
    "duration": 16,
    "start_time": "2023-06-07T15:23:52.652Z"
   },
   {
    "duration": 32,
    "start_time": "2023-06-07T15:23:52.678Z"
   },
   {
    "duration": 152,
    "start_time": "2023-06-07T15:23:52.712Z"
   },
   {
    "duration": 150,
    "start_time": "2023-06-07T15:23:52.866Z"
   },
   {
    "duration": 16,
    "start_time": "2023-06-07T15:23:53.018Z"
   },
   {
    "duration": 24,
    "start_time": "2023-06-07T15:23:53.036Z"
   },
   {
    "duration": 151,
    "start_time": "2023-06-07T15:23:53.076Z"
   },
   {
    "duration": 15,
    "start_time": "2023-06-07T15:23:53.229Z"
   },
   {
    "duration": 45,
    "start_time": "2023-06-07T15:23:53.246Z"
   },
   {
    "duration": 147,
    "start_time": "2023-06-07T15:23:53.292Z"
   },
   {
    "duration": 2,
    "start_time": "2023-06-07T15:23:53.441Z"
   },
   {
    "duration": 58,
    "start_time": "2023-06-07T15:23:56.718Z"
   },
   {
    "duration": 4,
    "start_time": "2023-06-07T15:24:08.447Z"
   },
   {
    "duration": 2901,
    "start_time": "2023-06-07T15:24:10.655Z"
   },
   {
    "duration": 5,
    "start_time": "2023-06-07T15:24:13.558Z"
   },
   {
    "duration": 15,
    "start_time": "2023-06-07T15:24:13.564Z"
   },
   {
    "duration": 21,
    "start_time": "2023-06-07T15:28:12.529Z"
   },
   {
    "duration": 1076,
    "start_time": "2023-06-07T15:32:48.297Z"
   },
   {
    "duration": 145,
    "start_time": "2023-06-07T15:32:49.375Z"
   },
   {
    "duration": 14,
    "start_time": "2023-06-07T15:32:49.522Z"
   },
   {
    "duration": 30,
    "start_time": "2023-06-07T15:32:49.539Z"
   },
   {
    "duration": 318,
    "start_time": "2023-06-07T15:32:49.570Z"
   },
   {
    "duration": 123,
    "start_time": "2023-06-07T15:32:49.889Z"
   },
   {
    "duration": 14,
    "start_time": "2023-06-07T15:32:50.014Z"
   },
   {
    "duration": 26,
    "start_time": "2023-06-07T15:32:50.029Z"
   },
   {
    "duration": 129,
    "start_time": "2023-06-07T15:32:50.057Z"
   },
   {
    "duration": 14,
    "start_time": "2023-06-07T15:32:50.188Z"
   },
   {
    "duration": 22,
    "start_time": "2023-06-07T15:32:50.204Z"
   },
   {
    "duration": 169,
    "start_time": "2023-06-07T15:32:50.227Z"
   },
   {
    "duration": 2,
    "start_time": "2023-06-07T15:32:50.398Z"
   },
   {
    "duration": 2,
    "start_time": "2023-06-07T15:32:51.949Z"
   },
   {
    "duration": 35,
    "start_time": "2023-06-07T15:32:52.390Z"
   },
   {
    "duration": 4,
    "start_time": "2023-06-07T15:33:16.574Z"
   },
   {
    "duration": 112,
    "start_time": "2023-06-07T15:34:19.092Z"
   },
   {
    "duration": 4,
    "start_time": "2023-06-07T15:34:21.491Z"
   },
   {
    "duration": 4,
    "start_time": "2023-06-07T15:34:22.439Z"
   },
   {
    "duration": 2810,
    "start_time": "2023-06-07T15:34:22.835Z"
   },
   {
    "duration": 6,
    "start_time": "2023-06-07T15:34:36.776Z"
   },
   {
    "duration": 6,
    "start_time": "2023-06-07T15:34:38.183Z"
   },
   {
    "duration": 31,
    "start_time": "2023-06-07T15:34:54.288Z"
   },
   {
    "duration": 4,
    "start_time": "2023-06-07T15:35:00.604Z"
   },
   {
    "duration": 4,
    "start_time": "2023-06-07T15:35:04.874Z"
   },
   {
    "duration": 2797,
    "start_time": "2023-06-07T15:35:23.070Z"
   },
   {
    "duration": 5,
    "start_time": "2023-06-07T15:35:29.443Z"
   },
   {
    "duration": 5,
    "start_time": "2023-06-07T15:35:30.779Z"
   },
   {
    "duration": 30,
    "start_time": "2023-06-07T15:35:44.491Z"
   },
   {
    "duration": 4,
    "start_time": "2023-06-07T15:35:47.847Z"
   },
   {
    "duration": 4,
    "start_time": "2023-06-07T15:35:49.473Z"
   },
   {
    "duration": 11,
    "start_time": "2023-06-07T15:36:02.408Z"
   },
   {
    "duration": 2754,
    "start_time": "2023-06-07T15:36:11.884Z"
   },
   {
    "duration": 5,
    "start_time": "2023-06-07T15:36:15.782Z"
   },
   {
    "duration": 4,
    "start_time": "2023-06-07T15:36:17.372Z"
   },
   {
    "duration": 20,
    "start_time": "2023-06-07T15:36:29.878Z"
   },
   {
    "duration": 4,
    "start_time": "2023-06-07T15:36:32.162Z"
   },
   {
    "duration": 4,
    "start_time": "2023-06-07T15:36:34.888Z"
   },
   {
    "duration": 2731,
    "start_time": "2023-06-07T15:36:37.951Z"
   },
   {
    "duration": 5,
    "start_time": "2023-06-07T15:36:40.684Z"
   },
   {
    "duration": 6,
    "start_time": "2023-06-07T15:36:40.690Z"
   },
   {
    "duration": 8,
    "start_time": "2023-06-07T15:40:40.608Z"
   },
   {
    "duration": 3,
    "start_time": "2023-06-07T15:40:44.704Z"
   },
   {
    "duration": 144,
    "start_time": "2023-06-07T15:40:44.709Z"
   },
   {
    "duration": 28,
    "start_time": "2023-06-07T15:40:44.855Z"
   },
   {
    "duration": 21,
    "start_time": "2023-06-07T15:40:44.885Z"
   },
   {
    "duration": 163,
    "start_time": "2023-06-07T15:40:44.908Z"
   },
   {
    "duration": 137,
    "start_time": "2023-06-07T15:40:45.075Z"
   },
   {
    "duration": 13,
    "start_time": "2023-06-07T15:40:45.214Z"
   },
   {
    "duration": 20,
    "start_time": "2023-06-07T15:40:45.228Z"
   },
   {
    "duration": 143,
    "start_time": "2023-06-07T15:40:45.250Z"
   },
   {
    "duration": 14,
    "start_time": "2023-06-07T15:40:45.394Z"
   },
   {
    "duration": 25,
    "start_time": "2023-06-07T15:40:45.409Z"
   },
   {
    "duration": 157,
    "start_time": "2023-06-07T15:40:45.436Z"
   },
   {
    "duration": 4,
    "start_time": "2023-06-07T15:40:47.851Z"
   },
   {
    "duration": 18,
    "start_time": "2023-06-07T15:40:48.392Z"
   },
   {
    "duration": 20,
    "start_time": "2023-06-07T15:40:48.904Z"
   },
   {
    "duration": 4,
    "start_time": "2023-06-07T15:44:21.453Z"
   },
   {
    "duration": 145,
    "start_time": "2023-06-07T15:44:21.458Z"
   },
   {
    "duration": 14,
    "start_time": "2023-06-07T15:44:21.605Z"
   },
   {
    "duration": 24,
    "start_time": "2023-06-07T15:44:21.621Z"
   },
   {
    "duration": 157,
    "start_time": "2023-06-07T15:44:21.647Z"
   },
   {
    "duration": 144,
    "start_time": "2023-06-07T15:44:21.807Z"
   },
   {
    "duration": 13,
    "start_time": "2023-06-07T15:44:21.953Z"
   },
   {
    "duration": 29,
    "start_time": "2023-06-07T15:44:21.974Z"
   },
   {
    "duration": 142,
    "start_time": "2023-06-07T15:44:22.005Z"
   },
   {
    "duration": 16,
    "start_time": "2023-06-07T15:44:22.149Z"
   },
   {
    "duration": 34,
    "start_time": "2023-06-07T15:44:22.166Z"
   },
   {
    "duration": 155,
    "start_time": "2023-06-07T15:44:22.202Z"
   },
   {
    "duration": 3,
    "start_time": "2023-06-07T15:44:22.359Z"
   },
   {
    "duration": 27,
    "start_time": "2023-06-07T15:44:22.364Z"
   },
   {
    "duration": 22,
    "start_time": "2023-06-07T15:44:22.392Z"
   },
   {
    "duration": 99,
    "start_time": "2023-06-07T15:44:22.476Z"
   },
   {
    "duration": 3,
    "start_time": "2023-06-07T15:49:39.064Z"
   },
   {
    "duration": 134,
    "start_time": "2023-06-07T15:49:39.072Z"
   },
   {
    "duration": 15,
    "start_time": "2023-06-07T15:49:39.208Z"
   },
   {
    "duration": 22,
    "start_time": "2023-06-07T15:49:39.225Z"
   },
   {
    "duration": 217,
    "start_time": "2023-06-07T15:49:39.249Z"
   },
   {
    "duration": 122,
    "start_time": "2023-06-07T15:49:39.474Z"
   },
   {
    "duration": 14,
    "start_time": "2023-06-07T15:49:39.598Z"
   },
   {
    "duration": 21,
    "start_time": "2023-06-07T15:49:39.614Z"
   },
   {
    "duration": 133,
    "start_time": "2023-06-07T15:49:39.637Z"
   },
   {
    "duration": 13,
    "start_time": "2023-06-07T15:49:39.775Z"
   },
   {
    "duration": 21,
    "start_time": "2023-06-07T15:49:39.790Z"
   },
   {
    "duration": 150,
    "start_time": "2023-06-07T15:49:39.813Z"
   },
   {
    "duration": 9,
    "start_time": "2023-06-07T15:49:39.966Z"
   },
   {
    "duration": 16,
    "start_time": "2023-06-07T15:49:39.977Z"
   },
   {
    "duration": 81,
    "start_time": "2023-06-07T15:49:39.997Z"
   },
   {
    "duration": 102,
    "start_time": "2023-06-07T15:49:40.080Z"
   },
   {
    "duration": 16,
    "start_time": "2023-06-07T15:49:40.184Z"
   },
   {
    "duration": 28,
    "start_time": "2023-06-07T15:49:40.202Z"
   },
   {
    "duration": 144,
    "start_time": "2023-06-07T15:49:40.232Z"
   },
   {
    "duration": 16,
    "start_time": "2023-06-07T15:49:40.378Z"
   },
   {
    "duration": 13,
    "start_time": "2023-06-07T15:49:40.395Z"
   },
   {
    "duration": 73,
    "start_time": "2023-06-07T15:49:40.410Z"
   },
   {
    "duration": 98,
    "start_time": "2023-06-07T15:49:40.485Z"
   },
   {
    "duration": 10,
    "start_time": "2023-06-07T15:49:40.584Z"
   },
   {
    "duration": 34,
    "start_time": "2023-06-07T15:49:40.596Z"
   },
   {
    "duration": 42,
    "start_time": "2023-06-07T15:49:40.631Z"
   },
   {
    "duration": 14,
    "start_time": "2023-06-07T15:49:40.675Z"
   },
   {
    "duration": 3,
    "start_time": "2023-06-07T15:49:40.691Z"
   },
   {
    "duration": 16,
    "start_time": "2023-06-07T15:49:40.696Z"
   },
   {
    "duration": 6,
    "start_time": "2023-06-07T15:49:40.714Z"
   },
   {
    "duration": 4,
    "start_time": "2023-06-07T15:49:40.721Z"
   },
   {
    "duration": 2728,
    "start_time": "2023-06-07T15:49:40.727Z"
   },
   {
    "duration": 5,
    "start_time": "2023-06-07T15:49:43.457Z"
   },
   {
    "duration": 5,
    "start_time": "2023-06-07T15:49:55.639Z"
   },
   {
    "duration": 5,
    "start_time": "2023-06-07T15:49:56.086Z"
   },
   {
    "duration": 4,
    "start_time": "2023-06-07T15:50:17.538Z"
   },
   {
    "duration": 2918,
    "start_time": "2023-06-07T15:50:21.274Z"
   },
   {
    "duration": 5,
    "start_time": "2023-06-07T15:50:26.586Z"
   },
   {
    "duration": 5,
    "start_time": "2023-06-07T15:50:27.722Z"
   },
   {
    "duration": 2904,
    "start_time": "2023-06-07T15:50:32.002Z"
   },
   {
    "duration": 5,
    "start_time": "2023-06-07T15:50:35.747Z"
   },
   {
    "duration": 4,
    "start_time": "2023-06-07T15:50:36.467Z"
   },
   {
    "duration": 5,
    "start_time": "2023-06-07T15:50:42.287Z"
   },
   {
    "duration": 2806,
    "start_time": "2023-06-07T15:50:49.390Z"
   },
   {
    "duration": 5,
    "start_time": "2023-06-07T15:50:52.198Z"
   },
   {
    "duration": 5,
    "start_time": "2023-06-07T15:50:53.248Z"
   },
   {
    "duration": 2796,
    "start_time": "2023-06-07T15:50:53.814Z"
   },
   {
    "duration": 5,
    "start_time": "2023-06-07T15:50:56.612Z"
   },
   {
    "duration": 4,
    "start_time": "2023-06-07T15:50:58.895Z"
   },
   {
    "duration": 2824,
    "start_time": "2023-06-07T15:51:03.975Z"
   },
   {
    "duration": 6,
    "start_time": "2023-06-07T15:51:06.800Z"
   },
   {
    "duration": 6,
    "start_time": "2023-06-07T15:51:06.807Z"
   },
   {
    "duration": 1081,
    "start_time": "2023-06-07T15:52:50.206Z"
   },
   {
    "duration": 150,
    "start_time": "2023-06-07T15:52:51.289Z"
   },
   {
    "duration": 14,
    "start_time": "2023-06-07T15:52:51.440Z"
   },
   {
    "duration": 31,
    "start_time": "2023-06-07T15:52:51.456Z"
   },
   {
    "duration": 323,
    "start_time": "2023-06-07T15:52:51.489Z"
   },
   {
    "duration": 126,
    "start_time": "2023-06-07T15:52:51.813Z"
   },
   {
    "duration": 13,
    "start_time": "2023-06-07T15:52:51.941Z"
   },
   {
    "duration": 29,
    "start_time": "2023-06-07T15:52:51.955Z"
   },
   {
    "duration": 135,
    "start_time": "2023-06-07T15:52:51.986Z"
   },
   {
    "duration": 13,
    "start_time": "2023-06-07T15:52:52.124Z"
   },
   {
    "duration": 37,
    "start_time": "2023-06-07T15:52:52.139Z"
   },
   {
    "duration": 135,
    "start_time": "2023-06-07T15:52:52.178Z"
   },
   {
    "duration": 4,
    "start_time": "2023-06-07T15:52:52.314Z"
   },
   {
    "duration": 25,
    "start_time": "2023-06-07T15:52:52.320Z"
   },
   {
    "duration": 40,
    "start_time": "2023-06-07T15:52:52.346Z"
   },
   {
    "duration": 98,
    "start_time": "2023-06-07T15:52:52.476Z"
   },
   {
    "duration": 19,
    "start_time": "2023-06-07T15:52:52.576Z"
   },
   {
    "duration": 13,
    "start_time": "2023-06-07T15:52:52.597Z"
   },
   {
    "duration": 9,
    "start_time": "2023-06-07T15:52:52.675Z"
   },
   {
    "duration": 28,
    "start_time": "2023-06-07T15:52:52.776Z"
   },
   {
    "duration": 17,
    "start_time": "2023-06-07T15:52:52.805Z"
   },
   {
    "duration": 58,
    "start_time": "2023-06-07T15:52:52.824Z"
   },
   {
    "duration": 93,
    "start_time": "2023-06-07T15:52:52.883Z"
   },
   {
    "duration": 10,
    "start_time": "2023-06-07T15:52:52.978Z"
   },
   {
    "duration": 8,
    "start_time": "2023-06-07T15:52:52.989Z"
   },
   {
    "duration": 6,
    "start_time": "2023-06-07T15:52:52.998Z"
   },
   {
    "duration": 3,
    "start_time": "2023-06-07T15:52:53.005Z"
   },
   {
    "duration": 3,
    "start_time": "2023-06-07T15:52:53.011Z"
   },
   {
    "duration": 5,
    "start_time": "2023-06-07T15:52:53.015Z"
   },
   {
    "duration": 9,
    "start_time": "2023-06-07T15:52:53.021Z"
   },
   {
    "duration": 6,
    "start_time": "2023-06-07T15:52:53.031Z"
   },
   {
    "duration": 2874,
    "start_time": "2023-06-07T15:52:53.038Z"
   },
   {
    "duration": 5,
    "start_time": "2023-06-07T15:52:55.913Z"
   },
   {
    "duration": 6,
    "start_time": "2023-06-07T15:52:55.920Z"
   },
   {
    "duration": 2902,
    "start_time": "2023-06-07T15:52:55.928Z"
   },
   {
    "duration": 6,
    "start_time": "2023-06-07T15:52:58.833Z"
   },
   {
    "duration": 5,
    "start_time": "2023-06-07T15:52:58.841Z"
   },
   {
    "duration": 8,
    "start_time": "2023-06-07T15:52:58.847Z"
   },
   {
    "duration": 20,
    "start_time": "2023-06-07T15:52:58.856Z"
   },
   {
    "duration": 2857,
    "start_time": "2023-06-07T15:52:58.878Z"
   },
   {
    "duration": 5,
    "start_time": "2023-06-07T15:53:01.737Z"
   },
   {
    "duration": 38,
    "start_time": "2023-06-07T15:53:01.744Z"
   },
   {
    "duration": 1086,
    "start_time": "2023-06-07T16:07:03.913Z"
   },
   {
    "duration": 168,
    "start_time": "2023-06-07T16:07:05.001Z"
   },
   {
    "duration": 15,
    "start_time": "2023-06-07T16:07:05.171Z"
   },
   {
    "duration": 21,
    "start_time": "2023-06-07T16:07:05.188Z"
   },
   {
    "duration": 356,
    "start_time": "2023-06-07T16:07:05.211Z"
   },
   {
    "duration": 127,
    "start_time": "2023-06-07T16:07:05.569Z"
   },
   {
    "duration": 14,
    "start_time": "2023-06-07T16:07:05.698Z"
   },
   {
    "duration": 31,
    "start_time": "2023-06-07T16:07:05.714Z"
   },
   {
    "duration": 143,
    "start_time": "2023-06-07T16:07:05.746Z"
   },
   {
    "duration": 13,
    "start_time": "2023-06-07T16:07:05.891Z"
   },
   {
    "duration": 27,
    "start_time": "2023-06-07T16:07:05.906Z"
   },
   {
    "duration": 156,
    "start_time": "2023-06-07T16:07:05.935Z"
   },
   {
    "duration": 4,
    "start_time": "2023-06-07T16:07:06.092Z"
   },
   {
    "duration": 29,
    "start_time": "2023-06-07T16:07:06.099Z"
   },
   {
    "duration": 50,
    "start_time": "2023-06-07T16:07:06.129Z"
   },
   {
    "duration": 96,
    "start_time": "2023-06-07T16:07:06.181Z"
   },
   {
    "duration": 20,
    "start_time": "2023-06-07T16:07:06.278Z"
   },
   {
    "duration": 77,
    "start_time": "2023-06-07T16:07:06.300Z"
   },
   {
    "duration": 98,
    "start_time": "2023-06-07T16:07:06.380Z"
   },
   {
    "duration": 17,
    "start_time": "2023-06-07T16:07:06.480Z"
   },
   {
    "duration": 79,
    "start_time": "2023-06-07T16:07:06.498Z"
   },
   {
    "duration": 96,
    "start_time": "2023-06-07T16:07:06.580Z"
   },
   {
    "duration": 3,
    "start_time": "2023-06-07T16:07:06.677Z"
   },
   {
    "duration": 6,
    "start_time": "2023-06-07T16:07:06.681Z"
   },
   {
    "duration": 6,
    "start_time": "2023-06-07T16:07:06.688Z"
   },
   {
    "duration": 9,
    "start_time": "2023-06-07T16:07:06.696Z"
   },
   {
    "duration": 4,
    "start_time": "2023-06-07T16:07:06.706Z"
   },
   {
    "duration": 4,
    "start_time": "2023-06-07T16:07:06.712Z"
   },
   {
    "duration": 3,
    "start_time": "2023-06-07T16:07:06.718Z"
   },
   {
    "duration": 5,
    "start_time": "2023-06-07T16:07:06.722Z"
   },
   {
    "duration": 2,
    "start_time": "2023-06-07T16:07:06.776Z"
   },
   {
    "duration": 3,
    "start_time": "2023-06-07T16:07:49.587Z"
   },
   {
    "duration": 5,
    "start_time": "2023-06-07T16:07:50.028Z"
   },
   {
    "duration": 4,
    "start_time": "2023-06-07T16:10:04.994Z"
   },
   {
    "duration": 154,
    "start_time": "2023-06-07T16:10:05.002Z"
   },
   {
    "duration": 19,
    "start_time": "2023-06-07T16:10:05.159Z"
   },
   {
    "duration": 23,
    "start_time": "2023-06-07T16:10:05.180Z"
   },
   {
    "duration": 156,
    "start_time": "2023-06-07T16:10:05.205Z"
   },
   {
    "duration": 130,
    "start_time": "2023-06-07T16:10:05.363Z"
   },
   {
    "duration": 15,
    "start_time": "2023-06-07T16:10:05.494Z"
   },
   {
    "duration": 25,
    "start_time": "2023-06-07T16:10:05.510Z"
   },
   {
    "duration": 140,
    "start_time": "2023-06-07T16:10:05.536Z"
   },
   {
    "duration": 14,
    "start_time": "2023-06-07T16:10:05.678Z"
   },
   {
    "duration": 27,
    "start_time": "2023-06-07T16:10:05.693Z"
   },
   {
    "duration": 156,
    "start_time": "2023-06-07T16:10:05.721Z"
   },
   {
    "duration": 4,
    "start_time": "2023-06-07T16:10:05.879Z"
   },
   {
    "duration": 37,
    "start_time": "2023-06-07T16:10:05.885Z"
   },
   {
    "duration": 55,
    "start_time": "2023-06-07T16:10:05.925Z"
   },
   {
    "duration": 99,
    "start_time": "2023-06-07T16:10:05.983Z"
   },
   {
    "duration": 14,
    "start_time": "2023-06-07T16:10:06.083Z"
   },
   {
    "duration": 82,
    "start_time": "2023-06-07T16:10:06.098Z"
   },
   {
    "duration": 97,
    "start_time": "2023-06-07T16:10:06.182Z"
   },
   {
    "duration": 15,
    "start_time": "2023-06-07T16:10:06.281Z"
   },
   {
    "duration": 77,
    "start_time": "2023-06-07T16:10:06.300Z"
   },
   {
    "duration": 98,
    "start_time": "2023-06-07T16:10:06.381Z"
   },
   {
    "duration": 3,
    "start_time": "2023-06-07T16:10:06.481Z"
   },
   {
    "duration": 10,
    "start_time": "2023-06-07T16:10:06.486Z"
   },
   {
    "duration": 6,
    "start_time": "2023-06-07T16:10:06.498Z"
   },
   {
    "duration": 8,
    "start_time": "2023-06-07T16:10:06.506Z"
   },
   {
    "duration": 5,
    "start_time": "2023-06-07T16:10:06.516Z"
   },
   {
    "duration": 4,
    "start_time": "2023-06-07T16:10:06.522Z"
   },
   {
    "duration": 5,
    "start_time": "2023-06-07T16:10:06.527Z"
   },
   {
    "duration": 6,
    "start_time": "2023-06-07T16:10:06.533Z"
   },
   {
    "duration": 3,
    "start_time": "2023-06-07T16:10:06.541Z"
   },
   {
    "duration": 7,
    "start_time": "2023-06-07T16:10:06.545Z"
   },
   {
    "duration": 3,
    "start_time": "2023-06-07T16:10:06.575Z"
   },
   {
    "duration": 4,
    "start_time": "2023-06-07T16:10:06.579Z"
   },
   {
    "duration": 3,
    "start_time": "2023-06-07T16:10:06.585Z"
   },
   {
    "duration": 6,
    "start_time": "2023-06-07T16:10:06.589Z"
   },
   {
    "duration": 11,
    "start_time": "2023-06-07T16:10:06.596Z"
   },
   {
    "duration": 6,
    "start_time": "2023-06-07T16:10:06.609Z"
   },
   {
    "duration": 5,
    "start_time": "2023-06-07T16:10:06.616Z"
   },
   {
    "duration": 4,
    "start_time": "2023-06-07T16:10:06.622Z"
   },
   {
    "duration": 4,
    "start_time": "2023-06-07T16:10:06.627Z"
   },
   {
    "duration": 8,
    "start_time": "2023-06-07T16:10:06.635Z"
   },
   {
    "duration": 9,
    "start_time": "2023-06-07T16:10:06.644Z"
   },
   {
    "duration": 3,
    "start_time": "2023-06-07T16:11:05.870Z"
   },
   {
    "duration": 103,
    "start_time": "2023-06-07T16:11:06.414Z"
   },
   {
    "duration": 4,
    "start_time": "2023-06-07T16:11:34.454Z"
   },
   {
    "duration": 25,
    "start_time": "2023-06-07T16:11:34.846Z"
   },
   {
    "duration": 4,
    "start_time": "2023-06-07T16:12:25.245Z"
   },
   {
    "duration": 24,
    "start_time": "2023-06-07T16:12:25.613Z"
   },
   {
    "duration": 153,
    "start_time": "2023-06-07T16:14:11.225Z"
   },
   {
    "duration": 336,
    "start_time": "2023-06-07T16:15:36.486Z"
   },
   {
    "duration": 376,
    "start_time": "2023-06-07T16:15:48.088Z"
   },
   {
    "duration": 197,
    "start_time": "2023-06-07T16:15:51.395Z"
   },
   {
    "duration": 142,
    "start_time": "2023-06-07T16:15:56.459Z"
   },
   {
    "duration": 152,
    "start_time": "2023-06-07T16:16:00.155Z"
   },
   {
    "duration": 266,
    "start_time": "2023-06-07T16:16:07.086Z"
   },
   {
    "duration": 149,
    "start_time": "2023-06-07T16:16:25.691Z"
   },
   {
    "duration": 286,
    "start_time": "2023-06-07T16:16:31.955Z"
   },
   {
    "duration": 12,
    "start_time": "2023-06-07T16:18:13.417Z"
   },
   {
    "duration": 63,
    "start_time": "2023-06-07T16:18:38.986Z"
   },
   {
    "duration": 15,
    "start_time": "2023-06-07T16:19:26.497Z"
   },
   {
    "duration": 23,
    "start_time": "2023-06-07T16:21:06.486Z"
   },
   {
    "duration": 104,
    "start_time": "2023-06-07T16:21:13.086Z"
   },
   {
    "duration": 15,
    "start_time": "2023-06-07T16:21:24.607Z"
   },
   {
    "duration": 19,
    "start_time": "2023-06-07T16:22:06.486Z"
   },
   {
    "duration": 9,
    "start_time": "2023-06-07T16:22:21.926Z"
   },
   {
    "duration": 18,
    "start_time": "2023-06-07T16:22:26.595Z"
   },
   {
    "duration": 35,
    "start_time": "2023-06-07T16:22:56.324Z"
   },
   {
    "duration": 31,
    "start_time": "2023-06-07T16:23:05.182Z"
   },
   {
    "duration": 32,
    "start_time": "2023-06-07T16:23:09.055Z"
   },
   {
    "duration": 12,
    "start_time": "2023-06-07T16:24:00.450Z"
   },
   {
    "duration": 18,
    "start_time": "2023-06-07T16:24:11.497Z"
   },
   {
    "duration": 146,
    "start_time": "2023-06-07T16:24:17.895Z"
   },
   {
    "duration": 3,
    "start_time": "2023-06-07T16:24:32.456Z"
   },
   {
    "duration": 151,
    "start_time": "2023-06-07T16:24:32.461Z"
   },
   {
    "duration": 16,
    "start_time": "2023-06-07T16:24:32.614Z"
   },
   {
    "duration": 27,
    "start_time": "2023-06-07T16:24:32.632Z"
   },
   {
    "duration": 143,
    "start_time": "2023-06-07T16:24:32.677Z"
   },
   {
    "duration": 133,
    "start_time": "2023-06-07T16:24:32.821Z"
   },
   {
    "duration": 14,
    "start_time": "2023-06-07T16:24:32.956Z"
   },
   {
    "duration": 215,
    "start_time": "2023-06-07T16:24:32.982Z"
   },
   {
    "duration": 23,
    "start_time": "2023-06-07T16:24:33.200Z"
   },
   {
    "duration": 144,
    "start_time": "2023-06-07T16:24:33.225Z"
   },
   {
    "duration": 14,
    "start_time": "2023-06-07T16:24:33.391Z"
   },
   {
    "duration": 31,
    "start_time": "2023-06-07T16:24:33.407Z"
   },
   {
    "duration": 67,
    "start_time": "2023-06-07T16:24:33.440Z"
   },
   {
    "duration": 14,
    "start_time": "2023-06-07T16:24:33.509Z"
   },
   {
    "duration": 26,
    "start_time": "2023-06-07T16:24:33.525Z"
   },
   {
    "duration": 149,
    "start_time": "2023-06-07T16:24:33.553Z"
   },
   {
    "duration": 4,
    "start_time": "2023-06-07T16:24:33.703Z"
   },
   {
    "duration": 27,
    "start_time": "2023-06-07T16:24:33.709Z"
   },
   {
    "duration": 44,
    "start_time": "2023-06-07T16:24:33.738Z"
   },
   {
    "duration": 84,
    "start_time": "2023-06-07T16:24:33.795Z"
   },
   {
    "duration": 20,
    "start_time": "2023-06-07T16:24:33.882Z"
   },
   {
    "duration": 77,
    "start_time": "2023-06-07T16:24:33.903Z"
   },
   {
    "duration": 96,
    "start_time": "2023-06-07T16:24:33.982Z"
   },
   {
    "duration": 25,
    "start_time": "2023-06-07T16:24:34.082Z"
   },
   {
    "duration": 68,
    "start_time": "2023-06-07T16:24:34.110Z"
   },
   {
    "duration": 9,
    "start_time": "2023-06-07T16:24:34.181Z"
   },
   {
    "duration": 94,
    "start_time": "2023-06-07T16:24:34.193Z"
   },
   {
    "duration": 25,
    "start_time": "2023-06-07T16:24:34.289Z"
   },
   {
    "duration": 23,
    "start_time": "2023-06-07T16:24:34.316Z"
   },
   {
    "duration": 46,
    "start_time": "2023-06-07T16:24:34.341Z"
   },
   {
    "duration": 18,
    "start_time": "2023-06-07T16:24:34.389Z"
   },
   {
    "duration": 12,
    "start_time": "2023-06-07T16:24:34.409Z"
   },
   {
    "duration": 15,
    "start_time": "2023-06-07T16:24:34.422Z"
   },
   {
    "duration": 19,
    "start_time": "2023-06-07T16:24:34.438Z"
   },
   {
    "duration": 7,
    "start_time": "2023-06-07T16:24:34.459Z"
   },
   {
    "duration": 2962,
    "start_time": "2023-06-07T16:24:34.468Z"
   },
   {
    "duration": 5,
    "start_time": "2023-06-07T16:24:37.431Z"
   },
   {
    "duration": 6,
    "start_time": "2023-06-07T16:24:37.437Z"
   },
   {
    "duration": 2854,
    "start_time": "2023-06-07T16:24:37.445Z"
   },
   {
    "duration": 5,
    "start_time": "2023-06-07T16:24:40.301Z"
   },
   {
    "duration": 5,
    "start_time": "2023-06-07T16:24:40.307Z"
   },
   {
    "duration": 2875,
    "start_time": "2023-06-07T16:24:40.314Z"
   },
   {
    "duration": 6,
    "start_time": "2023-06-07T16:24:43.190Z"
   },
   {
    "duration": 6,
    "start_time": "2023-06-07T16:24:43.197Z"
   },
   {
    "duration": 5,
    "start_time": "2023-06-07T16:24:43.204Z"
   },
   {
    "duration": 5,
    "start_time": "2023-06-07T16:24:43.210Z"
   },
   {
    "duration": 60,
    "start_time": "2023-06-07T16:25:20.143Z"
   },
   {
    "duration": 81,
    "start_time": "2023-06-07T16:25:31.044Z"
   },
   {
    "duration": 63,
    "start_time": "2023-06-07T16:25:40.740Z"
   },
   {
    "duration": 25,
    "start_time": "2023-06-07T16:26:14.846Z"
   },
   {
    "duration": 24,
    "start_time": "2023-06-07T16:26:38.094Z"
   },
   {
    "duration": 57,
    "start_time": "2023-06-07T16:57:31.732Z"
   },
   {
    "duration": 14,
    "start_time": "2023-06-07T16:58:33.164Z"
   },
   {
    "duration": 13,
    "start_time": "2023-06-07T16:58:35.899Z"
   },
   {
    "duration": 12,
    "start_time": "2023-06-07T16:58:56.527Z"
   },
   {
    "duration": 58,
    "start_time": "2023-06-07T17:01:06.141Z"
   },
   {
    "duration": 47,
    "start_time": "2023-06-07T17:01:13.741Z"
   },
   {
    "duration": 60,
    "start_time": "2023-06-07T17:01:16.549Z"
   },
   {
    "duration": 48,
    "start_time": "2023-06-07T17:01:21.297Z"
   },
   {
    "duration": 48,
    "start_time": "2023-06-07T17:01:28.753Z"
   },
   {
    "duration": 49,
    "start_time": "2023-06-07T17:01:58.701Z"
   },
   {
    "duration": 15,
    "start_time": "2023-06-07T17:03:19.885Z"
   },
   {
    "duration": 15,
    "start_time": "2023-06-07T17:03:30.229Z"
   },
   {
    "duration": 4,
    "start_time": "2023-06-07T17:03:35.682Z"
   },
   {
    "duration": 150,
    "start_time": "2023-06-07T17:03:35.687Z"
   },
   {
    "duration": 14,
    "start_time": "2023-06-07T17:03:35.839Z"
   },
   {
    "duration": 61,
    "start_time": "2023-06-07T17:03:35.855Z"
   },
   {
    "duration": 16,
    "start_time": "2023-06-07T17:03:35.918Z"
   },
   {
    "duration": 15,
    "start_time": "2023-06-07T17:03:35.935Z"
   },
   {
    "duration": 152,
    "start_time": "2023-06-07T17:03:35.976Z"
   },
   {
    "duration": 138,
    "start_time": "2023-06-07T17:03:36.130Z"
   },
   {
    "duration": 19,
    "start_time": "2023-06-07T17:03:36.269Z"
   },
   {
    "duration": 203,
    "start_time": "2023-06-07T17:03:36.291Z"
   },
   {
    "duration": 66,
    "start_time": "2023-06-07T17:03:36.496Z"
   },
   {
    "duration": 14,
    "start_time": "2023-06-07T17:03:36.574Z"
   },
   {
    "duration": 16,
    "start_time": "2023-06-07T17:03:36.590Z"
   },
   {
    "duration": 137,
    "start_time": "2023-06-07T17:03:36.607Z"
   },
   {
    "duration": 14,
    "start_time": "2023-06-07T17:03:36.745Z"
   },
   {
    "duration": 33,
    "start_time": "2023-06-07T17:03:36.760Z"
   },
   {
    "duration": 96,
    "start_time": "2023-06-07T17:03:36.794Z"
   },
   {
    "duration": 14,
    "start_time": "2023-06-07T17:03:36.892Z"
   },
   {
    "duration": 12,
    "start_time": "2023-06-07T17:03:36.908Z"
   },
   {
    "duration": 164,
    "start_time": "2023-06-07T17:03:36.921Z"
   },
   {
    "duration": 4,
    "start_time": "2023-06-07T17:03:37.087Z"
   },
   {
    "duration": 22,
    "start_time": "2023-06-07T17:03:37.093Z"
   },
   {
    "duration": 63,
    "start_time": "2023-06-07T17:03:37.116Z"
   },
   {
    "duration": 101,
    "start_time": "2023-06-07T17:03:37.181Z"
   },
   {
    "duration": 14,
    "start_time": "2023-06-07T17:03:37.284Z"
   },
   {
    "duration": 77,
    "start_time": "2023-06-07T17:03:37.299Z"
   },
   {
    "duration": 97,
    "start_time": "2023-06-07T17:03:37.378Z"
   },
   {
    "duration": 13,
    "start_time": "2023-06-07T17:03:37.478Z"
   },
   {
    "duration": 12,
    "start_time": "2023-06-07T17:03:37.493Z"
   },
   {
    "duration": 77,
    "start_time": "2023-06-07T17:03:37.507Z"
   },
   {
    "duration": 3,
    "start_time": "2023-06-07T17:03:37.676Z"
   },
   {
    "duration": 4,
    "start_time": "2023-06-07T17:03:37.681Z"
   },
   {
    "duration": 8,
    "start_time": "2023-06-07T17:03:37.687Z"
   },
   {
    "duration": 8,
    "start_time": "2023-06-07T17:03:37.696Z"
   },
   {
    "duration": 10,
    "start_time": "2023-06-07T17:03:37.706Z"
   },
   {
    "duration": 5,
    "start_time": "2023-06-07T17:03:37.717Z"
   },
   {
    "duration": 4,
    "start_time": "2023-06-07T17:03:37.723Z"
   },
   {
    "duration": 8,
    "start_time": "2023-06-07T17:03:37.728Z"
   },
   {
    "duration": 4,
    "start_time": "2023-06-07T17:03:37.737Z"
   },
   {
    "duration": 2850,
    "start_time": "2023-06-07T17:03:37.742Z"
   },
   {
    "duration": 6,
    "start_time": "2023-06-07T17:03:40.594Z"
   },
   {
    "duration": 5,
    "start_time": "2023-06-07T17:03:40.601Z"
   },
   {
    "duration": 2749,
    "start_time": "2023-06-07T17:03:40.607Z"
   },
   {
    "duration": 6,
    "start_time": "2023-06-07T17:03:43.357Z"
   },
   {
    "duration": 3,
    "start_time": "2023-06-07T17:03:43.375Z"
   },
   {
    "duration": 2894,
    "start_time": "2023-06-07T17:03:43.380Z"
   },
   {
    "duration": 6,
    "start_time": "2023-06-07T17:03:46.277Z"
   },
   {
    "duration": 8,
    "start_time": "2023-06-07T17:03:46.285Z"
   },
   {
    "duration": 4,
    "start_time": "2023-06-07T17:03:46.295Z"
   },
   {
    "duration": 6,
    "start_time": "2023-06-07T17:03:46.302Z"
   },
   {
    "duration": 4,
    "start_time": "2023-06-07T17:04:35.746Z"
   },
   {
    "duration": 142,
    "start_time": "2023-06-07T17:04:35.752Z"
   },
   {
    "duration": 13,
    "start_time": "2023-06-07T17:04:35.895Z"
   },
   {
    "duration": 66,
    "start_time": "2023-06-07T17:04:35.909Z"
   },
   {
    "duration": 15,
    "start_time": "2023-06-07T17:04:35.977Z"
   },
   {
    "duration": 13,
    "start_time": "2023-06-07T17:04:35.994Z"
   },
   {
    "duration": 146,
    "start_time": "2023-06-07T17:04:36.009Z"
   },
   {
    "duration": 133,
    "start_time": "2023-06-07T17:04:36.157Z"
   },
   {
    "duration": 14,
    "start_time": "2023-06-07T17:04:36.292Z"
   },
   {
    "duration": 81,
    "start_time": "2023-06-07T17:04:36.307Z"
   },
   {
    "duration": 15,
    "start_time": "2023-06-07T17:04:36.390Z"
   },
   {
    "duration": 14,
    "start_time": "2023-06-07T17:04:36.407Z"
   },
   {
    "duration": 190,
    "start_time": "2023-06-07T17:04:36.423Z"
   },
   {
    "duration": 130,
    "start_time": "2023-06-07T17:04:36.615Z"
   },
   {
    "duration": 14,
    "start_time": "2023-06-07T17:04:36.746Z"
   },
   {
    "duration": 31,
    "start_time": "2023-06-07T17:04:36.762Z"
   },
   {
    "duration": 60,
    "start_time": "2023-06-07T17:04:36.794Z"
   },
   {
    "duration": 126,
    "start_time": "2023-06-07T17:04:36.856Z"
   },
   {
    "duration": 12,
    "start_time": "2023-06-07T17:04:36.983Z"
   },
   {
    "duration": 139,
    "start_time": "2023-06-07T17:04:36.996Z"
   },
   {
    "duration": 4,
    "start_time": "2023-06-07T17:04:37.136Z"
   },
   {
    "duration": 47,
    "start_time": "2023-06-07T17:04:37.141Z"
   },
   {
    "duration": 87,
    "start_time": "2023-06-07T17:04:37.190Z"
   },
   {
    "duration": 99,
    "start_time": "2023-06-07T17:04:37.279Z"
   },
   {
    "duration": 13,
    "start_time": "2023-06-07T17:04:37.379Z"
   },
   {
    "duration": 13,
    "start_time": "2023-06-07T17:04:37.393Z"
   },
   {
    "duration": 74,
    "start_time": "2023-06-07T17:04:37.409Z"
   },
   {
    "duration": 13,
    "start_time": "2023-06-07T17:04:37.575Z"
   },
   {
    "duration": 13,
    "start_time": "2023-06-07T17:04:37.589Z"
   },
   {
    "duration": 10,
    "start_time": "2023-06-07T17:04:37.674Z"
   },
   {
    "duration": 3,
    "start_time": "2023-06-07T17:04:37.776Z"
   },
   {
    "duration": 5,
    "start_time": "2023-06-07T17:04:37.780Z"
   },
   {
    "duration": 8,
    "start_time": "2023-06-07T17:04:37.786Z"
   },
   {
    "duration": 10,
    "start_time": "2023-06-07T17:04:37.796Z"
   },
   {
    "duration": 7,
    "start_time": "2023-06-07T17:04:37.808Z"
   },
   {
    "duration": 9,
    "start_time": "2023-06-07T17:04:37.817Z"
   },
   {
    "duration": 3,
    "start_time": "2023-06-07T17:04:37.828Z"
   },
   {
    "duration": 5,
    "start_time": "2023-06-07T17:04:37.833Z"
   },
   {
    "duration": 15,
    "start_time": "2023-06-07T17:04:37.839Z"
   },
   {
    "duration": 2795,
    "start_time": "2023-06-07T17:04:37.855Z"
   },
   {
    "duration": 4,
    "start_time": "2023-06-07T17:04:40.654Z"
   },
   {
    "duration": 16,
    "start_time": "2023-06-07T17:04:40.660Z"
   },
   {
    "duration": 2770,
    "start_time": "2023-06-07T17:04:40.677Z"
   },
   {
    "duration": 5,
    "start_time": "2023-06-07T17:04:43.449Z"
   },
   {
    "duration": 6,
    "start_time": "2023-06-07T17:04:43.455Z"
   },
   {
    "duration": 2942,
    "start_time": "2023-06-07T17:04:43.475Z"
   },
   {
    "duration": 5,
    "start_time": "2023-06-07T17:04:46.418Z"
   },
   {
    "duration": 6,
    "start_time": "2023-06-07T17:04:46.424Z"
   },
   {
    "duration": 4,
    "start_time": "2023-06-07T17:04:46.431Z"
   },
   {
    "duration": 4,
    "start_time": "2023-06-07T17:04:46.436Z"
   },
   {
    "duration": 132,
    "start_time": "2023-06-07T17:04:56.471Z"
   },
   {
    "duration": 189,
    "start_time": "2023-06-07T17:05:00.295Z"
   },
   {
    "duration": 7,
    "start_time": "2023-06-07T17:09:48.604Z"
   },
   {
    "duration": 7,
    "start_time": "2023-06-07T17:10:00.796Z"
   },
   {
    "duration": 3,
    "start_time": "2023-06-07T17:12:46.823Z"
   },
   {
    "duration": 135,
    "start_time": "2023-06-07T17:12:46.828Z"
   },
   {
    "duration": 23,
    "start_time": "2023-06-07T17:12:46.964Z"
   },
   {
    "duration": 54,
    "start_time": "2023-06-07T17:12:46.988Z"
   },
   {
    "duration": 39,
    "start_time": "2023-06-07T17:12:47.044Z"
   },
   {
    "duration": 15,
    "start_time": "2023-06-07T17:12:47.084Z"
   },
   {
    "duration": 154,
    "start_time": "2023-06-07T17:12:47.101Z"
   },
   {
    "duration": 128,
    "start_time": "2023-06-07T17:12:47.257Z"
   },
   {
    "duration": 14,
    "start_time": "2023-06-07T17:12:47.386Z"
   },
   {
    "duration": 75,
    "start_time": "2023-06-07T17:12:47.402Z"
   },
   {
    "duration": 13,
    "start_time": "2023-06-07T17:12:47.478Z"
   },
   {
    "duration": 13,
    "start_time": "2023-06-07T17:12:47.493Z"
   },
   {
    "duration": 225,
    "start_time": "2023-06-07T17:12:47.507Z"
   },
   {
    "duration": 130,
    "start_time": "2023-06-07T17:12:47.735Z"
   },
   {
    "duration": 15,
    "start_time": "2023-06-07T17:12:47.867Z"
   },
   {
    "duration": 26,
    "start_time": "2023-06-07T17:12:47.883Z"
   },
   {
    "duration": 86,
    "start_time": "2023-06-07T17:12:47.911Z"
   },
   {
    "duration": 14,
    "start_time": "2023-06-07T17:12:47.999Z"
   },
   {
    "duration": 14,
    "start_time": "2023-06-07T17:12:48.015Z"
   },
   {
    "duration": 161,
    "start_time": "2023-06-07T17:12:48.031Z"
   },
   {
    "duration": 4,
    "start_time": "2023-06-07T17:12:48.194Z"
   },
   {
    "duration": 33,
    "start_time": "2023-06-07T17:12:48.199Z"
   },
   {
    "duration": 46,
    "start_time": "2023-06-07T17:12:48.234Z"
   },
   {
    "duration": 93,
    "start_time": "2023-06-07T17:12:48.283Z"
   },
   {
    "duration": 14,
    "start_time": "2023-06-07T17:12:48.378Z"
   },
   {
    "duration": 90,
    "start_time": "2023-06-07T17:12:48.394Z"
   },
   {
    "duration": 91,
    "start_time": "2023-06-07T17:12:48.486Z"
   },
   {
    "duration": 18,
    "start_time": "2023-06-07T17:12:48.579Z"
   },
   {
    "duration": 86,
    "start_time": "2023-06-07T17:12:48.599Z"
   },
   {
    "duration": 8,
    "start_time": "2023-06-07T17:12:48.775Z"
   },
   {
    "duration": 4,
    "start_time": "2023-06-07T17:12:48.785Z"
   },
   {
    "duration": 6,
    "start_time": "2023-06-07T17:12:48.790Z"
   },
   {
    "duration": 4,
    "start_time": "2023-06-07T17:12:48.798Z"
   },
   {
    "duration": 7,
    "start_time": "2023-06-07T17:12:48.804Z"
   },
   {
    "duration": 3,
    "start_time": "2023-06-07T17:12:48.813Z"
   },
   {
    "duration": 58,
    "start_time": "2023-06-07T17:12:48.818Z"
   },
   {
    "duration": 7,
    "start_time": "2023-06-07T17:12:48.878Z"
   },
   {
    "duration": 14,
    "start_time": "2023-06-07T17:12:48.887Z"
   },
   {
    "duration": 7,
    "start_time": "2023-06-07T17:12:48.903Z"
   },
   {
    "duration": 2889,
    "start_time": "2023-06-07T17:12:48.912Z"
   },
   {
    "duration": 5,
    "start_time": "2023-06-07T17:12:51.805Z"
   },
   {
    "duration": 6,
    "start_time": "2023-06-07T17:12:51.811Z"
   },
   {
    "duration": 2997,
    "start_time": "2023-06-07T17:12:51.818Z"
   },
   {
    "duration": 6,
    "start_time": "2023-06-07T17:12:54.817Z"
   },
   {
    "duration": 8,
    "start_time": "2023-06-07T17:12:54.825Z"
   },
   {
    "duration": 2955,
    "start_time": "2023-06-07T17:12:54.834Z"
   },
   {
    "duration": 6,
    "start_time": "2023-06-07T17:12:57.791Z"
   },
   {
    "duration": 7,
    "start_time": "2023-06-07T17:12:57.798Z"
   },
   {
    "duration": 10,
    "start_time": "2023-06-07T17:12:57.807Z"
   },
   {
    "duration": 4,
    "start_time": "2023-06-07T17:17:57.218Z"
   },
   {
    "duration": 1873,
    "start_time": "2023-06-07T17:17:57.706Z"
   },
   {
    "duration": 6,
    "start_time": "2023-06-07T17:18:01.986Z"
   },
   {
    "duration": 5,
    "start_time": "2023-06-07T17:18:02.402Z"
   },
   {
    "duration": 3,
    "start_time": "2023-06-07T17:19:07.756Z"
   },
   {
    "duration": 149,
    "start_time": "2023-06-07T17:19:07.761Z"
   },
   {
    "duration": 14,
    "start_time": "2023-06-07T17:19:07.912Z"
   },
   {
    "duration": 71,
    "start_time": "2023-06-07T17:19:07.928Z"
   },
   {
    "duration": 16,
    "start_time": "2023-06-07T17:19:08.001Z"
   },
   {
    "duration": 16,
    "start_time": "2023-06-07T17:19:08.019Z"
   },
   {
    "duration": 171,
    "start_time": "2023-06-07T17:19:08.037Z"
   },
   {
    "duration": 135,
    "start_time": "2023-06-07T17:19:08.210Z"
   },
   {
    "duration": 16,
    "start_time": "2023-06-07T17:19:08.346Z"
   },
   {
    "duration": 82,
    "start_time": "2023-06-07T17:19:08.364Z"
   },
   {
    "duration": 28,
    "start_time": "2023-06-07T17:19:08.448Z"
   },
   {
    "duration": 11,
    "start_time": "2023-06-07T17:19:08.478Z"
   },
   {
    "duration": 219,
    "start_time": "2023-06-07T17:19:08.491Z"
   },
   {
    "duration": 137,
    "start_time": "2023-06-07T17:19:08.713Z"
   },
   {
    "duration": 24,
    "start_time": "2023-06-07T17:19:08.851Z"
   },
   {
    "duration": 23,
    "start_time": "2023-06-07T17:19:08.877Z"
   },
   {
    "duration": 85,
    "start_time": "2023-06-07T17:19:08.902Z"
   },
   {
    "duration": 16,
    "start_time": "2023-06-07T17:19:08.989Z"
   },
   {
    "duration": 23,
    "start_time": "2023-06-07T17:19:09.006Z"
   },
   {
    "duration": 158,
    "start_time": "2023-06-07T17:19:09.031Z"
   },
   {
    "duration": 4,
    "start_time": "2023-06-07T17:19:09.190Z"
   },
   {
    "duration": 19,
    "start_time": "2023-06-07T17:19:09.196Z"
   },
   {
    "duration": 59,
    "start_time": "2023-06-07T17:19:09.216Z"
   },
   {
    "duration": 10,
    "start_time": "2023-06-07T17:19:09.277Z"
   },
   {
    "duration": 101,
    "start_time": "2023-06-07T17:19:09.288Z"
   },
   {
    "duration": 13,
    "start_time": "2023-06-07T17:19:09.391Z"
   },
   {
    "duration": 75,
    "start_time": "2023-06-07T17:19:09.407Z"
   },
   {
    "duration": 105,
    "start_time": "2023-06-07T17:19:09.484Z"
   },
   {
    "duration": 85,
    "start_time": "2023-06-07T17:19:09.591Z"
   },
   {
    "duration": 98,
    "start_time": "2023-06-07T17:19:09.678Z"
   },
   {
    "duration": 3,
    "start_time": "2023-06-07T17:19:09.778Z"
   },
   {
    "duration": 7,
    "start_time": "2023-06-07T17:19:09.783Z"
   },
   {
    "duration": 6,
    "start_time": "2023-06-07T17:19:09.791Z"
   },
   {
    "duration": 10,
    "start_time": "2023-06-07T17:19:09.799Z"
   },
   {
    "duration": 4,
    "start_time": "2023-06-07T17:19:09.811Z"
   },
   {
    "duration": 3,
    "start_time": "2023-06-07T17:19:09.817Z"
   },
   {
    "duration": 4,
    "start_time": "2023-06-07T17:19:09.822Z"
   },
   {
    "duration": 6,
    "start_time": "2023-06-07T17:19:09.827Z"
   },
   {
    "duration": 5,
    "start_time": "2023-06-07T17:19:09.834Z"
   },
   {
    "duration": 1953,
    "start_time": "2023-06-07T17:19:09.841Z"
   },
   {
    "duration": 5,
    "start_time": "2023-06-07T17:19:11.798Z"
   },
   {
    "duration": 8,
    "start_time": "2023-06-07T17:19:11.805Z"
   },
   {
    "duration": 1928,
    "start_time": "2023-06-07T17:19:11.814Z"
   },
   {
    "duration": 6,
    "start_time": "2023-06-07T17:19:13.744Z"
   },
   {
    "duration": 7,
    "start_time": "2023-06-07T17:19:13.751Z"
   },
   {
    "duration": 1969,
    "start_time": "2023-06-07T17:19:13.759Z"
   },
   {
    "duration": 5,
    "start_time": "2023-06-07T17:19:15.729Z"
   },
   {
    "duration": 5,
    "start_time": "2023-06-07T17:19:15.736Z"
   },
   {
    "duration": 11,
    "start_time": "2023-06-07T17:20:21.202Z"
   },
   {
    "duration": 4,
    "start_time": "2023-06-07T17:20:45.435Z"
   },
   {
    "duration": 170,
    "start_time": "2023-06-07T17:20:45.441Z"
   },
   {
    "duration": 14,
    "start_time": "2023-06-07T17:20:45.613Z"
   },
   {
    "duration": 72,
    "start_time": "2023-06-07T17:20:45.630Z"
   },
   {
    "duration": 21,
    "start_time": "2023-06-07T17:20:45.704Z"
   },
   {
    "duration": 24,
    "start_time": "2023-06-07T17:20:45.726Z"
   },
   {
    "duration": 149,
    "start_time": "2023-06-07T17:20:45.751Z"
   },
   {
    "duration": 127,
    "start_time": "2023-06-07T17:20:45.902Z"
   },
   {
    "duration": 13,
    "start_time": "2023-06-07T17:20:46.031Z"
   },
   {
    "duration": 88,
    "start_time": "2023-06-07T17:20:46.047Z"
   },
   {
    "duration": 14,
    "start_time": "2023-06-07T17:20:46.136Z"
   },
   {
    "duration": 29,
    "start_time": "2023-06-07T17:20:46.152Z"
   },
   {
    "duration": 220,
    "start_time": "2023-06-07T17:20:46.182Z"
   },
   {
    "duration": 130,
    "start_time": "2023-06-07T17:20:46.404Z"
   },
   {
    "duration": 13,
    "start_time": "2023-06-07T17:20:46.536Z"
   },
   {
    "duration": 37,
    "start_time": "2023-06-07T17:20:46.551Z"
   },
   {
    "duration": 70,
    "start_time": "2023-06-07T17:20:46.589Z"
   },
   {
    "duration": 28,
    "start_time": "2023-06-07T17:20:46.661Z"
   },
   {
    "duration": 14,
    "start_time": "2023-06-07T17:20:46.690Z"
   },
   {
    "duration": 253,
    "start_time": "2023-06-07T17:20:46.705Z"
   },
   {
    "duration": 17,
    "start_time": "2023-06-07T17:20:46.959Z"
   },
   {
    "duration": 19,
    "start_time": "2023-06-07T17:20:46.978Z"
   },
   {
    "duration": 78,
    "start_time": "2023-06-07T17:20:46.999Z"
   },
   {
    "duration": 96,
    "start_time": "2023-06-07T17:20:47.080Z"
   },
   {
    "duration": 16,
    "start_time": "2023-06-07T17:20:47.177Z"
   },
   {
    "duration": 18,
    "start_time": "2023-06-07T17:20:47.195Z"
   },
   {
    "duration": 98,
    "start_time": "2023-06-07T17:20:47.277Z"
   },
   {
    "duration": 14,
    "start_time": "2023-06-07T17:20:47.379Z"
   },
   {
    "duration": 12,
    "start_time": "2023-06-07T17:20:47.395Z"
   },
   {
    "duration": 100,
    "start_time": "2023-06-07T17:20:47.475Z"
   },
   {
    "duration": 3,
    "start_time": "2023-06-07T17:20:47.577Z"
   },
   {
    "duration": 8,
    "start_time": "2023-06-07T17:20:47.581Z"
   },
   {
    "duration": 8,
    "start_time": "2023-06-07T17:20:47.591Z"
   },
   {
    "duration": 6,
    "start_time": "2023-06-07T17:20:47.601Z"
   },
   {
    "duration": 26,
    "start_time": "2023-06-07T17:20:47.609Z"
   },
   {
    "duration": 14,
    "start_time": "2023-06-07T17:20:47.637Z"
   },
   {
    "duration": 6,
    "start_time": "2023-06-07T17:20:47.653Z"
   },
   {
    "duration": 9,
    "start_time": "2023-06-07T17:20:47.661Z"
   },
   {
    "duration": 5,
    "start_time": "2023-06-07T17:20:47.671Z"
   },
   {
    "duration": 1858,
    "start_time": "2023-06-07T17:20:47.677Z"
   },
   {
    "duration": 5,
    "start_time": "2023-06-07T17:20:49.536Z"
   },
   {
    "duration": 6,
    "start_time": "2023-06-07T17:20:49.542Z"
   },
   {
    "duration": 1904,
    "start_time": "2023-06-07T17:20:49.550Z"
   },
   {
    "duration": 6,
    "start_time": "2023-06-07T17:20:51.456Z"
   },
   {
    "duration": 6,
    "start_time": "2023-06-07T17:20:51.474Z"
   },
   {
    "duration": 1880,
    "start_time": "2023-06-07T17:20:51.481Z"
   },
   {
    "duration": 6,
    "start_time": "2023-06-07T17:20:53.363Z"
   },
   {
    "duration": 9,
    "start_time": "2023-06-07T17:20:53.375Z"
   },
   {
    "duration": 15,
    "start_time": "2023-06-07T17:20:53.386Z"
   },
   {
    "duration": 5,
    "start_time": "2023-06-07T17:20:53.402Z"
   },
   {
    "duration": 3118,
    "start_time": "2023-06-07T17:20:53.409Z"
   },
   {
    "duration": 5,
    "start_time": "2023-06-07T17:20:56.529Z"
   },
   {
    "duration": 6,
    "start_time": "2023-06-07T17:20:56.536Z"
   },
   {
    "duration": 3052,
    "start_time": "2023-06-07T17:20:56.544Z"
   },
   {
    "duration": 6,
    "start_time": "2023-06-07T17:20:59.598Z"
   },
   {
    "duration": 5,
    "start_time": "2023-06-07T17:20:59.606Z"
   },
   {
    "duration": 3036,
    "start_time": "2023-06-07T17:20:59.612Z"
   },
   {
    "duration": 5,
    "start_time": "2023-06-07T17:21:02.650Z"
   },
   {
    "duration": 19,
    "start_time": "2023-06-07T17:21:02.657Z"
   },
   {
    "duration": 10,
    "start_time": "2023-06-07T17:21:02.677Z"
   },
   {
    "duration": 5,
    "start_time": "2023-06-07T17:21:02.688Z"
   },
   {
    "duration": 9,
    "start_time": "2023-06-07T17:21:02.694Z"
   },
   {
    "duration": 49,
    "start_time": "2023-06-07T17:30:50.699Z"
   },
   {
    "duration": 4,
    "start_time": "2023-06-07T17:41:14.324Z"
   },
   {
    "duration": 129,
    "start_time": "2023-06-07T17:41:17.347Z"
   },
   {
    "duration": 128,
    "start_time": "2023-06-07T17:41:26.716Z"
   },
   {
    "duration": 159,
    "start_time": "2023-06-07T17:44:10.602Z"
   },
   {
    "duration": 149,
    "start_time": "2023-06-07T17:44:28.623Z"
   },
   {
    "duration": 167,
    "start_time": "2023-06-07T17:44:32.674Z"
   },
   {
    "duration": 150,
    "start_time": "2023-06-07T17:44:36.843Z"
   },
   {
    "duration": 156,
    "start_time": "2023-06-07T17:44:45.314Z"
   },
   {
    "duration": 158,
    "start_time": "2023-06-07T17:45:08.877Z"
   },
   {
    "duration": 172,
    "start_time": "2023-06-07T17:45:14.022Z"
   },
   {
    "duration": 205,
    "start_time": "2023-06-07T17:45:34.694Z"
   },
   {
    "duration": 229,
    "start_time": "2023-06-07T17:45:43.318Z"
   },
   {
    "duration": 256,
    "start_time": "2023-06-07T17:45:55.171Z"
   },
   {
    "duration": 185,
    "start_time": "2023-06-07T17:46:06.753Z"
   },
   {
    "duration": 4,
    "start_time": "2023-06-07T18:03:56.352Z"
   },
   {
    "duration": 17,
    "start_time": "2023-06-07T18:03:56.839Z"
   },
   {
    "duration": 15,
    "start_time": "2023-06-07T18:04:29.834Z"
   },
   {
    "duration": 13,
    "start_time": "2023-06-07T18:04:39.602Z"
   },
   {
    "duration": 14,
    "start_time": "2023-06-07T18:04:47.481Z"
   },
   {
    "duration": 17,
    "start_time": "2023-06-07T18:04:52.394Z"
   },
   {
    "duration": 8,
    "start_time": "2023-06-07T18:05:00.941Z"
   },
   {
    "duration": 14,
    "start_time": "2023-06-07T18:14:48.684Z"
   },
   {
    "duration": 14,
    "start_time": "2023-06-07T18:14:52.109Z"
   },
   {
    "duration": 14,
    "start_time": "2023-06-07T18:15:26.095Z"
   },
   {
    "duration": 15,
    "start_time": "2023-06-07T18:15:26.646Z"
   },
   {
    "duration": 8,
    "start_time": "2023-06-07T18:15:27.263Z"
   },
   {
    "duration": 13,
    "start_time": "2023-06-07T18:15:57.066Z"
   },
   {
    "duration": 16,
    "start_time": "2023-06-07T18:15:57.475Z"
   },
   {
    "duration": 7,
    "start_time": "2023-06-07T18:15:59.035Z"
   },
   {
    "duration": 11,
    "start_time": "2023-06-07T18:18:32.257Z"
   },
   {
    "duration": 1309,
    "start_time": "2023-06-07T18:19:04.660Z"
   },
   {
    "duration": 148,
    "start_time": "2023-06-07T18:19:05.971Z"
   },
   {
    "duration": 16,
    "start_time": "2023-06-07T18:19:06.121Z"
   },
   {
    "duration": 65,
    "start_time": "2023-06-07T18:19:06.138Z"
   },
   {
    "duration": 18,
    "start_time": "2023-06-07T18:19:06.205Z"
   },
   {
    "duration": 21,
    "start_time": "2023-06-07T18:19:06.224Z"
   },
   {
    "duration": 245,
    "start_time": "2023-06-07T18:19:06.246Z"
   },
   {
    "duration": 130,
    "start_time": "2023-06-07T18:19:06.493Z"
   },
   {
    "duration": 16,
    "start_time": "2023-06-07T18:19:06.626Z"
   },
   {
    "duration": 84,
    "start_time": "2023-06-07T18:19:06.644Z"
   },
   {
    "duration": 14,
    "start_time": "2023-06-07T18:19:06.730Z"
   },
   {
    "duration": 40,
    "start_time": "2023-06-07T18:19:06.746Z"
   },
   {
    "duration": 213,
    "start_time": "2023-06-07T18:19:06.787Z"
   },
   {
    "duration": 156,
    "start_time": "2023-06-07T18:19:07.003Z"
   },
   {
    "duration": 16,
    "start_time": "2023-06-07T18:19:07.160Z"
   },
   {
    "duration": 61,
    "start_time": "2023-06-07T18:19:07.178Z"
   },
   {
    "duration": 15,
    "start_time": "2023-06-07T18:19:07.240Z"
   },
   {
    "duration": 15,
    "start_time": "2023-06-07T18:19:07.275Z"
   },
   {
    "duration": 205,
    "start_time": "2023-06-07T18:19:07.292Z"
   },
   {
    "duration": 5,
    "start_time": "2023-06-07T18:19:07.500Z"
   },
   {
    "duration": 27,
    "start_time": "2023-06-07T18:19:07.508Z"
   },
   {
    "duration": 38,
    "start_time": "2023-06-07T18:19:07.537Z"
   },
   {
    "duration": 203,
    "start_time": "2023-06-07T18:19:07.581Z"
   },
   {
    "duration": 18,
    "start_time": "2023-06-07T18:19:07.786Z"
   },
   {
    "duration": 15,
    "start_time": "2023-06-07T18:19:07.806Z"
   },
   {
    "duration": 94,
    "start_time": "2023-06-07T18:19:07.886Z"
   },
   {
    "duration": 21,
    "start_time": "2023-06-07T18:19:07.982Z"
   },
   {
    "duration": 14,
    "start_time": "2023-06-07T18:19:08.004Z"
   },
   {
    "duration": 58,
    "start_time": "2023-06-07T18:19:08.020Z"
   },
   {
    "duration": 10,
    "start_time": "2023-06-07T18:19:08.176Z"
   },
   {
    "duration": 3,
    "start_time": "2023-06-07T18:19:08.188Z"
   },
   {
    "duration": 3,
    "start_time": "2023-06-07T18:19:08.193Z"
   },
   {
    "duration": 1914,
    "start_time": "2023-06-07T18:19:08.198Z"
   },
   {
    "duration": 5,
    "start_time": "2023-06-07T18:19:10.113Z"
   },
   {
    "duration": 11,
    "start_time": "2023-06-07T18:19:10.120Z"
   },
   {
    "duration": 1807,
    "start_time": "2023-06-07T18:19:10.132Z"
   },
   {
    "duration": 5,
    "start_time": "2023-06-07T18:19:11.941Z"
   },
   {
    "duration": 5,
    "start_time": "2023-06-07T18:19:11.947Z"
   },
   {
    "duration": 1839,
    "start_time": "2023-06-07T18:19:11.975Z"
   },
   {
    "duration": 6,
    "start_time": "2023-06-07T18:19:13.816Z"
   },
   {
    "duration": 118,
    "start_time": "2023-06-07T18:19:13.826Z"
   },
   {
    "duration": 0,
    "start_time": "2023-06-07T18:19:13.946Z"
   },
   {
    "duration": 0,
    "start_time": "2023-06-07T18:19:13.951Z"
   },
   {
    "duration": 0,
    "start_time": "2023-06-07T18:19:13.953Z"
   },
   {
    "duration": 0,
    "start_time": "2023-06-07T18:19:13.954Z"
   },
   {
    "duration": 0,
    "start_time": "2023-06-07T18:19:13.955Z"
   },
   {
    "duration": 0,
    "start_time": "2023-06-07T18:19:13.956Z"
   },
   {
    "duration": 0,
    "start_time": "2023-06-07T18:19:13.957Z"
   },
   {
    "duration": 0,
    "start_time": "2023-06-07T18:19:13.958Z"
   },
   {
    "duration": 0,
    "start_time": "2023-06-07T18:19:13.959Z"
   },
   {
    "duration": 0,
    "start_time": "2023-06-07T18:19:13.960Z"
   },
   {
    "duration": 0,
    "start_time": "2023-06-07T18:19:13.961Z"
   },
   {
    "duration": 0,
    "start_time": "2023-06-07T18:19:13.980Z"
   },
   {
    "duration": 0,
    "start_time": "2023-06-07T18:19:13.981Z"
   },
   {
    "duration": 0,
    "start_time": "2023-06-07T18:19:13.982Z"
   },
   {
    "duration": 3,
    "start_time": "2023-06-07T18:20:52.569Z"
   },
   {
    "duration": 159,
    "start_time": "2023-06-07T18:20:52.574Z"
   },
   {
    "duration": 13,
    "start_time": "2023-06-07T18:20:52.735Z"
   },
   {
    "duration": 73,
    "start_time": "2023-06-07T18:20:52.749Z"
   },
   {
    "duration": 20,
    "start_time": "2023-06-07T18:20:52.825Z"
   },
   {
    "duration": 34,
    "start_time": "2023-06-07T18:20:52.847Z"
   },
   {
    "duration": 196,
    "start_time": "2023-06-07T18:20:52.883Z"
   },
   {
    "duration": 129,
    "start_time": "2023-06-07T18:20:53.080Z"
   },
   {
    "duration": 13,
    "start_time": "2023-06-07T18:20:53.211Z"
   },
   {
    "duration": 83,
    "start_time": "2023-06-07T18:20:53.226Z"
   },
   {
    "duration": 14,
    "start_time": "2023-06-07T18:20:53.311Z"
   },
   {
    "duration": 16,
    "start_time": "2023-06-07T18:20:53.326Z"
   },
   {
    "duration": 221,
    "start_time": "2023-06-07T18:20:53.344Z"
   },
   {
    "duration": 131,
    "start_time": "2023-06-07T18:20:53.568Z"
   },
   {
    "duration": 14,
    "start_time": "2023-06-07T18:20:53.700Z"
   },
   {
    "duration": 81,
    "start_time": "2023-06-07T18:20:53.715Z"
   },
   {
    "duration": 14,
    "start_time": "2023-06-07T18:20:53.797Z"
   },
   {
    "duration": 13,
    "start_time": "2023-06-07T18:20:53.812Z"
   },
   {
    "duration": 255,
    "start_time": "2023-06-07T18:20:53.826Z"
   },
   {
    "duration": 4,
    "start_time": "2023-06-07T18:20:54.083Z"
   },
   {
    "duration": 22,
    "start_time": "2023-06-07T18:20:54.089Z"
   },
   {
    "duration": 64,
    "start_time": "2023-06-07T18:20:54.113Z"
   },
   {
    "duration": 95,
    "start_time": "2023-06-07T18:20:54.182Z"
   },
   {
    "duration": 14,
    "start_time": "2023-06-07T18:20:54.280Z"
   },
   {
    "duration": 91,
    "start_time": "2023-06-07T18:20:54.296Z"
   },
   {
    "duration": 90,
    "start_time": "2023-06-07T18:20:54.389Z"
   },
   {
    "duration": 107,
    "start_time": "2023-06-07T18:20:54.480Z"
   },
   {
    "duration": 13,
    "start_time": "2023-06-07T18:20:54.588Z"
   },
   {
    "duration": 73,
    "start_time": "2023-06-07T18:20:54.603Z"
   },
   {
    "duration": 103,
    "start_time": "2023-06-07T18:20:54.682Z"
   },
   {
    "duration": 11,
    "start_time": "2023-06-07T18:20:54.787Z"
   },
   {
    "duration": 31,
    "start_time": "2023-06-07T18:20:54.800Z"
   },
   {
    "duration": 1834,
    "start_time": "2023-06-07T18:20:54.832Z"
   },
   {
    "duration": 8,
    "start_time": "2023-06-07T18:20:56.668Z"
   },
   {
    "duration": 6,
    "start_time": "2023-06-07T18:20:56.677Z"
   },
   {
    "duration": 1809,
    "start_time": "2023-06-07T18:20:56.685Z"
   },
   {
    "duration": 6,
    "start_time": "2023-06-07T18:20:58.496Z"
   },
   {
    "duration": 8,
    "start_time": "2023-06-07T18:20:58.503Z"
   },
   {
    "duration": 1768,
    "start_time": "2023-06-07T18:20:58.513Z"
   },
   {
    "duration": 5,
    "start_time": "2023-06-07T18:21:00.283Z"
   },
   {
    "duration": 20,
    "start_time": "2023-06-07T18:21:00.294Z"
   },
   {
    "duration": 42,
    "start_time": "2023-06-07T18:21:00.316Z"
   },
   {
    "duration": 24,
    "start_time": "2023-06-07T18:21:00.360Z"
   },
   {
    "duration": 2741,
    "start_time": "2023-06-07T18:21:00.386Z"
   },
   {
    "duration": 5,
    "start_time": "2023-06-07T18:21:03.128Z"
   },
   {
    "duration": 19,
    "start_time": "2023-06-07T18:21:03.135Z"
   },
   {
    "duration": 2807,
    "start_time": "2023-06-07T18:21:03.155Z"
   },
   {
    "duration": 5,
    "start_time": "2023-06-07T18:21:05.964Z"
   },
   {
    "duration": 9,
    "start_time": "2023-06-07T18:21:05.975Z"
   },
   {
    "duration": 2727,
    "start_time": "2023-06-07T18:21:05.986Z"
   },
   {
    "duration": 5,
    "start_time": "2023-06-07T18:21:08.714Z"
   },
   {
    "duration": 19,
    "start_time": "2023-06-07T18:21:08.720Z"
   },
   {
    "duration": 0,
    "start_time": "2023-06-07T18:21:08.741Z"
   },
   {
    "duration": 0,
    "start_time": "2023-06-07T18:21:08.742Z"
   },
   {
    "duration": 0,
    "start_time": "2023-06-07T18:21:08.743Z"
   },
   {
    "duration": 6,
    "start_time": "2023-06-07T18:39:56.890Z"
   },
   {
    "duration": 18,
    "start_time": "2023-06-07T18:39:57.992Z"
   },
   {
    "duration": 10,
    "start_time": "2023-06-07T18:48:16.298Z"
   },
   {
    "duration": 145,
    "start_time": "2023-06-07T18:48:16.311Z"
   },
   {
    "duration": 40,
    "start_time": "2023-06-07T18:48:16.458Z"
   },
   {
    "duration": 52,
    "start_time": "2023-06-07T18:48:16.500Z"
   },
   {
    "duration": 25,
    "start_time": "2023-06-07T18:48:16.554Z"
   },
   {
    "duration": 20,
    "start_time": "2023-06-07T18:48:16.585Z"
   },
   {
    "duration": 214,
    "start_time": "2023-06-07T18:48:16.607Z"
   },
   {
    "duration": 134,
    "start_time": "2023-06-07T18:48:16.822Z"
   },
   {
    "duration": 26,
    "start_time": "2023-06-07T18:48:16.958Z"
   },
   {
    "duration": 64,
    "start_time": "2023-06-07T18:48:16.987Z"
   },
   {
    "duration": 30,
    "start_time": "2023-06-07T18:48:17.053Z"
   },
   {
    "duration": 16,
    "start_time": "2023-06-07T18:48:17.088Z"
   },
   {
    "duration": 216,
    "start_time": "2023-06-07T18:48:17.106Z"
   },
   {
    "duration": 147,
    "start_time": "2023-06-07T18:48:17.324Z"
   },
   {
    "duration": 27,
    "start_time": "2023-06-07T18:48:17.472Z"
   },
   {
    "duration": 61,
    "start_time": "2023-06-07T18:48:17.504Z"
   },
   {
    "duration": 33,
    "start_time": "2023-06-07T18:48:17.567Z"
   },
   {
    "duration": 12,
    "start_time": "2023-06-07T18:48:17.603Z"
   },
   {
    "duration": 211,
    "start_time": "2023-06-07T18:48:17.616Z"
   },
   {
    "duration": 5,
    "start_time": "2023-06-07T18:48:17.828Z"
   },
   {
    "duration": 22,
    "start_time": "2023-06-07T18:48:17.834Z"
   },
   {
    "duration": 45,
    "start_time": "2023-06-07T18:48:17.857Z"
   },
   {
    "duration": 91,
    "start_time": "2023-06-07T18:48:17.907Z"
   },
   {
    "duration": 96,
    "start_time": "2023-06-07T18:48:18.005Z"
   },
   {
    "duration": 18,
    "start_time": "2023-06-07T18:48:18.102Z"
   },
   {
    "duration": 59,
    "start_time": "2023-06-07T18:48:18.123Z"
   },
   {
    "duration": 104,
    "start_time": "2023-06-07T18:48:18.184Z"
   },
   {
    "duration": 17,
    "start_time": "2023-06-07T18:48:18.290Z"
   },
   {
    "duration": 77,
    "start_time": "2023-06-07T18:48:18.310Z"
   },
   {
    "duration": 92,
    "start_time": "2023-06-07T18:48:18.390Z"
   },
   {
    "duration": 8,
    "start_time": "2023-06-07T18:48:18.490Z"
   },
   {
    "duration": 3,
    "start_time": "2023-06-07T18:48:18.501Z"
   },
   {
    "duration": 1891,
    "start_time": "2023-06-07T18:48:18.506Z"
   },
   {
    "duration": 7,
    "start_time": "2023-06-07T18:48:20.401Z"
   },
   {
    "duration": 7,
    "start_time": "2023-06-07T18:48:20.409Z"
   },
   {
    "duration": 1910,
    "start_time": "2023-06-07T18:48:20.418Z"
   },
   {
    "duration": 5,
    "start_time": "2023-06-07T18:48:22.330Z"
   },
   {
    "duration": 10,
    "start_time": "2023-06-07T18:48:22.337Z"
   },
   {
    "duration": 2112,
    "start_time": "2023-06-07T18:48:22.348Z"
   },
   {
    "duration": 21,
    "start_time": "2023-06-07T18:48:24.462Z"
   },
   {
    "duration": 16,
    "start_time": "2023-06-07T18:48:24.485Z"
   },
   {
    "duration": 18,
    "start_time": "2023-06-07T18:48:24.502Z"
   },
   {
    "duration": 11,
    "start_time": "2023-06-07T18:48:24.522Z"
   },
   {
    "duration": 3096,
    "start_time": "2023-06-07T18:48:24.534Z"
   },
   {
    "duration": 5,
    "start_time": "2023-06-07T18:48:27.632Z"
   },
   {
    "duration": 9,
    "start_time": "2023-06-07T18:48:27.638Z"
   },
   {
    "duration": 2956,
    "start_time": "2023-06-07T18:48:27.648Z"
   },
   {
    "duration": 6,
    "start_time": "2023-06-07T18:48:30.605Z"
   },
   {
    "duration": 33,
    "start_time": "2023-06-07T18:48:30.613Z"
   },
   {
    "duration": 3090,
    "start_time": "2023-06-07T18:48:30.649Z"
   },
   {
    "duration": 5,
    "start_time": "2023-06-07T18:48:33.740Z"
   },
   {
    "duration": 8,
    "start_time": "2023-06-07T18:48:33.746Z"
   },
   {
    "duration": 25,
    "start_time": "2023-06-07T18:48:33.756Z"
   },
   {
    "duration": 3,
    "start_time": "2023-06-07T18:48:33.786Z"
   },
   {
    "duration": 3,
    "start_time": "2023-06-07T18:48:33.791Z"
   },
   {
    "duration": 10,
    "start_time": "2023-06-07T18:56:01.209Z"
   },
   {
    "duration": 4,
    "start_time": "2023-06-07T18:56:05.345Z"
   },
   {
    "duration": 3,
    "start_time": "2023-06-09T09:28:56.130Z"
   },
   {
    "duration": 6,
    "start_time": "2023-06-09T09:29:14.603Z"
   },
   {
    "duration": 4,
    "start_time": "2023-06-09T10:42:08.908Z"
   },
   {
    "duration": 1028,
    "start_time": "2023-06-09T10:42:08.914Z"
   },
   {
    "duration": 14,
    "start_time": "2023-06-09T10:42:09.944Z"
   },
   {
    "duration": 78,
    "start_time": "2023-06-09T10:42:09.960Z"
   },
   {
    "duration": 19,
    "start_time": "2023-06-09T10:42:10.040Z"
   },
   {
    "duration": 45,
    "start_time": "2023-06-09T10:42:10.061Z"
   },
   {
    "duration": 220,
    "start_time": "2023-06-09T10:42:10.108Z"
   },
   {
    "duration": 1197,
    "start_time": "2023-06-09T10:42:10.330Z"
   },
   {
    "duration": 14,
    "start_time": "2023-06-09T10:42:11.529Z"
   },
   {
    "duration": 91,
    "start_time": "2023-06-09T10:42:11.545Z"
   },
   {
    "duration": 14,
    "start_time": "2023-06-09T10:42:11.638Z"
   },
   {
    "duration": 30,
    "start_time": "2023-06-09T10:42:11.654Z"
   },
   {
    "duration": 346,
    "start_time": "2023-06-09T10:42:11.686Z"
   },
   {
    "duration": 685,
    "start_time": "2023-06-09T10:42:12.035Z"
   },
   {
    "duration": 16,
    "start_time": "2023-06-09T10:42:12.721Z"
   },
   {
    "duration": 92,
    "start_time": "2023-06-09T10:42:12.739Z"
   },
   {
    "duration": 16,
    "start_time": "2023-06-09T10:42:12.832Z"
   },
   {
    "duration": 27,
    "start_time": "2023-06-09T10:42:12.850Z"
   },
   {
    "duration": 235,
    "start_time": "2023-06-09T10:42:12.879Z"
   },
   {
    "duration": 4,
    "start_time": "2023-06-09T10:42:13.116Z"
   },
   {
    "duration": 28,
    "start_time": "2023-06-09T10:42:13.122Z"
   },
   {
    "duration": 45,
    "start_time": "2023-06-09T10:42:13.152Z"
   },
   {
    "duration": 12,
    "start_time": "2023-06-09T10:42:13.200Z"
   },
   {
    "duration": 27,
    "start_time": "2023-06-09T10:42:13.283Z"
   },
   {
    "duration": 65,
    "start_time": "2023-06-09T10:42:13.313Z"
   },
   {
    "duration": 11,
    "start_time": "2023-06-09T10:42:13.380Z"
   },
   {
    "duration": 95,
    "start_time": "2023-06-09T10:42:13.394Z"
   },
   {
    "duration": 22,
    "start_time": "2023-06-09T10:42:13.491Z"
   },
   {
    "duration": 68,
    "start_time": "2023-06-09T10:42:13.516Z"
   },
   {
    "duration": 117,
    "start_time": "2023-06-09T10:42:13.586Z"
   },
   {
    "duration": 6,
    "start_time": "2023-06-09T10:42:13.705Z"
   },
   {
    "duration": 6,
    "start_time": "2023-06-09T10:42:13.713Z"
   },
   {
    "duration": 2404,
    "start_time": "2023-06-09T10:42:13.720Z"
   },
   {
    "duration": 5,
    "start_time": "2023-06-09T10:42:16.126Z"
   },
   {
    "duration": 7,
    "start_time": "2023-06-09T10:42:16.132Z"
   },
   {
    "duration": 2205,
    "start_time": "2023-06-09T10:42:16.140Z"
   },
   {
    "duration": 5,
    "start_time": "2023-06-09T10:42:18.347Z"
   },
   {
    "duration": 6,
    "start_time": "2023-06-09T10:42:18.354Z"
   },
   {
    "duration": 2108,
    "start_time": "2023-06-09T10:42:18.362Z"
   },
   {
    "duration": 11,
    "start_time": "2023-06-09T10:42:20.472Z"
   },
   {
    "duration": 9,
    "start_time": "2023-06-09T10:42:20.489Z"
   },
   {
    "duration": 20,
    "start_time": "2023-06-09T10:42:20.500Z"
   },
   {
    "duration": 5,
    "start_time": "2023-06-09T10:42:20.522Z"
   },
   {
    "duration": 57,
    "start_time": "2023-06-09T10:42:20.529Z"
   },
   {
    "duration": 0,
    "start_time": "2023-06-09T10:42:20.593Z"
   },
   {
    "duration": 0,
    "start_time": "2023-06-09T10:42:20.594Z"
   },
   {
    "duration": 0,
    "start_time": "2023-06-09T10:42:20.595Z"
   },
   {
    "duration": 0,
    "start_time": "2023-06-09T10:42:20.597Z"
   },
   {
    "duration": 0,
    "start_time": "2023-06-09T10:42:20.598Z"
   },
   {
    "duration": 0,
    "start_time": "2023-06-09T10:42:20.599Z"
   },
   {
    "duration": 0,
    "start_time": "2023-06-09T10:42:20.601Z"
   },
   {
    "duration": 0,
    "start_time": "2023-06-09T10:42:20.602Z"
   },
   {
    "duration": 0,
    "start_time": "2023-06-09T10:42:20.605Z"
   },
   {
    "duration": 1,
    "start_time": "2023-06-09T10:42:20.605Z"
   },
   {
    "duration": 0,
    "start_time": "2023-06-09T10:42:20.606Z"
   },
   {
    "duration": 10,
    "start_time": "2023-06-09T10:47:19.006Z"
   },
   {
    "duration": 3961,
    "start_time": "2023-06-09T10:47:19.744Z"
   },
   {
    "duration": 6,
    "start_time": "2023-06-09T10:47:23.708Z"
   },
   {
    "duration": 8,
    "start_time": "2023-06-09T10:47:23.716Z"
   },
   {
    "duration": 4001,
    "start_time": "2023-06-09T10:47:23.729Z"
   },
   {
    "duration": 6,
    "start_time": "2023-06-09T10:47:27.732Z"
   },
   {
    "duration": 6,
    "start_time": "2023-06-09T10:47:27.741Z"
   },
   {
    "duration": 3791,
    "start_time": "2023-06-09T10:47:27.748Z"
   },
   {
    "duration": 6,
    "start_time": "2023-06-09T10:47:31.541Z"
   },
   {
    "duration": 11,
    "start_time": "2023-06-09T10:47:31.555Z"
   },
   {
    "duration": 37,
    "start_time": "2023-06-09T10:47:31.567Z"
   },
   {
    "duration": 4,
    "start_time": "2023-06-09T10:55:36.968Z"
   },
   {
    "duration": 353,
    "start_time": "2023-06-09T10:55:36.975Z"
   },
   {
    "duration": 32,
    "start_time": "2023-06-09T10:55:37.335Z"
   },
   {
    "duration": 151,
    "start_time": "2023-06-09T10:55:37.375Z"
   },
   {
    "duration": 41,
    "start_time": "2023-06-09T10:55:37.537Z"
   },
   {
    "duration": 37,
    "start_time": "2023-06-09T10:55:37.584Z"
   },
   {
    "duration": 405,
    "start_time": "2023-06-09T10:55:37.626Z"
   },
   {
    "duration": 315,
    "start_time": "2023-06-09T10:55:38.034Z"
   },
   {
    "duration": 27,
    "start_time": "2023-06-09T10:55:38.357Z"
   },
   {
    "duration": 192,
    "start_time": "2023-06-09T10:55:38.390Z"
   },
   {
    "duration": 44,
    "start_time": "2023-06-09T10:55:38.591Z"
   },
   {
    "duration": 35,
    "start_time": "2023-06-09T10:55:38.651Z"
   },
   {
    "duration": 420,
    "start_time": "2023-06-09T10:55:38.699Z"
   },
   {
    "duration": 280,
    "start_time": "2023-06-09T10:55:39.125Z"
   },
   {
    "duration": 31,
    "start_time": "2023-06-09T10:55:39.411Z"
   },
   {
    "duration": 154,
    "start_time": "2023-06-09T10:55:39.449Z"
   },
   {
    "duration": 34,
    "start_time": "2023-06-09T10:55:39.609Z"
   },
   {
    "duration": 26,
    "start_time": "2023-06-09T10:55:39.649Z"
   },
   {
    "duration": 380,
    "start_time": "2023-06-09T10:55:39.681Z"
   },
   {
    "duration": 8,
    "start_time": "2023-06-09T10:55:40.068Z"
   },
   {
    "duration": 53,
    "start_time": "2023-06-09T10:55:40.083Z"
   },
   {
    "duration": 78,
    "start_time": "2023-06-09T10:55:40.145Z"
   },
   {
    "duration": 72,
    "start_time": "2023-06-09T10:55:40.232Z"
   },
   {
    "duration": 31,
    "start_time": "2023-06-09T10:55:40.314Z"
   },
   {
    "duration": 103,
    "start_time": "2023-06-09T10:55:40.353Z"
   },
   {
    "duration": 37,
    "start_time": "2023-06-09T10:55:40.462Z"
   },
   {
    "duration": 68,
    "start_time": "2023-06-09T10:55:40.514Z"
   },
   {
    "duration": 68,
    "start_time": "2023-06-09T10:55:40.586Z"
   },
   {
    "duration": 48,
    "start_time": "2023-06-09T10:55:40.659Z"
   },
   {
    "duration": 71,
    "start_time": "2023-06-09T10:55:40.721Z"
   },
   {
    "duration": 23,
    "start_time": "2023-06-09T10:55:40.801Z"
   },
   {
    "duration": 12,
    "start_time": "2023-06-09T10:55:40.827Z"
   },
   {
    "duration": 21,
    "start_time": "2023-06-09T10:55:40.844Z"
   },
   {
    "duration": 9,
    "start_time": "2023-06-09T10:55:40.871Z"
   },
   {
    "duration": 15,
    "start_time": "2023-06-09T10:55:40.883Z"
   },
   {
    "duration": 21,
    "start_time": "2023-06-09T10:55:40.901Z"
   },
   {
    "duration": 13,
    "start_time": "2023-06-09T10:55:40.926Z"
   },
   {
    "duration": 16,
    "start_time": "2023-06-09T10:55:40.941Z"
   },
   {
    "duration": 7,
    "start_time": "2023-06-09T10:55:40.960Z"
   },
   {
    "duration": 20,
    "start_time": "2023-06-09T10:55:40.970Z"
   },
   {
    "duration": 5,
    "start_time": "2023-06-09T10:55:40.993Z"
   },
   {
    "duration": 6,
    "start_time": "2023-06-09T10:55:41.001Z"
   },
   {
    "duration": 108,
    "start_time": "2023-06-09T10:58:32.065Z"
   },
   {
    "duration": 8,
    "start_time": "2023-06-09T10:58:38.624Z"
   },
   {
    "duration": 18,
    "start_time": "2023-06-09T10:58:43.326Z"
   },
   {
    "duration": 4403,
    "start_time": "2023-06-09T10:58:52.465Z"
   },
   {
    "duration": 28,
    "start_time": "2023-06-09T10:59:02.863Z"
   },
   {
    "duration": 7,
    "start_time": "2023-06-09T10:59:10.472Z"
   },
   {
    "duration": 6,
    "start_time": "2023-06-09T10:59:14.727Z"
   },
   {
    "duration": 15,
    "start_time": "2023-06-09T10:59:17.852Z"
   },
   {
    "duration": 4370,
    "start_time": "2023-06-09T10:59:23.365Z"
   },
   {
    "duration": 10,
    "start_time": "2023-06-09T10:59:27.738Z"
   },
   {
    "duration": 22,
    "start_time": "2023-06-09T10:59:27.750Z"
   },
   {
    "duration": 12,
    "start_time": "2023-06-09T10:59:34.034Z"
   },
   {
    "duration": 4538,
    "start_time": "2023-06-09T10:59:41.147Z"
   },
   {
    "duration": 6,
    "start_time": "2023-06-09T10:59:45.687Z"
   },
   {
    "duration": 18,
    "start_time": "2023-06-09T10:59:45.694Z"
   },
   {
    "duration": 5,
    "start_time": "2023-06-09T11:00:14.139Z"
   },
   {
    "duration": 264,
    "start_time": "2023-06-09T11:00:14.152Z"
   },
   {
    "duration": 30,
    "start_time": "2023-06-09T11:00:14.422Z"
   },
   {
    "duration": 124,
    "start_time": "2023-06-09T11:00:14.458Z"
   },
   {
    "duration": 35,
    "start_time": "2023-06-09T11:00:14.589Z"
   },
   {
    "duration": 27,
    "start_time": "2023-06-09T11:00:14.631Z"
   },
   {
    "duration": 352,
    "start_time": "2023-06-09T11:00:14.665Z"
   },
   {
    "duration": 214,
    "start_time": "2023-06-09T11:00:15.025Z"
   },
   {
    "duration": 31,
    "start_time": "2023-06-09T11:00:15.248Z"
   },
   {
    "duration": 163,
    "start_time": "2023-06-09T11:00:15.294Z"
   },
   {
    "duration": 29,
    "start_time": "2023-06-09T11:00:15.466Z"
   },
   {
    "duration": 35,
    "start_time": "2023-06-09T11:00:15.501Z"
   },
   {
    "duration": 355,
    "start_time": "2023-06-09T11:00:15.544Z"
   },
   {
    "duration": 249,
    "start_time": "2023-06-09T11:00:15.905Z"
   },
   {
    "duration": 25,
    "start_time": "2023-06-09T11:00:16.156Z"
   },
   {
    "duration": 148,
    "start_time": "2023-06-09T11:00:16.183Z"
   },
   {
    "duration": 32,
    "start_time": "2023-06-09T11:00:16.335Z"
   },
   {
    "duration": 22,
    "start_time": "2023-06-09T11:00:16.373Z"
   },
   {
    "duration": 322,
    "start_time": "2023-06-09T11:00:16.400Z"
   },
   {
    "duration": 22,
    "start_time": "2023-06-09T11:00:16.730Z"
   },
   {
    "duration": 40,
    "start_time": "2023-06-09T11:00:16.762Z"
   },
   {
    "duration": 28,
    "start_time": "2023-06-09T11:00:16.812Z"
   },
   {
    "duration": 56,
    "start_time": "2023-06-09T11:00:16.843Z"
   },
   {
    "duration": 95,
    "start_time": "2023-06-09T11:00:16.911Z"
   },
   {
    "duration": 60,
    "start_time": "2023-06-09T11:00:17.021Z"
   },
   {
    "duration": 44,
    "start_time": "2023-06-09T11:00:17.083Z"
   },
   {
    "duration": 82,
    "start_time": "2023-06-09T11:00:17.138Z"
   },
   {
    "duration": 47,
    "start_time": "2023-06-09T11:00:17.227Z"
   },
   {
    "duration": 45,
    "start_time": "2023-06-09T11:00:17.279Z"
   },
   {
    "duration": 87,
    "start_time": "2023-06-09T11:00:17.336Z"
   },
   {
    "duration": 23,
    "start_time": "2023-06-09T11:00:17.447Z"
   },
   {
    "duration": 7,
    "start_time": "2023-06-09T11:00:17.478Z"
   },
   {
    "duration": 13,
    "start_time": "2023-06-09T11:00:17.487Z"
   },
   {
    "duration": 6,
    "start_time": "2023-06-09T11:00:17.502Z"
   },
   {
    "duration": 5,
    "start_time": "2023-06-09T11:00:17.510Z"
   },
   {
    "duration": 12,
    "start_time": "2023-06-09T11:00:17.520Z"
   },
   {
    "duration": 4,
    "start_time": "2023-06-09T11:00:17.534Z"
   },
   {
    "duration": 4,
    "start_time": "2023-06-09T11:00:17.540Z"
   },
   {
    "duration": 8,
    "start_time": "2023-06-09T11:00:17.771Z"
   },
   {
    "duration": 18,
    "start_time": "2023-06-09T11:00:17.781Z"
   },
   {
    "duration": 18,
    "start_time": "2023-06-09T11:00:17.801Z"
   },
   {
    "duration": 10,
    "start_time": "2023-06-09T11:00:17.821Z"
   },
   {
    "duration": 47,
    "start_time": "2023-06-09T11:00:17.833Z"
   },
   {
    "duration": 4442,
    "start_time": "2023-06-09T11:00:17.882Z"
   },
   {
    "duration": 28,
    "start_time": "2023-06-09T11:00:22.332Z"
   },
   {
    "duration": 5,
    "start_time": "2023-06-09T11:00:22.365Z"
   },
   {
    "duration": 4295,
    "start_time": "2023-06-09T11:00:22.372Z"
   },
   {
    "duration": 12,
    "start_time": "2023-06-09T11:00:26.670Z"
   },
   {
    "duration": 11,
    "start_time": "2023-06-09T11:00:26.686Z"
   },
   {
    "duration": 5231,
    "start_time": "2023-06-09T11:00:26.699Z"
   },
   {
    "duration": 20,
    "start_time": "2023-06-09T11:00:31.945Z"
   },
   {
    "duration": 68,
    "start_time": "2023-06-09T11:00:31.972Z"
   },
   {
    "duration": 29,
    "start_time": "2023-06-09T11:00:32.051Z"
   },
   {
    "duration": 12,
    "start_time": "2023-06-09T11:00:32.093Z"
   },
   {
    "duration": 18,
    "start_time": "2023-06-09T11:00:32.112Z"
   },
   {
    "duration": 8,
    "start_time": "2023-06-09T11:01:16.825Z"
   },
   {
    "duration": 11,
    "start_time": "2023-06-09T11:01:31.334Z"
   },
   {
    "duration": 5,
    "start_time": "2023-06-09T11:04:04.473Z"
   },
   {
    "duration": 357,
    "start_time": "2023-06-09T11:04:04.480Z"
   },
   {
    "duration": 43,
    "start_time": "2023-06-09T11:04:04.841Z"
   },
   {
    "duration": 6,
    "start_time": "2023-06-09T11:04:04.892Z"
   },
   {
    "duration": 5,
    "start_time": "2023-06-09T11:04:04.906Z"
   },
   {
    "duration": 5,
    "start_time": "2023-06-09T11:04:04.920Z"
   },
   {
    "duration": 371,
    "start_time": "2023-06-09T11:04:04.934Z"
   },
   {
    "duration": 205,
    "start_time": "2023-06-09T11:04:05.312Z"
   },
   {
    "duration": 31,
    "start_time": "2023-06-09T11:04:05.529Z"
   },
   {
    "duration": 132,
    "start_time": "2023-06-09T11:04:05.567Z"
   },
   {
    "duration": 23,
    "start_time": "2023-06-09T11:04:05.706Z"
   },
   {
    "duration": 4,
    "start_time": "2023-06-09T11:04:05.735Z"
   },
   {
    "duration": 411,
    "start_time": "2023-06-09T11:04:05.745Z"
   },
   {
    "duration": 265,
    "start_time": "2023-06-09T11:04:06.157Z"
   },
   {
    "duration": 33,
    "start_time": "2023-06-09T11:04:06.424Z"
   },
   {
    "duration": 119,
    "start_time": "2023-06-09T11:04:06.460Z"
   },
   {
    "duration": 18,
    "start_time": "2023-06-09T11:04:06.581Z"
   },
   {
    "duration": 2,
    "start_time": "2023-06-09T11:04:06.602Z"
   },
   {
    "duration": 275,
    "start_time": "2023-06-09T11:04:06.606Z"
   },
   {
    "duration": 16,
    "start_time": "2023-06-09T11:04:06.891Z"
   },
   {
    "duration": 23,
    "start_time": "2023-06-09T11:04:06.919Z"
   },
   {
    "duration": 20,
    "start_time": "2023-06-09T11:04:06.944Z"
   },
   {
    "duration": 44,
    "start_time": "2023-06-09T11:04:06.967Z"
   },
   {
    "duration": 41,
    "start_time": "2023-06-09T11:04:07.092Z"
   },
   {
    "duration": 37,
    "start_time": "2023-06-09T11:04:07.142Z"
   },
   {
    "duration": 109,
    "start_time": "2023-06-09T11:04:07.186Z"
   },
   {
    "duration": 34,
    "start_time": "2023-06-09T11:04:07.311Z"
   },
   {
    "duration": 14,
    "start_time": "2023-06-09T11:04:07.348Z"
   },
   {
    "duration": 28,
    "start_time": "2023-06-09T11:04:07.365Z"
   },
   {
    "duration": 116,
    "start_time": "2023-06-09T11:04:07.401Z"
   },
   {
    "duration": 12,
    "start_time": "2023-06-09T11:04:07.538Z"
   },
   {
    "duration": 4,
    "start_time": "2023-06-09T11:04:07.553Z"
   },
   {
    "duration": 10,
    "start_time": "2023-06-09T11:04:07.559Z"
   },
   {
    "duration": 11,
    "start_time": "2023-06-09T11:04:07.572Z"
   },
   {
    "duration": 25,
    "start_time": "2023-06-09T11:04:07.586Z"
   },
   {
    "duration": 16,
    "start_time": "2023-06-09T11:04:07.618Z"
   },
   {
    "duration": 7,
    "start_time": "2023-06-09T11:04:07.636Z"
   },
   {
    "duration": 7,
    "start_time": "2023-06-09T11:04:07.645Z"
   },
   {
    "duration": 9,
    "start_time": "2023-06-09T11:04:07.655Z"
   },
   {
    "duration": 5,
    "start_time": "2023-06-09T11:04:07.666Z"
   },
   {
    "duration": 8,
    "start_time": "2023-06-09T11:04:07.673Z"
   },
   {
    "duration": 18,
    "start_time": "2023-06-09T11:04:07.683Z"
   },
   {
    "duration": 14,
    "start_time": "2023-06-09T11:04:07.703Z"
   },
   {
    "duration": 3918,
    "start_time": "2023-06-09T11:04:07.719Z"
   },
   {
    "duration": 9,
    "start_time": "2023-06-09T11:04:11.641Z"
   },
   {
    "duration": 12,
    "start_time": "2023-06-09T11:04:11.652Z"
   },
   {
    "duration": 4396,
    "start_time": "2023-06-09T11:04:11.665Z"
   },
   {
    "duration": 9,
    "start_time": "2023-06-09T11:04:16.062Z"
   },
   {
    "duration": 27,
    "start_time": "2023-06-09T11:04:16.073Z"
   },
   {
    "duration": 4060,
    "start_time": "2023-06-09T11:04:16.103Z"
   },
   {
    "duration": 7,
    "start_time": "2023-06-09T11:04:20.167Z"
   },
   {
    "duration": 16,
    "start_time": "2023-06-09T11:04:20.181Z"
   },
   {
    "duration": 17,
    "start_time": "2023-06-09T11:04:20.199Z"
   },
   {
    "duration": 3,
    "start_time": "2023-06-09T11:04:20.217Z"
   },
   {
    "duration": 3,
    "start_time": "2023-06-09T11:04:20.222Z"
   },
   {
    "duration": 5,
    "start_time": "2023-06-09T11:17:37.838Z"
   },
   {
    "duration": 220,
    "start_time": "2023-06-09T11:17:37.844Z"
   },
   {
    "duration": 23,
    "start_time": "2023-06-09T11:17:38.066Z"
   },
   {
    "duration": 78,
    "start_time": "2023-06-09T11:17:38.093Z"
   },
   {
    "duration": 45,
    "start_time": "2023-06-09T11:17:38.173Z"
   },
   {
    "duration": 20,
    "start_time": "2023-06-09T11:17:38.223Z"
   },
   {
    "duration": 278,
    "start_time": "2023-06-09T11:17:38.244Z"
   },
   {
    "duration": 219,
    "start_time": "2023-06-09T11:17:38.525Z"
   },
   {
    "duration": 19,
    "start_time": "2023-06-09T11:17:38.750Z"
   },
   {
    "duration": 170,
    "start_time": "2023-06-09T11:17:38.771Z"
   },
   {
    "duration": 19,
    "start_time": "2023-06-09T11:17:38.943Z"
   },
   {
    "duration": 25,
    "start_time": "2023-06-09T11:17:38.966Z"
   },
   {
    "duration": 318,
    "start_time": "2023-06-09T11:17:38.992Z"
   },
   {
    "duration": 252,
    "start_time": "2023-06-09T11:17:39.316Z"
   },
   {
    "duration": 18,
    "start_time": "2023-06-09T11:17:39.570Z"
   },
   {
    "duration": 126,
    "start_time": "2023-06-09T11:17:39.590Z"
   },
   {
    "duration": 20,
    "start_time": "2023-06-09T11:17:39.719Z"
   },
   {
    "duration": 22,
    "start_time": "2023-06-09T11:17:39.741Z"
   },
   {
    "duration": 324,
    "start_time": "2023-06-09T11:17:39.765Z"
   },
   {
    "duration": 5,
    "start_time": "2023-06-09T11:17:40.099Z"
   },
   {
    "duration": 41,
    "start_time": "2023-06-09T11:17:40.106Z"
   },
   {
    "duration": 60,
    "start_time": "2023-06-09T11:17:40.149Z"
   },
   {
    "duration": 61,
    "start_time": "2023-06-09T11:17:40.219Z"
   },
   {
    "duration": 49,
    "start_time": "2023-06-09T11:17:40.292Z"
   },
   {
    "duration": 40,
    "start_time": "2023-06-09T11:17:40.343Z"
   },
   {
    "duration": 41,
    "start_time": "2023-06-09T11:17:40.384Z"
   },
   {
    "duration": 60,
    "start_time": "2023-06-09T11:17:40.489Z"
   },
   {
    "duration": 26,
    "start_time": "2023-06-09T11:17:40.554Z"
   },
   {
    "duration": 15,
    "start_time": "2023-06-09T11:17:40.585Z"
   },
   {
    "duration": 94,
    "start_time": "2023-06-09T11:17:40.611Z"
   },
   {
    "duration": 18,
    "start_time": "2023-06-09T11:17:40.718Z"
   },
   {
    "duration": 8,
    "start_time": "2023-06-09T11:17:40.745Z"
   },
   {
    "duration": 194,
    "start_time": "2023-06-09T11:17:40.757Z"
   },
   {
    "duration": 0,
    "start_time": "2023-06-09T11:17:40.953Z"
   },
   {
    "duration": 0,
    "start_time": "2023-06-09T11:17:40.955Z"
   },
   {
    "duration": 0,
    "start_time": "2023-06-09T11:17:40.956Z"
   },
   {
    "duration": 0,
    "start_time": "2023-06-09T11:17:40.957Z"
   },
   {
    "duration": 103,
    "start_time": "2023-06-09T11:18:19.820Z"
   },
   {
    "duration": 146,
    "start_time": "2023-06-09T11:18:20.319Z"
   },
   {
    "duration": 6,
    "start_time": "2023-06-09T11:18:27.830Z"
   },
   {
    "duration": 5,
    "start_time": "2023-06-09T11:18:28.345Z"
   },
   {
    "duration": 3561,
    "start_time": "2023-06-09T11:18:29.965Z"
   },
   {
    "duration": 0,
    "start_time": "2023-06-09T11:18:33.528Z"
   },
   {
    "duration": 0,
    "start_time": "2023-06-09T11:18:33.529Z"
   },
   {
    "duration": 0,
    "start_time": "2023-06-09T11:18:33.531Z"
   },
   {
    "duration": 11,
    "start_time": "2023-06-09T11:19:54.254Z"
   },
   {
    "duration": 4609,
    "start_time": "2023-06-09T11:19:55.861Z"
   },
   {
    "duration": 4487,
    "start_time": "2023-06-09T11:20:00.475Z"
   },
   {
    "duration": 4308,
    "start_time": "2023-06-09T11:20:04.975Z"
   },
   {
    "duration": 54,
    "start_time": "2023-06-09T11:20:09.291Z"
   },
   {
    "duration": 4,
    "start_time": "2023-06-09T11:21:51.121Z"
   },
   {
    "duration": 258,
    "start_time": "2023-06-09T11:21:51.127Z"
   },
   {
    "duration": 31,
    "start_time": "2023-06-09T11:21:51.392Z"
   },
   {
    "duration": 121,
    "start_time": "2023-06-09T11:21:51.430Z"
   },
   {
    "duration": 19,
    "start_time": "2023-06-09T11:21:51.553Z"
   },
   {
    "duration": 43,
    "start_time": "2023-06-09T11:21:51.574Z"
   },
   {
    "duration": 318,
    "start_time": "2023-06-09T11:21:51.622Z"
   },
   {
    "duration": 207,
    "start_time": "2023-06-09T11:21:51.943Z"
   },
   {
    "duration": 26,
    "start_time": "2023-06-09T11:21:52.155Z"
   },
   {
    "duration": 122,
    "start_time": "2023-06-09T11:21:52.188Z"
   },
   {
    "duration": 22,
    "start_time": "2023-06-09T11:21:52.316Z"
   },
   {
    "duration": 17,
    "start_time": "2023-06-09T11:21:52.343Z"
   },
   {
    "duration": 282,
    "start_time": "2023-06-09T11:21:52.365Z"
   },
   {
    "duration": 236,
    "start_time": "2023-06-09T11:21:52.652Z"
   },
   {
    "duration": 39,
    "start_time": "2023-06-09T11:21:52.894Z"
   },
   {
    "duration": 159,
    "start_time": "2023-06-09T11:21:52.939Z"
   },
   {
    "duration": 33,
    "start_time": "2023-06-09T11:21:53.106Z"
   },
   {
    "duration": 24,
    "start_time": "2023-06-09T11:21:53.146Z"
   },
   {
    "duration": 471,
    "start_time": "2023-06-09T11:21:53.177Z"
   },
   {
    "duration": 7,
    "start_time": "2023-06-09T11:21:53.654Z"
   },
   {
    "duration": 22,
    "start_time": "2023-06-09T11:21:53.672Z"
   },
   {
    "duration": 44,
    "start_time": "2023-06-09T11:21:53.699Z"
   },
   {
    "duration": 66,
    "start_time": "2023-06-09T11:21:53.747Z"
   },
   {
    "duration": 90,
    "start_time": "2023-06-09T11:21:53.844Z"
   },
   {
    "duration": 36,
    "start_time": "2023-06-09T11:21:53.951Z"
   },
   {
    "duration": 71,
    "start_time": "2023-06-09T11:21:54.009Z"
   },
   {
    "duration": 65,
    "start_time": "2023-06-09T11:21:54.093Z"
   },
   {
    "duration": 46,
    "start_time": "2023-06-09T11:21:54.179Z"
   },
   {
    "duration": 69,
    "start_time": "2023-06-09T11:21:54.257Z"
   },
   {
    "duration": 37,
    "start_time": "2023-06-09T11:21:54.340Z"
   },
   {
    "duration": 22,
    "start_time": "2023-06-09T11:21:54.390Z"
   },
   {
    "duration": 15,
    "start_time": "2023-06-09T11:21:54.426Z"
   },
   {
    "duration": 17,
    "start_time": "2023-06-09T11:21:54.458Z"
   },
   {
    "duration": 4276,
    "start_time": "2023-06-09T11:21:54.486Z"
   },
   {
    "duration": 4310,
    "start_time": "2023-06-09T11:21:58.772Z"
   },
   {
    "duration": 4214,
    "start_time": "2023-06-09T11:22:03.084Z"
   },
   {
    "duration": 18,
    "start_time": "2023-06-09T11:22:07.303Z"
   },
   {
    "duration": 12,
    "start_time": "2023-06-09T11:22:31.639Z"
   },
   {
    "duration": 252,
    "start_time": "2023-06-09T11:22:31.658Z"
   },
   {
    "duration": 25,
    "start_time": "2023-06-09T11:22:31.912Z"
   },
   {
    "duration": 121,
    "start_time": "2023-06-09T11:22:31.939Z"
   },
   {
    "duration": 24,
    "start_time": "2023-06-09T11:22:32.063Z"
   },
   {
    "duration": 56,
    "start_time": "2023-06-09T11:22:32.090Z"
   },
   {
    "duration": 295,
    "start_time": "2023-06-09T11:22:32.152Z"
   },
   {
    "duration": 181,
    "start_time": "2023-06-09T11:22:32.450Z"
   },
   {
    "duration": 26,
    "start_time": "2023-06-09T11:22:32.636Z"
   },
   {
    "duration": 133,
    "start_time": "2023-06-09T11:22:32.665Z"
   },
   {
    "duration": 24,
    "start_time": "2023-06-09T11:22:32.800Z"
   },
   {
    "duration": 36,
    "start_time": "2023-06-09T11:22:32.826Z"
   },
   {
    "duration": 297,
    "start_time": "2023-06-09T11:22:32.864Z"
   },
   {
    "duration": 242,
    "start_time": "2023-06-09T11:22:33.165Z"
   },
   {
    "duration": 31,
    "start_time": "2023-06-09T11:22:33.408Z"
   },
   {
    "duration": 121,
    "start_time": "2023-06-09T11:22:33.446Z"
   },
   {
    "duration": 41,
    "start_time": "2023-06-09T11:22:33.569Z"
   },
   {
    "duration": 38,
    "start_time": "2023-06-09T11:22:33.618Z"
   },
   {
    "duration": 335,
    "start_time": "2023-06-09T11:22:33.657Z"
   },
   {
    "duration": 6,
    "start_time": "2023-06-09T11:22:33.994Z"
   },
   {
    "duration": 33,
    "start_time": "2023-06-09T11:22:34.002Z"
   },
   {
    "duration": 17,
    "start_time": "2023-06-09T11:22:34.038Z"
   },
   {
    "duration": 8,
    "start_time": "2023-06-09T11:22:34.077Z"
   },
   {
    "duration": 118,
    "start_time": "2023-06-09T11:22:34.087Z"
   },
   {
    "duration": 59,
    "start_time": "2023-06-09T11:22:34.207Z"
   },
   {
    "duration": 19,
    "start_time": "2023-06-09T11:22:34.268Z"
   },
   {
    "duration": 63,
    "start_time": "2023-06-09T11:22:34.293Z"
   },
   {
    "duration": 76,
    "start_time": "2023-06-09T11:22:34.386Z"
   },
   {
    "duration": 14,
    "start_time": "2023-06-09T11:22:34.464Z"
   },
   {
    "duration": 27,
    "start_time": "2023-06-09T11:22:34.491Z"
   },
   {
    "duration": 14,
    "start_time": "2023-06-09T11:22:34.524Z"
   },
   {
    "duration": 25,
    "start_time": "2023-06-09T11:22:34.584Z"
   },
   {
    "duration": 14,
    "start_time": "2023-06-09T11:22:34.628Z"
   },
   {
    "duration": 3819,
    "start_time": "2023-06-09T11:22:34.655Z"
   },
   {
    "duration": 3657,
    "start_time": "2023-06-09T11:22:38.485Z"
   },
   {
    "duration": 4041,
    "start_time": "2023-06-09T11:22:42.156Z"
   },
   {
    "duration": 25,
    "start_time": "2023-06-09T11:22:46.199Z"
   },
   {
    "duration": 3664,
    "start_time": "2023-06-09T11:22:46.226Z"
   },
   {
    "duration": 7,
    "start_time": "2023-06-09T11:22:49.898Z"
   },
   {
    "duration": 14,
    "start_time": "2023-06-09T11:22:49.907Z"
   },
   {
    "duration": 3756,
    "start_time": "2023-06-09T11:22:49.928Z"
   },
   {
    "duration": 9,
    "start_time": "2023-06-09T11:22:53.698Z"
   },
   {
    "duration": 7,
    "start_time": "2023-06-09T11:22:53.709Z"
   },
   {
    "duration": 4031,
    "start_time": "2023-06-09T11:22:53.718Z"
   },
   {
    "duration": 13,
    "start_time": "2023-06-09T11:22:57.751Z"
   },
   {
    "duration": 10,
    "start_time": "2023-06-09T11:22:57.766Z"
   },
   {
    "duration": 23,
    "start_time": "2023-06-09T11:22:57.779Z"
   },
   {
    "duration": 3,
    "start_time": "2023-06-09T11:22:57.804Z"
   },
   {
    "duration": 14,
    "start_time": "2023-06-09T11:22:57.811Z"
   },
   {
    "duration": 65,
    "start_time": "2023-06-09T11:40:21.626Z"
   },
   {
    "duration": 1909,
    "start_time": "2023-06-09T12:03:36.715Z"
   },
   {
    "duration": 1109,
    "start_time": "2023-06-09T12:03:38.627Z"
   },
   {
    "duration": 38,
    "start_time": "2023-06-09T12:03:39.738Z"
   },
   {
    "duration": 151,
    "start_time": "2023-06-09T12:03:39.790Z"
   },
   {
    "duration": 36,
    "start_time": "2023-06-09T12:03:39.944Z"
   },
   {
    "duration": 27,
    "start_time": "2023-06-09T12:03:39.982Z"
   },
   {
    "duration": 380,
    "start_time": "2023-06-09T12:03:40.011Z"
   },
   {
    "duration": 1174,
    "start_time": "2023-06-09T12:03:40.393Z"
   },
   {
    "duration": 35,
    "start_time": "2023-06-09T12:03:41.569Z"
   },
   {
    "duration": 175,
    "start_time": "2023-06-09T12:03:41.606Z"
   },
   {
    "duration": 28,
    "start_time": "2023-06-09T12:03:41.786Z"
   },
   {
    "duration": 26,
    "start_time": "2023-06-09T12:03:41.820Z"
   },
   {
    "duration": 356,
    "start_time": "2023-06-09T12:03:41.853Z"
   },
   {
    "duration": 1093,
    "start_time": "2023-06-09T12:03:42.213Z"
   },
   {
    "duration": 27,
    "start_time": "2023-06-09T12:03:43.311Z"
   },
   {
    "duration": 139,
    "start_time": "2023-06-09T12:03:43.343Z"
   },
   {
    "duration": 27,
    "start_time": "2023-06-09T12:03:43.487Z"
   },
   {
    "duration": 29,
    "start_time": "2023-06-09T12:03:43.520Z"
   },
   {
    "duration": 319,
    "start_time": "2023-06-09T12:03:43.557Z"
   },
   {
    "duration": 8,
    "start_time": "2023-06-09T12:03:43.882Z"
   },
   {
    "duration": 53,
    "start_time": "2023-06-09T12:03:43.894Z"
   },
   {
    "duration": 53,
    "start_time": "2023-06-09T12:03:43.954Z"
   },
   {
    "duration": 303,
    "start_time": "2023-06-09T12:03:44.016Z"
   },
   {
    "duration": 47,
    "start_time": "2023-06-09T12:03:44.325Z"
   },
   {
    "duration": 59,
    "start_time": "2023-06-09T12:03:44.375Z"
   },
   {
    "duration": 79,
    "start_time": "2023-06-09T12:03:44.448Z"
   },
   {
    "duration": 56,
    "start_time": "2023-06-09T12:03:44.543Z"
   },
   {
    "duration": 64,
    "start_time": "2023-06-09T12:03:44.611Z"
   },
   {
    "duration": 28,
    "start_time": "2023-06-09T12:03:44.685Z"
   },
   {
    "duration": 63,
    "start_time": "2023-06-09T12:03:44.722Z"
   },
   {
    "duration": 26,
    "start_time": "2023-06-09T12:03:44.809Z"
   },
   {
    "duration": 26,
    "start_time": "2023-06-09T12:03:44.837Z"
   },
   {
    "duration": 13,
    "start_time": "2023-06-09T12:03:44.868Z"
   },
   {
    "duration": 4074,
    "start_time": "2023-06-09T12:03:44.883Z"
   },
   {
    "duration": 4216,
    "start_time": "2023-06-09T12:03:48.959Z"
   },
   {
    "duration": 4459,
    "start_time": "2023-06-09T12:03:53.176Z"
   },
   {
    "duration": 23,
    "start_time": "2023-06-09T12:03:57.642Z"
   },
   {
    "duration": 9,
    "start_time": "2023-06-09T12:03:57.672Z"
   },
   {
    "duration": 15,
    "start_time": "2023-06-09T12:03:57.689Z"
   },
   {
    "duration": 13,
    "start_time": "2023-06-09T12:03:57.713Z"
   },
   {
    "duration": 8,
    "start_time": "2023-06-09T12:03:57.742Z"
   },
   {
    "duration": 7,
    "start_time": "2023-06-09T12:03:57.762Z"
   },
   {
    "duration": 12,
    "start_time": "2023-06-09T12:03:57.774Z"
   },
   {
    "duration": 10,
    "start_time": "2023-06-09T12:03:57.791Z"
   },
   {
    "duration": 4,
    "start_time": "2023-06-09T12:03:57.803Z"
   },
   {
    "duration": 8,
    "start_time": "2023-06-09T12:03:57.820Z"
   },
   {
    "duration": 15,
    "start_time": "2023-06-09T12:03:57.831Z"
   },
   {
    "duration": 6,
    "start_time": "2023-06-09T12:03:57.849Z"
   },
   {
    "duration": 17,
    "start_time": "2023-06-09T12:03:57.859Z"
   },
   {
    "duration": 393,
    "start_time": "2023-06-09T13:22:28.866Z"
   },
   {
    "duration": 7,
    "start_time": "2023-06-09T13:22:31.703Z"
   },
   {
    "duration": 761,
    "start_time": "2023-06-09T13:22:31.717Z"
   },
   {
    "duration": 23,
    "start_time": "2023-06-09T13:22:32.483Z"
   },
   {
    "duration": 60,
    "start_time": "2023-06-09T13:22:32.512Z"
   },
   {
    "duration": 29,
    "start_time": "2023-06-09T13:22:32.578Z"
   },
   {
    "duration": 22,
    "start_time": "2023-06-09T13:22:32.610Z"
   },
   {
    "duration": 266,
    "start_time": "2023-06-09T13:22:32.635Z"
   },
   {
    "duration": 741,
    "start_time": "2023-06-09T13:22:32.903Z"
   },
   {
    "duration": 15,
    "start_time": "2023-06-09T13:22:33.646Z"
   },
   {
    "duration": 106,
    "start_time": "2023-06-09T13:22:33.663Z"
   },
   {
    "duration": 19,
    "start_time": "2023-06-09T13:22:33.775Z"
   },
   {
    "duration": 28,
    "start_time": "2023-06-09T13:22:33.796Z"
   },
   {
    "duration": 284,
    "start_time": "2023-06-09T13:22:33.826Z"
   },
   {
    "duration": 728,
    "start_time": "2023-06-09T13:22:34.112Z"
   },
   {
    "duration": 24,
    "start_time": "2023-06-09T13:22:34.844Z"
   },
   {
    "duration": 147,
    "start_time": "2023-06-09T13:22:34.871Z"
   },
   {
    "duration": 17,
    "start_time": "2023-06-09T13:22:35.023Z"
   },
   {
    "duration": 26,
    "start_time": "2023-06-09T13:22:35.041Z"
   },
   {
    "duration": 283,
    "start_time": "2023-06-09T13:22:35.069Z"
   },
   {
    "duration": 356,
    "start_time": "2023-06-09T13:22:47.671Z"
   },
   {
    "duration": 337,
    "start_time": "2023-06-09T13:23:31.702Z"
   },
   {
    "duration": 338,
    "start_time": "2023-06-09T13:23:42.296Z"
   },
   {
    "duration": 228,
    "start_time": "2023-06-09T13:23:53.245Z"
   },
   {
    "duration": 274,
    "start_time": "2023-06-09T13:24:02.929Z"
   },
   {
    "duration": 232,
    "start_time": "2023-06-09T13:24:20.953Z"
   },
   {
    "duration": 251,
    "start_time": "2023-06-09T13:24:58.522Z"
   },
   {
    "duration": 1733,
    "start_time": "2023-06-09T13:28:19.124Z"
   },
   {
    "duration": 192,
    "start_time": "2023-06-09T13:28:20.859Z"
   },
   {
    "duration": 31,
    "start_time": "2023-06-09T13:28:21.052Z"
   },
   {
    "duration": 119,
    "start_time": "2023-06-09T13:28:21.085Z"
   },
   {
    "duration": 24,
    "start_time": "2023-06-09T13:28:21.208Z"
   },
   {
    "duration": 16,
    "start_time": "2023-06-09T13:28:21.234Z"
   },
   {
    "duration": 256,
    "start_time": "2023-06-09T13:28:21.251Z"
   },
   {
    "duration": 160,
    "start_time": "2023-06-09T13:28:21.509Z"
   },
   {
    "duration": 35,
    "start_time": "2023-06-09T13:28:21.672Z"
   },
   {
    "duration": 79,
    "start_time": "2023-06-09T13:28:21.710Z"
   },
   {
    "duration": 20,
    "start_time": "2023-06-09T13:28:21.791Z"
   },
   {
    "duration": 19,
    "start_time": "2023-06-09T13:28:21.813Z"
   },
   {
    "duration": 258,
    "start_time": "2023-06-09T13:28:21.834Z"
   },
   {
    "duration": 155,
    "start_time": "2023-06-09T13:28:22.098Z"
   },
   {
    "duration": 30,
    "start_time": "2023-06-09T13:28:22.255Z"
   },
   {
    "duration": 67,
    "start_time": "2023-06-09T13:28:22.291Z"
   },
   {
    "duration": 28,
    "start_time": "2023-06-09T13:28:22.360Z"
   },
   {
    "duration": 22,
    "start_time": "2023-06-09T13:28:22.390Z"
   },
   {
    "duration": 210,
    "start_time": "2023-06-09T13:28:22.413Z"
   },
   {
    "duration": 285,
    "start_time": "2023-06-09T13:29:07.629Z"
   },
   {
    "duration": 364,
    "start_time": "2023-06-09T13:29:13.621Z"
   },
   {
    "duration": 172,
    "start_time": "2023-06-09T13:30:41.402Z"
   },
   {
    "duration": 806,
    "start_time": "2023-06-09T13:30:51.024Z"
   },
   {
    "duration": 346,
    "start_time": "2023-06-09T13:31:11.734Z"
   },
   {
    "duration": 741,
    "start_time": "2023-06-09T13:31:20.067Z"
   },
   {
    "duration": 290,
    "start_time": "2023-06-09T13:32:22.767Z"
   },
   {
    "duration": 243,
    "start_time": "2023-06-09T13:32:27.017Z"
   },
   {
    "duration": 256,
    "start_time": "2023-06-09T13:32:47.701Z"
   },
   {
    "duration": 262,
    "start_time": "2023-06-09T13:33:21.254Z"
   },
   {
    "duration": 278,
    "start_time": "2023-06-09T13:33:35.566Z"
   },
   {
    "duration": 260,
    "start_time": "2023-06-09T13:33:51.749Z"
   },
   {
    "duration": 297,
    "start_time": "2023-06-09T13:34:17.500Z"
   },
   {
    "duration": 279,
    "start_time": "2023-06-09T13:34:21.936Z"
   },
   {
    "duration": 250,
    "start_time": "2023-06-09T13:34:25.320Z"
   },
   {
    "duration": 42,
    "start_time": "2023-06-09T13:34:54.822Z"
   },
   {
    "duration": 97,
    "start_time": "2023-06-09T13:35:01.900Z"
   },
   {
    "duration": 4,
    "start_time": "2023-06-09T13:42:05.117Z"
   },
   {
    "duration": 182,
    "start_time": "2023-06-09T13:42:05.123Z"
   },
   {
    "duration": 21,
    "start_time": "2023-06-09T13:42:05.308Z"
   },
   {
    "duration": 74,
    "start_time": "2023-06-09T13:42:05.330Z"
   },
   {
    "duration": 27,
    "start_time": "2023-06-09T13:42:05.406Z"
   },
   {
    "duration": 13,
    "start_time": "2023-06-09T13:42:05.435Z"
   },
   {
    "duration": 307,
    "start_time": "2023-06-09T13:42:05.449Z"
   },
   {
    "duration": 176,
    "start_time": "2023-06-09T13:42:05.758Z"
   },
   {
    "duration": 13,
    "start_time": "2023-06-09T13:42:05.936Z"
   },
   {
    "duration": 94,
    "start_time": "2023-06-09T13:42:05.951Z"
   },
   {
    "duration": 16,
    "start_time": "2023-06-09T13:42:06.047Z"
   },
   {
    "duration": 39,
    "start_time": "2023-06-09T13:42:06.065Z"
   },
   {
    "duration": 303,
    "start_time": "2023-06-09T13:42:06.106Z"
   },
   {
    "duration": 163,
    "start_time": "2023-06-09T13:42:06.410Z"
   },
   {
    "duration": 35,
    "start_time": "2023-06-09T13:42:06.575Z"
   },
   {
    "duration": 85,
    "start_time": "2023-06-09T13:42:06.612Z"
   },
   {
    "duration": 18,
    "start_time": "2023-06-09T13:42:06.702Z"
   },
   {
    "duration": 13,
    "start_time": "2023-06-09T13:42:06.721Z"
   },
   {
    "duration": 291,
    "start_time": "2023-06-09T13:42:06.736Z"
   },
   {
    "duration": 5,
    "start_time": "2023-06-09T13:42:07.028Z"
   },
   {
    "duration": 4,
    "start_time": "2023-06-09T13:42:08.259Z"
   },
   {
    "duration": 4,
    "start_time": "2023-06-09T13:43:10.627Z"
   },
   {
    "duration": 40,
    "start_time": "2023-06-09T13:43:11.363Z"
   },
   {
    "duration": 93,
    "start_time": "2023-06-09T13:43:11.996Z"
   },
   {
    "duration": 16,
    "start_time": "2023-06-09T13:43:53.054Z"
   },
   {
    "duration": 15,
    "start_time": "2023-06-09T13:43:53.520Z"
   },
   {
    "duration": 14,
    "start_time": "2023-06-09T13:43:59.404Z"
   },
   {
    "duration": 3,
    "start_time": "2023-06-09T13:44:23.739Z"
   },
   {
    "duration": 183,
    "start_time": "2023-06-09T13:44:23.744Z"
   },
   {
    "duration": 15,
    "start_time": "2023-06-09T13:44:23.928Z"
   },
   {
    "duration": 93,
    "start_time": "2023-06-09T13:44:23.945Z"
   },
   {
    "duration": 21,
    "start_time": "2023-06-09T13:44:24.039Z"
   },
   {
    "duration": 35,
    "start_time": "2023-06-09T13:44:24.062Z"
   },
   {
    "duration": 285,
    "start_time": "2023-06-09T13:44:24.105Z"
   },
   {
    "duration": 153,
    "start_time": "2023-06-09T13:44:24.396Z"
   },
   {
    "duration": 15,
    "start_time": "2023-06-09T13:44:24.551Z"
   },
   {
    "duration": 86,
    "start_time": "2023-06-09T13:44:24.583Z"
   },
   {
    "duration": 42,
    "start_time": "2023-06-09T13:44:24.671Z"
   },
   {
    "duration": 12,
    "start_time": "2023-06-09T13:44:24.715Z"
   },
   {
    "duration": 299,
    "start_time": "2023-06-09T13:44:24.728Z"
   },
   {
    "duration": 169,
    "start_time": "2023-06-09T13:44:25.028Z"
   },
   {
    "duration": 24,
    "start_time": "2023-06-09T13:44:25.198Z"
   },
   {
    "duration": 92,
    "start_time": "2023-06-09T13:44:25.224Z"
   },
   {
    "duration": 14,
    "start_time": "2023-06-09T13:44:25.318Z"
   },
   {
    "duration": 11,
    "start_time": "2023-06-09T13:44:25.334Z"
   },
   {
    "duration": 278,
    "start_time": "2023-06-09T13:44:25.347Z"
   },
   {
    "duration": 4,
    "start_time": "2023-06-09T13:44:25.627Z"
   },
   {
    "duration": 31,
    "start_time": "2023-06-09T13:44:25.633Z"
   },
   {
    "duration": 27,
    "start_time": "2023-06-09T13:44:25.666Z"
   },
   {
    "duration": 5,
    "start_time": "2023-06-09T13:44:28.220Z"
   },
   {
    "duration": 23,
    "start_time": "2023-06-09T13:44:28.621Z"
   },
   {
    "duration": 20,
    "start_time": "2023-06-09T13:44:43.315Z"
   },
   {
    "duration": 17,
    "start_time": "2023-06-09T13:47:36.914Z"
   },
   {
    "duration": 21,
    "start_time": "2023-06-09T13:47:37.239Z"
   },
   {
    "duration": 8,
    "start_time": "2023-06-09T13:48:50.314Z"
   },
   {
    "duration": 171,
    "start_time": "2023-06-09T13:48:50.324Z"
   },
   {
    "duration": 25,
    "start_time": "2023-06-09T13:48:50.497Z"
   },
   {
    "duration": 75,
    "start_time": "2023-06-09T13:48:50.524Z"
   },
   {
    "duration": 23,
    "start_time": "2023-06-09T13:48:50.602Z"
   },
   {
    "duration": 18,
    "start_time": "2023-06-09T13:48:50.627Z"
   },
   {
    "duration": 294,
    "start_time": "2023-06-09T13:48:50.647Z"
   },
   {
    "duration": 172,
    "start_time": "2023-06-09T13:48:50.943Z"
   },
   {
    "duration": 20,
    "start_time": "2023-06-09T13:48:51.121Z"
   },
   {
    "duration": 108,
    "start_time": "2023-06-09T13:48:51.143Z"
   },
   {
    "duration": 14,
    "start_time": "2023-06-09T13:48:51.252Z"
   },
   {
    "duration": 31,
    "start_time": "2023-06-09T13:48:51.268Z"
   },
   {
    "duration": 285,
    "start_time": "2023-06-09T13:48:51.310Z"
   },
   {
    "duration": 167,
    "start_time": "2023-06-09T13:48:51.602Z"
   },
   {
    "duration": 26,
    "start_time": "2023-06-09T13:48:51.771Z"
   },
   {
    "duration": 85,
    "start_time": "2023-06-09T13:48:51.798Z"
   },
   {
    "duration": 530,
    "start_time": "2023-06-09T13:48:51.890Z"
   },
   {
    "duration": 13,
    "start_time": "2023-06-09T13:48:52.422Z"
   },
   {
    "duration": 288,
    "start_time": "2023-06-09T13:48:52.437Z"
   },
   {
    "duration": 4,
    "start_time": "2023-06-09T13:48:52.727Z"
   },
   {
    "duration": 5,
    "start_time": "2023-06-09T13:48:52.733Z"
   },
   {
    "duration": 16,
    "start_time": "2023-06-09T13:48:52.740Z"
   },
   {
    "duration": 48,
    "start_time": "2023-06-09T13:48:52.757Z"
   },
   {
    "duration": 115,
    "start_time": "2023-06-09T13:48:52.808Z"
   },
   {
    "duration": 77,
    "start_time": "2023-06-09T13:48:52.925Z"
   },
   {
    "duration": 36,
    "start_time": "2023-06-09T13:48:53.081Z"
   },
   {
    "duration": 87,
    "start_time": "2023-06-09T13:48:53.121Z"
   },
   {
    "duration": 14,
    "start_time": "2023-06-09T13:48:53.218Z"
   },
   {
    "duration": 7,
    "start_time": "2023-06-09T13:48:53.281Z"
   },
   {
    "duration": 14,
    "start_time": "2023-06-09T13:48:53.291Z"
   },
   {
    "duration": 8,
    "start_time": "2023-06-09T13:48:53.309Z"
   },
   {
    "duration": 5,
    "start_time": "2023-06-09T13:48:53.324Z"
   },
   {
    "duration": 12,
    "start_time": "2023-06-09T13:48:53.330Z"
   },
   {
    "duration": 8,
    "start_time": "2023-06-09T13:48:53.343Z"
   },
   {
    "duration": 3338,
    "start_time": "2023-06-09T13:48:53.352Z"
   },
   {
    "duration": 3250,
    "start_time": "2023-06-09T13:48:56.699Z"
   },
   {
    "duration": 3303,
    "start_time": "2023-06-09T13:48:59.951Z"
   },
   {
    "duration": 11,
    "start_time": "2023-06-09T13:49:03.256Z"
   },
   {
    "duration": 12,
    "start_time": "2023-06-09T13:49:03.276Z"
   },
   {
    "duration": 11,
    "start_time": "2023-06-09T13:49:03.290Z"
   },
   {
    "duration": 12,
    "start_time": "2023-06-09T13:49:03.308Z"
   },
   {
    "duration": 4,
    "start_time": "2023-06-09T13:49:03.322Z"
   },
   {
    "duration": 6,
    "start_time": "2023-06-09T13:49:03.328Z"
   },
   {
    "duration": 5,
    "start_time": "2023-06-09T13:49:03.336Z"
   },
   {
    "duration": 4,
    "start_time": "2023-06-09T13:49:03.343Z"
   },
   {
    "duration": 5,
    "start_time": "2023-06-09T13:49:03.349Z"
   },
   {
    "duration": 11,
    "start_time": "2023-06-09T13:49:03.355Z"
   },
   {
    "duration": 27,
    "start_time": "2023-06-09T13:49:03.368Z"
   },
   {
    "duration": 15,
    "start_time": "2023-06-09T13:49:03.396Z"
   },
   {
    "duration": 11,
    "start_time": "2023-06-09T13:49:03.417Z"
   },
   {
    "duration": 10,
    "start_time": "2023-06-09T13:50:31.254Z"
   },
   {
    "duration": 3,
    "start_time": "2023-06-09T13:54:04.740Z"
   },
   {
    "duration": 210,
    "start_time": "2023-06-09T13:54:04.745Z"
   },
   {
    "duration": 17,
    "start_time": "2023-06-09T13:54:04.957Z"
   },
   {
    "duration": 78,
    "start_time": "2023-06-09T13:54:04.986Z"
   },
   {
    "duration": 19,
    "start_time": "2023-06-09T13:54:05.066Z"
   },
   {
    "duration": 48,
    "start_time": "2023-06-09T13:54:05.088Z"
   },
   {
    "duration": 256,
    "start_time": "2023-06-09T13:54:05.138Z"
   },
   {
    "duration": 143,
    "start_time": "2023-06-09T13:54:05.395Z"
   },
   {
    "duration": 14,
    "start_time": "2023-06-09T13:54:05.541Z"
   },
   {
    "duration": 96,
    "start_time": "2023-06-09T13:54:05.557Z"
   },
   {
    "duration": 29,
    "start_time": "2023-06-09T13:54:05.655Z"
   },
   {
    "duration": 67,
    "start_time": "2023-06-09T13:54:05.686Z"
   },
   {
    "duration": 276,
    "start_time": "2023-06-09T13:54:05.755Z"
   },
   {
    "duration": 183,
    "start_time": "2023-06-09T13:54:06.033Z"
   },
   {
    "duration": 14,
    "start_time": "2023-06-09T13:54:06.219Z"
   },
   {
    "duration": 92,
    "start_time": "2023-06-09T13:54:06.235Z"
   },
   {
    "duration": 14,
    "start_time": "2023-06-09T13:54:06.329Z"
   },
   {
    "duration": 27,
    "start_time": "2023-06-09T13:54:06.344Z"
   },
   {
    "duration": 260,
    "start_time": "2023-06-09T13:54:06.372Z"
   },
   {
    "duration": 4,
    "start_time": "2023-06-09T13:54:06.633Z"
   },
   {
    "duration": 7,
    "start_time": "2023-06-09T13:54:06.639Z"
   },
   {
    "duration": 41,
    "start_time": "2023-06-09T13:54:06.648Z"
   },
   {
    "duration": 28,
    "start_time": "2023-06-09T13:54:06.702Z"
   },
   {
    "duration": 111,
    "start_time": "2023-06-09T13:54:06.784Z"
   },
   {
    "duration": 22,
    "start_time": "2023-06-09T13:54:06.901Z"
   },
   {
    "duration": 108,
    "start_time": "2023-06-09T13:54:06.981Z"
   },
   {
    "duration": 77,
    "start_time": "2023-06-09T13:54:07.100Z"
   },
   {
    "duration": 19,
    "start_time": "2023-06-09T13:54:07.183Z"
   },
   {
    "duration": 9,
    "start_time": "2023-06-09T13:54:07.277Z"
   },
   {
    "duration": 8,
    "start_time": "2023-06-09T13:54:07.292Z"
   },
   {
    "duration": 11,
    "start_time": "2023-06-09T13:54:07.303Z"
   },
   {
    "duration": 3212,
    "start_time": "2023-06-09T13:54:07.315Z"
   },
   {
    "duration": 3193,
    "start_time": "2023-06-09T13:54:10.529Z"
   },
   {
    "duration": 3222,
    "start_time": "2023-06-09T13:54:13.723Z"
   },
   {
    "duration": 10,
    "start_time": "2023-06-09T13:54:16.947Z"
   },
   {
    "duration": 5,
    "start_time": "2023-06-09T13:54:16.958Z"
   },
   {
    "duration": 22,
    "start_time": "2023-06-09T13:54:16.964Z"
   },
   {
    "duration": 3,
    "start_time": "2023-06-09T13:54:16.990Z"
   },
   {
    "duration": 9,
    "start_time": "2023-06-09T13:54:16.994Z"
   },
   {
    "duration": 3,
    "start_time": "2023-06-09T13:54:17.006Z"
   },
   {
    "duration": 11,
    "start_time": "2023-06-09T13:54:17.014Z"
   },
   {
    "duration": 2,
    "start_time": "2023-06-09T13:54:17.029Z"
   },
   {
    "duration": 7,
    "start_time": "2023-06-09T13:54:17.033Z"
   },
   {
    "duration": 4,
    "start_time": "2023-06-09T13:54:17.042Z"
   },
   {
    "duration": 4,
    "start_time": "2023-06-09T13:54:17.048Z"
   },
   {
    "duration": 6,
    "start_time": "2023-06-09T13:54:17.053Z"
   },
   {
    "duration": 7,
    "start_time": "2023-06-09T13:54:17.060Z"
   },
   {
    "duration": 4,
    "start_time": "2023-06-09T13:58:13.843Z"
   },
   {
    "duration": 3079,
    "start_time": "2023-06-09T13:58:16.811Z"
   },
   {
    "duration": 3135,
    "start_time": "2023-06-09T13:58:19.892Z"
   },
   {
    "duration": 3256,
    "start_time": "2023-06-09T13:58:23.029Z"
   },
   {
    "duration": 14,
    "start_time": "2023-06-09T14:13:21.605Z"
   },
   {
    "duration": 4,
    "start_time": "2023-06-09T14:17:00.726Z"
   },
   {
    "duration": 265,
    "start_time": "2023-06-09T14:17:00.732Z"
   },
   {
    "duration": 155,
    "start_time": "2023-06-09T14:17:00.998Z"
   },
   {
    "duration": 210,
    "start_time": "2023-06-09T14:17:01.155Z"
   },
   {
    "duration": 22,
    "start_time": "2023-06-09T14:17:01.366Z"
   },
   {
    "duration": 51,
    "start_time": "2023-06-09T14:17:01.390Z"
   },
   {
    "duration": 317,
    "start_time": "2023-06-09T14:17:01.443Z"
   },
   {
    "duration": 179,
    "start_time": "2023-06-09T14:17:01.762Z"
   },
   {
    "duration": 23,
    "start_time": "2023-06-09T14:17:01.943Z"
   },
   {
    "duration": 112,
    "start_time": "2023-06-09T14:17:01.970Z"
   },
   {
    "duration": 60,
    "start_time": "2023-06-09T14:17:02.084Z"
   },
   {
    "duration": 45,
    "start_time": "2023-06-09T14:17:02.146Z"
   },
   {
    "duration": 331,
    "start_time": "2023-06-09T14:17:02.193Z"
   },
   {
    "duration": 204,
    "start_time": "2023-06-09T14:17:02.539Z"
   },
   {
    "duration": 17,
    "start_time": "2023-06-09T14:17:02.745Z"
   },
   {
    "duration": 120,
    "start_time": "2023-06-09T14:17:02.764Z"
   },
   {
    "duration": 18,
    "start_time": "2023-06-09T14:17:02.886Z"
   },
   {
    "duration": 15,
    "start_time": "2023-06-09T14:17:02.906Z"
   },
   {
    "duration": 291,
    "start_time": "2023-06-09T14:17:02.923Z"
   },
   {
    "duration": 6,
    "start_time": "2023-06-09T14:17:03.215Z"
   },
   {
    "duration": 19,
    "start_time": "2023-06-09T14:17:03.222Z"
   },
   {
    "duration": 33,
    "start_time": "2023-06-09T14:17:03.243Z"
   },
   {
    "duration": 129,
    "start_time": "2023-06-09T14:17:03.278Z"
   },
   {
    "duration": 80,
    "start_time": "2023-06-09T14:17:03.421Z"
   },
   {
    "duration": 89,
    "start_time": "2023-06-09T14:17:03.503Z"
   },
   {
    "duration": 108,
    "start_time": "2023-06-09T14:17:03.607Z"
   },
   {
    "duration": 66,
    "start_time": "2023-06-09T14:17:03.722Z"
   },
   {
    "duration": 72,
    "start_time": "2023-06-09T14:17:03.813Z"
   },
   {
    "duration": 4,
    "start_time": "2023-06-09T14:17:03.887Z"
   },
   {
    "duration": 13,
    "start_time": "2023-06-09T14:17:03.895Z"
   },
   {
    "duration": 12,
    "start_time": "2023-06-09T14:17:03.910Z"
   },
   {
    "duration": 3758,
    "start_time": "2023-06-09T14:17:03.924Z"
   },
   {
    "duration": 3910,
    "start_time": "2023-06-09T14:17:07.687Z"
   },
   {
    "duration": 3591,
    "start_time": "2023-06-09T14:17:11.606Z"
   },
   {
    "duration": 15,
    "start_time": "2023-06-09T14:17:15.199Z"
   },
   {
    "duration": 31,
    "start_time": "2023-06-09T14:17:15.215Z"
   },
   {
    "duration": 50,
    "start_time": "2023-06-09T14:17:15.248Z"
   },
   {
    "duration": 22,
    "start_time": "2023-06-09T14:17:15.301Z"
   },
   {
    "duration": 11,
    "start_time": "2023-06-09T14:17:15.327Z"
   },
   {
    "duration": 27,
    "start_time": "2023-06-09T14:17:15.339Z"
   },
   {
    "duration": 34,
    "start_time": "2023-06-09T14:17:15.368Z"
   },
   {
    "duration": 9,
    "start_time": "2023-06-09T14:17:15.407Z"
   },
   {
    "duration": 7,
    "start_time": "2023-06-09T14:17:15.423Z"
   },
   {
    "duration": 2,
    "start_time": "2023-06-09T14:17:15.432Z"
   },
   {
    "duration": 19,
    "start_time": "2023-06-09T14:17:15.436Z"
   },
   {
    "duration": 6,
    "start_time": "2023-06-09T14:17:15.458Z"
   },
   {
    "duration": 18,
    "start_time": "2023-06-09T14:17:15.467Z"
   },
   {
    "duration": 9,
    "start_time": "2023-06-09T14:19:51.302Z"
   },
   {
    "duration": 3733,
    "start_time": "2023-06-09T14:19:51.701Z"
   },
   {
    "duration": 3467,
    "start_time": "2023-06-09T14:19:55.438Z"
   },
   {
    "duration": 3504,
    "start_time": "2023-06-09T14:19:58.913Z"
   },
   {
    "duration": 21,
    "start_time": "2023-06-09T14:20:02.419Z"
   },
   {
    "duration": 5,
    "start_time": "2023-06-09T14:30:39.244Z"
   },
   {
    "duration": 196,
    "start_time": "2023-06-09T14:30:39.250Z"
   },
   {
    "duration": 13,
    "start_time": "2023-06-09T14:30:39.447Z"
   },
   {
    "duration": 98,
    "start_time": "2023-06-09T14:30:39.462Z"
   },
   {
    "duration": 38,
    "start_time": "2023-06-09T14:30:39.562Z"
   },
   {
    "duration": 23,
    "start_time": "2023-06-09T14:30:39.607Z"
   },
   {
    "duration": 308,
    "start_time": "2023-06-09T14:30:39.632Z"
   },
   {
    "duration": 176,
    "start_time": "2023-06-09T14:30:39.942Z"
   },
   {
    "duration": 22,
    "start_time": "2023-06-09T14:30:40.119Z"
   },
   {
    "duration": 124,
    "start_time": "2023-06-09T14:30:40.148Z"
   },
   {
    "duration": 27,
    "start_time": "2023-06-09T14:30:40.274Z"
   },
   {
    "duration": 17,
    "start_time": "2023-06-09T14:30:40.304Z"
   },
   {
    "duration": 327,
    "start_time": "2023-06-09T14:30:40.324Z"
   },
   {
    "duration": 217,
    "start_time": "2023-06-09T14:30:40.653Z"
   },
   {
    "duration": 44,
    "start_time": "2023-06-09T14:30:40.872Z"
   },
   {
    "duration": 123,
    "start_time": "2023-06-09T14:30:40.920Z"
   },
   {
    "duration": 14,
    "start_time": "2023-06-09T14:30:41.045Z"
   },
   {
    "duration": 50,
    "start_time": "2023-06-09T14:30:41.060Z"
   },
   {
    "duration": 319,
    "start_time": "2023-06-09T14:30:41.115Z"
   },
   {
    "duration": 4,
    "start_time": "2023-06-09T14:30:41.436Z"
   },
   {
    "duration": 18,
    "start_time": "2023-06-09T14:30:41.442Z"
   },
   {
    "duration": 50,
    "start_time": "2023-06-09T14:30:41.462Z"
   },
   {
    "duration": 73,
    "start_time": "2023-06-09T14:30:41.515Z"
   },
   {
    "duration": 123,
    "start_time": "2023-06-09T14:30:41.590Z"
   },
   {
    "duration": 24,
    "start_time": "2023-06-09T14:30:41.715Z"
   },
   {
    "duration": 45,
    "start_time": "2023-06-09T14:30:41.778Z"
   },
   {
    "duration": 102,
    "start_time": "2023-06-09T14:30:41.830Z"
   },
   {
    "duration": 126,
    "start_time": "2023-06-09T14:30:41.977Z"
   },
   {
    "duration": 17,
    "start_time": "2023-06-09T14:30:42.107Z"
   },
   {
    "duration": 11,
    "start_time": "2023-06-09T14:30:42.127Z"
   },
   {
    "duration": 27,
    "start_time": "2023-06-09T14:30:42.140Z"
   },
   {
    "duration": 3992,
    "start_time": "2023-06-09T14:30:42.170Z"
   },
   {
    "duration": 3627,
    "start_time": "2023-06-09T14:30:46.164Z"
   },
   {
    "duration": 3396,
    "start_time": "2023-06-09T14:30:49.793Z"
   },
   {
    "duration": 13,
    "start_time": "2023-06-09T14:30:53.190Z"
   }
  ],
  "kernelspec": {
   "display_name": "Python 3 (ipykernel)",
   "language": "python",
   "name": "python3"
  },
  "language_info": {
   "codemirror_mode": {
    "name": "ipython",
    "version": 3
   },
   "file_extension": ".py",
   "mimetype": "text/x-python",
   "name": "python",
   "nbconvert_exporter": "python",
   "pygments_lexer": "ipython3",
   "version": "3.11.3"
  },
  "toc": {
   "base_numbering": 1,
   "nav_menu": {},
   "number_sections": true,
   "sideBar": true,
   "skip_h1_title": true,
   "title_cell": "Table of Contents",
   "title_sidebar": "Contents",
   "toc_cell": false,
   "toc_position": {
    "height": "calc(100% - 180px)",
    "left": "10px",
    "top": "150px",
    "width": "492.26px"
   },
   "toc_section_display": true,
   "toc_window_display": true
  }
 },
 "nbformat": 4,
 "nbformat_minor": 2
}
